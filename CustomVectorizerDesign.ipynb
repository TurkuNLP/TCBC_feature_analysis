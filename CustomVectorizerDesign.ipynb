{
 "cells": [
  {
   "cell_type": "code",
   "execution_count": 1,
   "id": "396ceae5",
   "metadata": {},
   "outputs": [],
   "source": [
    "#Imports\n",
    "import json\n",
    "from scripts import bookdatafunctions as bdf\n",
    "import pandas as pd\n",
    "import numpy as np\n",
    "import math"
   ]
  },
  {
   "cell_type": "code",
   "execution_count": 2,
   "id": "97639c34",
   "metadata": {},
   "outputs": [],
   "source": [
    "#Constants\n",
    "BASE_BEG = \"SnippetDatasets/\"\n",
    "BASE_MID = \"sniplen_\"\n",
    "BASE_END = \".jsonl\"\n",
    "KEYLISTS = \"Keylists.jsonl\"\n",
    "SNIPPET_LENS = ['5','10','25','50','75','100']"
   ]
  },
  {
   "cell_type": "code",
   "execution_count": 3,
   "id": "9c4d8503",
   "metadata": {},
   "outputs": [],
   "source": [
    "#In the deprel column\n",
    "#Dependency relation types in Finnish UD\n",
    "DEPRELS = ['root', 'nsubj', 'advmod', 'obl', 'obj', 'conj', 'aux', 'cc', 'amod', 'nmod:poss', 'mark', 'cop', 'nsubj:cop', 'advcl', 'xcomp', 'case', 'det', 'ccomp', 'nmod', 'parataxis', 'acl:relcl', 'acl', 'xcomp:ds', 'discourse', 'nummod', 'fixed', 'cop:own', 'appos', 'flat:name', 'compound:nn', 'aux:pass', 'vocative', 'nmod:gobj', 'nmod:gsubj', 'compound:prt', 'csubj:cop', 'flat:foreign', 'orphan', 'cc:preconj', 'csubj', 'compound', 'flat', 'goeswith']\n",
    "\n",
    "#In the feats column\n",
    "#Cases in Finnihs UD\n",
    "CASES = ['Case=Nom', 'Case=Gen', 'Case=Par', 'Case=Ill', 'Case=Ine', 'Case=Ela', 'Case=Ade', 'Case=All', 'Case=Ess', 'Case=Abl', 'Case=Tra', 'Case=Acc', 'Case=Ins', 'Case=Abe', 'Case=Com']\n",
    "#Verb forms in Finnish UD\n",
    "VERBFORMS = ['VerbForm=Fin', 'VerbForm=Inf', 'VerbForm=Part']\n",
    "#Verb tenses in Finnish UD\n",
    "VERBTENSES = ['Tense=Pres', 'Tense=Past']\n",
    "#Verb voices in Finnish UD\n",
    "VERBVOICES = ['Voice=Act', 'Voice=Pass']\n",
    "#Verb moods in Finnish UD\n",
    "VERBMOODS = ['Mood=Ind', 'Mood=Cnd', 'Mood=Imp']\n",
    "#Verb 'person' in Finnish UD (aka first person, second person and so on)\n",
    "PERSONS = ['Person=0', 'Person=1', 'Person=2', 'Person=3']\n",
    "#Verb 'number' in Finnish UD (aka first singluar person [me] or first plural person [we] and so on)\n",
    "NUMBERS = ['Number=Sing', 'Number=Plur']\n",
    "#Connegative (aka verb that has been given a negative meaning by 'ei')\n",
    "CONNEGATIVE = ['Connegative=Yes']\n",
    "#Degrees in Finnish UD (positive, comparative, and superlative)\n",
    "DEGREES = ['Degree=Pos','Degree=Cmp','Degree=Sup']\n",
    "#Syles in Finnish UD\n",
    "STYLES = ['Style=Arch', 'Style=Coll']\n",
    "#Reflex pronouns in Finnish UD\n",
    "REFS = ['Reflex=Yes']\n",
    "#PronTypes in Finnish UD\n",
    "PRONTYPES = ['PronType=Dem', 'PronType=Ind', 'PronType=Int', 'PronType=Prs', 'PronType=Rcp', 'PronType=Rel']\n",
    "#Verb polarity in Finnish UD\n",
    "POLARITY = ['Polarity=Neg']\n",
    "#Person possessor in Finnish UD (e.g. luu VS. luumme)\n",
    "PPSORS = ['Person[psor]=1', 'Person[psor]=2', 'Person[psor]=3']\n",
    "#Partforms in Finnish UD\n",
    "PARTFORMS = ['PartForm=Agt', 'PartForm=Neg', 'PartForm=Past', 'PartForm=Pres']\n",
    "#Number types in Finnish UD\n",
    "NUMTYPES = ['NumType=Card', 'NumType=Ord']\n",
    "#Numeral posessor in Finnish UD (e.g. aikani VS. aikanamme)\n",
    "NPSORS = ['Number[psor]=Plur', 'Number[psor]=Sing']\n",
    "#Infinitive forms for verbs in Finnish UD\n",
    "INFFORMS = ['InfForm=1', 'InfForm=2', 'InfForm=3']\n",
    "#Marks foreign words in Finnish UD\n",
    "FOREIGN = ['Foreign=Yes']\n",
    "#Derivations of words in Finnish UD\n",
    "DERIVATIONS = ['Derivation=Inen', 'Derivation=Ja', 'Derivation=Lainen', 'Derivation=Llinen', 'Derivation=Tar', 'Derivation=Ton', 'Derivation=Ttain', 'Derivation=U', 'Derivation=Vs', 'Derivation=Inen|Vs' 'Derivation=Ja|Tar', 'Derivation=Lainen|Vs', 'Derivation=Llinen|Vs', 'Derivation=Ton|Vs']\n",
    "#Clitics of words in Finnish UD\n",
    "CLITICS = ['Cilitic=Han', 'Cilitic=Ka', 'Cilitic=Kaan', 'Cilitic=Kin', 'Cilitic=Ko', 'Cilitic=Pa', 'Cilitic=S', 'Cilitic=Han|Kin', 'Cilitic=Han|Ko', 'Cilitic=Han|Pa', 'Cilitic=Ko|S', 'Cilitic=Pa|S']\n",
    "#AdpTypes in Finnish UD\n",
    "ADPTYPES = ['AdpType=Post', 'AdpType=Prep']\n",
    "#Marks if words are abbrevations in Finnish UD\n",
    "ABBR = ['Abbr=Yes']\n",
    "\n",
    "FEATS = CASES + VERBFORMS + VERBTENSES + VERBVOICES + VERBMOODS + PERSONS + NUMBERS + CONNEGATIVE + DEGREES + STYLES + REFS + PRONTYPES + POLARITY + PPSORS + PARTFORMS + NUMTYPES + NPSORS + INFFORMS + FOREIGN + DERIVATIONS + CLITICS + ADPTYPES + ABBR\n",
    "#In the upos column\n",
    "#POS tags in Finnish UD\n",
    "POS = ['NOUN', 'VERB', 'PRON', 'ADV', 'AUX', 'ADJ', 'PROPN', 'CCONJ', 'SCONJ', 'ADP', 'NUM', 'INTJ', 'PUNCT']\n",
    "\n",
    "\n",
    "CONLLU_FEATS = DEPRELS + FEATS + POS "
   ]
  },
  {
   "cell_type": "code",
   "execution_count": 4,
   "id": "4ec951c8",
   "metadata": {},
   "outputs": [],
   "source": [
    "keylists = []\n",
    "with open(KEYLISTS, 'r') as f:\n",
    "    for line in f:\n",
    "        keylists.append(json.loads(line))"
   ]
  },
  {
   "cell_type": "code",
   "execution_count": 5,
   "id": "7dbe5fe4",
   "metadata": {},
   "outputs": [],
   "source": [
    "# 1. Load conllu as dataframe\n",
    "# 2. "
   ]
  },
  {
   "cell_type": "code",
   "execution_count": null,
   "id": "e1ad5bb3",
   "metadata": {},
   "outputs": [],
   "source": [
    "def snippetConllu2DF(conllu_lines: str):\n",
    "    df = pd.DataFrame([line.split('\\t') for line in conllu_lines.split('\\n')])\n",
    "    df.columns = ['id', 'text', 'lemma', 'upos', 'xpos', 'feats', 'head', 'deprel', 'deps', 'misc']\n",
    "    \n",
    "    return df.dropna()\n",
    "\n",
    "def getFleschKincaidGradeLevel(corpus: dict):\n",
    "    returnable = {}\n",
    "    ASL = bdf.getAvgSentenceLens(corpus)\n",
    "    for id in corpus:\n",
    "        df = corpus[id]\n",
    "        ASW = np.mean(pd.Series(data=df['text'].apply(bdf.countSyllablesFinnish).to_numpy(), index=df['text'].to_numpy(dtype='str')).to_numpy(na_value=0))\n",
    "        returnable[id] = 0.39*ASL[id] + 11.8*ASW - 15.59\n",
    "    \n",
    "    return returnable\n",
    "\n",
    "def buildIdTreeFromConllu(conllu: pd.DataFrame) -> dict[int,list[int]]:\n",
    "    \"\"\"\n",
    "    Build a tree for each sentence in a conllu file, where each node points to the corresponding DataFrame row of a line in the conllu-file\n",
    "    \"\"\"\n",
    "    conllu['id'] = conllu['id'].apply(lambda x: int(x))\n",
    "    id_tree = {}\n",
    "    #First fetch ids marking boundaries for each sentence\n",
    "    sentence_ids = []\n",
    "    start = 0\n",
    "    for i in range(1,len(conllu)):\n",
    "        if conllu.loc[i]['id'] == 1:\n",
    "            sentence_ids.append((start,i-1))\n",
    "            start = i\n",
    "    sentence_ids.append((start, len(conllu)))\n",
    "    #Build tress for each sentence\n",
    "    for sentence in sentence_ids:\n",
    "        root = 0\n",
    "        sent_locs = range(sentence[0],sentence[1]+1)\n",
    "        heads = conllu.loc[sentence[0]:sentence[1]]['head'].to_numpy(int)-1\n",
    "        sent_tree = {x:[] for x in sent_locs}\n",
    "        for j in range(len(heads)):\n",
    "            if heads[j] == -1:\n",
    "                root = sent_locs[j]\n",
    "            else:\n",
    "                children = sent_tree[sent_locs[heads[j]]]\n",
    "                children.append(sent_locs[j])\n",
    "                sent_tree[sent_locs[heads[j]]] = children\n",
    "        id_tree[root] = sent_tree\n",
    "    return id_tree\n",
    "\n",
    "def getDepthOfTree(head:int, tree: dict[int,list[int]], depth=0) -> int:\n",
    "    \"\"\"\n",
    "    Get syntactic tree depth recursively\n",
    "    \"\"\"\n",
    "    next = depth+1\n",
    "    children = tree[head]\n",
    "    if len(children) > 0:\n",
    "        for child in children:\n",
    "            depth = max(depth, getDepthOfTree(child, tree, next))\n",
    "    return depth\n",
    "\n",
    "\n",
    "def getMeanSyntacticTreeDepth(tree):\n",
    "    \"\"\"\n",
    "    Get the average (mean) depth of the syntactic tree of a conllu-file\n",
    "    \"\"\"\n",
    "    depths = []\n",
    "    for head in tree:\n",
    "        depths.append(getDepthOfTree(head, tree[head]))\n",
    "    return np.mean(depths)\n",
    "\n",
    "\n",
    "\n",
    "\n",
    "def getPreposingAdverbialClauses(corpus: dict[str,pd.DataFrame]) -> dict:\n",
    "    \"\"\"\n",
    "    Function for calculating the number of preposing adverbial clauses in a conllu file\n",
    "    \"\"\"\n",
    "    returnable = {}\n",
    "    for key in corpus:\n",
    "        df = corpus[key]\n",
    "        df['head'] = df['head'].apply(lambda x: int(x))\n",
    "        df['id'] = df['id'].apply(lambda x: int(x))\n",
    "        prep_advcl = 0\n",
    "        advcl_id = 1000\n",
    "        root_id = 1000\n",
    "        for i in range(len(df)):\n",
    "            if df.loc[i]['id'] == 1:\n",
    "                advcl_id = 1000\n",
    "                root_id = 1000\n",
    "            if df.loc[i]['deprel'] == 'root':\n",
    "                root_id = i\n",
    "            if df.loc[i]['deprel'] == 'advcl':\n",
    "                advcl_id = i\n",
    "                if advcl_id < root_id:\n",
    "                    prep_advcl += 1\n",
    "        returnable[key] = prep_advcl\n",
    "    return returnable"
   ]
  },
  {
   "cell_type": "code",
   "execution_count": 27,
   "id": "fc5d7a7b",
   "metadata": {},
   "outputs": [],
   "source": [
    "test_conllu_line = \"1\\tAikojen\\taika\\tNOUN\\tN\\tCase=Gen|Number=Plur\\t2\\tnsubj\\t_\\t_\\n2\\tkuluessa\\tkulua\\tVERB\\tV\\tCase=Ine|InfForm=2|Number=Sing|VerbForm=Inf|Voice=Act\\t7\\tadvcl\\t_\\t_\\n3\\tmuinaisina\\tmuinainen\\tADJ\\tA\\tCase=Ess|Degree=Pos|Derivation=Inen|Number=Plur\\t4\\tamod\\t_\\t_\\n4\\taikoina\\taika\\tNOUN\\tN\\tCase=Ess|Number=Plur\\t5\\tobl\\t_\\t_\\n5\\tsyntynyt\\tsynty\\u00e4\\tVERB\\tV\\tCase=Nom|Degree=Pos|Number=Sing|PartForm=Past|VerbForm=Part|Voice=Act\\t6\\tacl\\t_\\t_\\n6\\tpahuus\\tpahuus\\tNOUN\\tN\\tCase=Nom|Derivation=Vs|Number=Sing\\t7\\tnsubj\\t_\\t_\\n7\\tkasvaa\\tkasvaa\\tVERB\\tV\\tMood=Ind|Number=Sing|Person=3|Tense=Pres|VerbForm=Fin|Voice=Act\\t0\\troot\\t_\\t_\\n8\\t,\\t,\\tPUNCT\\tPunct\\t_\\t12\\tpunct\\t_\\t_\\n9\\ti\\u00e4inen\\ti\\u00e4inen\\tADJ\\tA\\tCase=Nom|Degree=Pos|Derivation=Inen|Number=Sing\\t10\\tamod\\t_\\t_\\n10\\tpimeys\\tpimeys\\tNOUN\\tN\\tCase=Nom|Derivation=Vs|Number=Sing\\t12\\tnsubj:cop\\t_\\t_\\n11\\ton\\tolla\\tAUX\\tV\\tMood=Ind|Number=Sing|Person=3|Tense=Pres|VerbForm=Fin|Voice=Act\\t12\\tcop\\t_\\t_\\n12\\tvalloillaan\\tvalloillaan\\tADV\\tAdv\\t_\\t7\\tconj\\t_\\t_\\n13\\tja\\tja\\tCCONJ\\tC\\t_\\t14\\tcc\\t_\\t_\\n14\\tyritt\\u00e4\\u00e4\\tyritt\\u00e4\\u00e4\\tVERB\\tV\\tMood=Ind|Number=Sing|Person=3|Tense=Pres|VerbForm=Fin|Voice=Act\\t7\\tconj\\t_\\t_\\n15\\tsy\\u00f6st\\u00e4\\tsy\\u00f6st\\u00e4\\tVERB\\tV\\tInfForm=1|Number=Sing|VerbForm=Inf|Voice=Act\\t14\\txcomp\\t_\\t_\\n16\\tkoko\\tkoko\\tADJ\\tA\\t_\\t17\\tamod\\t_\\t_\\n17\\tmaan\\tmaa\\tNOUN\\tN\\tCase=Gen|Number=Sing\\t15\\tobj\\t_\\t_\\n18\\tp\\u00e4\\u00e4ttym\\u00e4tt\\u00f6m\\u00e4\\u00e4n\\tp\\u00e4\\u00e4ttym\\u00e4t\\u00f6n\\tADJ\\tA\\tCase=Ill|Degree=Pos|Derivation=Ton|Number=Sing\\t19\\tamod\\t_\\t_\\n19\\ty\\u00f6h\\u00f6n\\ty\\u00f6\\tNOUN\\tN\\tCase=Ill|Number=Sing\\t15\\tobl\\t_\\t_\\n20\\t.\\t.\\tPUNCT\\tPunct\\t_\\t7\\tpunct\\t_\\t_\\n1\\tT\\u00e4t\\u00e4\\tt\\u00e4m\\u00e4\\tPRON\\tPron\\tCase=Par|Number=Sing|PronType=Dem\\t2\\tdet\\t_\\t_\\n2\\tpahuutta\\tpahuutta\\tNOUN\\tN\\tCase=Par|Derivation=Vs|Number=Sing\\t5\\tobj\\t_\\t_\\n3\\tei\\tei\\tAUX\\tV\\tNumber=Sing|Person=3|Polarity=Neg|VerbForm=Fin|Voice=Act\\t5\\taux\\t_\\t_\\n4\\tvoi\\tvoida\\tAUX\\tV\\tConnegative=Yes|Mood=Ind|Tense=Pres|VerbForm=Fin\\t5\\taux\\t_\\t_\\n5\\tly\\u00f6d\\u00e4\\tly\\u00f6d\\u00e4\\tVERB\\tV\\tInfForm=1|Number=Sing|VerbForm=Inf|Voice=Act\\t0\\troot\\t_\\t_\\n6\\tkukaan\\tkukaan\\tPRON\\tPron\\tCase=Nom|Number=Sing|PronType=Ind\\t5\\tnsubj\\t_\\t_\\n7\\t,\\t,\\tPUNCT\\tPunct\\t_\\t18\\tpunct\\t_\\t_\\n8\\tpaitsi\\tpaitsi\\tADP\\tAdp\\t_\\t18\\tcase\\t_\\t_\\n9\\tyksi\\tyksi\\tNUM\\tNum\\tCase=Nom|Number=Sing|NumType=Card\\t18\\tnummod\\t_\\t_\\n10\\tja\\tja\\tCCONJ\\tC\\t_\\t11\\tcc\\t_\\t_\\n11\\tainoa\\tainoa\\tPRON\\tPron\\tCase=Nom|Number=Sing|PronType=Ind\\t9\\tconj\\t_\\t_\\n12\\tValveuden\\tvalveus\\tNOUN\\tN\\tCase=Gen|Derivation=Vs|Number=Sing\\t13\\tnsubj\\t_\\t_\\n13\\tvalitsema\\tvalita\\tVERB\\tV\\tCase=Nom|Degree=Pos|Number=Sing|PartForm=Agt|VerbForm=Part|Voice=Act\\t18\\tacl\\t_\\t_\\n14\\t,\\t,\\tPUNCT\\tPunct\\t_\\t18\\tpunct\\t_\\t_\\n15\\t\\t\\tPROPN\\tN\\tCase=Nom|Number=Sing\\t17\\tnsubj\\t_\\t_\\n16\\t\\t\\tPROPN\\tN\\tCase=Nom|Number=Sing\\t15\\tflat:name\\t_\\t_\\n17\\ttuleva\\ttulla\\tVERB\\tV\\tCase=Nom|Degree=Pos|Number=Sing|PartForm=Pres|VerbForm=Part|Voice=Act\\t18\\tacl\\t_\\t_\\n18\\tsankari\\tsankari\\tNOUN\\tN\\tCase=Nom|Number=Sing\\t6\\tappos\\t_\\t_\\n19\\t.\\t.\\tPUNCT\\tPunct\\t_\\t5\\tpunct\\t_\\t_\\n1\\tVirheet\\u00f6n\\tvirheet\\u00f6n\\tADJ\\tA\\tCase=Nom|Degree=Pos|Derivation=Ton|Number=Sing\\t2\\tamod\\t_\\t_\\n2\\tmies\\tmies\\tNOUN\\tN\\tCase=Nom|Number=Sing\\t0\\troot\\t_\\t_\\n3\\t,\\t,\\tPUNCT\\tPunct\\t_\\t5\\tpunct\\t_\\t_\\n4\\tjoka\\tjoka\\tPRON\\tPron\\tCase=Nom|Number=Sing|PronType=Rel\\t5\\tnsubj\\t_\\t_\\n5\\tkantaa\\tkantaa\\tVERB\\tV\\tMood=Ind|Number=Sing|Person=3|Tense=Pres|VerbForm=Fin|Voice=Act\\t2\\tacl:relcl\\t_\\t_\\n6\\tvalon\\tvalo\\tNOUN\\tN\\tCase=Gen|Number=Sing\\t7\\tnmod:poss\\t_\\t_\\n7\\tamulettia\\tamuletti\\tNOUN\\tN\\tCase=Par|Number=Sing\\t5\\tobj\\t_\\t_\\n8\\tja\\tja\\tCCONJ\\tC\\t_\\t10\\tcc\\t_\\t_\\n9\\tt\\u00e4ydellisesti\\tt\\u00e4ydellisesti\\tADV\\tAdv\\tDerivation=Sti\\t10\\tadvmod\\t_\\t_\\n10\\tt\\u00e4ytt\\u00e4\\u00e4\\tt\\u00e4ytt\\u00e4\\u00e4\\tVERB\\tV\\tMood=Ind|Number=Sing|Person=3|Tense=Pres|VerbForm=Fin|Voice=Act\\t5\\tconj\\t_\\t_\\n11\\tValveuden\\tvalveus\\tNOUN\\tN\\tCase=Gen|Derivation=Vs|Number=Sing\\t12\\tnmod:poss\\t_\\t_\\n12\\ttahdon\\ttahto\\tNOUN\\tN\\tCase=Gen|Number=Sing\\t10\\tobj\\t_\\t_\\n13\\t.\\t.\\tPUNCT\\tPunct\\t_\\t2\\tpunct\\t_\\t_\\n1\\tKun\\tkun\\tSCONJ\\tC\\t_\\t4\\tmark\\t_\\t_\\n2\\taika\\taika\\tNOUN\\tN\\tCase=Nom|Number=Sing\\t4\\tnsubj:cop\\t_\\t_\\n3\\ton\\tolla\\tAUX\\tV\\tMood=Ind|Number=Sing|Person=3|Tense=Pres|VerbForm=Fin|Voice=Act\\t4\\tcop\\t_\\t_\\n4\\tt\\u00e4ysi\\tt\\u00e4ysi\\tADJ\\tA\\tCase=Nom|Degree=Pos|Number=Sing\\t7\\tadvcl\\t_\\t_\\n5\\t,\\t,\\tPUNCT\\tPunct\\t_\\t4\\tpunct\\t_\\t_\\n6\\th\\u00e4n\\th\\u00e4n\\tPRON\\tPron\\tCase=Nom|Number=Sing|Person=3|PronType=Prs\\t7\\tnsubj\\t_\\t_\\n7\\tuhraa\\tuhrata\\tVERB\\tV\\tMood=Ind|Number=Sing|Person=3|Tense=Pres|VerbForm=Fin|Voice=Act\\t0\\troot\\t_\\t_\\n8\\titsens\\u00e4\\titse\\tPRON\\tPron\\tCase=Gen|Number=Sing|Person[psor]=3|Reflex=Yes\\t7\\tobj\\t_\\t_\\n9\\tkaikkien\\tkaikki\\tPRON\\tPron\\tCase=Gen|Number=Plur|PronType=Ind\\t7\\tobl\\t_\\t_\\n10\\tpuolesta\\tpuolesta\\tADP\\tAdp\\tAdpType=Post\\t9\\tcase\\t_\\t_\\n11\\ttaistelussa\\ttaistelu\\tNOUN\\tN\\tCase=Ine|Derivation=U|Number=Sing\\t7\\tobl\\t_\\t_\\n12\\tpimeytt\\u00e4\\tpimeys\\tNOUN\\tN\\tCase=Par|Derivation=Vs|Number=Sing\\t11\\tnmod\\t_\\t_\\n13\\tvastaan\\tvastaan\\tADP\\tAdp\\tAdpType=Post\\t12\\tcase\\t_\\t_\\n14\\t,\\t,\\tPUNCT\\tPunct\\t_\\t18\\tpunct\\t_\\t_\\n15\\tmutta\\tmutta\\tCCONJ\\tC\\t_\\t18\\tcc\\t_\\t_\\n16\\tkuolemakaan\\tkuolema\\tNOUN\\tN\\tCase=Nom|Clitic=Kaan|Number=Sing\\t18\\tnsubj\\t_\\t_\\n17\\tei\\tei\\tAUX\\tV\\tNumber=Sing|Person=3|Polarity=Neg|VerbForm=Fin|Voice=Act\\t18\\taux\\t_\\t_\\n18\\tsaa\\tsaada\\tVERB\\tV\\tConnegative=Yes|Mood=Ind|Tense=Pres|VerbForm=Fin\\t7\\tconj\\t_\\t_\\n19\\th\\u00e4nest\\u00e4\\th\\u00e4n\\tPRON\\tPron\\tCase=Ela|Number=Sing|Person=3|PronType=Prs\\t18\\tobl\\t_\\t_\\n20\\tvoittoa\\tvoitto\\tNOUN\\tN\\tCase=Par|Number=Sing\\t18\\tobj\\t_\\t_\\n21\\t.\\t.\\tPUNCT\\tPunct\\t_\\t7\\tpunct\\t_\\t_\\n1\\tValittu\\tvalita\\tVERB\\tV\\tCase=Nom|Degree=Pos|Number=Sing|PartForm=Past|VerbForm=Part|Voice=Pass\\t2\\tnsubj\\t_\\t_\\n2\\tvoittaa\\tvoittaa\\tVERB\\tV\\tMood=Ind|Number=Sing|Person=3|Tense=Pres|VerbForm=Fin|Voice=Act\\t0\\troot\\t_\\t_\\n3\\tlopullisesti\\tlopullisesti\\tADV\\tAdv\\tDerivation=Sti\\t2\\tadvmod\\t_\\t_\\n4\\t\\t\\tPROPN\\tN\\tCase=Gen|Number=Sing\\t2\\tobj\\t_\\t_\\n5\\tjoukkoineen\\tjoukko\\tNOUN\\tN\\tCase=Com|Person[psor]=3\\t4\\tnmod\\t_\\t_\\n6\\t,\\t,\\tPUNCT\\tPunct\\t_\\t9\\tpunct\\t_\\t_\\n7\\tja\\tja\\tCCONJ\\tC\\t_\\t9\\tcc\\t_\\t_\\n8\\tmaailmaan\\tmaailma\\tNOUN\\tN\\tCase=Ill|Number=Sing\\t9\\tobl\\t_\\t_\\n9\\tpalaa\\tpalata\\tVERB\\tV\\tMood=Ind|Number=Sing|Person=3|Tense=Pres|VerbForm=Fin|Voice=Act\\t2\\tconj\\t_\\t_\\n10\\thyvyys\\thyvyys\\tNOUN\\tN\\tCase=Nom|Number=Sing\\t9\\tnsubj\\t_\\t_\\n11\\tja\\tja\\tCCONJ\\tC\\t_\\t12\\tcc\\t_\\t_\\n12\\trauha\\trauha\\tNOUN\\tN\\tCase=Nom|Number=Sing\\t10\\tconj\\t_\\t_\\n13\\tkuin\\tkuin\\tSCONJ\\tC\\t_\\t15\\tmark\\t_\\t_\\n14\\tentisin\\u00e4\\tentinen\\tADJ\\tA\\tCase=Ess|Degree=Pos|Derivation=Inen|Number=Plur\\t15\\tamod\\t_\\t_\\n15\\taikoina\\taika\\tNOUN\\tN\\tCase=Ess|Number=Plur\\t9\\tadvcl\\t_\\t_\\n16\\t.\\t.\\tPUNCT\\tPunct\\t_\\t2\\tpunct\\t_\\t_\\n1\\tJa\\tja\\tCCONJ\\tC\\t_\\t9\\tcc\\t_\\t_\\n2\\tkaikki\\tkaikki\\tPRON\\tPron\\tCase=Nom|Number=Sing|PronType=Ind\\t9\\tnsubj\\t_\\t_\\n3\\t,\\t,\\tPUNCT\\tPunct\\t_\\t7\\tpunct\\t_\\t_\\n4\\tjotka\\tjoka\\tPRON\\tPron\\tCase=Nom|Number=Plur|PronType=Rel\\t7\\tnsubj\\t_\\t_\\n5\\tovat\\tolla\\tAUX\\tV\\tMood=Ind|Number=Plur|Person=3|Tense=Pres|VerbForm=Fin|Voice=Act\\t7\\taux\\t_\\t_\\n6\\tvalittua\\tvalittu\\tNOUN\\tN\\tCase=Par|Number=Sing\\t7\\tobj\\t_\\t_\\n7\\tseuranneet\\tseurata\\tVERB\\tV\\tCase=Nom|Degree=Pos|Number=Plur|PartForm=Past|VerbForm=Part|Voice=Act\\t2\\tacl:relcl\\t_\\t_\\n8\\t,\\t,\\tPUNCT\\tPunct\\t_\\t7\\tpunct\\t_\\t_\\n9\\tp\\u00e4\\u00e4sev\\u00e4t\\tp\\u00e4\\u00e4st\\u00e4\\tVERB\\tV\\tMood=Ind|Number=Plur|Person=3|Tense=Pres|VerbForm=Fin|Voice=Act\\t0\\troot\\t_\\t_\\n10\\th\\u00e4nen\\th\\u00e4n\\tPRON\\tPron\\tCase=Gen|Number=Sing|Person=3|PronType=Prs\\t9\\tobl\\t_\\t_\\n11\\tkanssaan\\tkanssa\\tADP\\tAdp\\tAdpType=Post|Person[psor]=3\\t10\\tcase\\t_\\t_\\n12\\tValveuden\\tvalveus\\tNOUN\\tN\\tCase=Gen|Derivation=Vs|Number=Sing\\t9\\tobl\\t_\\t_\\n13\\tluo\\tluo\\tADP\\tAdp\\tAdpType=Post\\t12\\tcase\\t_\\t_\\n14\\tikuiseen\\tikuinen\\tADJ\\tA\\tCase=Ill|Degree=Pos|Derivation=Inen|Number=Sing\\t15\\tamod\\t_\\t_\\n15\\tiloon\\tilo\\tNOUN\\tN\\tCase=Ill|Number=Sing\\t9\\tobl\\t_\\t_\\n16\\t.\\t.\\tPUNCT\\tPunct\\t_\\t9\\tpunct\\t_\\t_\\n1\\t\\\"\\t\\\"\\tPUNCT\\tPunct\\t_\\t3\\tpunct\\t_\\t_\\n2\\tJoten\\tjoten\\tADV\\tAdv\\t_\\t3\\tadvmod\\t_\\t_\\n3\\tryhdy\\tryhty\\u00e4\\tVERB\\tV\\tMood=Imp|Number=Sing|Person=2|VerbForm=Fin|Voice=Act\\t0\\troot\\t_\\t_\\n4\\tsin\\u00e4kin\\tsin\\u00e4\\tPRON\\tPron\\tCase=Nom|Clitic=Kin|Number=Sing|Person=2|PronType=Prs\\t3\\tnsubj\\t_\\t_\\n5\\tvalittu-ehdokkaaksi\\tvalittu#ehdokas\\tNOUN\\tN\\tCase=Tra|Number=Sing\\t3\\txcomp:ds\\t_\\t_\\n6\\t!\\t!\\tPUNCT\\tPunct\\t_\\t3\\tpunct\\t_\\t_\\n1\\tJos\\tjos\\tSCONJ\\tC\\t_\\t3\\tmark\\t_\\t_\\n2\\tet\\tei\\tAUX\\tV\\tNumber=Sing|Person=2|Polarity=Neg|VerbForm=Fin|Voice=Act\\t3\\taux\\t_\\t_\\n3\\tkuole\\tkuolla\\tVERB\\tV\\tConnegative=Yes|Mood=Ind|Tense=Pres|VerbForm=Fin\\t9\\tadvcl\\t_\\t_\\n4\\theti\\theti\\tADV\\tAdv\\t_\\t6\\tadvmod\\t_\\t_\\n5\\tensimm\\u00e4isess\\u00e4\\tensimm\\u00e4inen\\tADJ\\tNum\\tCase=Ine|Derivation=Inen|Number=Sing|NumType=Ord\\t6\\tamod\\t_\\t_\\n6\\ttaistelussa\\ttaistelu\\tNOUN\\tN\\tCase=Ine|Derivation=U|Number=Sing\\t3\\tobl\\t_\\t_\\n7\\t,\\t,\\tPUNCT\\tPunct\\t_\\t3\\tpunct\\t_\\t_\\n8\\tsaatat\\tsaattaa\\tAUX\\tV\\tMood=Ind|Number=Sing|Person=2|Tense=Pres|VerbForm=Fin|Voice=Act\\t9\\taux\\t_\\t_\\n9\\tvoittaa\\tvoittaa\\tVERB\\tV\\tInfForm=1|Number=Sing|VerbForm=Inf|Voice=Act\\t0\\troot\\t_\\t_\\n10\\tikuisen\\tikuinen\\tADJ\\tA\\tCase=Gen|Degree=Pos|Derivation=Inen|Number=Sing\\t11\\tamod\\t_\\t_\\n11\\tel\\u00e4m\\u00e4n\\tel\\u00e4m\\u00e4\\tNOUN\\tN\\tCase=Gen|Number=Sing\\t9\\tobj\\t_\\t_\\n12\\t!\\t!\\tPUNCT\\tPunct\\t_\\t9\\tpunct\\t_\\t_\\n13\\t\\\"\\t\\\"\\tPUNCT\\tPunct\\t_\\t9\\tpunct\\t_\\t_\\n1\\t\\\"\\t\\\"\\tPUNCT\\tPunct\\t_\\t5\\tpunct\\t_\\t_\\n2\\tEnt\\u00e4\\tent\\u00e4\\tADV\\tAdv\\t_\\t5\\tadvmod\\t_\\t_\\n3\\tjos\\tjos\\tSCONJ\\tC\\t_\\t5\\tmark\\t_\\t_\\n4\\ten\\tei\\tAUX\\tV\\tNumber=Sing|Person=1|Polarity=Neg|VerbForm=Fin|Voice=Act\\t5\\taux\\t_\\t_\\n5\\thalua\\thaluta\\tVERB\\tV\\tConnegative=Yes|Mood=Ind|Tense=Pres|VerbForm=Fin\\t0\\troot\\t_\\t_\\n6\\t?\\t?\\tPUNCT\\tPunct\\t_\\t5\\tpunct\\t_\\t_\\n7\\t\\\"\\t\\\"\\tPUNCT\\tPunct\\t_\\t5\\tpunct\\t_\\t_\\n8\\tmin\\u00e4\\tmin\\u00e4\\tPRON\\tPron\\tCase=Nom|Number=Sing|Person=1|PronType=Prs\\t9\\tnsubj\\t_\\t_\\n9\\tkysyin\\tkysy\\u00e4\\tVERB\\tV\\tMood=Ind|Number=Sing|Person=1|Tense=Past|VerbForm=Fin|Voice=Act\\t5\\tparataxis\\t_\\t_\\n10\\t.\\t.\\tPUNCT\\tPunct\\t_\\t5\\tpunct\\t_\\t_\\n1\\t\\\"\\t\\\"\\tPUNCT\\tPunct\\t_\\t4\\tpunct\\t_\\t_\\n2\\t\\u00c4l\\u00e4\\tei\\tAUX\\tV\\tMood=Imp|Number=Sing|Person=2|Polarity=Neg|VerbForm=Fin|Voice=Act\\t4\\taux\\t_\\t_\\n3\\tole\\tolla\\tAUX\\tV\\tConnegative=Yes|Mood=Ind|Tense=Pres|VerbForm=Fin\\t4\\tcop\\t_\\t_\\n4\\tpelkuri\\tpelkuri\\tNOUN\\tN\\tCase=Nom|Number=Sing\\t0\\troot\\t_\\t_\\n5\\t!\\t!\\tPUNCT\\tPunct\\t_\\t4\\tpunct\\t_\\t_\\n6\\t\\\"\\t\\\"\\tPUNCT\\tPunct\\t_\\t4\\tpunct\\t_\\t_\\n7\\tjyr\\u00e4htiv\\u00e4t\\tjyr\\u00e4ht\\u00e4\\u00e4\\tVERB\\tV\\tMood=Ind|Number=Plur|Person=3|Tense=Past|VerbForm=Fin|Voice=Act\\t4\\tparataxis\\t_\\t_\\n8\\thyvikset\\thyvi\\tADJ\\tA\\tCase=Nom|Number=Plur\\t7\\tnsubj\\t_\\t_\\n9\\t.\\t.\\tPUNCT\\tPunct\\t_\\t4\\tpunct\\t_\\t_\\n1\\t\\\"\\t\\\"\\tPUNCT\\tPunct\\t_\\t4\\tpunct\\t_\\t_\\n2\\tOnko\\tolla\\tAUX\\tV\\tClitic=Ko|Mood=Ind|Number=Sing|Person=3|Tense=Pres|VerbForm=Fin|Voice=Act\\t4\\tcop\\t_\\t_\\n3\\tmeiss\\u00e4\\tmin\\u00e4\\tPRON\\tPron\\tCase=Ine|Number=Plur|PronType=Dem\\t4\\tobl\\t_\\t_\\n4\\tkeness\\u00e4k\\u00e4\\u00e4n\\tkukaan\\tPRON\\tPron\\tCase=Ine|Number=Sing|PronType=Ind\\t0\\troot\\t_\\t_\\n5\\tmit\\u00e4\\u00e4n\\tmik\\u00e4\\u00e4n\\tPRON\\tPron\\tCase=Par|Number=Sing|PronType=Ind\\t4\\tnsubj:cop\\t_\\t_\\n6\\tpelastamisen\\tpelastaminen\\tNOUN\\tN\\tCase=Gen|Derivation=Minen|Number=Sing\\t7\\tnmod:poss\\t_\\t_\\n7\\tarvoista\\tarvoinen\\tADJ\\tA\\tCase=Par|Degree=Pos|Derivation=Inen|Number=Sing\\t5\\tnmod\\t_\\t_\\n8\\t?\\t?\\tPUNCT\\tPunct\\t_\\t4\\tpunct\\t_\\t_\\n1\\tSiet\\u00e4isimme\\tsiet\\u00e4\\u00e4\\tVERB\\tV\\tMood=Cnd|Number=Plur|Person=1|VerbForm=Fin|Voice=Act\\t0\\troot\\t_\\t_\\n2\\tkaikki\\tkaikki\\tPRON\\tPron\\tCase=Nom|Number=Sing|PronType=Ind\\t1\\tobj\\t_\\t_\\n3\\tkuolla\\tkuolla\\tVERB\\tV\\tInfForm=1|Number=Sing|VerbForm=Inf|Voice=Act\\t1\\txcomp\\t_\\t_\\n4\\t\\\"\\t\\\"\\tPUNCT\\tPunct\\t_\\t1\\tpunct\\t_\\t_\\n5\\t,\\t,\\tPUNCT\\tPunct\\t_\\t6\\tpunct\\t_\\t_\\n6\\tmutisi\\tmutista\\tVERB\\tV\\tMood=Ind|Number=Sing|Person=3|Tense=Past|VerbForm=Fin|Voice=Act\\t1\\tparataxis\\t_\\t_\\n7\\tViikatemies\\tviikate#mies\\tNOUN\\tN\\tCase=Nom|Number=Sing\\t6\\tnsubj\\t_\\t_\\n8\\t.\\t.\\tPUNCT\\tPunct\\t_\\t1\\tpunct\\t_\\t_\\n1\\t\\\"\\t\\\"\\tPUNCT\\tPunct\\t_\\t2\\tpunct\\t_\\t_\\n2\\tParas\\thyv\\u00e4\\tADJ\\tA\\tCase=Nom|Degree=Sup|Number=Sing\\t0\\troot\\t_\\t_\\n3\\titse\\titse\\tADV\\tAdv\\t_\\t5\\tadvmod\\t_\\t_\\n4\\titsens\\u00e4\\titse\\tPRON\\tPron\\tCase=Gen|Number=Sing|Person[psor]=3|Reflex=Yes\\t5\\tobj\\t_\\t_\\n5\\tpelastaa\\tpelastaa\\tVERB\\tV\\tInfForm=1|Number=Sing|VerbForm=Inf|Voice=Act\\t2\\txcomp:ds\\t_\\t_\\n6\\t\\\"\\t\\\"\\tPUNCT\\tPunct\\t_\\t2\\tpunct\\t_\\t_\\n7\\t,\\t,\\tPUNCT\\tPunct\\t_\\t8\\tpunct\\t_\\t_\\n8\\ttokaisi\\ttokaista\\tVERB\\tV\\tMood=Ind|Number=Sing|Person=3|Tense=Past|VerbForm=Fin|Voice=Act\\t2\\tparataxis\\t_\\t_\\n9\\t\\t\\tPROPN\\tN\\tCase=Nom|Number=Sing\\t8\\tnsubj\\t_\\t_\\n10\\t.\\t.\\tPUNCT\\tPunct\\t_\\t2\\tpunct\\t_\\t_\\n1\\t\\\"\\t\\\"\\tPUNCT\\tPunct\\t_\\t3\\tpunct\\t_\\t_\\n2\\tTe\\tsin\\u00e4\\tPRON\\tPron\\tCase=Nom|Number=Plur|Person=2|PronType=Prs\\t3\\tnsubj:cop\\t_\\t_\\n3\\tharhaoppiset\\tharhaoppinen\\tADJ\\tA\\tCase=Nom|Degree=Pos|Derivation=Inen|Number=Plur\\t0\\troot\\t_\\t_\\n4\\t!\\t!\\tPUNCT\\tPunct\\t_\\t3\\tpunct\\t_\\t_\\n1\\tHirteen\\thirre\\tNOUN\\tN\\tCase=Ill|Number=Sing\\t2\\tobl\\t_\\t_\\n2\\tjoudatte\\tjoudattaa\\tVERB\\tV\\tMood=Ind|Number=Plur|Person=2|Tense=Pres|VerbForm=Fin|Voice=Act\\t0\\troot\\t_\\t_\\n3\\t!\\t!\\tPUNCT\\tPunct\\t_\\t2\\tpunct\\t_\\t_\\n4\\t\\\"\\t\\\"\\tPUNCT\\tPunct\\t_\\t2\\tpunct\\t_\\t_\\n5\\tpauhasivat\\tpauhata\\tVERB\\tV\\tMood=Ind|Number=Plur|Person=3|Tense=Past|VerbForm=Fin|Voice=Act\\t2\\tparataxis\\t_\\t_\\n6\\thyvikset\\thyvi\\tADJ\\tA\\tCase=Nom|Number=Plur\\t5\\tnsubj\\t_\\t_\\n7\\t.\\t.\\tPUNCT\\tPunct\\t_\\t2\\tpunct\\t_\\t_\\n1\\tMin\\u00e4\\tmin\\u00e4\\tPRON\\tPron\\tCase=Nom|Number=Sing|Person=1|PronType=Prs\\t3\\tnsubj\\t_\\t_\\n2\\ten\\tei\\tAUX\\tV\\tNumber=Sing|Person=1|Polarity=Neg|VerbForm=Fin|Voice=Act\\t3\\taux\\t_\\t_\\n3\\tuskaltanut\\tuskaltaa\\tVERB\\tV\\tCase=Nom|Degree=Pos|Number=Sing|PartForm=Past|VerbForm=Part|Voice=Act\\t0\\troot\\t_\\t_\\n4\\tmainitakaan\\tmainita\\tVERB\\tV\\tClitic=Kaan|InfForm=1|Number=Sing|VerbForm=Inf|Voice=Act\\t3\\txcomp\\t_\\t_\\n5\\tmuista\\tmuu\\tPRON\\tPron\\tCase=Ela|Number=Plur|PronType=Ind\\t6\\tdet\\t_\\t_\\n6\\tmahdollisuuksista\\tmahdollisuus\\tNOUN\\tN\\tCase=Ela|Derivation=Llinen,Vs|Number=Plur\\t4\\tobl\\t_\\t_\\n7\\tja\\tja\\tCCONJ\\tC\\t_\\t9\\tcc\\t_\\t_\\n8\\tniin\\tniin\\tADV\\tAdv\\t_\\t9\\tadvmod\\t_\\t_\\n9\\tlopetin\\tlopettaa\\tVERB\\tV\\tMood=Ind|Number=Sing|Person=1|Tense=Past|VerbForm=Fin|Voice=Act\\t3\\tconj\\t_\\t_\\n10\\tt\\u00e4m\\u00e4n\\tt\\u00e4m\\u00e4\\tPRON\\tPron\\tCase=Gen|Number=Sing|PronType=Dem\\t11\\tdet\\t_\\t_\\n11\\tpaperin\\tpaperi\\tNOUN\\tN\\tCase=Gen|Number=Sing\\t12\\tnmod:gobj\\t_\\t_\\n12\\ttuhlaamisen\\ttuhlaaminen\\tNOUN\\tN\\tCase=Gen|Derivation=Minen|Number=Sing\\t9\\tobj\\t_\\t_\\n13\\t,\\t,\\tPUNCT\\tPunct\\t_\\t16\\tpunct\\t_\\t_\\n14\\tkoska\\tkoska\\tSCONJ\\tC\\t_\\t16\\tmark\\t_\\t_\\n15\\ttila\\ttila\\tNOUN\\tN\\tCase=Nom|Number=Sing\\t16\\tnsubj\\t_\\t_\\n16\\tloppuu\\tloppua\\tVERB\\tV\\tMood=Ind|Number=Sing|Person=3|Tense=Pres|VerbForm=Fin|Voice=Act\\t9\\tadvcl\\t_\\t_\\n17\\tja\\tja\\tCCONJ\\tC\\t_\\t21\\tcc\\t_\\t_\\n18\\tminun\\tmin\\u00e4\\tPRON\\tPron\\tCase=Gen|Number=Sing|Person=1|PronType=Prs\\t21\\tnsubj\\t_\\t_\\n19\\tpit\\u00e4isi\\tpit\\u00e4\\u00e4\\tAUX\\tV\\tMood=Cnd|Number=Sing|Person=3|VerbForm=Fin|Voice=Act\\t21\\taux\\t_\\t_\\n20\\tolla\\tolla\\tAUX\\tV\\tInfForm=1|Number=Sing|VerbForm=Inf|Voice=Act\\t21\\taux\\t_\\t_\\n21\\ttekem\\u00e4ss\\u00e4\\ttehd\\u00e4\\tVERB\\tV\\tCase=Ine|InfForm=3|Number=Sing|VerbForm=Inf|Voice=Act\\t16\\tconj\\t_\\t_\\n22\\tjotain\\tjokin\\tPRON\\tPron\\tCase=Par|Number=Sing|PronType=Ind\\t24\\tdet\\t_\\t_\\n23\\toikeasti\\toikeasti\\tADV\\tAdv\\tDerivation=Sti\\t24\\tadvmod\\t_\\t_\\n24\\thy\\u00f6dyllist\\u00e4\\thy\\u00f6dyllinen\\tADJ\\tA\\tCase=Par|Degree=Pos|Derivation=Llinen|Number=Sing\\t21\\tobj\\t_\\t_\\n25\\t.\\t.\\tPUNCT\\tPunct\\t_\\t3\\tpunct\\t_\\t_\\n1\\tMies\\tmies\\tNOUN\\tN\\tCase=Nom|Number=Sing\\t2\\tnsubj\\t_\\t_\\n2\\thuokaisi\\thuokaista\\tVERB\\tV\\tMood=Ind|Number=Sing|Person=3|Tense=Past|VerbForm=Fin|Voice=Act\\t0\\troot\\t_\\t_\\n3\\tsyv\\u00e4\\u00e4n\\tsyv\\u00e4\\u00e4n\\tADV\\tAdv\\t_\\t2\\tadvmod\\t_\\t_\\n4\\t,\\t,\\tPUNCT\\tPunct\\t_\\t5\\tpunct\\t_\\t_\\n5\\tlaski\\tlaskea\\tVERB\\tV\\tMood=Ind|Number=Sing|Person=3|Tense=Past|VerbForm=Fin|Voice=Act\\t2\\tconj\\t_\\t_\\n6\\tkyn\\u00e4n\\tkyn\\u00e4\\tNOUN\\tN\\tCase=Gen|Number=Sing\\t5\\tobj\\t_\\t_\\n7\\tmustepulloon\\tmuste#pullo\\tNOUN\\tN\\tCase=Ill|Number=Sing\\t5\\tobl\\t_\\t_\\n8\\tja\\tja\\tCCONJ\\tC\\t_\\t9\\tcc\\t_\\t_\\n9\\tj\\u00e4i\\tj\\u00e4\\u00e4d\\u00e4\\tVERB\\tV\\tMood=Ind|Number=Sing|Person=3|Tense=Past|VerbForm=Fin|Voice=Act\\t2\\tconj\\t_\\t_\\n10\\tkatsomaan\\tkatsoa\\tVERB\\tV\\tCase=Ill|InfForm=3|Number=Sing|VerbForm=Inf|Voice=Act\\t9\\txcomp\\t_\\t_\\n11\\thorisonttiin\\thorisontti\\tNOUN\\tN\\tCase=Ill|Number=Sing\\t10\\tobl\\t_\\t_\\n12\\t.\\t.\\tPUNCT\\tPunct\\t_\\t2\\tpunct\\t_\\t_\\n1\\t\\\"\\t\\\"\\tPUNCT\\tPunct\\t_\\t3\\tpunct\\t_\\t_\\n2\\tPahuksen\\tpahus\\tNOUN\\tN\\tCase=Gen|Number=Sing\\t3\\tnmod:poss\\t_\\t_\\n3\\tprofetia\\tprofetia\\tNOUN\\tN\\tCase=Nom|Number=Sing\\t0\\troot\\t_\\t_\\n4\\t.\\t.\\tPUNCT\\tPunct\\t_\\t3\\tpunct\\t_\\t_\\n5\\t\\\"\\t\\\"\\tPUNCT\\tPunct\\t_\\t3\\tpunct\\t_\\t_\\n1\\tLinnan\\tlinna\\tNOUN\\tN\\tCase=Gen|Number=Sing\\t2\\tnmod:poss\\t_\\t_\\n2\\tkorkeimmasta\\tkorkea\\tADJ\\tA\\tCase=Ela|Degree=Sup|Number=Sing\\t3\\tamod\\t_\\t_\\n3\\ttornista\\ttorni\\tNOUN\\tN\\tCase=Ela|Number=Sing\\t4\\tobl\\t_\\t_\\n4\\tn\\u00e4ki\\tn\\u00e4hd\\u00e4\\tVERB\\tV\\tMood=Ind|Number=Sing|Person=0|Tense=Past|VerbForm=Fin|Voice=Act\\t0\\troot\\t_\\t_\\n5\\tymp\\u00e4r\\u00f6iv\\u00e4n\\tymp\\u00e4r\\u00f6id\\u00e4\\tVERB\\tV\\tCase=Gen|Degree=Pos|Number=Sing|PartForm=Pres|VerbForm=Part|Voice=Act\\t6\\tacl\\t_\\t_\\n6\\tkaupungin\\tkaupunki\\tNOUN\\tN\\tCase=Gen|Number=Sing\\t11\\tnmod\\t_\\t_\\n7\\tja\\tja\\tCCONJ\\tC\\t_\\t8\\tcc\\t_\\t_\\n8\\tpeltomaiden\\tpelto#maa\\tNOUN\\tN\\tCase=Gen|Number=Plur\\t6\\tconj\\t_\\t_\\n9\\tyli\\tyli\\tADP\\tAdp\\tAdpType=Post\\t6\\tcase\\t_\\t_\\n10\\tautioon\\tautio\\tADJ\\tA\\tCase=Ill|Degree=Pos|Number=Sing\\t11\\tamod\\t_\\t_\\n11\\treunaseutuun\\treuna#seutu\\tNOUN\\tN\\tCase=Ill|Number=Sing\\t4\\tobl\\t_\\t_\\n12\\t,\\t,\\tPUNCT\\tPunct\\t_\\t15\\tpunct\\t_\\t_\\n13\\tjoka\\tjoka\\tPRON\\tPron\\tCase=Nom|Number=Sing|PronType=Rel\\t15\\tnsubj\\t_\\t_\\n14\\tv\\u00e4hitellen\\tv\\u00e4hitellen\\tADV\\tAdv\\t_\\t15\\tadvmod\\t_\\t_\\n15\\tnousi\\tnousta\\tVERB\\tV\\tMood=Ind|Number=Sing|Person=3|Tense=Past|VerbForm=Fin|Voice=Act\\t11\\tacl:relcl\\t_\\t_\\n16\\tsynkkyytt\\u00e4\\tsynkkyys\\tNOUN\\tN\\tCase=Par|Number=Sing\\t17\\tobj\\t_\\t_\\n17\\thuokuvaksi\\thuokua\\tVERB\\tV\\tCase=Tra|Degree=Pos|Number=Sing|PartForm=Pres|VerbForm=Part|Voice=Act\\t18\\tacl\\t_\\t_\\n18\\tvuoristoksi\\tvuoristo\\tNOUN\\tN\\tCase=Tra|Number=Sing\\t15\\txcomp\\t_\\t_\\n19\\t.\\t.\\tPUNCT\\tPunct\\t_\\t4\\tpunct\\t_\\t_\\n1\\tMies\\tmies\\tNOUN\\tN\\tCase=Nom|Number=Sing\\t2\\tnsubj\\t_\\t_\\n2\\tsiirtyi\\tsiirty\\u00e4\\tVERB\\tV\\tMood=Ind|Number=Sing|Person=3|Tense=Past|VerbForm=Fin|Voice=Act\\t0\\troot\\t_\\t_\\n3\\tvieress\\u00e4\\u00e4n\\tvieress\\u00e4\\tADV\\tAdv\\tPerson[psor]=3\\t4\\tadvmod\\t_\\t_\\n4\\tolevan\\tolla\\tVERB\\tV\\tCase=Gen|Degree=Pos|Number=Sing|PartForm=Pres|VerbForm=Part|Voice=Act\\t6\\tacl\\t_\\t_\\n5\\tjyhke\\u00e4n\\tjyhke\\u00e4\\tADJ\\tA\\tCase=Gen|Degree=Pos|Number=Sing\\t6\\tamod\\t_\\t_\\n6\\tkaukoputken\\tkauko#putki\\tNOUN\\tN\\tCase=Gen|Number=Sing\\t2\\tobl\\t_\\t_\\n7\\t\\u00e4\\u00e4relle\\t\\u00e4\\u00e4ri\\tADP\\tAdp\\tAdpType=Post\\t6\\tcase\\t_\\t_\\n8\\tja\\tja\\tCCONJ\\tC\\t_\\t9\\tcc\\t_\\t_\\n9\\tkatsoi\\tkatsoa\\tVERB\\tV\\tMood=Ind|Number=Sing|Person=3|Tense=Past|VerbForm=Fin|Voice=Act\\t2\\tconj\\t_\\t_\\n10\\tsill\\u00e4\\tse\\tPRON\\tPron\\tCase=Ade|Number=Sing|PronType=Dem\\t9\\tobl\\t_\\t_\\n11\\ttaas\\ttaas\\tADV\\tAdv\\t_\\t9\\tadvmod\\t_\\t_\\n12\\tvuorten\\tvuori\\tNOUN\\tN\\tCase=Gen|Number=Plur\\t14\\tobl\\t_\\t_\\n13\\tv\\u00e4liin\\tv\\u00e4liin\\tADP\\tAdp\\tAdpType=Post\\t12\\tcase\\t_\\t_\\n14\\tj\\u00e4\\u00e4v\\u00e4\\u00e4n\\tj\\u00e4\\u00e4d\\u00e4\\tVERB\\tV\\tCase=Ill|Degree=Pos|Number=Sing|PartForm=Pres|VerbForm=Part|Voice=Act\\t15\\tacl\\t_\\t_\\n15\\tsolaan\\tsola\\tNOUN\\tN\\tCase=Ill|Number=Sing\\t9\\tobl\\t_\\t_\\n16\\t,\\t,\\tPUNCT\\tPunct\\t_\\t18\\tpunct\\t_\\t_\\n17\\tmiss\\u00e4\\tmik\\u00e4\\tPRON\\tPron\\tCase=Ine|Number=Sing|PronType=Rel\\t18\\tobl\\t_\\t_\\n18\\tkulki\\tkulkea\\tVERB\\tV\\tMood=Ind|Number=Sing|Person=3|Tense=Past|VerbForm=Fin|Voice=Act\\t15\\tacl:relcl\\t_\\t_\\n19\\tvaltakunnat\\tvalta#kunta\\tNOUN\\tN\\tCase=Nom|Number=Plur\\t20\\tobj\\t_\\t_\\n20\\tyhdist\\u00e4v\\u00e4\\tyhdist\\u00e4\\u00e4\\tVERB\\tV\\tCase=Nom|Degree=Pos|Number=Sing|PartForm=Pres|VerbForm=Part|Voice=Act\\t21\\tacl\\t_\\t_\\n21\\tvaltatie\\tvalta#tie\\tNOUN\\tN\\tCase=Nom|Number=Sing\\t18\\tnsubj\\t_\\t_\\n22\\t.\\t.\\tPUNCT\\tPunct\\t_\\t2\\tpunct\\t_\\t_\\n1\\tTaistelu\\ttaistelu\\tNOUN\\tN\\tCase=Nom|Derivation=U|Number=Sing\\t6\\tnsubj:cop\\t_\\t_\\n2\\tsiell\\u00e4\\tsiell\\u00e4\\tADV\\tAdv\\t_\\t1\\tadvmod\\t_\\t_\\n3\\toli\\tolla\\tAUX\\tV\\tMood=Ind|Number=Sing|Person=3|Tense=Past|VerbForm=Fin|Voice=Act\\t6\\tcop\\t_\\t_\\n4\\tedelleen\\tedelleen\\tADV\\tAdv\\t_\\t6\\tadvmod\\t_\\t_\\n5\\tt\\u00e4ydess\\u00e4\\tt\\u00e4ysi\\tADJ\\tA\\tCase=Ine|Degree=Pos|Number=Sing\\t6\\tamod\\t_\\t_\\n6\\tvauhdissa\\tvauhti\\tNOUN\\tN\\tCase=Ine|Number=Sing\\t0\\troot\\t_\\t_\\n7\\t.\\t.\\tPUNCT\\tPunct\\t_\\t6\\tpunct\\t_\\t_\\n1\\t\\\"\\t\\\"\\tPUNCT\\tPunct\\t_\\t6\\tpunct\\t_\\t_\\n2\\tOn\\tolla\\tAUX\\tV\\tMood=Ind|Number=Sing|Person=3|Tense=Pres|VerbForm=Fin|Voice=Act\\t6\\tcop\\t_\\t_\\n3\\ttuokin\\ttuokin\\tPRON\\tPron\\tCase=Nom|Clitic=Kin|Number=Sing|PronType=Dem\\t6\\tnsubj:cop\\t_\\t_\\n4\\ttaas\\ttaas\\tADV\\tAdv\\t_\\t6\\tadvmod\\t_\\t_\\n5\\tj\\u00e4rkev\\u00e4\\tj\\u00e4rkev\\u00e4\\tADJ\\tA\\tCase=Nom|Degree=Pos|Number=Sing\\t6\\tamod\\t_\\t_\\n6\\ttapa\\ttapa\\tNOUN\\tN\\tCase=Nom|Number=Sing\\t0\\troot\\t_\\t_\\n7\\tkuluttaa\\tkuluttaa\\tVERB\\tV\\tInfForm=1|Number=Sing|VerbForm=Inf|Voice=Act\\t6\\tacl\\t_\\t_\\n8\\taikaa\\taika\\tNOUN\\tN\\tCase=Par|Number=Sing\\t7\\tobj\\t_\\t_\\n9\\tja\\tja\\tCCONJ\\tC\\t_\\t10\\tcc\\t_\\t_\\n10\\tresursseja\\tresurssi\\tNOUN\\tN\\tCase=Par|Number=Plur\\t8\\tconj\\t_\\t_\\n11\\t.\\t.\\tPUNCT\\tPunct\\t_\\t6\\tpunct\\t_\\t_\\n1\\tLuulisi\\tluulla\\tVERB\\tV\\tMood=Cnd|Number=Sing|Person=0|VerbForm=Fin|Voice=Act\\t0\\troot\\t_\\t_\\n2\\t,\\t,\\tPUNCT\\tPunct\\t_\\t8\\tpunct\\t_\\t_\\n3\\tett\\u00e4\\tett\\u00e4\\tSCONJ\\tC\\t_\\t8\\tmark\\t_\\t_\\n4\\tnelj\\u00e4ss\\u00e4\\tnelj\\u00e4\\tNUM\\tNum\\tCase=Ine|Number=Sing|NumType=Card\\t5\\tcompound\\t_\\t_\\n5\\tsadassa\\tsata\\tNUM\\tNum\\tCase=Ine|Number=Sing|NumType=Card\\t6\\tnummod\\t_\\t_\\n6\\tvuodessa\\tvuosi\\tNOUN\\tN\\tCase=Ine|Number=Sing\\t8\\tobl\\t_\\t_\\n7\\tihminen\\tihminen\\tNOUN\\tN\\tCase=Nom|Number=Sing\\t8\\tnsubj\\t_\\t_\\n8\\tkeksisi\\tkeksi\\u00e4\\tVERB\\tV\\tMood=Cnd|Number=Sing|Person=3|VerbForm=Fin|Voice=Act\\t1\\tccomp\\t_\\t_\\n9\\tj\\u00e4rkev\\u00e4\\u00e4kin\\tj\\u00e4rkev\\u00e4\\tADJ\\tA\\tCase=Nom|Clitic=Kin|Degree=Pos|Number=Sing\\t10\\tamod\\t_\\t_\\n10\\ttekemist\\u00e4\\ttekeminen\\tNOUN\\tN\\tCase=Par|Derivation=Minen|Number=Sing\\t8\\tobj\\t_\\t_\\n11\\t,\\t,\\tPUNCT\\tPunct\\t_\\t17\\tpunct\\t_\\t_\\n12\\tmutta\\tmutta\\tCCONJ\\tC\\t_\\t17\\tcc\\t_\\t_\\n13\\tei\\tei\\tVERB\\tV\\tNumber=Sing|Person=3|Polarity=Neg|VerbForm=Fin|Voice=Act\\t17\\taux\\t_\\t_\\n14\\tn\\u00e4ht\\u00e4v\\u00e4sti\\tn\\u00e4hd\\u00e4\\tVERB\\tV\\tDerivation=Sti\\t17\\tadvmod\\t_\\t_\\n15\\t,\\t,\\tPUNCT\\tPunct\\t_\\t14\\tpunct\\t_\\t_\\n16\\th\\u00e4n\\th\\u00e4n\\tPRON\\tPron\\tCase=Nom|Number=Sing|Person=3|PronType=Prs\\t17\\tnsubj\\t_\\t_\\n17\\tk\\u00e4\\u00e4nsi\\tk\\u00e4\\u00e4nt\\u00e4\\u00e4\\tVERB\\tV\\tMood=Ind|Number=Sing|Person=3|Tense=Past|VerbForm=Fin|Voice=Act\\t1\\tconj\\t_\\t_\\n18\\tkaukoputkea\\tkauko#putki\\tNOUN\\tN\\tCase=Par|Number=Sing\\t17\\tobj\\t_\\t_\\n19\\thitusen\\thitusen\\tADV\\tAdv\\t_\\t17\\tadvmod\\t_\\t_\\n20\\t,\\t,\\tPUNCT\\tPunct\\t_\\t23\\tpunct\\t_\\t_\\n21\\tjotta\\tjotta\\tSCONJ\\tC\\t_\\t23\\tmark\\t_\\t_\\n22\\tn\\u00e4kyviin\\tn\\u00e4ky\\u00e4\\tVERB\\tV\\tCase=Ill|Degree=Pos|Number=Plur|PartForm=Pres|VerbForm=Part|Voice=Act\\t23\\txcomp\\t_\\t_\\n23\\ttuli\\ttulla\\tVERB\\tV\\tMood=Ind|Number=Sing|Person=3|Tense=Past|VerbForm=Fin|Voice=Act\\t17\\tadvcl\\t_\\t_\\n24\\tvuorenrinteell\\u00e4\\tvuoren#rinne\\tNOUN\\tN\\tCase=Ade|Number=Sing\\t25\\tobl\\t_\\t_\\n25\\tseisoskeleva\\tseisoskella\\tVERB\\tV\\tCase=Nom|Degree=Pos|Number=Sing|PartForm=Pres|VerbForm=Part|Voice=Act\\t26\\tacl\\t_\\t_\\n26\\thahmo\\thahmo\\tNOUN\\tN\\tCase=Nom|Number=Sing\\t23\\tnsubj\\t_\\t_\\n27\\tmustassa\\tmusta\\tADJ\\tA\\tCase=Ine|Degree=Pos|Number=Sing\\t28\\tamod\\t_\\t_\\n28\\thaarniskassa\\thaarniska\\tNOUN\\tN\\tCase=Ine|Number=Sing\\t26\\tnmod\\t_\\t_\\n29\\t.\\t.\\tPUNCT\\tPunct\\t_\\t1\\tpunct\\t_\\t_\\n1\\t\\\"\\t\\\"\\tPUNCT\\tPunct\\t_\\t2\\tpunct\\t_\\t_\\n2\\tPatsastelet\\tpatsastella\\tVERB\\tV\\tMood=Ind|Number=Sing|Person=2|Tense=Pres|VerbForm=Fin|Voice=Act\\t0\\troot\\t_\\t_\\n3\\tsiell\\u00e4\\tsiell\\u00e4\\tADV\\tAdv\\t_\\t2\\tadvmod\\t_\\t_\\n4\\tja\\tja\\tCCONJ\\tC\\t_\\t5\\tcc\\t_\\t_\\n5\\tlatelet\\tladella\\tVERB\\tV\\tMood=Ind|Number=Sing|Person=2|Tense=Pres|VerbForm=Fin|Voice=Act\\t2\\tconj\\t_\\t_\\n6\\tmahtipontisia\\tmahtipontinen\\tADJ\\tA\\tCase=Par|Degree=Pos|Derivation=Inen|Number=Plur\\t7\\tamod\\t_\\t_\\n7\\tsolvauksia\\tsolvaus\\tNOUN\\tN\\tCase=Par|Number=Plur\\t5\\tobj\\t_\\t_\\n8\\tep\\u00e4k\\u00e4yt\\u00e4nn\\u00f6llisten\\tep\\u00e4#k\\u00e4yt\\u00e4nn\\u00f6llinen\\tADJ\\tA\\tCase=Gen|Degree=Pos|Derivation=Llinen|Number=Plur\\t9\\tamod\\t_\\t_\\n9\\tpiikkikoristeidesi\\tpiikki#koriste\\tNOUN\\tN\\tCase=Gen|Number=Plur|Number[psor]=Sing|Person[psor]=1\\t5\\tobl\\t_\\t_\\n10\\tkanssa\\tkanssa\\tADP\\tAdp\\tAdpType=Post\\t9\\tcase\\t_\\t_\\n11\\t.\\t.\\tPUNCT\\tPunct\\t_\\t2\\tpunct\\t_\\t_\\n1\\tMuuttuisit\\tmuuttua\\tVERB\\tV\\tMood=Cnd|Number=Sing|Person=2|VerbForm=Fin|Voice=Act\\t0\\troot\\t_\\t_\\n2\\tjo\\tjo\\tADV\\tAdv\\t_\\t1\\tadvmod\\t_\\t_\\n3\\tlohik\\u00e4\\u00e4rmeeksi\\tlohi#k\\u00e4\\u00e4rme\\tNOUN\\tN\\tCase=Tra|Number=Sing\\t1\\txcomp\\t_\\t_\\n4\\tja\\tja\\tCCONJ\\tC\\t_\\t5\\tcc\\t_\\t_\\n5\\ttyhjent\\u00e4isit\\ttyhjent\\u00e4\\u00e4\\tVERB\\tV\\tMood=Cnd|Number=Sing|Person=2|VerbForm=Fin|Voice=Act\\t1\\tconj\\t_\\t_\\n6\\tkoko\\tkoko\\tADJ\\tA\\t_\\t7\\tamod\\t_\\t_\\n7\\ttantereen\\ttantere\\tNOUN\\tN\\tCase=Gen|Number=Sing\\t5\\tobj\\t_\\t_\\n8\\t.\\t.\\tPUNCT\\tPunct\\t_\\t1\\tpunct\\t_\\t_\\n1\\tTai\\ttai\\tCCONJ\\tC\\t_\\t2\\tcc\\t_\\t_\\n2\\taivopesisit\\taivopesita\\tVERB\\tV\\tMood=Cnd|Number=Sing|Person=2|VerbForm=Fin|Voice=Act\\t0\\troot\\t_\\t_\\n3\\tvastustajat\\tvastustaja\\tNOUN\\tN\\tCase=Nom|Derivation=Ja|Number=Plur\\t2\\tobj\\t_\\t_\\n4\\ttai\\ttai\\tCCONJ\\tC\\t_\\t5\\tcc\\t_\\t_\\n5\\ttekisit\\ttehd\\u00e4\\tVERB\\tV\\tMood=Cnd|Number=Sing|Person=2|VerbForm=Fin|Voice=Act\\t2\\tconj\\t_\\t_\\n6\\tjotain\\tjokin\\tPRON\\tPron\\tCase=Par|Number=Sing|PronType=Ind\\t5\\tobj\\t_\\t_\\n7\\tkaikilla\\tkaikki\\tPRON\\tPron\\tCase=Ade|Number=Plur|PronType=Ind\\t8\\tdet\\t_\\t_\\n8\\tylivoimillasi\\tyli#voima\\tADJ\\tA\\tCase=Ade|Number=Plur|Number[psor]=Sing|Person[psor]=2\\t5\\tobl\\t_\\t_\\n9\\t.\\t.\\tPUNCT\\tPunct\\t_\\t2\\tpunct\\t_\\t_\\n1\\tMutta\\tmutta\\tCCONJ\\tC\\t_\\t2\\tcc\\t_\\t_\\n2\\tleikki\\u00e4h\\u00e4n\\tleikki\\tNOUN\\tN\\tCase=Nom|Clitic=Han|Number=Sing\\t0\\troot\\t_\\t_\\n3\\tt\\u00e4m\\u00e4\\tt\\u00e4m\\u00e4\\tPRON\\tPron\\tCase=Nom|Number=Sing|PronType=Dem\\t2\\tnsubj:cop\\t_\\t_\\n4\\tkaikki\\tkaikki\\tPRON\\tPron\\tCase=Nom|Number=Sing|PronType=Ind\\t2\\tdet\\t_\\t_\\n5\\tsinulle\\tsin\\u00e4\\tPRON\\tPron\\tCase=All|Number=Sing|Person=2|PronType=Prs\\t2\\tobl\\t_\\t_\\n6\\tvain\\tvain\\tADV\\tAdv\\t_\\t5\\tadvmod\\t_\\t_\\n7\\ton\\tolla\\tAUX\\tV\\tMood=Ind|Number=Sing|Person=3|Tense=Pres|VerbForm=Fin|Voice=Act\\t2\\tcop\\t_\\t_\\n8\\t.\\t.\\tPUNCT\\tPunct\\t_\\t2\\tpunct\\t_\\t_\\n1\\tToisten\\ttoinen\\tPRON\\tPron\\tCase=Gen|Number=Plur|PronType=Rcp\\t2\\tnmod:gsubj\\t_\\t_\\n2\\tkustannuksella\\tkustannus\\tNOUN\\tN\\tCase=Ade|Number=Sing\\t0\\troot\\t_\\t_\\n3\\t...\\t...\\tPUNCT\\tPunct\\t_\\t2\\tpunct\\t_\\t_\\n4\\t\\\"\\t\\\"\\tPUNCT\\tPunct\\t_\\t2\\tpunct\\t_\\t_\\n1\\tMies\\tmies\\tNOUN\\tN\\tCase=Nom|Number=Sing\\t2\\tnsubj\\t_\\t_\\n2\\tk\\u00e4\\u00e4nsi\\tk\\u00e4\\u00e4nt\\u00e4\\u00e4\\tVERB\\tV\\tMood=Ind|Number=Sing|Person=3|Tense=Past|VerbForm=Fin|Voice=Act\\t0\\troot\\t_\\t_\\n3\\ttaas\\ttaas\\tADV\\tAdv\\t_\\t2\\tadvmod\\t_\\t_\\n4\\tkaukoputkea\\tkauko#putki\\tNOUN\\tN\\tCase=Par|Number=Sing\\t2\\tobj\\t_\\t_\\n5\\tja\\tja\\tCCONJ\\tC\\t_\\t6\\tcc\\t_\\t_\\n6\\tbongasi\\tbongata\\tVERB\\tV\\tMood=Ind|Number=Sing|Person=3|Tense=Past|VerbForm=Fin|Voice=Act\\t2\\tconj\\t_\\t_\\n7\\tteinipojan\\tteini#poika\\tNOUN\\tN\\tCase=Gen|Number=Sing\\t8\\tnsubj\\t_\\t_\\n8\\tniitt\\u00e4m\\u00e4ss\\u00e4\\tniitt\\u00e4\\u00e4\\tVERB\\tV\\tCase=Ine|InfForm=3|Number=Sing|VerbForm=Inf|Voice=Act\\t6\\txcomp:ds\\t_\\t_\\n9\\tluurankosotilaita\\tluuran#koso#tilaita\\tNOUN\\tN\\tCase=Par|Number=Plur\\t8\\tobj\\t_\\t_\\n10\\tleimuavalla\\tleimuta\\tVERB\\tV\\tCase=All|Degree=Pos|Number=Sing|PartForm=Pres|VerbForm=Part|Voice=Act\\t11\\tacl\\t_\\t_\\n11\\tmiekalla\\tmiekka\\tNOUN\\tN\\tCase=Ade|Number=Sing\\t8\\tobl\\t_\\t_\\n12\\t.\\t.\\tPUNCT\\tPunct\\t_\\t2\\tpunct\\t_\\t_\\n1\\t\\\"\\t\\\"\\tPUNCT\\tPunct\\t_\\t0\\tpunct\\t_\\t_\\n1\\tJa\\tja\\tCCONJ\\tC\\t_\\t5\\tcc\\t_\\t_\\n2\\tsin\\u00e4\\tsin\\u00e4\\tPRON\\tPron\\tCase=Nom|Number=Sing|Person=2|PronType=Prs\\t5\\tnsubj\\t_\\t_\\n3\\t,\\t,\\tPUNCT\\tPunct\\t_\\t5\\tpunct\\t_\\t_\\n4\\th\\u00e4n\\th\\u00e4n\\tPRON\\tPron\\tCase=Nom|Number=Sing|Person=3|PronType=Prs\\t5\\tnsubj\\t_\\t_\\n5\\tosoitteli\\tosoitella\\tVERB\\tV\\tMood=Ind|Number=Sing|Person=3|Tense=Past|VerbForm=Fin|Voice=Act\\t0\\troot\\t_\\t_\\n6\\tsyytt\\u00e4v\\u00e4sti\\tsyytt\\u00e4v\\u00e4sti\\tADV\\tAdv\\tDerivation=Sti\\t5\\tadvmod\\t_\\t_\\n7\\tilmaa\\tilma\\tNOUN\\tN\\tCase=Par|Number=Sing\\t5\\tobj\\t_\\t_\\n8\\t,\\t,\\tPUNCT\\tPunct\\t_\\t11\\tpunct\\t_\\t_\\n9\\t\\\"\\t\\\"\\tPUNCT\\tPunct\\t_\\t11\\tpunct\\t_\\t_\\n10\\ttyhj\\u00e4np\\u00e4iv\\u00e4inen\\ttyhj\\u00e4n#p\\u00e4iv\\u00e4inen\\tADJ\\tA\\tCase=Nom|Degree=Pos|Derivation=Inen|Number=Sing\\t11\\tamod\\t_\\t_\\n11\\tkynttil\\u00e4nvalaja\\tkynttil\\u00e4n#valaja\\tNOUN\\tN\\tCase=Nom|Number=Sing\\t2\\tappos\\t_\\t_\\n12\\t,\\t,\\tPUNCT\\tPunct\\t_\\t11\\tpunct\\t_\\t_\\n13\\tluulet\\tluulla\\tVERB\\tV\\tMood=Ind|Number=Sing|Person=2|Tense=Pres|VerbForm=Fin|Voice=Act\\t2\\tparataxis\\t_\\t_\\n14\\tolevasi\\tolla\\tAUX\\tV\\tCase=Gen|Degree=Pos|Number=Sing|Number[psor]=Sing|PartForm=Pres|Person[psor]=2|VerbForm=Part|Voice=Act\\t16\\tcop\\t_\\t_\\n15\\toikeasti\\toikeasti\\tADV\\tAdv\\tDerivation=Sti\\t16\\tadvmod\\t_\\t_\\n16\\tmerkityksellinen\\tmerkityksellinen\\tADJ\\tA\\tCase=Nom|Degree=Pos|Derivation=Llinen|Number=Sing\\t13\\txcomp\\t_\\t_\\n17\\t.\\t.\\tPUNCT\\tPunct\\t_\\t5\\tpunct\\t_\\t_\\n1\\tMik\\u00e4\\tmik\\u00e4\\tPRON\\tPron\\tCase=Nom|Number=Sing|PronType=Int\\t3\\tnsubj\\t_\\t_\\n2\\tmuka\\tmuka\\tADV\\tAdv\\t_\\t3\\tadvmod\\t_\\t_\\n3\\ttekee\\ttehd\\u00e4\\tVERB\\tV\\tMood=Ind|Number=Sing|Person=3|Tense=Pres|VerbForm=Fin|Voice=Act\\t0\\troot\\t_\\t_\\n4\\tsinusta\\tsin\\u00e4\\tPRON\\tPron\\tCase=Ela|Number=Sing|Person=2|PronType=Prs\\t3\\tobl\\t_\\t_\\n5\\tenemm\\u00e4n\\tenemm\\u00e4n\\tADV\\tAdv\\t_\\t6\\tadvmod\\t_\\t_\\n6\\tvalitun\\tvalita\\tVERB\\tV\\tCase=Gen|Degree=Pos|Number=Sing|PartForm=Past|VerbForm=Part|Voice=Pass\\t3\\tobj\\t_\\t_\\n7\\tkuin\\tkuin\\tSCONJ\\tC\\t_\\t9\\tmark\\t_\\t_\\n8\\tjoku\\tjoku\\tPRON\\tPron\\tCase=Nom|Number=Sing|PronType=Ind\\t9\\tdet\\t_\\t_\\n9\\ttoinen\\ttoinen\\tPRON\\tPron\\tCase=Nom|Number=Sing|PronType=Rcp\\t5\\tadvcl\\t_\\t_\\n10\\t,\\t,\\tPUNCT\\tPunct\\t_\\t3\\tpunct\\t_\\t_\\n11\\th\\u00e4h\\th\\u00e4h\\tINTJ\\tInterj\\t_\\t3\\tdiscourse\\t_\\t_\\n12\\t?\\t?\\tPUNCT\\tPunct\\t_\\t3\\tpunct\\t_\\t_\\n1\\tJoku\\tjoku\\tPRON\\tPron\\tCase=Nom|Number=Sing|PronType=Ind\\t3\\tnsubj\\t_\\t_\\n2\\tvain\\tvain\\tADV\\tAdv\\t_\\t3\\tadvmod\\t_\\t_\\n3\\tp\\u00e4\\u00e4tti\\tp\\u00e4\\u00e4tt\\u00e4\\u00e4\\tVERB\\tV\\tMood=Ind|Number=Sing|Person=3|Tense=Past|VerbForm=Fin|Voice=Act\\t0\\troot\\t_\\t_\\n4\\t,\\t,\\tPUNCT\\tPunct\\t_\\t9\\tpunct\\t_\\t_\\n5\\tett\\u00e4\\tett\\u00e4\\tSCONJ\\tC\\t_\\t9\\tmark\\t_\\t_\\n6\\tsin\\u00e4\\tsin\\u00e4\\tPRON\\tPron\\tCase=Nom|Number=Sing|Person=2|PronType=Prs\\t9\\tnsubj:cop\\t_\\t_\\n7\\tnyt\\tnyt\\tADV\\tAdv\\t_\\t9\\tadvmod\\t_\\t_\\n8\\tolet\\tolla\\tAUX\\tV\\tMood=Ind|Number=Sing|Person=2|Tense=Pres|VerbForm=Fin|Voice=Act\\t9\\tcop\\t_\\t_\\n9\\tt\\u00e4rkein\\tt\\u00e4rke\\u00e4\\tADJ\\tA\\tCase=Nom|Degree=Sup|Number=Sing\\t3\\tccomp\\t_\\t_\\n10\\tkaikista\\tkaikki\\tPRON\\tPron\\tCase=Ela|Number=Plur|PronType=Ind\\t9\\tnmod\\t_\\t_\\n11\\t.\\t.\\tPUNCT\\tPunct\\t_\\t3\\tpunct\\t_\\t_\\n1\\tOlet\\tolla\\tAUX\\tV\\tMood=Ind|Number=Sing|Person=2|Tense=Pres|VerbForm=Fin|Voice=Act\\t5\\tcop\\t_\\t_\\n2\\tihan\\tihan\\tADV\\tAdv\\t_\\t5\\tadvmod\\t_\\t_\\n3\\tyht\\u00e4\\tyht\\u00e4\\tADV\\tAdv\\t_\\t5\\tadvmod\\t_\\t_\\n4\\tlailla\\tlailla\\tADV\\tAdv\\t_\\t5\\tadvmod\\t_\\t_\\n5\\tmurhaaja\\tmurhaaja\\tNOUN\\tN\\tCase=Nom|Derivation=Ja|Number=Sing\\t0\\troot\\t_\\t_\\n6\\tja\\tja\\tCCONJ\\tC\\t_\\t7\\tcc\\t_\\t_\\n7\\ttuhoaja\\ttuhoaja\\tNOUN\\tN\\tCase=Nom|Derivation=Ja|Number=Sing\\t5\\tconj\\t_\\t_\\n8\\tkuin\\tkuin\\tSCONJ\\tC\\t_\\t9\\tmark\\t_\\t_\\n9\\tmuutkin\\tmuu\\tPRON\\tPron\\tCase=Nom|Clitic=Kin|Number=Plur|PronType=Ind\\t5\\tadvcl\\t_\\t_\\n10\\t.\\t.\\tPUNCT\\tPunct\\t_\\t5\\tpunct\\t_\\t_\\n1\\tTuhlaat\\ttuhlata\\tVERB\\tV\\tMood=Ind|Number=Sing|Person=2|Tense=Pres|VerbForm=Fin|Voice=Act\\t0\\troot\\t_\\t_\\n2\\tel\\u00e4m\\u00e4\\u00e4si\\tel\\u00e4m\\u00e4\\tNOUN\\tN\\tCase=Par|Number=Sing|Number[psor]=Sing|Person[psor]=2\\t1\\tobj\\t_\\t_\\n3\\tjatkuvasti\\tjatkuvasti\\tADV\\tAdv\\tDerivation=Sti\\t1\\tadvmod\\t_\\t_\\n4\\ttapellen\\ttapella\\tVERB\\tV\\tCase=Ins|InfForm=2|Number=Sing|VerbForm=Inf|Voice=Act\\t1\\tadvcl\\t_\\t_\\n5\\tsiihen\\tse\\tPRON\\tPron\\tCase=Ill|Number=Sing|PronType=Dem\\t4\\tobl\\t_\\t_\\n6\\tasti\\tasti\\tADP\\tAdp\\tAdpType=Post\\t5\\tcase\\t_\\t_\\n7\\t,\\t,\\tPUNCT\\tPunct\\t_\\t10\\tpunct\\t_\\t_\\n8\\tett\\u00e4\\tett\\u00e4\\tSCONJ\\tC\\t_\\t10\\tmark\\t_\\t_\\n9\\tPimeydenvaltias\\tpimeyden#valtias\\tNOUN\\tN\\tCase=Nom|Number=Sing\\t10\\tnsubj\\t_\\t_\\n10\\thaluaa\\thaluta\\tVERB\\tV\\tMood=Ind|Number=Sing|Person=3|Tense=Pres|VerbForm=Fin|Voice=Act\\t5\\tccomp\\t_\\t_\\n11\\tvaihtaa\\tvaihtaa\\tVERB\\tV\\tInfForm=1|Number=Sing|VerbForm=Inf|Voice=Act\\t10\\txcomp\\t_\\t_\\n12\\tvalittua\\tvalittua\\tVERB\\tV\\tCase=Par|Degree=Pos|Number=Sing|PartForm=Pres|VerbForm=Part|Voice=Pass\\t11\\tobj\\t_\\t_\\n13\\tja\\tja\\tCCONJ\\tC\\t_\\t14\\tcc\\t_\\t_\\n14\\tpist\\u00e4\\u00e4\\tpist\\u00e4\\u00e4\\tVERB\\tV\\tInfForm=1|Number=Sing|VerbForm=Inf|Voice=Act\\t11\\tconj\\t_\\t_\\n15\\tsinut\\tsin\\u00e4\\tPRON\\tPron\\tCase=Acc|Number=Sing|Person=2|PronType=Prs\\t14\\tobj\\t_\\t_\\n16\\tpois\\tpois\\tADV\\tAdv\\t_\\t14\\tadvmod\\t_\\t_\\n17\\tp\\u00e4ivilt\\u00e4\\tp\\u00e4iv\\u00e4\\tNOUN\\tN\\tCase=Abl|Number=Plur\\t16\\tnmod\\t_\\t_\\n18\\t.\\t.\\tPUNCT\\tPunct\\t_\\t1\\tpunct\\t_\\t_\\n19\\t\\\"\\t\\\"\\tPUNCT\\tPunct\\t_\\t1\\tpunct\\t_\\t_\\n1\\tTornin\\ttorni\\tNOUN\\tN\\tCase=Gen|Number=Sing\\t2\\tnmod:poss\\t_\\t_\\n2\\tkattoparrujen\\tkatto#parru\\tNOUN\\tN\\tCase=Gen|Number=Plur\\t4\\tobl\\t_\\t_\\n3\\tv\\u00e4list\\u00e4\\tv\\u00e4list\\u00e4\\tADP\\tAdp\\tAdpType=Post\\t2\\tcase\\t_\\t_\\n4\\tkuului\\tkuulua\\tVERB\\tV\\tMood=Ind|Number=Sing|Person=3|Tense=Past|VerbForm=Fin|Voice=Act\\t0\\troot\\t_\\t_\\n5\\trahinaa\\trahina\\tNOUN\\tN\\tCase=Par|Number=Sing\\t4\\tnsubj\\t_\\t_\\n6\\tja\\tja\\tCCONJ\\tC\\t_\\t9\\tcc\\t_\\t_\\n7\\tmiehen\\tmies\\tNOUN\\tN\\tCase=Gen|Number=Sing\\t8\\tnmod:poss\\t_\\t_\\n8\\thuomio\\thuomio\\tNOUN\\tN\\tCase=Nom|Number=Sing\\t9\\tnsubj\\t_\\t_\\n9\\tkiinnittyi\\tkiinnitty\\u00e4\\tVERB\\tV\\tMood=Ind|Number=Sing|Person=3|Tense=Past|VerbForm=Fin|Voice=Act\\t4\\tconj\\t_\\t_\\n10\\t\\u00e4\\u00e4neen\\t\\u00e4\\u00e4neen\\tADV\\tAdv\\t_\\t9\\tadvmod\\t_\\t_\\n11\\t.\\t.\\tPUNCT\\tPunct\\t_\\t4\\tpunct\\t_\\t_\\n1\\tPikkuinen\\tpikkuinen\\tADJ\\tA\\tCase=Nom|Degree=Pos|Derivation=Inen|Number=Sing\\t4\\tamod\\t_\\t_\\n2\\t,\\t,\\tPUNCT\\tPunct\\t_\\t4\\tpunct\\t_\\t_\\n3\\tvaaleanvioletti\\tvaalean#violetti\\tADJ\\tA\\tCase=Nom|Degree=Pos|Number=Sing\\t4\\tamod\\t_\\t_\\n4\\tlirpakko\\tlirpakko\\tNOUN\\tN\\tCase=Nom|Number=Sing\\t5\\tnsubj\\t_\\t_\\n5\\ther\\u00e4si\\ther\\u00e4t\\u00e4\\tVERB\\tV\\tMood=Ind|Number=Sing|Person=3|Tense=Past|VerbForm=Fin|Voice=Act\\t0\\troot\\t_\\t_\\n6\\taamu-uniltaan\\taamu#unillas\\tNOUN\\tN\\tCase=Ill|Number=Sing\\t5\\tobl\\t_\\t_\\n7\\tja\\tja\\tCCONJ\\tC\\t_\\t8\\tcc\\t_\\t_\\n8\\tverrytteli\\tverrytell\\u00e4\\tVERB\\tV\\tMood=Ind|Number=Sing|Person=3|Tense=Past|VerbForm=Fin|Voice=Act\\t5\\tconj\\t_\\t_\\n9\\tnahkaisia\\tnahkainen\\tADJ\\tA\\tCase=Par|Degree=Pos|Derivation=Inen|Number=Plur\\t10\\tamod\\t_\\t_\\n10\\tsiipi\\u00e4\\u00e4n\\tsiipi\\tNOUN\\tN\\tCase=Par|Number=Plur|Person[psor]=3\\t8\\tobj\\t_\\t_\\n11\\t.\\t.\\tPUNCT\\tPunct\\t_\\t5\\tpunct\\t_\\t_\\n1\\tMies\\tmies\\tNOUN\\tN\\tCase=Nom|Number=Sing\\t2\\tnsubj\\t_\\t_\\n2\\tkatsoi\\tkatsoa\\tVERB\\tV\\tMood=Ind|Number=Sing|Person=3|Tense=Past|VerbForm=Fin|Voice=Act\\t0\\troot\\t_\\t_\\n3\\tel\\u00e4int\\u00e4\\tel\\u00e4in\\tNOUN\\tN\\tCase=Par|Number=Sing\\t2\\tobj\\t_\\t_\\n4\\tniin\\tniin\\tADV\\tAdv\\t_\\t5\\tadvmod\\t_\\t_\\n5\\tkauan\\tkauan\\tADV\\tAdv\\t_\\t2\\tadvmod\\t_\\t_\\n6\\t,\\t,\\tPUNCT\\tPunct\\t_\\t9\\tpunct\\t_\\t_\\n7\\tett\\u00e4\\tett\\u00e4\\tSCONJ\\tC\\t_\\t9\\tmark\\t_\\t_\\n8\\tsekin\\tse\\tPRON\\tPron\\tCase=Nom|Clitic=Kin|Number=Sing|PronType=Dem\\t9\\tnsubj\\t_\\t_\\n9\\tlaski\\tlaskea\\tVERB\\tV\\tMood=Ind|Number=Sing|Person=3|Tense=Past|VerbForm=Fin|Voice=Act\\t5\\tccomp\\t_\\t_\\n10\\tkatseensa\\tkatse\\tNOUN\\tN\\tCase=Nom|Number=Plur|Person[psor]=3\\t9\\tobj\\t_\\t_\\n11\\th\\u00e4neen\\th\\u00e4n\\tPRON\\tPron\\tCase=Ill|Number=Sing|Person=3|PronType=Prs\\t9\\tobl\\t_\\t_\\n12\\tja\\tja\\tCCONJ\\tC\\t_\\t13\\tcc\\t_\\t_\\n13\\tkallisti\\tkallistaa\\tVERB\\tV\\tMood=Ind|Number=Sing|Person=3|Tense=Past|VerbForm=Fin|Voice=Act\\t9\\tconj\\t_\\t_\\n14\\tv\\u00e4h\\u00e4n\\tv\\u00e4h\\u00e4n\\tADV\\tAdv\\t_\\t13\\tadvmod\\t_\\t_\\n15\\tuntuvaista\\tuntua\\tVERB\\tV\\tCase=Par|Degree=Pos|Derivation=Inen|Number=Sing\\t16\\tacl\\t_\\t_\\n16\\tp\\u00e4\\u00e4t\\u00e4\\u00e4n\\tp\\u00e4\\u00e4\\tNOUN\\tN\\tCase=Par|Number=Sing|Person[psor]=3\\t13\\tobj\\t_\\t_\\n17\\t.\\t.\\tPUNCT\\tPunct\\t_\\t2\\tpunct\\t_\\t_\\n1\\t\\\"\\t\\\"\\tPUNCT\\tPunct\\t_\\t10\\tpunct\\t_\\t_\\n2\\tEtt\\u00e4\\tett\\u00e4\\tSCONJ\\tC\\t_\\t10\\tmark\\t_\\t_\\n3\\tnoiden\\ttuo\\tPRON\\tPron\\tCase=Gen|Number=Plur|PronType=Dem\\t5\\tdet\\t_\\t_\\n4\\tkahden\\tkaksi\\tNUM\\tNum\\tCase=Gen|Number=Sing|NumType=Card\\t5\\tnummod\\t_\\t_\\n5\\tidiootin\\tidiootti\\tNOUN\\tN\\tCase=Gen|Number=Sing\\t10\\tobl\\t_\\t_\\n6\\tymp\\u00e4rill\\u00e4\\tymp\\u00e4rill\\u00e4\\tADP\\tAdp\\tAdpType=Post\\t5\\tcase\\t_\\t_\\n7\\tsitten\\tsitten\\tADV\\tAdv\\t_\\t10\\tadvmod\\t_\\t_\\n8\\tkoko\\tkoko\\tADJ\\tA\\t_\\t9\\tamod\\t_\\t_\\n9\\tmaailma\\tmaailma\\tNOUN\\tN\\tCase=Nom|Number=Sing\\t10\\tnsubj\\t_\\t_\\n10\\tpy\\u00f6rii\\tpy\\u00f6ri\\u00e4\\tVERB\\tV\\tMood=Ind|Number=Sing|Person=3|Tense=Pres|VerbForm=Fin|Voice=Act\\t0\\troot\\t_\\t_\\n11\\t!\\t!\\tPUNCT\\tPunct\\t_\\t10\\tpunct\\t_\\t_\\n12\\t\\\"\\t\\\"\\tPUNCT\\tPunct\\t_\\t10\\tpunct\\t_\\t_\\n13\\th\\u00e4n\\th\\u00e4n\\tPRON\\tPron\\tCase=Nom|Number=Sing|Person=3|PronType=Prs\\t14\\tnsubj\\t_\\t_\\n14\\tjatkoi\\tjatkaa\\tVERB\\tV\\tMood=Ind|Number=Sing|Person=3|Tense=Past|VerbForm=Fin|Voice=Act\\t10\\tparataxis\\t_\\t_\\n15\\tselostustaan\\tselostus\\tNOUN\\tN\\tCase=Par|Number=Sing|Person[psor]=3\\t14\\tobj\\t_\\t_\\n16\\t.\\t.\\tPUNCT\\tPunct\\t_\\t10\\tpunct\\t_\\t_\\n1\\t\\\"\\t\\\"\\tPUNCT\\tPunct\\t_\\t6\\tpunct\\t_\\t_\\n2\\tSin\\u00e4kin\\tsin\\u00e4kin\\tADV\\tAdv\\tClitic=Kin\\t6\\tnsubj\\t_\\t_\\n3\\tvarmasti\\tvarmasti\\tADV\\tAdv\\tDerivation=Sti\\t6\\tadvmod\\t_\\t_\\n4\\thiljaa\\thiljaa\\tADV\\tAdv\\t_\\t6\\tadvmod\\t_\\t_\\n5\\tmieless\\u00e4si\\tmieli\\tNOUN\\tN\\tNumber[psor]=Sing|Person[psor]=2\\t4\\tnmod\\t_\\t_\\n6\\tnaurat\\tnauraa\\tVERB\\tV\\tMood=Ind|Number=Sing|Person=2|Tense=Pres|VerbForm=Fin|Voice=Act\\t0\\troot\\t_\\t_\\n7\\tmeille\\tmin\\u00e4\\tPRON\\tPron\\tCase=All|Number=Plur|Person=1|PronType=Prs\\t8\\tdet\\t_\\t_\\n8\\tihmisille\\tihminen\\tNOUN\\tN\\tCase=All|Number=Plur\\t6\\tobl\\t_\\t_\\n9\\t.\\t.\\tPUNCT\\tPunct\\t_\\t6\\tpunct\\t_\\t_\\n1\\tEtk\\u00f6\\tei\\tVERB\\tV\\tClitic=Ko|Mood=Ind|Number=Sing|Person=2|Tense=Pres|VerbForm=Fin|Voice=Act\\t0\\troot\\t_\\t_\\n2\\tvain\\tvain\\tADV\\tAdv\\t_\\t1\\tadvmod\\t_\\t_\\n3\\t?\\t?\\tPUNCT\\tPunct\\t_\\t1\\tpunct\\t_\\t_\\n4\\t\\\"\\t\\\"\\tPUNCT\\tPunct\\t_\\t1\\tpunct\\t_\\t_\\n1\\t\\t\\tPROPN\\tN\\tCase=Nom|Number=Sing\\t3\\tnsubj\\t_\\t_\\n2\\tei\\tei\\tAUX\\tV\\tNumber=Sing|Person=3|Polarity=Neg|VerbForm=Fin|Voice=Act\\t3\\taux\\t_\\t_\\n3\\tkommentoinut\\tkommentoida\\tVERB\\tV\\tCase=Nom|Degree=Pos|Number=Sing|PartForm=Past|VerbForm=Part|Voice=Act\\t0\\troot\\t_\\t_\\n4\\tasiaa\\tasia\\tNOUN\\tN\\tCase=Par|Number=Sing\\t3\\tobj\\t_\\t_\\n5\\t,\\t,\\tPUNCT\\tPunct\\t_\\t7\\tpunct\\t_\\t_\\n6\\tvaan\\tvaan\\tCCONJ\\tC\\t_\\t7\\tcc\\t_\\t_\\n7\\talkoi\\talkaa\\tVERB\\tV\\tMood=Ind|Number=Sing|Person=3|Tense=Past|VerbForm=Fin|Voice=Act\\t3\\tconj\\t_\\t_\\n8\\tsukia\\tsukia\\tVERB\\tV\\tInfForm=1|Number=Sing|VerbForm=Inf|Voice=Act\\t7\\txcomp\\t_\\t_\\n9\\titse\\u00e4\\u00e4n\\titse\\tPRON\\tPron\\tCase=Par|Number=Sing|Person[psor]=3|Reflex=Yes\\t8\\tobj\\t_\\t_\\n10\\t.\\t.\\tPUNCT\\tPunct\\t_\\t3\\tpunct\\t_\\t_\\n1\\tMieskin\\tmies\\tNOUN\\tN\\tCase=Nom|Clitic=Kin|Number=Sing\\t2\\tnsubj\\t_\\t_\\n2\\tlaski\\tlaskea\\tVERB\\tV\\tMood=Ind|Number=Sing|Person=3|Tense=Past|VerbForm=Fin|Voice=Act\\t0\\troot\\t_\\t_\\n3\\tkatseensa\\tkatse\\tNOUN\\tN\\tCase=Nom|Number=Plur|Person[psor]=3\\t2\\tobj\\t_\\t_\\n4\\tharmaan\\tharmaa\\tADJ\\tA\\tCase=Gen|Degree=Pos|Number=Sing\\t10\\tamod\\t_\\t_\\n5\\t,\\t,\\tPUNCT\\tPunct\\t_\\t6\\tpunct\\t_\\t_\\n6\\tm\\u00f6yhe\\u00e4n\\tm\\u00f6yhe\\u00e4\\tADJ\\tA\\tCase=Gen|Degree=Pos|Number=Sing\\t4\\tconj\\t_\\t_\\n7\\tja\\tja\\tCCONJ\\tC\\t_\\t9\\tcc\\t_\\t_\\n8\\tauringossa\\taurinko\\tNOUN\\tN\\tCase=Ine|Number=Sing\\t9\\tobl\\t_\\t_\\n9\\tkiiltelev\\u00e4n\\tkiillell\\u00e4\\tVERB\\tV\\tCase=Gen|Degree=Pos|Number=Sing|PartForm=Pres|VerbForm=Part|Voice=Act\\t4\\tconj\\t_\\t_\\n10\\taamutakkinsa\\taamu#takki\\tNOUN\\tN\\tCase=Gen|Number=Sing|Person[psor]=3\\t11\\tnmod:poss\\t_\\t_\\n11\\thelmoihin\\thelma\\tNOUN\\tN\\tCase=Ill|Number=Plur\\t2\\tobl\\t_\\t_\\n12\\t.\\t.\\tPUNCT\\tPunct\\t_\\t2\\tpunct\\t_\\t_\\n1\\t\\\"\\t\\\"\\tPUNCT\\tPunct\\t_\\t8\\tpunct\\t_\\t_\\n2\\tTied\\u00e4tk\\u00f6\\ttiet\\u00e4\\u00e4\\tVERB\\tV\\tClitic=Ko|Mood=Ind|Number=Sing|Person=2|Style=Coll|Tense=Pres|VerbForm=Fin|Voice=Act\\t8\\tdiscourse\\t_\\t_\\n3\\t,\\t,\\tPUNCT\\tPunct\\t_\\t2\\tpunct\\t_\\t_\\n4\\tmin\\u00e4kin\\tmin\\u00e4\\tPRON\\tPron\\tCase=Nom|Clitic=Kin|Number=Sing|Person=1|PronType=Prs\\t8\\tnsubj\\t_\\t_\\n5\\tvoisin\\tvoida\\tAUX\\tV\\tMood=Cnd|Number=Sing|Person=1|VerbForm=Fin|Voice=Act\\t8\\taux\\t_\\t_\\n6\\tolla\\tolla\\tAUX\\tV\\tInfForm=1|Number=Sing|VerbForm=Inf|Voice=Act\\t8\\taux\\t_\\t_\\n7\\ttuolla\\ttuolla\\tADV\\tAdv\\t_\\t8\\tadvmod\\t_\\t_\\n8\\ttaistelemassa\\ttaistella\\tVERB\\tV\\tCase=Ine|InfForm=3|Number=Sing|VerbForm=Inf|Voice=Act\\t0\\troot\\t_\\t_\\n9\\t.\\t.\\tPUNCT\\tPunct\\t_\\t8\\tpunct\\t_\\t_\\n1\\tSama\\tsama\\tPRON\\tPron\\tCase=Nom|Number=Sing|PronType=Ind\\t0\\troot\\t_\\t_\\n2\\tkumpaa\\tkumpi\\tPRON\\tPron\\tCase=Par|Number=Sing|PronType=Ind\\t1\\tnmod\\t_\\t_\\n3\\tvastaan\\tvastaan\\tADP\\tAdp\\tAdpType=Post\\t2\\tcase\\t_\\t_\\n4\\t.\\t.\\tPUNCT\\tPunct\\t_\\t1\\tpunct\\t_\\t_\\n1\\tKyll\\u00e4\\tkyll\\u00e4\\tADV\\tAdv\\t_\\t4\\tadvmod\\t_\\t_\\n2\\tvaihtoehtoja\\tvaihto#ehto\\tNOUN\\tN\\tCase=Par|Number=Plur\\t4\\tnsubj\\t_\\t_\\n3\\tolisi\\tolla\\tAUX\\tV\\tMood=Cnd|Number=Sing|Person=3|VerbForm=Fin|Voice=Act\\t4\\taux\\t_\\t_\\n4\\tollut\\tolla\\tVERB\\tV\\tCase=Nom|Degree=Pos|Number=Sing|PartForm=Past|VerbForm=Part|Voice=Act\\t0\\troot\\t_\\t_\\n5\\t,\\t,\\tPUNCT\\tPunct\\t_\\t7\\tpunct\\t_\\t_\\n6\\tmutta\\tmutta\\tCCONJ\\tC\\t_\\t7\\tcc\\t_\\t_\\n7\\tei\\tei\\tVERB\\tV\\tNumber=Sing|Person=3|Polarity=Neg|VerbForm=Fin|Voice=Act\\t4\\tconj\\t_\\t_\\n8\\t!\\t!\\tPUNCT\\tPunct\\t_\\t4\\tpunct\\t_\\t_\\n1\\tJoutava\\tjoutava\\tADJ\\tA\\tCase=Nom|Degree=Pos|Number=Sing\\t2\\tamod\\t_\\t_\\n2\\tpelkuri\\tpelkuri\\tNOUN\\tN\\tCase=Nom|Number=Sing\\t0\\troot\\t_\\t_\\n3\\t.\\t.\\tPUNCT\\tPunct\\t_\\t2\\tpunct\\t_\\t_\\n4\\t\\\"\\t\\\"\\tPUNCT\\tPunct\\t_\\t2\\tpunct\\t_\\t_\\n1\\tKaukainen\\tkaukainen\\tADJ\\tA\\tCase=Nom|Degree=Pos|Derivation=Inen|Number=Sing\\t2\\tamod\\t_\\t_\\n2\\tjyty\\tjyty\\tNOUN\\tN\\tCase=Nom|Number=Sing\\t3\\tnsubj\\t_\\t_\\n3\\tkaikui\\tkaikua\\tVERB\\tV\\tMood=Ind|Number=Sing|Person=3|Tense=Past|VerbForm=Fin|Voice=Act\\t0\\troot\\t_\\t_\\n4\\tyli\\tyli\\tADP\\tAdp\\tAdpType=Prep\\t5\\tcase\\t_\\t_\\n5\\tmaan\\tmaa\\tNOUN\\tN\\tCase=Gen|Number=Sing\\t3\\tobl\\t_\\t_\\n6\\t,\\t,\\tPUNCT\\tPunct\\t_\\t10\\tpunct\\t_\\t_\\n7\\tkun\\tkun\\tSCONJ\\tC\\t_\\t10\\tmark\\t_\\t_\\n8\\tsynk\\u00e4t\\tsynkk\\u00e4\\tADJ\\tA\\tCase=Nom|Degree=Pos|Number=Plur\\t9\\tamod\\t_\\t_\\n9\\tpilvet\\tpilvi\\tNOUN\\tN\\tCase=Nom|Number=Plur\\t10\\tnsubj\\t_\\t_\\n10\\tvy\\u00f6ryiv\\u00e4t\\tvy\\u00f6ry\\u00e4\\tVERB\\tV\\tMood=Ind|Number=Plur|Person=3|Tense=Past|VerbForm=Fin|Voice=Act\\t3\\tadvcl\\t_\\t_\\n11\\tvuoristoon\\tvuoristo\\tNOUN\\tN\\tCase=Ill|Number=Sing\\t10\\tobl\\t_\\t_\\n12\\t,\\t,\\tPUNCT\\tPunct\\t_\\t13\\tpunct\\t_\\t_\\n13\\tvarjostaen\\tvarjostaa\\tVERB\\tV\\tCase=Ins|InfForm=2|Number=Sing|VerbForm=Inf|Voice=Act\\t10\\tadvcl\\t_\\t_\\n14\\ttaistelukent\\u00e4n\\ttaistelu#kentt\\u00e4\\tNOUN\\tN\\tCase=Gen|Number=Sing\\t13\\tobj\\t_\\t_\\n15\\tdramaattisesti\\tdramaattisesti\\tADV\\tAdv\\tDerivation=Sti\\t13\\tadvmod\\t_\\t_\\n16\\t.\\t.\\tPUNCT\\tPunct\\t_\\t3\\tpunct\\t_\\t_\\n1\\tMies\\tmies\\tNOUN\\tN\\tCase=Nom|Number=Sing\\t2\\tnsubj\\t_\\t_\\n2\\tvilkaisi\\tvilkaista\\tVERB\\tV\\tMood=Ind|Number=Sing|Person=3|Tense=Past|VerbForm=Fin|Voice=Act\\t0\\troot\\t_\\t_\\n3\\tpitelem\\u00e4\\u00e4ns\\u00e4\\tpidell\\u00e4\\tVERB\\tV\\tCase=Par|Degree=Pos|Number=Sing|PartForm=Agt|Person[psor]=3|VerbForm=Part|Voice=Act\\t4\\tacl\\t_\\t_\\n4\\tpaperia\\tpaperi\\tNOUN\\tN\\tCase=Par|Number=Sing\\t2\\tobj\\t_\\t_\\n5\\t,\\t,\\tPUNCT\\tPunct\\t_\\t6\\tpunct\\t_\\t_\\n6\\trepi\\trepi\\u00e4\\tVERB\\tV\\tMood=Ind|Number=Sing|Person=3|Tense=Past|VerbForm=Fin|Voice=Act\\t2\\tconj\\t_\\t_\\n7\\tsen\\tse\\tPRON\\tPron\\tCase=Gen|Number=Sing|PronType=Dem\\t6\\tobj\\t_\\t_\\n8\\tpieneksi\\tpieni\\tADJ\\tA\\tCase=Tra|Degree=Pos|Number=Sing\\t9\\tamod\\t_\\t_\\n9\\tsilpuksi\\tsilppu\\tNOUN\\tN\\tCase=Tra|Derivation=U|Number=Sing\\t6\\txcomp:ds\\t_\\t_\\n10\\t,\\t,\\tPUNCT\\tPunct\\t_\\t11\\tpunct\\t_\\t_\\n11\\tpuristi\\tpuristaa\\tVERB\\tV\\tMood=Ind|Number=Sing|Person=3|Tense=Past|VerbForm=Fin|Voice=Act\\t2\\tconj\\t_\\t_\\n12\\tsilpun\\tsilppu\\tNOUN\\tN\\tCase=Gen|Number=Sing\\t11\\tobj\\t_\\t_\\n13\\tnyrkkiin\\tnyrkki\\tNOUN\\tN\\tCase=Ill|Number=Sing\\t11\\tobl\\t_\\t_\\n14\\tja\\tja\\tCCONJ\\tC\\t_\\t15\\tcc\\t_\\t_\\n15\\tnojasi\\tnojata\\tVERB\\tV\\tMood=Ind|Number=Sing|Person=3|Tense=Past|VerbForm=Fin|Voice=Act\\t2\\tconj\\t_\\t_\\n16\\tmurahdellen\\tmurahdella\\tVERB\\tV\\tCase=Ins|InfForm=2|Number=Sing|VerbForm=Inf|Voice=Act\\t15\\tadvcl\\t_\\t_\\n17\\ttornin\\ttorni\\tNOUN\\tN\\tCase=Gen|Number=Sing\\t18\\tnmod:poss\\t_\\t_\\n18\\tkivikaiteeseen\\tkivi#kaide\\tNOUN\\tN\\tCase=Ill|Number=Sing\\t15\\tobl\\t_\\t_\\n19\\t.\\t.\\tPUNCT\\tPunct\\t_\\t2\\tpunct\\t_\\t_\\n1\\t\\\"\\t\\\"\\tPUNCT\\tPunct\\t_\\t3\\tpunct\\t_\\t_\\n2\\tKuka\\tkuka\\tPRON\\tPron\\tCase=Nom|Number=Sing|PronType=Int\\t3\\tnsubj\\t_\\t_\\n3\\ttiet\\u00e4\\u00e4\\ttiet\\u00e4\\u00e4\\tVERB\\tV\\tMood=Ind|Number=Sing|Person=3|Tense=Pres|VerbForm=Fin|Voice=Act\\t0\\troot\\t_\\t_\\n4\\t,\\t,\\tPUNCT\\tPunct\\t_\\t9\\tpunct\\t_\\t_\\n5\\tmit\\u00e4\\tmik\\u00e4\\tPRON\\tPron\\tCase=Par|Number=Sing|PronType=Int\\t6\\tdet\\t_\\t_\\n6\\tkaikkea\\tkaikki\\tPRON\\tPron\\tCase=Par|Number=Sing|PronType=Ind\\t9\\tobj\\t_\\t_\\n7\\tolisin\\tolla\\tAUX\\tV\\tMood=Cnd|Number=Sing|Person=1|VerbForm=Fin|Voice=Act\\t9\\taux\\t_\\t_\\n8\\tvoinut\\tvoida\\tAUX\\tV\\tCase=Nom|Degree=Pos|Number=Sing|PartForm=Past|VerbForm=Part|Voice=Act\\t9\\taux\\t_\\t_\\n9\\test\\u00e4\\u00e4\\test\\u00e4\\u00e4\\tVERB\\tV\\tInfForm=1|Number=Sing|VerbForm=Inf|Voice=Act\\t3\\tccomp\\t_\\t_\\n10\\t...\\t...\\tPUNCT\\tPunct\\t_\\t3\\tpunct\\t_\\t_\\n11\\t\\\"\\t\\\"\\tPUNCT\\tPunct\\t_\\t3\\tpunct\\t_\\t_\\n1\\tLirpakko\\tlirpakko\\tNOUN\\tN\\tCase=Nom|Number=Sing\\t2\\tnsubj\\t_\\t_\\n2\\tsirkutti\\tsirkuttaa\\tVERB\\tV\\tMood=Ind|Number=Sing|Person=3|Tense=Past|VerbForm=Fin|Voice=Act\\t0\\troot\\t_\\t_\\n3\\tkaukaisuuteen\\tkaukaisuus\\tNOUN\\tN\\tCase=Ill|Derivation=Inen,Vs|Number=Sing\\t2\\tobl\\t_\\t_\\n4\\t.\\t.\\tPUNCT\\tPunct\\t_\\t2\\tpunct\\t_\\t_\\n1\\tMies\\tmies\\tNOUN\\tN\\tCase=Nom|Number=Sing\\t2\\tnsubj\\t_\\t_\\n2\\tkatsoi\\tkatsoa\\tVERB\\tV\\tMood=Ind|Number=Sing|Person=3|Tense=Past|VerbForm=Fin|Voice=Act\\t0\\troot\\t_\\t_\\n3\\tynse\\u00e4sti\\tynse\\u00e4sti\\tADV\\tAdv\\tDerivation=Sti\\t2\\tadvmod\\t_\\t_\\n4\\tel\\u00e4imeen\\tel\\u00e4in\\tNOUN\\tN\\tCase=Ill|Number=Sing\\t2\\tobl\\t_\\t_\\n5\\t.\\t.\\tPUNCT\\tPunct\\t_\\t2\\tpunct\\t_\\t_\\n1\\t\\\"\\t\\\"\\tPUNCT\\tPunct\\t_\\t2\\tpunct\\t_\\t_\\n2\\tRupesitko\\truvea\\tVERB\\tV\\tClitic=Ko|Mood=Ind|Number=Sing|Person=2|Tense=Past|VerbForm=Fin|Voice=Act\\t0\\troot\\t_\\t_\\n3\\tkantelemaan\\tkandella\\tVERB\\tV\\tCase=Ill|InfForm=3|Number=Sing|VerbForm=Inf|Voice=Act\\t2\\txcomp\\t_\\t_\\n4\\tValveudelle\\tvalveus\\tNOUN\\tN\\tCase=All|Number=Sing\\t3\\tobl\\t_\\t_\\n5\\thirvitt\\u00e4vist\\u00e4\\thirvitt\\u00e4v\\u00e4\\tADJ\\tA\\tCase=Ela|Degree=Pos|Number=Plur\\t6\\tamod\\t_\\t_\\n6\\tkyseenalaistuksistani\\tkyseenalaistus\\tNOUN\\tN\\tCase=Ela|Number=Plur|Number[psor]=Sing|Person[psor]=1\\t3\\tobl\\t_\\t_\\n7\\t?\\t?\\tPUNCT\\tPunct\\t_\\t2\\tpunct\\t_\\t_\\n8\\t\\\"\\t\\\"\\tPUNCT\\tPunct\\t_\\t2\\tpunct\\t_\\t_\\n1\\tLirpakko\\tlirpakko\\tNOUN\\tN\\tCase=Nom|Number=Sing\\t2\\tnsubj\\t_\\t_\\n2\\tpiti\\tpit\\u00e4\\u00e4\\tVERB\\tV\\tMood=Ind|Number=Sing|Person=3|Tense=Past|VerbForm=Fin|Voice=Act\\t0\\troot\\t_\\t_\\n3\\tpienen\\tpieni\\tADJ\\tA\\tCase=Gen|Degree=Pos|Number=Sing\\t4\\tamod\\t_\\t_\\n4\\ttauon\\ttauko\\tNOUN\\tN\\tCase=Gen|Number=Sing\\t2\\tobj\\t_\\t_\\n5\\t,\\t,\\tPUNCT\\tPunct\\t_\\t6\\tpunct\\t_\\t_\\n6\\tsirkutti\\tsirkuttaa\\tVERB\\tV\\tMood=Ind|Number=Sing|Person=3|Tense=Past|VerbForm=Fin|Voice=Act\\t2\\tconj\\t_\\t_\\n7\\tviel\\u00e4\\tviel\\u00e4\\tADV\\tAdv\\t_\\t6\\tadvmod\\t_\\t_\\n8\\tja\\tja\\tCCONJ\\tC\\t_\\t9\\tcc\\t_\\t_\\n9\\tkatsoi\\tkatsoa\\tVERB\\tV\\tMood=Ind|Number=Sing|Person=3|Tense=Past|VerbForm=Fin|Voice=Act\\t2\\tconj\\t_\\t_\\n10\\tsitten\\tsitten\\tADV\\tAdv\\t_\\t9\\tadvmod\\t_\\t_\\n11\\tmieheen\\tmies\\tNOUN\\tN\\tCase=Ill|Number=Sing\\t9\\tobl\\t_\\t_\\n12\\t.\\t.\\tPUNCT\\tPunct\\t_\\t2\\tpunct\\t_\\t_\\n1\\t\\\"\\t\\\"\\tPUNCT\\tPunct\\t_\\t4\\tpunct\\t_\\t_\\n2\\tJoo\\tjoo\\tINTJ\\tInterj\\t_\\t4\\tdiscourse\\t_\\t_\\n3\\t,\\t,\\tPUNCT\\tPunct\\t_\\t2\\tpunct\\t_\\t_\\n4\\tanna\\tantaa\\tVERB\\tV\\tMood=Imp|Number=Sing|Person=2|VerbForm=Fin|Voice=Act\\t0\\troot\\t_\\t_\\n5\\tmenn\\u00e4\\tmenn\\u00e4\\tVERB\\tV\\tInfForm=1|Number=Sing|VerbForm=Inf|Voice=Act\\t4\\txcomp:ds\\t_\\t_\\n6\\tvaan\\tvaan\\tADV\\tAdv\\t_\\t5\\tadvmod\\t_\\t_\\n7\\t.\\t.\\tPUNCT\\tPunct\\t_\\t4\\tpunct\\t_\\t_\\n8\\t\\\"\\t\\\"\\tPUNCT\\tPunct\\t_\\t4\\tpunct\\t_\\t_\\n1\\tMies\\tmies\\tNOUN\\tN\\tCase=Nom|Number=Sing\\t2\\tnsubj\\t_\\t_\\n2\\thuokaisi\\thuokaista\\tVERB\\tV\\tMood=Ind|Number=Sing|Person=3|Tense=Past|VerbForm=Fin|Voice=Act\\t0\\troot\\t_\\t_\\n3\\traskaasti\\traskaasti\\tADV\\tAdv\\tDerivation=Sti\\t2\\tadvmod\\t_\\t_\\n4\\t,\\t,\\tPUNCT\\tPunct\\t_\\t5\\tpunct\\t_\\t_\\n5\\ttuijotti\\ttuijottaa\\tVERB\\tV\\tMood=Ind|Number=Sing|Person=3|Tense=Past|VerbForm=Fin|Voice=Act\\t2\\tconj\\t_\\t_\\n6\\thetken\\thetki\\tNOUN\\tN\\tCase=Gen|Number=Sing\\t5\\tobl\\t_\\t_\\n7\\ttyhjyyteen\\ttyhjyys\\tNOUN\\tN\\tCase=Ill|Number=Sing\\t5\\tobl\\t_\\t_\\n8\\tja\\tja\\tCCONJ\\tC\\t_\\t9\\tcc\\t_\\t_\\n9\\tojensi\\tojentaa\\tVERB\\tV\\tMood=Ind|Number=Sing|Person=3|Tense=Past|VerbForm=Fin|Voice=Act\\t2\\tconj\\t_\\t_\\n10\\tsitten\\tsitten\\tADV\\tAdv\\t_\\t9\\tadvmod\\t_\\t_\\n11\\tsilppua\\tsilppu\\tNOUN\\tN\\tCase=Par|Number=Sing\\t9\\tobj\\t_\\t_\\n12\\tlirpakkoa\\tlirpakko\\tNOUN\\tN\\tCase=Par|Number=Sing\\t9\\tobl\\t_\\t_\\n13\\tkohti\\tkohti\\tADP\\tAdp\\tAdpType=Post\\t12\\tcase\\t_\\t_\\n14\\t.\\t.\\tPUNCT\\tPunct\\t_\\t2\\tpunct\\t_\\t_\\n1\\t\\\"\\t\\\"\\tPUNCT\\tPunct\\t_\\t2\\tpunct\\t_\\t_\\n2\\tTarvitsetko\\ttarvita\\tVERB\\tV\\tClitic=Ko|Mood=Ind|Number=Sing|Person=2|Tense=Pres|VerbForm=Fin|Voice=Act\\t0\\troot\\t_\\t_\\n3\\tviel\\u00e4\\tviel\\u00e4\\tADV\\tAdv\\t_\\t2\\tadvmod\\t_\\t_\\n4\\tpes\\u00e4\\u00e4si\\tpes\\u00e4\\tNOUN\\tN\\tCase=Par|Number=Sing|Number[psor]=Sing|Person[psor]=2\\t2\\tobj\\t_\\t_\\n5\\tt\\u00e4ytett\\u00e4\\tt\\u00e4yte\\tNOUN\\tN\\tCase=Par|Number=Sing\\t2\\tobj\\t_\\t_\\n6\\t?\\t?\\tPUNCT\\tPunct\\t_\\t2\\tpunct\\t_\\t_\\n7\\t\\\"\\t\\\"\\tPUNCT\\tPunct\\t_\\t2\\tpunct\\t_\\t_\\n1\\t\\\"\\t\\\"\\tPUNCT\\tPunct\\t_\\t3\\tpunct\\t_\\t_\\n2\\tYst\\u00e4v\\u00e4llinen\\tyst\\u00e4v\\u00e4llinen\\tADJ\\tA\\tCase=Nom|Degree=Pos|Derivation=Llinen|Number=Sing\\t3\\tamod\\t_\\t_\\n3\\tajatus\\tajatus\\tNOUN\\tN\\tCase=Nom|Number=Sing\\t0\\troot\\t_\\t_\\n4\\tsir\\tsir\\tNOUN\\tN\\t_\\t3\\tdiscourse\\t_\\t_\\n5\\t.\\t.\\tPUNCT\\tPunct\\t_\\t4\\tpunct\\t_\\t_\\n6\\t\\\"\\t\\\"\\tPUNCT\\tPunct\\t_\\t3\\tpunct\\t_\\t_\\n1\\tPaperinpalat\\tpaperi#palat\\tNOUN\\tN\\tCase=Nom|Number=Plur\\t2\\tnsubj\\t_\\t_\\n2\\troiskahtivat\\troiskahtia\\tVERB\\tV\\tMood=Ind|Number=Plur|Person=3|Tense=Past|VerbForm=Fin|Voice=Act\\t0\\troot\\t_\\t_\\n3\\tilmaan\\tilma\\tNOUN\\tN\\tCase=Ill|Number=Sing\\t2\\tobl\\t_\\t_\\n4\\tmiehen\\tmies\\tNOUN\\tN\\tCase=Gen|Number=Sing\\t5\\tnsubj\\t_\\t_\\n5\\ts\\u00e4ik\\u00e4ht\\u00e4ess\\u00e4\\ts\\u00e4ik\\u00e4ht\\u00e4\\u00e4\\tVERB\\tV\\tCase=Ine|InfForm=2|Number=Sing|VerbForm=Inf|Voice=Act\\t2\\tadvcl\\t_\\t_\\n6\\t.\\t.\\tPUNCT\\tPunct\\t_\\t2\\tpunct\\t_\\t_\\n1\\tHeti\\theti\\tADV\\tAdv\\t_\\t5\\tadvmod\\t_\\t_\\n2\\tper\\u00e4\\u00e4n\\tper\\u00e4\\u00e4n\\tADV\\tAdv\\t_\\t1\\tfixed\\t_\\t_\\n3\\th\\u00e4n\\th\\u00e4n\\tPRON\\tPron\\tCase=Nom|Number=Sing|Person=3|PronType=Prs\\t5\\tnsubj\\t_\\t_\\n4\\tkuitenkin\\tkuitenkin\\tADV\\tAdv\\t_\\t5\\tadvmod\\t_\\t_\\n5\\ttajusi\\ttajuta\\tVERB\\tV\\tMood=Ind|Number=Sing|Person=3|Tense=Past|VerbForm=Fin|Voice=Act\\t0\\troot\\t_\\t_\\n6\\ttulijan\\ttulija\\tNOUN\\tN\\tCase=Gen|Derivation=Ja|Number=Sing\\t8\\tnsubj:cop\\t_\\t_\\n7\\tolevan\\tolla\\tAUX\\tV\\tCase=Gen|Degree=Pos|Number=Sing|PartForm=Pres|VerbForm=Part|Voice=Act\\t8\\tcop\\t_\\t_\\n8\\tykk\\u00f6sneuvonantajansa\\tykk\\u00f6s#neuvonantaja\\tNOUN\\tN\\tCase=Gen|Derivation=Ja|Number=Sing|Person[psor]=3\\t5\\tccomp\\t_\\t_\\n9\\t,\\t,\\tPUNCT\\tPunct\\t_\\t12\\tpunct\\t_\\t_\\n10\\tjoka\\tjoka\\tPRON\\tPron\\tCase=Nom|Number=Sing|PronType=Rel\\t12\\tnsubj\\t_\\t_\\n11\\toli\\tolla\\tAUX\\tV\\tMood=Ind|Number=Sing|Person=3|Tense=Past|VerbForm=Fin|Voice=Act\\t12\\taux\\t_\\t_\\n12\\tsaapunut\\tsaapua\\tVERB\\tV\\tCase=Nom|Degree=Pos|Number=Sing|PartForm=Past|VerbForm=Part|Voice=Act\\t8\\tacl:relcl\\t_\\t_\\n13\\tt\\u00e4ydellisen\\tt\\u00e4ydellinen\\tADJ\\tA\\tCase=Gen|Degree=Pos|Derivation=Llinen|Number=Sing\\t14\\tamod\\t_\\t_\\n14\\thuomaamattomasti\\thuomaamattomasti\\tADV\\tAdv\\tDerivation=Sti\\t12\\tadvmod\\t_\\t_\\n15\\tpaikalle\\tpaikka\\tNOUN\\tN\\tCase=All|Number=Sing\\t12\\tobl\\t_\\t_\\n16\\t,\\t,\\tPUNCT\\tPunct\\t_\\t19\\tpunct\\t_\\t_\\n17\\tkuten\\tkuten\\tSCONJ\\tC\\t_\\t19\\tmark\\t_\\t_\\n18\\thovimestarien\\thovi#mestari\\tNOUN\\tN\\tCase=Gen|Number=Plur\\t19\\tnsubj\\t_\\t_\\n19\\tkuuluikin\\tkuulua\\tVERB\\tV\\tClitic=Kin|Mood=Ind|Number=Sing|Person=3|Tense=Past|VerbForm=Fin|Voice=Act\\t8\\tadvcl\\t_\\t_\\n20\\t.\\t.\\tPUNCT\\tPunct\\t_\\t5\\tpunct\\t_\\t_\\n1\\t\\\"\\t\\\"\\tPUNCT\\tPunct\\t_\\t2\\tpunct\\t_\\t_\\n2\\tHuomenta\\tHuomenta\\tINTJ\\tInterj\\t_\\t0\\troot\\t_\\t_\\n3\\t,\\t,\\tPUNCT\\tPunct\\t_\\t4\\tpunct\\t_\\t_\\n4\\t\\t\\tPROPN\\tN\\tCase=Nom|Number=Sing\\t2\\tvocative\\t_\\t_\\n5\\t\\\"\\t\\\"\\tPUNCT\\tPunct\\t_\\t2\\tpunct\\t_\\t_\\n6\\t,\\t,\\tPUNCT\\tPunct\\t_\\t8\\tpunct\\t_\\t_\\n7\\tmies\\tmies\\tNOUN\\tN\\tCase=Nom|Number=Sing\\t8\\tnsubj\\t_\\t_\\n8\\thuokaisi\\thuokaista\\tVERB\\tV\\tMood=Ind|Number=Sing|Person=3|Tense=Past|VerbForm=Fin|Voice=Act\\t2\\tparataxis\\t_\\t_\\n9\\t.\\t.\\tPUNCT\\tPunct\\t_\\t2\\tpunct\\t_\\t_\\n1\\t\\\"\\t\\\"\\tPUNCT\\tPunct\\t_\\t2\\tpunct\\t_\\t_\\n2\\tAamukahvinne\\taamu#kahvinne\\tNOUN\\tN\\tCase=Nom|Number=Sing\\t0\\troot\\t_\\t_\\n3\\t,\\t,\\tPUNCT\\tPunct\\t_\\t5\\tpunct\\t_\\t_\\n4\\t\\t\\tPROPN\\tN\\tCase=Nom|Number=Sing\\t5\\tnsubj\\t_\\t_\\n5\\tojensi\\tojentaa\\tVERB\\tV\\tMood=Ind|Number=Sing|Person=3|Tense=Past|VerbForm=Fin|Voice=Act\\t2\\tparataxis\\t_\\t_\\n6\\ttarjottimella\\ttarjotin\\tNOUN\\tN\\tCase=Ade|Number=Sing\\t5\\tobl\\t_\\t_\\n7\\tsuurta\\tsuuri\\tADJ\\tA\\tCase=Par|Degree=Pos|Number=Sing\\t8\\tamod\\t_\\t_\\n8\\tsavimukia\\tsavi#muki\\tNOUN\\tN\\tCase=Par|Number=Sing\\t5\\tobj\\t_\\t_\\n9\\t.\\t.\\tPUNCT\\tPunct\\t_\\t2\\tpunct\\t_\\t_\\n1\\t\\\"\\t\\\"\\tPUNCT\\tPunct\\t_\\t2\\tpunct\\t_\\t_\\n2\\tKiitos\\tkiitos\\tNOUN\\tN\\tCase=Nom|Number=Sing\\t0\\troot\\t_\\t_\\n3\\t\\\"\\t\\\"\\tPUNCT\\tPunct\\t_\\t2\\tpunct\\t_\\t_\\n4\\t,\\t,\\tPUNCT\\tPunct\\t_\\t6\\tpunct\\t_\\t_\\n5\\tmies\\tmies\\tNOUN\\tN\\tCase=Nom|Number=Sing\\t6\\tnsubj\\t_\\t_\\n6\\tmutisi\\tmutista\\tVERB\\tV\\tMood=Ind|Number=Sing|Person=3|Tense=Past|VerbForm=Fin|Voice=Act\\t2\\tparataxis\\t_\\t_\\n7\\t,\\t,\\tPUNCT\\tPunct\\t_\\t8\\tpunct\\t_\\t_\\n8\\totti\\tottaa\\tVERB\\tV\\tMood=Ind|Number=Sing|Person=3|Tense=Past|VerbForm=Fin|Voice=Act\\t6\\tconj\\t_\\t_\\n9\\tmukin\\tmuki\\tNOUN\\tN\\tCase=Gen|Number=Sing\\t8\\tobj\\t_\\t_\\n10\\tja\\tja\\tCCONJ\\tC\\t_\\t11\\tcc\\t_\\t_\\n11\\tk\\u00e4\\u00e4ntyi\\tk\\u00e4\\u00e4nty\\u00e4\\tVERB\\tV\\tMood=Ind|Number=Sing|Person=3|Tense=Past|VerbForm=Fin|Voice=Act\\t6\\tconj\\t_\\t_\\n12\\ttaas\\ttaas\\tADV\\tAdv\\t_\\t11\\tadvmod\\t_\\t_\\n13\\tkatsomaan\\tkatsoa\\tVERB\\tV\\tCase=Ill|InfForm=3|Number=Sing|VerbForm=Inf|Voice=Act\\t11\\txcomp\\t_\\t_\\n14\\tvuorten\\tvuori\\tNOUN\\tN\\tCase=Gen|Number=Plur\\t15\\tnmod:poss\\t_\\t_\\n15\\tsolaa\\tsola\\tNOUN\\tN\\tCase=Par|Number=Sing\\t13\\tobj\\t_\\t_\\n16\\t.\\t.\\tPUNCT\\tPunct\\t_\\t2\\tpunct\\t_\\t_\\n1\\t\\t\\tPROPN\\tN\\tCase=Nom|Number=Sing\\t2\\tnsubj\\t_\\t_\\n2\\tlaski\\tlaskea\\tVERB\\tV\\tMood=Ind|Number=Sing|Person=3|Tense=Past|VerbForm=Fin|Voice=Act\\t0\\troot\\t_\\t_\\n3\\ttarjottimen\\ttarjotin\\tNOUN\\tN\\tCase=Gen|Number=Sing\\t2\\tobj\\t_\\t_\\n4\\tja\\tja\\tCCONJ\\tC\\t_\\t5\\tcc\\t_\\t_\\n5\\totti\\tottaa\\tVERB\\tV\\tMood=Ind|Number=Sing|Person=3|Tense=Past|VerbForm=Fin|Voice=Act\\t2\\tconj\\t_\\t_\\n6\\taskeleen\\taskel\\tNOUN\\tN\\tCase=Gen|Number=Sing\\t5\\tobj\\t_\\t_\\n7\\teteenp\\u00e4in\\teteenp\\u00e4in\\tADV\\tAdv\\t_\\t5\\tadvmod\\t_\\t_\\n8\\t,\\t,\\tPUNCT\\tPunct\\t_\\t9\\tpunct\\t_\\t_\\n9\\tseisoen\\tseisoa\\tVERB\\tV\\tCase=Ins|InfForm=2|Number=Sing|VerbForm=Inf|Voice=Act\\t5\\tadvcl\\t_\\t_\\n10\\tsamassa\\tsama\\tPRON\\tPron\\tCase=Ine|Number=Sing|PronType=Ind\\t11\\tdet\\t_\\t_\\n11\\triviss\\u00e4\\trivi\\tNOUN\\tN\\tCase=Ine|Number=Sing\\t9\\tobl\\t_\\t_\\n12\\tis\\u00e4nt\\u00e4ns\\u00e4\\tis\\u00e4nt\\u00e4\\tNOUN\\tN\\tCase=Gen|Number=Sing|Person[psor]=3\\t9\\tobl\\t_\\t_\\n13\\tkanssa\\tkanssa\\tADP\\tAdp\\tAdpType=Post\\t12\\tcase\\t_\\t_\\n14\\t,\\t,\\tPUNCT\\tPunct\\t_\\t16\\tpunct\\t_\\t_\\n15\\tkohteliaalla\\tkohtelias\\tADJ\\tA\\tCase=Ade|Degree=Pos|Number=Sing\\t16\\tamod\\t_\\t_\\n16\\tet\\u00e4isyydell\\u00e4\\tet\\u00e4isyys\\tNOUN\\tN\\tCase=Ade|Number=Sing\\t9\\tobl\\t_\\t_\\n17\\ttietenkin\\ttietenkin\\tADV\\tAdv\\t_\\t16\\tadvmod\\t_\\t_\\n18\\t.\\t.\\tPUNCT\\tPunct\\t_\\t2\\tpunct\\t_\\t_\\n1\\t\\\"\\t\\\"\\tPUNCT\\tPunct\\t_\\t3\\tpunct\\t_\\t_\\n2\\tMit\\u00e4\\tmik\\u00e4\\tPRON\\tPron\\tCase=Par|Number=Sing|PronType=Int\\t3\\tobj\\t_\\t_\\n3\\tkirjoititte\\tkirjoittaa\\tVERB\\tV\\tMood=Ind|Number=Plur|Person=2|Tense=Pres|VerbForm=Fin|Voice=Act\\t0\\troot\\t_\\t_\\n4\\t,\\t,\\tPUNCT\\tPunct\\t_\\t5\\tpunct\\t_\\t_\\n5\\tsir\\tsir\\tNOUN\\tN\\tCase=Nom|Number=Sing\\t3\\tvocative\\t_\\t_\\n6\\t?\\t?\\tPUNCT\\tPunct\\t_\\t3\\tpunct\\t_\\t_\\n7\\t\\\"\\t\\\"\\tPUNCT\\tPunct\\t_\\t3\\tpunct\\t_\\t_\\n8\\thovimestari\\thovi#mestari\\tNOUN\\tN\\tCase=Nom|Number=Sing\\t9\\tnsubj\\t_\\t_\\n9\\tkysyi\\tkysy\\u00e4\\tVERB\\tV\\tMood=Ind|Number=Sing|Person=3|Tense=Past|VerbForm=Fin|Voice=Act\\t3\\tparataxis\\t_\\t_\\n10\\t.\\t.\\tPUNCT\\tPunct\\t_\\t3\\tpunct\\t_\\t_\\n1\\t\\\"\\t\\\"\\tPUNCT\\tPunct\\t_\\t2\\tpunct\\t_\\t_\\n2\\tEn\\tei\\tVERB\\tV\\tNumber=Sing|Person=1|Polarity=Neg|VerbForm=Fin|Voice=Act\\t0\\troot\\t_\\t_\\n3\\tmit\\u00e4\\u00e4n\\tmik\\u00e4\\u00e4n\\tPRON\\tPron\\tCase=Par|Number=Sing|PronType=Ind\\t4\\tdet\\t_\\t_\\n4\\tuutta\\tuusi\\tADJ\\tA\\tCase=Par|Degree=Pos|Number=Sing\\t2\\tobj\\t_\\t_\\n5\\ttai\\ttai\\tCCONJ\\tC\\t_\\t6\\tcc\\t_\\t_\\n6\\tmielenkiintoista\\tmielenkiintoinen\\tADJ\\tA\\tCase=Par|Degree=Pos|Derivation=Inen|Number=Sing\\t4\\tconj\\t_\\t_\\n7\\t.\\t.\\tPUNCT\\tPunct\\t_\\t2\\tpunct\\t_\\t_\\n8\\t\\\"\\t\\\"\\tPUNCT\\tPunct\\t_\\t2\\tpunct\\t_\\t_\\n1\\t\\\"\\t\\\"\\tPUNCT\\tPunct\\t_\\t2\\tpunct\\t_\\t_\\n2\\tTahdotteko\\ttahdota\\tVERB\\tV\\tClitic=Ko|Mood=Ind|Number=Plur|Person=2|Tense=Pres|VerbForm=Fin|Voice=Act\\t0\\troot\\t_\\t_\\n3\\tpuhua\\tpuhua\\tVERB\\tV\\tInfForm=1|Number=Sing|VerbForm=Inf|Voice=Act\\t2\\txcomp\\t_\\t_\\n4\\tasiasta\\tasia\\tNOUN\\tN\\tCase=Ela|Number=Sing\\t3\\tobl\\t_\\t_\\n5\\t,\\t,\\tPUNCT\\tPunct\\t_\\t6\\tpunct\\t_\\t_\\n6\\tsir\\tsir\\tNOUN\\tN\\t_\\t2\\tvocative\\t_\\t_\\n7\\t?\\t?\\tPUNCT\\tPunct\\t_\\t2\\tpunct\\t_\\t_\\n8\\t\\\"\\t\\\"\\tPUNCT\\tPunct\\t_\\t2\\tpunct\\t_\\t_\\n1\\tMies\\tmies\\tNOUN\\tN\\tCase=Nom|Number=Sing\\t2\\tnsubj\\t_\\t_\\n2\\ttuhahti\\ttuhahtaa\\tVERB\\tV\\tMood=Ind|Number=Sing|Person=3|Tense=Past|VerbForm=Fin|Voice=Act\\t0\\troot\\t_\\t_\\n3\\t,\\t,\\tPUNCT\\tPunct\\t_\\t4\\tpunct\\t_\\t_\\n4\\tryysti\\tryyst\\u00e4\\u00e4\\tVERB\\tV\\tMood=Ind|Number=Sing|Person=3|Tense=Past|VerbForm=Fin|Voice=Act\\t2\\tconj\\t_\\t_\\n5\\tkahviaan\\tkahvi\\tNOUN\\tN\\tCase=Par|Number=Sing|Person[psor]=3\\t4\\tobj\\t_\\t_\\n6\\tja\\tja\\tCCONJ\\tC\\t_\\t7\\tcc\\t_\\t_\\n7\\thuokaisi\\thuokaista\\tVERB\\tV\\tMood=Ind|Number=Sing|Person=3|Tense=Past|VerbForm=Fin|Voice=Act\\t2\\tconj\\t_\\t_\\n8\\tsitten\\tsitten\\tADV\\tAdv\\t_\\t7\\tadvmod\\t_\\t_\\n9\\t.\\t.\\tPUNCT\\tPunct\\t_\\t2\\tpunct\\t_\\t_\\n1\\t\\\"\\t\\\"\\tPUNCT\\tPunct\\t_\\t4\\tpunct\\t_\\t_\\n2\\tEn\\tei\\tAUX\\tV\\tNumber=Sing|Person=1|Polarity=Neg|VerbForm=Fin|Voice=Act\\t4\\taux\\t_\\t_\\n3\\tvain\\tvain\\tADV\\tAdv\\t_\\t4\\tadvmod\\t_\\t_\\n4\\tpysty\\tpysty\\u00e4\\tVERB\\tV\\tConnegative=Yes|Mood=Ind|Tense=Pres|VerbForm=Fin\\t0\\troot\\t_\\t_\\n5\\tolemaan\\tolla\\tAUX\\tV\\tCase=Ill|InfForm=3|Number=Sing|VerbForm=Inf|Voice=Act\\t6\\taux\\t_\\t_\\n6\\tajattelematta\\tajatella\\tVERB\\tV\\tCase=Abe|InfForm=3|Number=Sing|VerbForm=Inf|Voice=Act\\t4\\txcomp\\t_\\t_\\n7\\t,\\t,\\tPUNCT\\tPunct\\t_\\t13\\tpunct\\t_\\t_\\n8\\tmit\\u00e4\\tmik\\u00e4\\tPRON\\tPron\\tCase=Par|Number=Sing|PronType=Int\\t9\\tdet\\t_\\t_\\n9\\tkaikkea\\tkaikki\\tPRON\\tPron\\tCase=Par|Number=Sing|PronType=Ind\\t13\\tobj\\t_\\t_\\n10\\tolisin\\tolla\\tAUX\\tV\\tMood=Cnd|Number=Sing|Person=1|VerbForm=Fin|Voice=Act\\t13\\taux\\t_\\t_\\n11\\tviel\\u00e4\\tviel\\u00e4\\tADV\\tAdv\\t_\\t13\\tadvmod\\t_\\t_\\n12\\tvoinut\\tvoida\\tAUX\\tV\\tCase=Nom|Degree=Pos|Number=Sing|PartForm=Past|VerbForm=Part|Voice=Act\\t13\\taux\\t_\\t_\\n13\\tsaada\\tsaada\\tVERB\\tV\\tInfForm=1|Number=Sing|VerbForm=Inf|Voice=Act\\t6\\tccomp\\t_\\t_\\n14\\taikaan\\taikaan\\tADV\\tAdv\\t_\\t13\\tcompound:prt\\t_\\t_\\n15\\tkaikkien\\tkaikki\\tPRON\\tPron\\tCase=Gen|Number=Plur|PronType=Ind\\t17\\tdet\\t_\\t_\\n16\\tn\\u00e4iden\\tt\\u00e4m\\u00e4\\tPRON\\tPron\\tCase=Gen|Number=Plur|PronType=Dem\\t17\\tdet\\t_\\t_\\n17\\tvuosien\\tvuosi\\tNOUN\\tN\\tCase=Gen|Number=Plur\\t18\\tnmod:poss\\t_\\t_\\n18\\taikana\\taika\\tNOUN\\tN\\tCase=Ess|Number=Sing\\t13\\tobl\\t_\\t_\\n19\\t.\\t.\\tPUNCT\\tPunct\\t_\\t4\\tpunct\\t_\\t_\\n1\\tOlihan\\tolla\\tAUX\\tV\\tCase=Nom|Clitic=Han|Number=Sing\\t3\\tcop\\t_\\t_\\n2\\tse\\tse\\tPRON\\tPron\\tCase=Nom|Number=Sing|PronType=Dem\\t3\\tnsubj:cop\\t_\\t_\\n3\\tlapsellista\\tlapsellinen\\tADJ\\tA\\tCase=Par|Degree=Pos|Derivation=Llinen|Number=Sing\\t0\\troot\\t_\\t_\\n4\\tkuvitella\\tkuvitella\\tVERB\\tV\\tInfForm=1|Number=Sing|VerbForm=Inf|Voice=Act\\t3\\tcsubj:cop\\t_\\t_\\n5\\t,\\t,\\tPUNCT\\tPunct\\t_\\t7\\tpunct\\t_\\t_\\n6\\tett\\u00e4\\tett\\u00e4\\tSCONJ\\tC\\t_\\t7\\tmark\\t_\\t_\\n7\\tpystyisin\\tpysty\\u00e4\\tVERB\\tV\\tMood=Cnd|Number=Sing|Person=1|VerbForm=Fin|Voice=Act\\t4\\tccomp\\t_\\t_\\n8\\tjallittamaan\\tjallittaa\\tVERB\\tV\\tCase=Ill|InfForm=3|Number=Sing|VerbForm=Inf|Voice=Act\\t7\\tconj\\t_\\t_\\n9\\tprofetiaa\\tprofetia\\tNOUN\\tN\\tCase=Par|Number=Sing\\t8\\tobj\\t_\\t_\\n10\\tpysym\\u00e4ll\\u00e4\\tpysy\\u00e4\\tVERB\\tV\\tCase=Ade|InfForm=3|Number=Sing|VerbForm=Inf|Voice=Act\\t7\\tadvcl\\t_\\t_\\n11\\tsen\\tse\\tPRON\\tPron\\tCase=Gen|Number=Sing|PronType=Dem\\t10\\tobl\\t_\\t_\\n12\\tulkopuolella\\tulkopuolella\\tADP\\tAdp\\tAdpType=Post\\t11\\tcase\\t_\\t_\\n13\\t.\\t.\\tPUNCT\\tPunct\\t_\\t3\\tpunct\\t_\\t_\\n1\\tJa\\tja\\tCCONJ\\tC\\t_\\t4\\tcc\\t_\\t_\\n2\\tnyt\\tnyt\\tADV\\tAdv\\t_\\t4\\tadvmod\\t_\\t_\\n3\\tolen\\tolla\\tAUX\\tV\\tMood=Ind|Number=Sing|Person=1|Tense=Pres|VerbForm=Fin|Voice=Act\\t4\\taux\\t_\\t_\\n4\\tsaanut\\tsaada\\tVERB\\tV\\tCase=Nom|Degree=Pos|Number=Sing|PartForm=Past|VerbForm=Part|Voice=Act\\t0\\troot\\t_\\t_\\n5\\taikaan\\taikaan\\tADV\\tAdv\\t_\\t4\\tcompound:prt\\t_\\t_\\n6\\tvain\\tvain\\tADV\\tAdv\\t_\\t7\\tadvmod\\t_\\t_\\n7\\tsen\\tse\\tPRON\\tPron\\tCase=Gen|Number=Sing|PronType=Dem\\t4\\tobj\\t_\\t_\\n8\\t,\\t,\\tPUNCT\\tPunct\\t_\\t12\\tpunct\\t_\\t_\\n9\\tett\\u00e4\\tett\\u00e4\\tSCONJ\\tC\\t_\\t12\\tmark\\t_\\t_\\n10\\tolemme\\tolla\\tAUX\\tV\\tMood=Ind|Number=Plur|Person=1|Tense=Pres|VerbForm=Fin|Voice=Act\\t12\\tcop\\t_\\t_\\n11\\tsivullisia\\tsivullinen\\tADJ\\tA\\tCase=Par|Degree=Pos|Derivation=Llinen|Number=Plur\\t12\\tamod\\t_\\t_\\n12\\tpahiksia\\tpahis\\tNOUN\\tN\\tCase=Par|Number=Plur\\t7\\tccomp\\t_\\t_\\n13\\t,\\t,\\tPUNCT\\tPunct\\t_\\t14\\tpunct\\t_\\t_\\n14\\tjoilla\\tjoka\\tPRON\\tPron\\tCase=Ade|Number=Plur|PronType=Rel\\t12\\tacl:relcl\\t_\\t_\\n15\\tei\\tei\\tAUX\\tV\\tNumber=Sing|Person=3|Polarity=Neg|VerbForm=Fin|Voice=Act\\t14\\taux\\t_\\t_\\n16\\tole\\tolla\\tAUX\\tV\\tConnegative=Yes|Mood=Ind|Tense=Pres|VerbForm=Fin\\t14\\tcop:own\\t_\\t_\\n17\\tmit\\u00e4\\u00e4n\\tmik\\u00e4\\u00e4n\\tPRON\\tPron\\tCase=Par|Number=Sing|PronType=Ind\\t18\\tdet\\t_\\t_\\n18\\tosaa\\tosa\\tNOUN\\tN\\tCase=Par|Number=Sing\\t14\\tnsubj:cop\\t_\\t_\\n19\\teik\\u00e4\\tei\\tAUX\\tV\\tClitic=Ka|Number=Sing|Person=3|Polarity=Neg|VerbForm=Fin|Voice=Act\\t20\\taux\\t_\\t_\\n20\\tarpaa\\tarpa\\tNOUN\\tN\\tCase=Par|Number=Sing\\t18\\tconj\\t_\\t_\\n21\\tmaailmankaikkeuden\\tmaailman#kaikkeus\\tNOUN\\tN\\tCase=Gen|Derivation=Vs|Number=Sing\\t22\\tnmod:poss\\t_\\t_\\n22\\tp\\u00e4\\u00e4juonessa\\tp\\u00e4\\u00e4#juone\\tNOUN\\tN\\tCase=Ine|Number=Sing\\t14\\tobl\\t_\\t_\\n23\\t!\\t!\\tPUNCT\\tPunct\\t_\\t4\\tpunct\\t_\\t_\\n1\\tMe\\tmin\\u00e4\\tPRON\\tPron\\tCase=Nom|Number=Plur|Person=1|PronType=Prs\\t4\\tnsubj:cop\\t_\\t_\\n2\\tolemme\\tolla\\tAUX\\tV\\tMood=Ind|Number=Plur|Person=1|Tense=Pres|VerbForm=Fin|Voice=Act\\t4\\tcop\\t_\\t_\\n3\\tkaikki\\tkaikki\\tPRON\\tPron\\tCase=Nom|Number=Sing|PronType=Ind\\t4\\tdet\\t_\\t_\\n4\\tturhia\\tturha\\tADJ\\tA\\tCase=Par|Degree=Pos|Number=Plur\\t0\\troot\\t_\\t_\\n5\\t,\\t,\\tPUNCT\\tPunct\\t_\\t6\\tpunct\\t_\\t_\\n6\\telelemme\\telell\\u00e4\\tVERB\\tV\\tMood=Ind|Number=Plur|Person=1|Tense=Pres|VerbForm=Fin|Voice=Act\\t4\\tconj\\t_\\t_\\n7\\tt\\u00e4\\u00e4ll\\u00e4\\tt\\u00e4\\u00e4ll\\u00e4\\tADV\\tAdv\\t_\\t6\\tadvmod\\t_\\t_\\n8\\tturhaa\\tturha\\tADJ\\tA\\tCase=Par|Degree=Pos|Number=Sing\\t9\\tamod\\t_\\t_\\n9\\tel\\u00e4m\\u00e4\\u00e4mme\\tel\\u00e4m\\u00e4\\tNOUN\\tN\\tCase=Par|Number=Sing|Number[psor]=Plur|Person[psor]=1\\t6\\tobj\\t_\\t_\\n10\\tja\\tja\\tCCONJ\\tC\\t_\\t11\\tcc\\t_\\t_\\n11\\tkuolemme\\tkuolla\\tVERB\\tV\\tMood=Ind|Number=Plur|Person=1|Tense=Pres|VerbForm=Fin|Voice=Act\\t6\\tconj\\t_\\t_\\n12\\tpois\\tpois\\tADV\\tAdv\\t_\\t11\\tadvmod\\t_\\t_\\n13\\t!\\t!\\tPUNCT\\tPunct\\t_\\t4\\tpunct\\t_\\t_\\n1\\tOlisi\\tolla\\tAUX\\tV\\tMood=Cnd|Number=Sing|Person=0|VerbForm=Fin|Voice=Act\\t4\\taux\\t_\\t_\\n2\\tpit\\u00e4nyt\\tpit\\u00e4\\u00e4\\tAUX\\tV\\tCase=Nom|Degree=Pos|Number=Sing|PartForm=Past|VerbForm=Part|Voice=Act\\t4\\taux\\t_\\t_\\n3\\tkuitenkin\\tkuitenkin\\tADV\\tAdv\\t_\\t4\\tadvmod\\t_\\t_\\n4\\tk\\u00e4yd\\u00e4\\tk\\u00e4yd\\u00e4\\tVERB\\tV\\tInfForm=1|Number=Sing|VerbForm=Inf|Voice=Act\\t0\\troot\\t_\\t_\\n5\\titse\\titse\\tADV\\tAdv\\t_\\t4\\tadvmod\\t_\\t_\\n6\\tpolttamassa\\tpolttaa\\tVERB\\tV\\tCase=Ine|InfForm=3|Number=Sing|VerbForm=Inf|Voice=Act\\t4\\txcomp\\t_\\t_\\n7\\t\\t\\tPROPN\\tN\\tCase=Gen|Number=Sing\\t6\\tobj\\t_\\t_\\n8\\tja\\tja\\tCCONJ\\tC\\t_\\t9\\tcc\\t_\\t_\\n9\\thidastaa\\thidastaa\\tVERB\\tV\\tInfForm=1|Number=Sing|VerbForm=Inf|Voice=Act\\t4\\tconj\\t_\\t_\\n10\\tuuden\\tuusi\\tADJ\\tA\\tCase=Gen|Degree=Pos|Number=Sing\\t11\\tamod\\t_\\t_\\n11\\tvalitun\\tvalita\\tNOUN\\tN\\tCase=Gen|Number=Sing\\t12\\tnmod:gobj\\t_\\t_\\n12\\tetsint\\u00e4\\u00e4\\tetsint\\u00e4\\tNOUN\\tN\\tCase=Par|Number=Sing\\t9\\tobj\\t_\\t_\\n13\\t.\\t.\\tPUNCT\\tPunct\\t_\\t4\\tpunct\\t_\\t_\\n1\\tOlisinpahan\\tolla\\tAUX\\tV\\tClitic=Pa|Mood=Cnd|Number=Sing|Person=1|VerbForm=Fin|Voice=Act\\t5\\taux\\t_\\t_\\n2\\tollut\\tolla\\tAUX\\tV\\tCase=Nom|Degree=Pos|Number=Sing|PartForm=Past|VerbForm=Part|Voice=Act\\t5\\tcop\\t_\\t_\\n3\\tedes\\tedes\\tADV\\tAdv\\t_\\t5\\tadvmod\\t_\\t_\\n4\\tkunnon\\tkunnon\\tADV\\tAdv\\t_\\t5\\tadvmod\\t_\\t_\\n5\\tpahis\\tpahis\\tNOUN\\tN\\tCase=Nom|Number=Sing\\t0\\troot\\t_\\t_\\n6\\t.\\t.\\tPUNCT\\tPunct\\t_\\t5\\tpunct\\t_\\t_\\n7\\t\\\"\\t\\\"\\tPUNCT\\tPunct\\t_\\t5\\tpunct\\t_\\t_\\n1\\t\\t\\tPROPN\\tN\\tCase=Nom|Number=Sing\\t2\\tnsubj\\t_\\t_\\n2\\tkuunteli\\tkuunnella\\tVERB\\tV\\tMood=Ind|Number=Sing|Person=3|Tense=Past|VerbForm=Fin|Voice=Act\\t0\\troot\\t_\\t_\\n3\\tis\\u00e4nt\\u00e4ns\\u00e4\\tis\\u00e4nt\\u00e4\\tNOUN\\tN\\tCase=Gen|Number=Sing|Person[psor]=3\\t4\\tnmod:gsubj\\t_\\t_\\n4\\tvuodatusta\\tvuodatus\\tNOUN\\tN\\tCase=Par|Number=Sing\\t2\\tobj\\t_\\t_\\n5\\ttarkasti\\ttarkasti\\tADV\\tAdv\\tDerivation=Sti\\t6\\tadvmod\\t_\\t_\\n6\\tharkituissa\\tharkita\\tVERB\\tV\\tCase=Ine|Degree=Pos|Number=Plur|PartForm=Past|VerbForm=Part|Voice=Pass\\t7\\tacl\\t_\\t_\\n7\\tv\\u00e4leiss\\u00e4\\tv\\u00e4li\\tNOUN\\tN\\tCase=Ine|Number=Plur\\t4\\tnmod\\t_\\t_\\n8\\tkevyesti\\tkevyesti\\tADV\\tAdv\\tDerivation=Sti\\t9\\tadvmod\\t_\\t_\\n9\\tny\\u00f6k\\u00e4ten\\tny\\u00f6k\\u00e4t\\u00e4\\tVERB\\tV\\tCase=Ins|InfForm=2|Number=Sing|VerbForm=Inf|Voice=Act\\t2\\tadvcl\\t_\\t_\\n10\\t.\\t.\\tPUNCT\\tPunct\\t_\\t2\\tpunct\\t_\\t_\\n1\\t\\\"\\t\\\"\\tPUNCT\\tPunct\\t_\\t2\\tpunct\\t_\\t_\\n2\\tSaanen\\tsaada\\tVERB\\tV\\tMood=Pot|Number=Sing|Person=1|VerbForm=Fin|Voice=Act\\t0\\troot\\t_\\t_\\n3\\tmuistuttaa\\tmuistuttaa\\tVERB\\tV\\tInfForm=1|Number=Sing|VerbForm=Inf|Voice=Act\\t2\\txcomp\\t_\\t_\\n4\\t,\\t,\\tPUNCT\\tPunct\\t_\\t7\\tpunct\\t_\\t_\\n5\\tett\\u00e4\\tett\\u00e4\\tSCONJ\\tC\\t_\\t7\\tmark\\t_\\t_\\n6\\tolette\\tolla\\tAUX\\tV\\tMood=Ind|Number=Plur|Person=2|Tense=Pres|VerbForm=Fin|Voice=Act\\t7\\taux\\t_\\t_\\n7\\tsaaneet\\tsaada\\tVERB\\tV\\tCase=Nom|Degree=Pos|Number=Plur|PartForm=Past|VerbForm=Part|Voice=Act\\t3\\tccomp\\t_\\t_\\n8\\thyvinkin\\thyvin\\tADV\\tAdv\\tClitic=Kin\\t9\\tadvmod\\t_\\t_\\n9\\tpaljon\\tpaljon\\tADV\\tAdv\\t_\\t7\\tadvmod\\t_\\t_\\n10\\taikaan\\taika\\tNOUN\\tN\\tCase=Ill|Number=Sing\\t7\\tcompound:prt\\t_\\t_\\n11\\t,\\t,\\tPUNCT\\tPunct\\t_\\t7\\tpunct\\t_\\t_\\n12\\tsir\\tsir\\tINTJ\\tInterj\\t_\\t7\\tdiscourse\\t_\\t_\\n13\\t\\\"\\t\\\"\\tPUNCT\\tPunct\\t_\\t2\\tpunct\\t_\\t_\\n1\\t\\\"\\t\\\"\\tPUNCT\\tPunct\\t_\\t4\\tpunct\\t_\\t_\\n2\\tMutta\\tmutta\\tCCONJ\\tC\\t_\\t4\\tcc\\t_\\t_\\n3\\tei\\tei\\tAUX\\tV\\tNumber=Sing|Person=3|Polarity=Neg|VerbForm=Fin|Voice=Act\\t4\\taux\\t_\\t_\\n4\\tsill\\u00e4\\tse\\tPRON\\tPron\\tCase=Ade|Number=Sing|PronType=Dem\\t0\\troot\\t_\\t_\\n5\\tole\\tolla\\tAUX\\tV\\tConnegative=Yes|Mood=Ind|Tense=Pres|VerbForm=Fin\\t4\\tcop\\t_\\t_\\n6\\tmit\\u00e4\\u00e4n\\tmik\\u00e4\\u00e4n\\tPRON\\tPron\\tCase=Par|Number=Sing|PronType=Ind\\t7\\tdet\\t_\\t_\\n7\\tv\\u00e4li\\u00e4\\tv\\u00e4li\\tNOUN\\tN\\tCase=Par|Number=Sing\\t4\\tnsubj:cop\\t_\\t_\\n8\\t!\\t!\\tPUNCT\\tPunct\\t_\\t4\\tpunct\\t_\\t_\\n9\\t\\u201d\\t\\u201d\\tPUNCT\\tPunct\\t_\\t4\\tpunct\\t_\\t_\\n10\\tmies\\tmies\\tNOUN\\tN\\tCase=Nom|Number=Sing\\t11\\tnsubj\\t_\\t_\\n11\\t\\u00e4r\\u00e4hti\\t\\u00e4r\\u00e4ht\\u00e4\\u00e4\\tVERB\\tV\\tMood=Ind|Number=Sing|Person=3|Tense=Past|VerbForm=Fin|Voice=Act\\t4\\tparataxis\\t_\\t_\\n12\\tja\\tja\\tCCONJ\\tC\\t_\\t13\\tcc\\t_\\t_\\n13\\tiski\\tiske\\u00e4\\tVERB\\tV\\tMood=Ind|Number=Sing|Person=3|Tense=Past|VerbForm=Fin|Voice=Act\\t11\\tconj\\t_\\t_\\n14\\tmukinsa\\tmuki\\tNOUN\\tN\\tCase=Gen|Number=Sing|Person[psor]=3\\t13\\tobj\\t_\\t_\\n15\\ttornin\\ttorni\\tNOUN\\tN\\tCase=Gen|Number=Sing\\t16\\tnmod:poss\\t_\\t_\\n16\\tparveketta\\tparveke\\tNOUN\\tN\\tCase=Par|Number=Sing\\t17\\tobj\\t_\\t_\\n17\\tymp\\u00e4r\\u00f6iv\\u00e4\\u00e4n\\tymp\\u00e4r\\u00f6id\\u00e4\\tVERB\\tV\\tCase=Ill|Degree=Pos|Number=Sing|PartForm=Pres|VerbForm=Part|Voice=Act\\t18\\tacl\\t_\\t_\\n18\\tkiviaitaan\\tkivi#aita\\tNOUN\\tN\\tCase=Ill|Number=Sing\\t13\\tobl\\t_\\t_\\n19\\t.\\t.\\tPUNCT\\tPunct\\t_\\t4\\tpunct\\t_\\t_\\n1\\tSavi\\tsavi\\tNOUN\\tN\\tCase=Nom|Number=Sing\\t2\\tnsubj\\t_\\t_\\n2\\thalkesi\\thaljeta\\tVERB\\tV\\tMood=Ind|Number=Sing|Person=3|Tense=Past|VerbForm=Fin|Voice=Act\\t0\\troot\\t_\\t_\\n3\\tja\\tja\\tCCONJ\\tC\\t_\\t5\\tcc\\t_\\t_\\n4\\tmiehelle\\tmies\\tNOUN\\tN\\tCase=All|Number=Sing\\t5\\tobl\\t_\\t_\\n5\\tj\\u00e4i\\tj\\u00e4\\u00e4d\\u00e4\\tVERB\\tV\\tMood=Ind|Number=Sing|Person=3|Tense=Past|VerbForm=Fin|Voice=Act\\t2\\tconj\\t_\\t_\\n6\\tvain\\tvain\\tADV\\tAdv\\t_\\t7\\tadvmod\\t_\\t_\\n7\\tpuolet\\tpuoli\\tNOUN\\tN\\tCase=Nom|Number=Plur\\t5\\tnsubj\\t_\\t_\\n8\\tmukista\\tmuki\\tNOUN\\tN\\tCase=Ela|Number=Plur\\t7\\tnmod\\t_\\t_\\n9\\tk\\u00e4teen\\tk\\u00e4si\\tNOUN\\tN\\tCase=Ill|Number=Sing\\t5\\tobl\\t_\\t_\\n10\\t.\\t.\\tPUNCT\\tPunct\\t_\\t2\\tpunct\\t_\\t_\\n1\\tHiljaisuudessa\\thiljaisuus\\tNOUN\\tN\\tCase=Ine|Derivation=Inen,Vs|Number=Sing\\t5\\tobl\\t_\\t_\\n2\\th\\u00e4n\\th\\u00e4n\\tPRON\\tPron\\tCase=Nom|Number=Sing|Person=3|PronType=Prs\\t5\\tnsubj\\t_\\t_\\n3\\tja\\tja\\tCCONJ\\tC\\t_\\t4\\tcc\\t_\\t_\\n4\\thovimestari\\thovi#mestari\\tNOUN\\tN\\tCase=Nom|Number=Sing\\t2\\tconj\\t_\\t_\\n5\\tseurasivat\\tseurata\\tVERB\\tV\\tMood=Ind|Number=Plur|Person=3|Tense=Past|VerbForm=Fin|Voice=Act\\t0\\troot\\t_\\t_\\n6\\t,\\t,\\tPUNCT\\tPunct\\t_\\t11\\tpunct\\t_\\t_\\n7\\tkuinka\\tkuinka\\tADV\\tAdv\\t_\\t11\\tadvmod\\t_\\t_\\n8\\tsirpaleet\\tsirpale\\tNOUN\\tN\\tCase=Nom|Number=Plur\\t11\\tnsubj\\t_\\t_\\n9\\tja\\tja\\tCCONJ\\tC\\t_\\t10\\tcc\\t_\\t_\\n10\\tkahvi\\tkahvi\\tNOUN\\tN\\tCase=Nom|Number=Sing\\t8\\tconj\\t_\\t_\\n11\\tputosivat\\tpudota\\tVERB\\tV\\tMood=Ind|Number=Plur|Person=3|Tense=Past|VerbForm=Fin|Voice=Act\\t5\\tccomp\\t_\\t_\\n12\\talas\\talas\\tADV\\tAdv\\t_\\t11\\tadvmod\\t_\\t_\\n13\\taina\\taina\\tADV\\tAdv\\t_\\t14\\tadvmod\\t_\\t_\\n14\\tkeskusaukiolle\\tkesku#saukio\\tNOUN\\tN\\tCase=All|Number=Sing\\t11\\tobl\\t_\\t_\\n15\\tsaakka\\tsaakka\\tADP\\tAdp\\tAdpType=Post\\t14\\tcase\\t_\\t_\\n16\\t.\\t.\\tPUNCT\\tPunct\\t_\\t5\\tpunct\\t_\\t_\\n\""
   ]
  },
  {
   "cell_type": "code",
   "execution_count": 28,
   "id": "1c312b4f",
   "metadata": {},
   "outputs": [
    {
     "name": "stdout",
     "output_type": "stream",
     "text": [
      "1\tAikojen\taika\tNOUN\tN\tCase=Gen|Number=Plur\t2\tnsubj\t_\t_\n",
      "2\tkuluessa\tkulua\tVERB\tV\tCase=Ine|InfForm=2|Number=Sing|VerbForm=Inf|Voice=Act\t7\tadvcl\t_\t_\n",
      "3\tmuinaisina\tmuinainen\tADJ\tA\tCase=Ess|Degree=Pos|Derivation=Inen|Number=Plur\t4\tamod\t_\t_\n",
      "4\taikoina\taika\tNOUN\tN\tCase=Ess|Number=Plur\t5\tobl\t_\t_\n",
      "5\tsyntynyt\tsyntyä\tVERB\tV\tCase=Nom|Degree=Pos|Number=Sing|PartForm=Past|VerbForm=Part|Voice=Act\t6\tacl\t_\t_\n",
      "6\tpahuus\tpahuus\tNOUN\tN\tCase=Nom|Derivation=Vs|Number=Sing\t7\tnsubj\t_\t_\n",
      "7\tkasvaa\tkasvaa\tVERB\tV\tMood=Ind|Number=Sing|Person=3|Tense=Pres|VerbForm=Fin|Voice=Act\t0\troot\t_\t_\n",
      "8\t,\t,\tPUNCT\tPunct\t_\t12\tpunct\t_\t_\n",
      "9\tiäinen\tiäinen\tADJ\tA\tCase=Nom|Degree=Pos|Derivation=Inen|Number=Sing\t10\tamod\t_\t_\n",
      "10\tpimeys\tpimeys\tNOUN\tN\tCase=Nom|Derivation=Vs|Number=Sing\t12\tnsubj:cop\t_\t_\n",
      "11\ton\tolla\tAUX\tV\tMood=Ind|Number=Sing|Person=3|Tense=Pres|VerbForm=Fin|Voice=Act\t12\tcop\t_\t_\n",
      "12\tvalloillaan\tvalloillaan\tADV\tAdv\t_\t7\tconj\t_\t_\n",
      "13\tja\tja\tCCONJ\tC\t_\t14\tcc\t_\t_\n",
      "14\tyrittää\tyrittää\tVERB\tV\tMood=Ind|Number=Sing|Person=3|Tense=Pres|VerbForm=Fin|Voice=Act\t7\tconj\t_\t_\n",
      "15\tsyöstä\tsyöstä\tVERB\tV\tInfForm=1|Number=Sing|VerbForm=Inf|Voice=Act\t14\txcomp\t_\t_\n",
      "16\tkoko\tkoko\tADJ\tA\t_\t17\tamod\t_\t_\n",
      "17\tmaan\tmaa\tNOUN\tN\tCase=Gen|Number=Sing\t15\tobj\t_\t_\n",
      "18\tpäättymättömään\tpäättymätön\tADJ\tA\tCase=Ill|Degree=Pos|Derivation=Ton|Number=Sing\t19\tamod\t_\t_\n",
      "19\työhön\työ\tNOUN\tN\tCase=Ill|Number=Sing\t15\tobl\t_\t_\n",
      "20\t.\t.\tPUNCT\tPunct\t_\t7\tpunct\t_\t_\n",
      "1\tTätä\ttämä\tPRON\tPron\tCase=Par|Number=Sing|PronType=Dem\t2\tdet\t_\t_\n",
      "2\tpahuutta\tpahuutta\tNOUN\tN\tCase=Par|Derivation=Vs|Number=Sing\t5\tobj\t_\t_\n",
      "3\tei\tei\tAUX\tV\tNumber=Sing|Person=3|Polarity=Neg|VerbForm=Fin|Voice=Act\t5\taux\t_\t_\n",
      "4\tvoi\tvoida\tAUX\tV\tConnegative=Yes|Mood=Ind|Tense=Pres|VerbForm=Fin\t5\taux\t_\t_\n",
      "5\tlyödä\tlyödä\tVERB\tV\tInfForm=1|Number=Sing|VerbForm=Inf|Voice=Act\t0\troot\t_\t_\n",
      "6\tkukaan\tkukaan\tPRON\tPron\tCase=Nom|Number=Sing|PronType=Ind\t5\tnsubj\t_\t_\n",
      "7\t,\t,\tPUNCT\tPunct\t_\t18\tpunct\t_\t_\n",
      "8\tpaitsi\tpaitsi\tADP\tAdp\t_\t18\tcase\t_\t_\n",
      "9\tyksi\tyksi\tNUM\tNum\tCase=Nom|Number=Sing|NumType=Card\t18\tnummod\t_\t_\n",
      "10\tja\tja\tCCONJ\tC\t_\t11\tcc\t_\t_\n",
      "11\tainoa\tainoa\tPRON\tPron\tCase=Nom|Number=Sing|PronType=Ind\t9\tconj\t_\t_\n",
      "12\tValveuden\tvalveus\tNOUN\tN\tCase=Gen|Derivation=Vs|Number=Sing\t13\tnsubj\t_\t_\n",
      "13\tvalitsema\tvalita\tVERB\tV\tCase=Nom|Degree=Pos|Number=Sing|PartForm=Agt|VerbForm=Part|Voice=Act\t18\tacl\t_\t_\n",
      "14\t,\t,\tPUNCT\tPunct\t_\t18\tpunct\t_\t_\n",
      "15\t\t\tPROPN\tN\tCase=Nom|Number=Sing\t17\tnsubj\t_\t_\n",
      "16\t\t\tPROPN\tN\tCase=Nom|Number=Sing\t15\tflat:name\t_\t_\n",
      "17\ttuleva\ttulla\tVERB\tV\tCase=Nom|Degree=Pos|Number=Sing|PartForm=Pres|VerbForm=Part|Voice=Act\t18\tacl\t_\t_\n",
      "18\tsankari\tsankari\tNOUN\tN\tCase=Nom|Number=Sing\t6\tappos\t_\t_\n",
      "19\t.\t.\tPUNCT\tPunct\t_\t5\tpunct\t_\t_\n",
      "1\tVirheetön\tvirheetön\tADJ\tA\tCase=Nom|Degree=Pos|Derivation=Ton|Number=Sing\t2\tamod\t_\t_\n",
      "2\tmies\tmies\tNOUN\tN\tCase=Nom|Number=Sing\t0\troot\t_\t_\n",
      "3\t,\t,\tPUNCT\tPunct\t_\t5\tpunct\t_\t_\n",
      "4\tjoka\tjoka\tPRON\tPron\tCase=Nom|Number=Sing|PronType=Rel\t5\tnsubj\t_\t_\n",
      "5\tkantaa\tkantaa\tVERB\tV\tMood=Ind|Number=Sing|Person=3|Tense=Pres|VerbForm=Fin|Voice=Act\t2\tacl:relcl\t_\t_\n",
      "6\tvalon\tvalo\tNOUN\tN\tCase=Gen|Number=Sing\t7\tnmod:poss\t_\t_\n",
      "7\tamulettia\tamuletti\tNOUN\tN\tCase=Par|Number=Sing\t5\tobj\t_\t_\n",
      "8\tja\tja\tCCONJ\tC\t_\t10\tcc\t_\t_\n",
      "9\ttäydellisesti\ttäydellisesti\tADV\tAdv\tDerivation=Sti\t10\tadvmod\t_\t_\n",
      "10\ttäyttää\ttäyttää\tVERB\tV\tMood=Ind|Number=Sing|Person=3|Tense=Pres|VerbForm=Fin|Voice=Act\t5\tconj\t_\t_\n",
      "11\tValveuden\tvalveus\tNOUN\tN\tCase=Gen|Derivation=Vs|Number=Sing\t12\tnmod:poss\t_\t_\n",
      "12\ttahdon\ttahto\tNOUN\tN\tCase=Gen|Number=Sing\t10\tobj\t_\t_\n",
      "13\t.\t.\tPUNCT\tPunct\t_\t2\tpunct\t_\t_\n",
      "1\tKun\tkun\tSCONJ\tC\t_\t4\tmark\t_\t_\n",
      "2\taika\taika\tNOUN\tN\tCase=Nom|Number=Sing\t4\tnsubj:cop\t_\t_\n",
      "3\ton\tolla\tAUX\tV\tMood=Ind|Number=Sing|Person=3|Tense=Pres|VerbForm=Fin|Voice=Act\t4\tcop\t_\t_\n",
      "4\ttäysi\ttäysi\tADJ\tA\tCase=Nom|Degree=Pos|Number=Sing\t7\tadvcl\t_\t_\n",
      "5\t,\t,\tPUNCT\tPunct\t_\t4\tpunct\t_\t_\n",
      "6\thän\thän\tPRON\tPron\tCase=Nom|Number=Sing|Person=3|PronType=Prs\t7\tnsubj\t_\t_\n",
      "7\tuhraa\tuhrata\tVERB\tV\tMood=Ind|Number=Sing|Person=3|Tense=Pres|VerbForm=Fin|Voice=Act\t0\troot\t_\t_\n",
      "8\titsensä\titse\tPRON\tPron\tCase=Gen|Number=Sing|Person[psor]=3|Reflex=Yes\t7\tobj\t_\t_\n",
      "9\tkaikkien\tkaikki\tPRON\tPron\tCase=Gen|Number=Plur|PronType=Ind\t7\tobl\t_\t_\n",
      "10\tpuolesta\tpuolesta\tADP\tAdp\tAdpType=Post\t9\tcase\t_\t_\n",
      "11\ttaistelussa\ttaistelu\tNOUN\tN\tCase=Ine|Derivation=U|Number=Sing\t7\tobl\t_\t_\n",
      "12\tpimeyttä\tpimeys\tNOUN\tN\tCase=Par|Derivation=Vs|Number=Sing\t11\tnmod\t_\t_\n",
      "13\tvastaan\tvastaan\tADP\tAdp\tAdpType=Post\t12\tcase\t_\t_\n",
      "14\t,\t,\tPUNCT\tPunct\t_\t18\tpunct\t_\t_\n",
      "15\tmutta\tmutta\tCCONJ\tC\t_\t18\tcc\t_\t_\n",
      "16\tkuolemakaan\tkuolema\tNOUN\tN\tCase=Nom|Clitic=Kaan|Number=Sing\t18\tnsubj\t_\t_\n",
      "17\tei\tei\tAUX\tV\tNumber=Sing|Person=3|Polarity=Neg|VerbForm=Fin|Voice=Act\t18\taux\t_\t_\n",
      "18\tsaa\tsaada\tVERB\tV\tConnegative=Yes|Mood=Ind|Tense=Pres|VerbForm=Fin\t7\tconj\t_\t_\n",
      "19\thänestä\thän\tPRON\tPron\tCase=Ela|Number=Sing|Person=3|PronType=Prs\t18\tobl\t_\t_\n",
      "20\tvoittoa\tvoitto\tNOUN\tN\tCase=Par|Number=Sing\t18\tobj\t_\t_\n",
      "21\t.\t.\tPUNCT\tPunct\t_\t7\tpunct\t_\t_\n",
      "1\tValittu\tvalita\tVERB\tV\tCase=Nom|Degree=Pos|Number=Sing|PartForm=Past|VerbForm=Part|Voice=Pass\t2\tnsubj\t_\t_\n",
      "2\tvoittaa\tvoittaa\tVERB\tV\tMood=Ind|Number=Sing|Person=3|Tense=Pres|VerbForm=Fin|Voice=Act\t0\troot\t_\t_\n",
      "3\tlopullisesti\tlopullisesti\tADV\tAdv\tDerivation=Sti\t2\tadvmod\t_\t_\n",
      "4\t\t\tPROPN\tN\tCase=Gen|Number=Sing\t2\tobj\t_\t_\n",
      "5\tjoukkoineen\tjoukko\tNOUN\tN\tCase=Com|Person[psor]=3\t4\tnmod\t_\t_\n",
      "6\t,\t,\tPUNCT\tPunct\t_\t9\tpunct\t_\t_\n",
      "7\tja\tja\tCCONJ\tC\t_\t9\tcc\t_\t_\n",
      "8\tmaailmaan\tmaailma\tNOUN\tN\tCase=Ill|Number=Sing\t9\tobl\t_\t_\n",
      "9\tpalaa\tpalata\tVERB\tV\tMood=Ind|Number=Sing|Person=3|Tense=Pres|VerbForm=Fin|Voice=Act\t2\tconj\t_\t_\n",
      "10\thyvyys\thyvyys\tNOUN\tN\tCase=Nom|Number=Sing\t9\tnsubj\t_\t_\n",
      "11\tja\tja\tCCONJ\tC\t_\t12\tcc\t_\t_\n",
      "12\trauha\trauha\tNOUN\tN\tCase=Nom|Number=Sing\t10\tconj\t_\t_\n",
      "13\tkuin\tkuin\tSCONJ\tC\t_\t15\tmark\t_\t_\n",
      "14\tentisinä\tentinen\tADJ\tA\tCase=Ess|Degree=Pos|Derivation=Inen|Number=Plur\t15\tamod\t_\t_\n",
      "15\taikoina\taika\tNOUN\tN\tCase=Ess|Number=Plur\t9\tadvcl\t_\t_\n",
      "16\t.\t.\tPUNCT\tPunct\t_\t2\tpunct\t_\t_\n",
      "1\tJa\tja\tCCONJ\tC\t_\t9\tcc\t_\t_\n",
      "2\tkaikki\tkaikki\tPRON\tPron\tCase=Nom|Number=Sing|PronType=Ind\t9\tnsubj\t_\t_\n",
      "3\t,\t,\tPUNCT\tPunct\t_\t7\tpunct\t_\t_\n",
      "4\tjotka\tjoka\tPRON\tPron\tCase=Nom|Number=Plur|PronType=Rel\t7\tnsubj\t_\t_\n",
      "5\tovat\tolla\tAUX\tV\tMood=Ind|Number=Plur|Person=3|Tense=Pres|VerbForm=Fin|Voice=Act\t7\taux\t_\t_\n",
      "6\tvalittua\tvalittu\tNOUN\tN\tCase=Par|Number=Sing\t7\tobj\t_\t_\n",
      "7\tseuranneet\tseurata\tVERB\tV\tCase=Nom|Degree=Pos|Number=Plur|PartForm=Past|VerbForm=Part|Voice=Act\t2\tacl:relcl\t_\t_\n",
      "8\t,\t,\tPUNCT\tPunct\t_\t7\tpunct\t_\t_\n",
      "9\tpääsevät\tpäästä\tVERB\tV\tMood=Ind|Number=Plur|Person=3|Tense=Pres|VerbForm=Fin|Voice=Act\t0\troot\t_\t_\n",
      "10\thänen\thän\tPRON\tPron\tCase=Gen|Number=Sing|Person=3|PronType=Prs\t9\tobl\t_\t_\n",
      "11\tkanssaan\tkanssa\tADP\tAdp\tAdpType=Post|Person[psor]=3\t10\tcase\t_\t_\n",
      "12\tValveuden\tvalveus\tNOUN\tN\tCase=Gen|Derivation=Vs|Number=Sing\t9\tobl\t_\t_\n",
      "13\tluo\tluo\tADP\tAdp\tAdpType=Post\t12\tcase\t_\t_\n",
      "14\tikuiseen\tikuinen\tADJ\tA\tCase=Ill|Degree=Pos|Derivation=Inen|Number=Sing\t15\tamod\t_\t_\n",
      "15\tiloon\tilo\tNOUN\tN\tCase=Ill|Number=Sing\t9\tobl\t_\t_\n",
      "16\t.\t.\tPUNCT\tPunct\t_\t9\tpunct\t_\t_\n",
      "1\t\"\t\"\tPUNCT\tPunct\t_\t3\tpunct\t_\t_\n",
      "2\tJoten\tjoten\tADV\tAdv\t_\t3\tadvmod\t_\t_\n",
      "3\tryhdy\tryhtyä\tVERB\tV\tMood=Imp|Number=Sing|Person=2|VerbForm=Fin|Voice=Act\t0\troot\t_\t_\n",
      "4\tsinäkin\tsinä\tPRON\tPron\tCase=Nom|Clitic=Kin|Number=Sing|Person=2|PronType=Prs\t3\tnsubj\t_\t_\n",
      "5\tvalittu-ehdokkaaksi\tvalittu#ehdokas\tNOUN\tN\tCase=Tra|Number=Sing\t3\txcomp:ds\t_\t_\n",
      "6\t!\t!\tPUNCT\tPunct\t_\t3\tpunct\t_\t_\n",
      "1\tJos\tjos\tSCONJ\tC\t_\t3\tmark\t_\t_\n",
      "2\tet\tei\tAUX\tV\tNumber=Sing|Person=2|Polarity=Neg|VerbForm=Fin|Voice=Act\t3\taux\t_\t_\n",
      "3\tkuole\tkuolla\tVERB\tV\tConnegative=Yes|Mood=Ind|Tense=Pres|VerbForm=Fin\t9\tadvcl\t_\t_\n",
      "4\theti\theti\tADV\tAdv\t_\t6\tadvmod\t_\t_\n",
      "5\tensimmäisessä\tensimmäinen\tADJ\tNum\tCase=Ine|Derivation=Inen|Number=Sing|NumType=Ord\t6\tamod\t_\t_\n",
      "6\ttaistelussa\ttaistelu\tNOUN\tN\tCase=Ine|Derivation=U|Number=Sing\t3\tobl\t_\t_\n",
      "7\t,\t,\tPUNCT\tPunct\t_\t3\tpunct\t_\t_\n",
      "8\tsaatat\tsaattaa\tAUX\tV\tMood=Ind|Number=Sing|Person=2|Tense=Pres|VerbForm=Fin|Voice=Act\t9\taux\t_\t_\n",
      "9\tvoittaa\tvoittaa\tVERB\tV\tInfForm=1|Number=Sing|VerbForm=Inf|Voice=Act\t0\troot\t_\t_\n",
      "10\tikuisen\tikuinen\tADJ\tA\tCase=Gen|Degree=Pos|Derivation=Inen|Number=Sing\t11\tamod\t_\t_\n",
      "11\telämän\telämä\tNOUN\tN\tCase=Gen|Number=Sing\t9\tobj\t_\t_\n",
      "12\t!\t!\tPUNCT\tPunct\t_\t9\tpunct\t_\t_\n",
      "13\t\"\t\"\tPUNCT\tPunct\t_\t9\tpunct\t_\t_\n",
      "1\t\"\t\"\tPUNCT\tPunct\t_\t5\tpunct\t_\t_\n",
      "2\tEntä\tentä\tADV\tAdv\t_\t5\tadvmod\t_\t_\n",
      "3\tjos\tjos\tSCONJ\tC\t_\t5\tmark\t_\t_\n",
      "4\ten\tei\tAUX\tV\tNumber=Sing|Person=1|Polarity=Neg|VerbForm=Fin|Voice=Act\t5\taux\t_\t_\n",
      "5\thalua\thaluta\tVERB\tV\tConnegative=Yes|Mood=Ind|Tense=Pres|VerbForm=Fin\t0\troot\t_\t_\n",
      "6\t?\t?\tPUNCT\tPunct\t_\t5\tpunct\t_\t_\n",
      "7\t\"\t\"\tPUNCT\tPunct\t_\t5\tpunct\t_\t_\n",
      "8\tminä\tminä\tPRON\tPron\tCase=Nom|Number=Sing|Person=1|PronType=Prs\t9\tnsubj\t_\t_\n",
      "9\tkysyin\tkysyä\tVERB\tV\tMood=Ind|Number=Sing|Person=1|Tense=Past|VerbForm=Fin|Voice=Act\t5\tparataxis\t_\t_\n",
      "10\t.\t.\tPUNCT\tPunct\t_\t5\tpunct\t_\t_\n",
      "1\t\"\t\"\tPUNCT\tPunct\t_\t4\tpunct\t_\t_\n",
      "2\tÄlä\tei\tAUX\tV\tMood=Imp|Number=Sing|Person=2|Polarity=Neg|VerbForm=Fin|Voice=Act\t4\taux\t_\t_\n",
      "3\tole\tolla\tAUX\tV\tConnegative=Yes|Mood=Ind|Tense=Pres|VerbForm=Fin\t4\tcop\t_\t_\n",
      "4\tpelkuri\tpelkuri\tNOUN\tN\tCase=Nom|Number=Sing\t0\troot\t_\t_\n",
      "5\t!\t!\tPUNCT\tPunct\t_\t4\tpunct\t_\t_\n",
      "6\t\"\t\"\tPUNCT\tPunct\t_\t4\tpunct\t_\t_\n",
      "7\tjyrähtivät\tjyrähtää\tVERB\tV\tMood=Ind|Number=Plur|Person=3|Tense=Past|VerbForm=Fin|Voice=Act\t4\tparataxis\t_\t_\n",
      "8\thyvikset\thyvi\tADJ\tA\tCase=Nom|Number=Plur\t7\tnsubj\t_\t_\n",
      "9\t.\t.\tPUNCT\tPunct\t_\t4\tpunct\t_\t_\n",
      "1\t\"\t\"\tPUNCT\tPunct\t_\t4\tpunct\t_\t_\n",
      "2\tOnko\tolla\tAUX\tV\tClitic=Ko|Mood=Ind|Number=Sing|Person=3|Tense=Pres|VerbForm=Fin|Voice=Act\t4\tcop\t_\t_\n",
      "3\tmeissä\tminä\tPRON\tPron\tCase=Ine|Number=Plur|PronType=Dem\t4\tobl\t_\t_\n",
      "4\tkenessäkään\tkukaan\tPRON\tPron\tCase=Ine|Number=Sing|PronType=Ind\t0\troot\t_\t_\n",
      "5\tmitään\tmikään\tPRON\tPron\tCase=Par|Number=Sing|PronType=Ind\t4\tnsubj:cop\t_\t_\n",
      "6\tpelastamisen\tpelastaminen\tNOUN\tN\tCase=Gen|Derivation=Minen|Number=Sing\t7\tnmod:poss\t_\t_\n",
      "7\tarvoista\tarvoinen\tADJ\tA\tCase=Par|Degree=Pos|Derivation=Inen|Number=Sing\t5\tnmod\t_\t_\n",
      "8\t?\t?\tPUNCT\tPunct\t_\t4\tpunct\t_\t_\n",
      "1\tSietäisimme\tsietää\tVERB\tV\tMood=Cnd|Number=Plur|Person=1|VerbForm=Fin|Voice=Act\t0\troot\t_\t_\n",
      "2\tkaikki\tkaikki\tPRON\tPron\tCase=Nom|Number=Sing|PronType=Ind\t1\tobj\t_\t_\n",
      "3\tkuolla\tkuolla\tVERB\tV\tInfForm=1|Number=Sing|VerbForm=Inf|Voice=Act\t1\txcomp\t_\t_\n",
      "4\t\"\t\"\tPUNCT\tPunct\t_\t1\tpunct\t_\t_\n",
      "5\t,\t,\tPUNCT\tPunct\t_\t6\tpunct\t_\t_\n",
      "6\tmutisi\tmutista\tVERB\tV\tMood=Ind|Number=Sing|Person=3|Tense=Past|VerbForm=Fin|Voice=Act\t1\tparataxis\t_\t_\n",
      "7\tViikatemies\tviikate#mies\tNOUN\tN\tCase=Nom|Number=Sing\t6\tnsubj\t_\t_\n",
      "8\t.\t.\tPUNCT\tPunct\t_\t1\tpunct\t_\t_\n",
      "1\t\"\t\"\tPUNCT\tPunct\t_\t2\tpunct\t_\t_\n",
      "2\tParas\thyvä\tADJ\tA\tCase=Nom|Degree=Sup|Number=Sing\t0\troot\t_\t_\n",
      "3\titse\titse\tADV\tAdv\t_\t5\tadvmod\t_\t_\n",
      "4\titsensä\titse\tPRON\tPron\tCase=Gen|Number=Sing|Person[psor]=3|Reflex=Yes\t5\tobj\t_\t_\n",
      "5\tpelastaa\tpelastaa\tVERB\tV\tInfForm=1|Number=Sing|VerbForm=Inf|Voice=Act\t2\txcomp:ds\t_\t_\n",
      "6\t\"\t\"\tPUNCT\tPunct\t_\t2\tpunct\t_\t_\n",
      "7\t,\t,\tPUNCT\tPunct\t_\t8\tpunct\t_\t_\n",
      "8\ttokaisi\ttokaista\tVERB\tV\tMood=Ind|Number=Sing|Person=3|Tense=Past|VerbForm=Fin|Voice=Act\t2\tparataxis\t_\t_\n",
      "9\t\t\tPROPN\tN\tCase=Nom|Number=Sing\t8\tnsubj\t_\t_\n",
      "10\t.\t.\tPUNCT\tPunct\t_\t2\tpunct\t_\t_\n",
      "1\t\"\t\"\tPUNCT\tPunct\t_\t3\tpunct\t_\t_\n",
      "2\tTe\tsinä\tPRON\tPron\tCase=Nom|Number=Plur|Person=2|PronType=Prs\t3\tnsubj:cop\t_\t_\n",
      "3\tharhaoppiset\tharhaoppinen\tADJ\tA\tCase=Nom|Degree=Pos|Derivation=Inen|Number=Plur\t0\troot\t_\t_\n",
      "4\t!\t!\tPUNCT\tPunct\t_\t3\tpunct\t_\t_\n",
      "1\tHirteen\thirre\tNOUN\tN\tCase=Ill|Number=Sing\t2\tobl\t_\t_\n",
      "2\tjoudatte\tjoudattaa\tVERB\tV\tMood=Ind|Number=Plur|Person=2|Tense=Pres|VerbForm=Fin|Voice=Act\t0\troot\t_\t_\n",
      "3\t!\t!\tPUNCT\tPunct\t_\t2\tpunct\t_\t_\n",
      "4\t\"\t\"\tPUNCT\tPunct\t_\t2\tpunct\t_\t_\n",
      "5\tpauhasivat\tpauhata\tVERB\tV\tMood=Ind|Number=Plur|Person=3|Tense=Past|VerbForm=Fin|Voice=Act\t2\tparataxis\t_\t_\n",
      "6\thyvikset\thyvi\tADJ\tA\tCase=Nom|Number=Plur\t5\tnsubj\t_\t_\n",
      "7\t.\t.\tPUNCT\tPunct\t_\t2\tpunct\t_\t_\n",
      "1\tMinä\tminä\tPRON\tPron\tCase=Nom|Number=Sing|Person=1|PronType=Prs\t3\tnsubj\t_\t_\n",
      "2\ten\tei\tAUX\tV\tNumber=Sing|Person=1|Polarity=Neg|VerbForm=Fin|Voice=Act\t3\taux\t_\t_\n",
      "3\tuskaltanut\tuskaltaa\tVERB\tV\tCase=Nom|Degree=Pos|Number=Sing|PartForm=Past|VerbForm=Part|Voice=Act\t0\troot\t_\t_\n",
      "4\tmainitakaan\tmainita\tVERB\tV\tClitic=Kaan|InfForm=1|Number=Sing|VerbForm=Inf|Voice=Act\t3\txcomp\t_\t_\n",
      "5\tmuista\tmuu\tPRON\tPron\tCase=Ela|Number=Plur|PronType=Ind\t6\tdet\t_\t_\n",
      "6\tmahdollisuuksista\tmahdollisuus\tNOUN\tN\tCase=Ela|Derivation=Llinen,Vs|Number=Plur\t4\tobl\t_\t_\n",
      "7\tja\tja\tCCONJ\tC\t_\t9\tcc\t_\t_\n",
      "8\tniin\tniin\tADV\tAdv\t_\t9\tadvmod\t_\t_\n",
      "9\tlopetin\tlopettaa\tVERB\tV\tMood=Ind|Number=Sing|Person=1|Tense=Past|VerbForm=Fin|Voice=Act\t3\tconj\t_\t_\n",
      "10\ttämän\ttämä\tPRON\tPron\tCase=Gen|Number=Sing|PronType=Dem\t11\tdet\t_\t_\n",
      "11\tpaperin\tpaperi\tNOUN\tN\tCase=Gen|Number=Sing\t12\tnmod:gobj\t_\t_\n",
      "12\ttuhlaamisen\ttuhlaaminen\tNOUN\tN\tCase=Gen|Derivation=Minen|Number=Sing\t9\tobj\t_\t_\n",
      "13\t,\t,\tPUNCT\tPunct\t_\t16\tpunct\t_\t_\n",
      "14\tkoska\tkoska\tSCONJ\tC\t_\t16\tmark\t_\t_\n",
      "15\ttila\ttila\tNOUN\tN\tCase=Nom|Number=Sing\t16\tnsubj\t_\t_\n",
      "16\tloppuu\tloppua\tVERB\tV\tMood=Ind|Number=Sing|Person=3|Tense=Pres|VerbForm=Fin|Voice=Act\t9\tadvcl\t_\t_\n",
      "17\tja\tja\tCCONJ\tC\t_\t21\tcc\t_\t_\n",
      "18\tminun\tminä\tPRON\tPron\tCase=Gen|Number=Sing|Person=1|PronType=Prs\t21\tnsubj\t_\t_\n",
      "19\tpitäisi\tpitää\tAUX\tV\tMood=Cnd|Number=Sing|Person=3|VerbForm=Fin|Voice=Act\t21\taux\t_\t_\n",
      "20\tolla\tolla\tAUX\tV\tInfForm=1|Number=Sing|VerbForm=Inf|Voice=Act\t21\taux\t_\t_\n",
      "21\ttekemässä\ttehdä\tVERB\tV\tCase=Ine|InfForm=3|Number=Sing|VerbForm=Inf|Voice=Act\t16\tconj\t_\t_\n",
      "22\tjotain\tjokin\tPRON\tPron\tCase=Par|Number=Sing|PronType=Ind\t24\tdet\t_\t_\n",
      "23\toikeasti\toikeasti\tADV\tAdv\tDerivation=Sti\t24\tadvmod\t_\t_\n",
      "24\thyödyllistä\thyödyllinen\tADJ\tA\tCase=Par|Degree=Pos|Derivation=Llinen|Number=Sing\t21\tobj\t_\t_\n",
      "25\t.\t.\tPUNCT\tPunct\t_\t3\tpunct\t_\t_\n",
      "1\tMies\tmies\tNOUN\tN\tCase=Nom|Number=Sing\t2\tnsubj\t_\t_\n",
      "2\thuokaisi\thuokaista\tVERB\tV\tMood=Ind|Number=Sing|Person=3|Tense=Past|VerbForm=Fin|Voice=Act\t0\troot\t_\t_\n",
      "3\tsyvään\tsyvään\tADV\tAdv\t_\t2\tadvmod\t_\t_\n",
      "4\t,\t,\tPUNCT\tPunct\t_\t5\tpunct\t_\t_\n",
      "5\tlaski\tlaskea\tVERB\tV\tMood=Ind|Number=Sing|Person=3|Tense=Past|VerbForm=Fin|Voice=Act\t2\tconj\t_\t_\n",
      "6\tkynän\tkynä\tNOUN\tN\tCase=Gen|Number=Sing\t5\tobj\t_\t_\n",
      "7\tmustepulloon\tmuste#pullo\tNOUN\tN\tCase=Ill|Number=Sing\t5\tobl\t_\t_\n",
      "8\tja\tja\tCCONJ\tC\t_\t9\tcc\t_\t_\n",
      "9\tjäi\tjäädä\tVERB\tV\tMood=Ind|Number=Sing|Person=3|Tense=Past|VerbForm=Fin|Voice=Act\t2\tconj\t_\t_\n",
      "10\tkatsomaan\tkatsoa\tVERB\tV\tCase=Ill|InfForm=3|Number=Sing|VerbForm=Inf|Voice=Act\t9\txcomp\t_\t_\n",
      "11\thorisonttiin\thorisontti\tNOUN\tN\tCase=Ill|Number=Sing\t10\tobl\t_\t_\n",
      "12\t.\t.\tPUNCT\tPunct\t_\t2\tpunct\t_\t_\n",
      "1\t\"\t\"\tPUNCT\tPunct\t_\t3\tpunct\t_\t_\n",
      "2\tPahuksen\tpahus\tNOUN\tN\tCase=Gen|Number=Sing\t3\tnmod:poss\t_\t_\n",
      "3\tprofetia\tprofetia\tNOUN\tN\tCase=Nom|Number=Sing\t0\troot\t_\t_\n",
      "4\t.\t.\tPUNCT\tPunct\t_\t3\tpunct\t_\t_\n",
      "5\t\"\t\"\tPUNCT\tPunct\t_\t3\tpunct\t_\t_\n",
      "1\tLinnan\tlinna\tNOUN\tN\tCase=Gen|Number=Sing\t2\tnmod:poss\t_\t_\n",
      "2\tkorkeimmasta\tkorkea\tADJ\tA\tCase=Ela|Degree=Sup|Number=Sing\t3\tamod\t_\t_\n",
      "3\ttornista\ttorni\tNOUN\tN\tCase=Ela|Number=Sing\t4\tobl\t_\t_\n",
      "4\tnäki\tnähdä\tVERB\tV\tMood=Ind|Number=Sing|Person=0|Tense=Past|VerbForm=Fin|Voice=Act\t0\troot\t_\t_\n",
      "5\tympäröivän\tympäröidä\tVERB\tV\tCase=Gen|Degree=Pos|Number=Sing|PartForm=Pres|VerbForm=Part|Voice=Act\t6\tacl\t_\t_\n",
      "6\tkaupungin\tkaupunki\tNOUN\tN\tCase=Gen|Number=Sing\t11\tnmod\t_\t_\n",
      "7\tja\tja\tCCONJ\tC\t_\t8\tcc\t_\t_\n",
      "8\tpeltomaiden\tpelto#maa\tNOUN\tN\tCase=Gen|Number=Plur\t6\tconj\t_\t_\n",
      "9\tyli\tyli\tADP\tAdp\tAdpType=Post\t6\tcase\t_\t_\n",
      "10\tautioon\tautio\tADJ\tA\tCase=Ill|Degree=Pos|Number=Sing\t11\tamod\t_\t_\n",
      "11\treunaseutuun\treuna#seutu\tNOUN\tN\tCase=Ill|Number=Sing\t4\tobl\t_\t_\n",
      "12\t,\t,\tPUNCT\tPunct\t_\t15\tpunct\t_\t_\n",
      "13\tjoka\tjoka\tPRON\tPron\tCase=Nom|Number=Sing|PronType=Rel\t15\tnsubj\t_\t_\n",
      "14\tvähitellen\tvähitellen\tADV\tAdv\t_\t15\tadvmod\t_\t_\n",
      "15\tnousi\tnousta\tVERB\tV\tMood=Ind|Number=Sing|Person=3|Tense=Past|VerbForm=Fin|Voice=Act\t11\tacl:relcl\t_\t_\n",
      "16\tsynkkyyttä\tsynkkyys\tNOUN\tN\tCase=Par|Number=Sing\t17\tobj\t_\t_\n",
      "17\thuokuvaksi\thuokua\tVERB\tV\tCase=Tra|Degree=Pos|Number=Sing|PartForm=Pres|VerbForm=Part|Voice=Act\t18\tacl\t_\t_\n",
      "18\tvuoristoksi\tvuoristo\tNOUN\tN\tCase=Tra|Number=Sing\t15\txcomp\t_\t_\n",
      "19\t.\t.\tPUNCT\tPunct\t_\t4\tpunct\t_\t_\n",
      "1\tMies\tmies\tNOUN\tN\tCase=Nom|Number=Sing\t2\tnsubj\t_\t_\n",
      "2\tsiirtyi\tsiirtyä\tVERB\tV\tMood=Ind|Number=Sing|Person=3|Tense=Past|VerbForm=Fin|Voice=Act\t0\troot\t_\t_\n",
      "3\tvieressään\tvieressä\tADV\tAdv\tPerson[psor]=3\t4\tadvmod\t_\t_\n",
      "4\tolevan\tolla\tVERB\tV\tCase=Gen|Degree=Pos|Number=Sing|PartForm=Pres|VerbForm=Part|Voice=Act\t6\tacl\t_\t_\n",
      "5\tjyhkeän\tjyhkeä\tADJ\tA\tCase=Gen|Degree=Pos|Number=Sing\t6\tamod\t_\t_\n",
      "6\tkaukoputken\tkauko#putki\tNOUN\tN\tCase=Gen|Number=Sing\t2\tobl\t_\t_\n",
      "7\täärelle\tääri\tADP\tAdp\tAdpType=Post\t6\tcase\t_\t_\n",
      "8\tja\tja\tCCONJ\tC\t_\t9\tcc\t_\t_\n",
      "9\tkatsoi\tkatsoa\tVERB\tV\tMood=Ind|Number=Sing|Person=3|Tense=Past|VerbForm=Fin|Voice=Act\t2\tconj\t_\t_\n",
      "10\tsillä\tse\tPRON\tPron\tCase=Ade|Number=Sing|PronType=Dem\t9\tobl\t_\t_\n",
      "11\ttaas\ttaas\tADV\tAdv\t_\t9\tadvmod\t_\t_\n",
      "12\tvuorten\tvuori\tNOUN\tN\tCase=Gen|Number=Plur\t14\tobl\t_\t_\n",
      "13\tväliin\tväliin\tADP\tAdp\tAdpType=Post\t12\tcase\t_\t_\n",
      "14\tjäävään\tjäädä\tVERB\tV\tCase=Ill|Degree=Pos|Number=Sing|PartForm=Pres|VerbForm=Part|Voice=Act\t15\tacl\t_\t_\n",
      "15\tsolaan\tsola\tNOUN\tN\tCase=Ill|Number=Sing\t9\tobl\t_\t_\n",
      "16\t,\t,\tPUNCT\tPunct\t_\t18\tpunct\t_\t_\n",
      "17\tmissä\tmikä\tPRON\tPron\tCase=Ine|Number=Sing|PronType=Rel\t18\tobl\t_\t_\n",
      "18\tkulki\tkulkea\tVERB\tV\tMood=Ind|Number=Sing|Person=3|Tense=Past|VerbForm=Fin|Voice=Act\t15\tacl:relcl\t_\t_\n",
      "19\tvaltakunnat\tvalta#kunta\tNOUN\tN\tCase=Nom|Number=Plur\t20\tobj\t_\t_\n",
      "20\tyhdistävä\tyhdistää\tVERB\tV\tCase=Nom|Degree=Pos|Number=Sing|PartForm=Pres|VerbForm=Part|Voice=Act\t21\tacl\t_\t_\n",
      "21\tvaltatie\tvalta#tie\tNOUN\tN\tCase=Nom|Number=Sing\t18\tnsubj\t_\t_\n",
      "22\t.\t.\tPUNCT\tPunct\t_\t2\tpunct\t_\t_\n",
      "1\tTaistelu\ttaistelu\tNOUN\tN\tCase=Nom|Derivation=U|Number=Sing\t6\tnsubj:cop\t_\t_\n",
      "2\tsiellä\tsiellä\tADV\tAdv\t_\t1\tadvmod\t_\t_\n",
      "3\toli\tolla\tAUX\tV\tMood=Ind|Number=Sing|Person=3|Tense=Past|VerbForm=Fin|Voice=Act\t6\tcop\t_\t_\n",
      "4\tedelleen\tedelleen\tADV\tAdv\t_\t6\tadvmod\t_\t_\n",
      "5\ttäydessä\ttäysi\tADJ\tA\tCase=Ine|Degree=Pos|Number=Sing\t6\tamod\t_\t_\n",
      "6\tvauhdissa\tvauhti\tNOUN\tN\tCase=Ine|Number=Sing\t0\troot\t_\t_\n",
      "7\t.\t.\tPUNCT\tPunct\t_\t6\tpunct\t_\t_\n",
      "1\t\"\t\"\tPUNCT\tPunct\t_\t6\tpunct\t_\t_\n",
      "2\tOn\tolla\tAUX\tV\tMood=Ind|Number=Sing|Person=3|Tense=Pres|VerbForm=Fin|Voice=Act\t6\tcop\t_\t_\n",
      "3\ttuokin\ttuokin\tPRON\tPron\tCase=Nom|Clitic=Kin|Number=Sing|PronType=Dem\t6\tnsubj:cop\t_\t_\n",
      "4\ttaas\ttaas\tADV\tAdv\t_\t6\tadvmod\t_\t_\n",
      "5\tjärkevä\tjärkevä\tADJ\tA\tCase=Nom|Degree=Pos|Number=Sing\t6\tamod\t_\t_\n",
      "6\ttapa\ttapa\tNOUN\tN\tCase=Nom|Number=Sing\t0\troot\t_\t_\n",
      "7\tkuluttaa\tkuluttaa\tVERB\tV\tInfForm=1|Number=Sing|VerbForm=Inf|Voice=Act\t6\tacl\t_\t_\n",
      "8\taikaa\taika\tNOUN\tN\tCase=Par|Number=Sing\t7\tobj\t_\t_\n",
      "9\tja\tja\tCCONJ\tC\t_\t10\tcc\t_\t_\n",
      "10\tresursseja\tresurssi\tNOUN\tN\tCase=Par|Number=Plur\t8\tconj\t_\t_\n",
      "11\t.\t.\tPUNCT\tPunct\t_\t6\tpunct\t_\t_\n",
      "1\tLuulisi\tluulla\tVERB\tV\tMood=Cnd|Number=Sing|Person=0|VerbForm=Fin|Voice=Act\t0\troot\t_\t_\n",
      "2\t,\t,\tPUNCT\tPunct\t_\t8\tpunct\t_\t_\n",
      "3\tettä\tettä\tSCONJ\tC\t_\t8\tmark\t_\t_\n",
      "4\tneljässä\tneljä\tNUM\tNum\tCase=Ine|Number=Sing|NumType=Card\t5\tcompound\t_\t_\n",
      "5\tsadassa\tsata\tNUM\tNum\tCase=Ine|Number=Sing|NumType=Card\t6\tnummod\t_\t_\n",
      "6\tvuodessa\tvuosi\tNOUN\tN\tCase=Ine|Number=Sing\t8\tobl\t_\t_\n",
      "7\tihminen\tihminen\tNOUN\tN\tCase=Nom|Number=Sing\t8\tnsubj\t_\t_\n",
      "8\tkeksisi\tkeksiä\tVERB\tV\tMood=Cnd|Number=Sing|Person=3|VerbForm=Fin|Voice=Act\t1\tccomp\t_\t_\n",
      "9\tjärkevääkin\tjärkevä\tADJ\tA\tCase=Nom|Clitic=Kin|Degree=Pos|Number=Sing\t10\tamod\t_\t_\n",
      "10\ttekemistä\ttekeminen\tNOUN\tN\tCase=Par|Derivation=Minen|Number=Sing\t8\tobj\t_\t_\n",
      "11\t,\t,\tPUNCT\tPunct\t_\t17\tpunct\t_\t_\n",
      "12\tmutta\tmutta\tCCONJ\tC\t_\t17\tcc\t_\t_\n",
      "13\tei\tei\tVERB\tV\tNumber=Sing|Person=3|Polarity=Neg|VerbForm=Fin|Voice=Act\t17\taux\t_\t_\n",
      "14\tnähtävästi\tnähdä\tVERB\tV\tDerivation=Sti\t17\tadvmod\t_\t_\n",
      "15\t,\t,\tPUNCT\tPunct\t_\t14\tpunct\t_\t_\n",
      "16\thän\thän\tPRON\tPron\tCase=Nom|Number=Sing|Person=3|PronType=Prs\t17\tnsubj\t_\t_\n",
      "17\tkäänsi\tkääntää\tVERB\tV\tMood=Ind|Number=Sing|Person=3|Tense=Past|VerbForm=Fin|Voice=Act\t1\tconj\t_\t_\n",
      "18\tkaukoputkea\tkauko#putki\tNOUN\tN\tCase=Par|Number=Sing\t17\tobj\t_\t_\n",
      "19\thitusen\thitusen\tADV\tAdv\t_\t17\tadvmod\t_\t_\n",
      "20\t,\t,\tPUNCT\tPunct\t_\t23\tpunct\t_\t_\n",
      "21\tjotta\tjotta\tSCONJ\tC\t_\t23\tmark\t_\t_\n",
      "22\tnäkyviin\tnäkyä\tVERB\tV\tCase=Ill|Degree=Pos|Number=Plur|PartForm=Pres|VerbForm=Part|Voice=Act\t23\txcomp\t_\t_\n",
      "23\ttuli\ttulla\tVERB\tV\tMood=Ind|Number=Sing|Person=3|Tense=Past|VerbForm=Fin|Voice=Act\t17\tadvcl\t_\t_\n",
      "24\tvuorenrinteellä\tvuoren#rinne\tNOUN\tN\tCase=Ade|Number=Sing\t25\tobl\t_\t_\n",
      "25\tseisoskeleva\tseisoskella\tVERB\tV\tCase=Nom|Degree=Pos|Number=Sing|PartForm=Pres|VerbForm=Part|Voice=Act\t26\tacl\t_\t_\n",
      "26\thahmo\thahmo\tNOUN\tN\tCase=Nom|Number=Sing\t23\tnsubj\t_\t_\n",
      "27\tmustassa\tmusta\tADJ\tA\tCase=Ine|Degree=Pos|Number=Sing\t28\tamod\t_\t_\n",
      "28\thaarniskassa\thaarniska\tNOUN\tN\tCase=Ine|Number=Sing\t26\tnmod\t_\t_\n",
      "29\t.\t.\tPUNCT\tPunct\t_\t1\tpunct\t_\t_\n",
      "1\t\"\t\"\tPUNCT\tPunct\t_\t2\tpunct\t_\t_\n",
      "2\tPatsastelet\tpatsastella\tVERB\tV\tMood=Ind|Number=Sing|Person=2|Tense=Pres|VerbForm=Fin|Voice=Act\t0\troot\t_\t_\n",
      "3\tsiellä\tsiellä\tADV\tAdv\t_\t2\tadvmod\t_\t_\n",
      "4\tja\tja\tCCONJ\tC\t_\t5\tcc\t_\t_\n",
      "5\tlatelet\tladella\tVERB\tV\tMood=Ind|Number=Sing|Person=2|Tense=Pres|VerbForm=Fin|Voice=Act\t2\tconj\t_\t_\n",
      "6\tmahtipontisia\tmahtipontinen\tADJ\tA\tCase=Par|Degree=Pos|Derivation=Inen|Number=Plur\t7\tamod\t_\t_\n",
      "7\tsolvauksia\tsolvaus\tNOUN\tN\tCase=Par|Number=Plur\t5\tobj\t_\t_\n",
      "8\tepäkäytännöllisten\tepä#käytännöllinen\tADJ\tA\tCase=Gen|Degree=Pos|Derivation=Llinen|Number=Plur\t9\tamod\t_\t_\n",
      "9\tpiikkikoristeidesi\tpiikki#koriste\tNOUN\tN\tCase=Gen|Number=Plur|Number[psor]=Sing|Person[psor]=1\t5\tobl\t_\t_\n",
      "10\tkanssa\tkanssa\tADP\tAdp\tAdpType=Post\t9\tcase\t_\t_\n",
      "11\t.\t.\tPUNCT\tPunct\t_\t2\tpunct\t_\t_\n",
      "1\tMuuttuisit\tmuuttua\tVERB\tV\tMood=Cnd|Number=Sing|Person=2|VerbForm=Fin|Voice=Act\t0\troot\t_\t_\n",
      "2\tjo\tjo\tADV\tAdv\t_\t1\tadvmod\t_\t_\n",
      "3\tlohikäärmeeksi\tlohi#käärme\tNOUN\tN\tCase=Tra|Number=Sing\t1\txcomp\t_\t_\n",
      "4\tja\tja\tCCONJ\tC\t_\t5\tcc\t_\t_\n",
      "5\ttyhjentäisit\ttyhjentää\tVERB\tV\tMood=Cnd|Number=Sing|Person=2|VerbForm=Fin|Voice=Act\t1\tconj\t_\t_\n",
      "6\tkoko\tkoko\tADJ\tA\t_\t7\tamod\t_\t_\n",
      "7\ttantereen\ttantere\tNOUN\tN\tCase=Gen|Number=Sing\t5\tobj\t_\t_\n",
      "8\t.\t.\tPUNCT\tPunct\t_\t1\tpunct\t_\t_\n",
      "1\tTai\ttai\tCCONJ\tC\t_\t2\tcc\t_\t_\n",
      "2\taivopesisit\taivopesita\tVERB\tV\tMood=Cnd|Number=Sing|Person=2|VerbForm=Fin|Voice=Act\t0\troot\t_\t_\n",
      "3\tvastustajat\tvastustaja\tNOUN\tN\tCase=Nom|Derivation=Ja|Number=Plur\t2\tobj\t_\t_\n",
      "4\ttai\ttai\tCCONJ\tC\t_\t5\tcc\t_\t_\n",
      "5\ttekisit\ttehdä\tVERB\tV\tMood=Cnd|Number=Sing|Person=2|VerbForm=Fin|Voice=Act\t2\tconj\t_\t_\n",
      "6\tjotain\tjokin\tPRON\tPron\tCase=Par|Number=Sing|PronType=Ind\t5\tobj\t_\t_\n",
      "7\tkaikilla\tkaikki\tPRON\tPron\tCase=Ade|Number=Plur|PronType=Ind\t8\tdet\t_\t_\n",
      "8\tylivoimillasi\tyli#voima\tADJ\tA\tCase=Ade|Number=Plur|Number[psor]=Sing|Person[psor]=2\t5\tobl\t_\t_\n",
      "9\t.\t.\tPUNCT\tPunct\t_\t2\tpunct\t_\t_\n",
      "1\tMutta\tmutta\tCCONJ\tC\t_\t2\tcc\t_\t_\n",
      "2\tleikkiähän\tleikki\tNOUN\tN\tCase=Nom|Clitic=Han|Number=Sing\t0\troot\t_\t_\n",
      "3\ttämä\ttämä\tPRON\tPron\tCase=Nom|Number=Sing|PronType=Dem\t2\tnsubj:cop\t_\t_\n",
      "4\tkaikki\tkaikki\tPRON\tPron\tCase=Nom|Number=Sing|PronType=Ind\t2\tdet\t_\t_\n",
      "5\tsinulle\tsinä\tPRON\tPron\tCase=All|Number=Sing|Person=2|PronType=Prs\t2\tobl\t_\t_\n",
      "6\tvain\tvain\tADV\tAdv\t_\t5\tadvmod\t_\t_\n",
      "7\ton\tolla\tAUX\tV\tMood=Ind|Number=Sing|Person=3|Tense=Pres|VerbForm=Fin|Voice=Act\t2\tcop\t_\t_\n",
      "8\t.\t.\tPUNCT\tPunct\t_\t2\tpunct\t_\t_\n",
      "1\tToisten\ttoinen\tPRON\tPron\tCase=Gen|Number=Plur|PronType=Rcp\t2\tnmod:gsubj\t_\t_\n",
      "2\tkustannuksella\tkustannus\tNOUN\tN\tCase=Ade|Number=Sing\t0\troot\t_\t_\n",
      "3\t...\t...\tPUNCT\tPunct\t_\t2\tpunct\t_\t_\n",
      "4\t\"\t\"\tPUNCT\tPunct\t_\t2\tpunct\t_\t_\n",
      "1\tMies\tmies\tNOUN\tN\tCase=Nom|Number=Sing\t2\tnsubj\t_\t_\n",
      "2\tkäänsi\tkääntää\tVERB\tV\tMood=Ind|Number=Sing|Person=3|Tense=Past|VerbForm=Fin|Voice=Act\t0\troot\t_\t_\n",
      "3\ttaas\ttaas\tADV\tAdv\t_\t2\tadvmod\t_\t_\n",
      "4\tkaukoputkea\tkauko#putki\tNOUN\tN\tCase=Par|Number=Sing\t2\tobj\t_\t_\n",
      "5\tja\tja\tCCONJ\tC\t_\t6\tcc\t_\t_\n",
      "6\tbongasi\tbongata\tVERB\tV\tMood=Ind|Number=Sing|Person=3|Tense=Past|VerbForm=Fin|Voice=Act\t2\tconj\t_\t_\n",
      "7\tteinipojan\tteini#poika\tNOUN\tN\tCase=Gen|Number=Sing\t8\tnsubj\t_\t_\n",
      "8\tniittämässä\tniittää\tVERB\tV\tCase=Ine|InfForm=3|Number=Sing|VerbForm=Inf|Voice=Act\t6\txcomp:ds\t_\t_\n",
      "9\tluurankosotilaita\tluuran#koso#tilaita\tNOUN\tN\tCase=Par|Number=Plur\t8\tobj\t_\t_\n",
      "10\tleimuavalla\tleimuta\tVERB\tV\tCase=All|Degree=Pos|Number=Sing|PartForm=Pres|VerbForm=Part|Voice=Act\t11\tacl\t_\t_\n",
      "11\tmiekalla\tmiekka\tNOUN\tN\tCase=Ade|Number=Sing\t8\tobl\t_\t_\n",
      "12\t.\t.\tPUNCT\tPunct\t_\t2\tpunct\t_\t_\n",
      "1\t\"\t\"\tPUNCT\tPunct\t_\t0\tpunct\t_\t_\n",
      "1\tJa\tja\tCCONJ\tC\t_\t5\tcc\t_\t_\n",
      "2\tsinä\tsinä\tPRON\tPron\tCase=Nom|Number=Sing|Person=2|PronType=Prs\t5\tnsubj\t_\t_\n",
      "3\t,\t,\tPUNCT\tPunct\t_\t5\tpunct\t_\t_\n",
      "4\thän\thän\tPRON\tPron\tCase=Nom|Number=Sing|Person=3|PronType=Prs\t5\tnsubj\t_\t_\n",
      "5\tosoitteli\tosoitella\tVERB\tV\tMood=Ind|Number=Sing|Person=3|Tense=Past|VerbForm=Fin|Voice=Act\t0\troot\t_\t_\n",
      "6\tsyyttävästi\tsyyttävästi\tADV\tAdv\tDerivation=Sti\t5\tadvmod\t_\t_\n",
      "7\tilmaa\tilma\tNOUN\tN\tCase=Par|Number=Sing\t5\tobj\t_\t_\n",
      "8\t,\t,\tPUNCT\tPunct\t_\t11\tpunct\t_\t_\n",
      "9\t\"\t\"\tPUNCT\tPunct\t_\t11\tpunct\t_\t_\n",
      "10\ttyhjänpäiväinen\ttyhjän#päiväinen\tADJ\tA\tCase=Nom|Degree=Pos|Derivation=Inen|Number=Sing\t11\tamod\t_\t_\n",
      "11\tkynttilänvalaja\tkynttilän#valaja\tNOUN\tN\tCase=Nom|Number=Sing\t2\tappos\t_\t_\n",
      "12\t,\t,\tPUNCT\tPunct\t_\t11\tpunct\t_\t_\n",
      "13\tluulet\tluulla\tVERB\tV\tMood=Ind|Number=Sing|Person=2|Tense=Pres|VerbForm=Fin|Voice=Act\t2\tparataxis\t_\t_\n",
      "14\tolevasi\tolla\tAUX\tV\tCase=Gen|Degree=Pos|Number=Sing|Number[psor]=Sing|PartForm=Pres|Person[psor]=2|VerbForm=Part|Voice=Act\t16\tcop\t_\t_\n",
      "15\toikeasti\toikeasti\tADV\tAdv\tDerivation=Sti\t16\tadvmod\t_\t_\n",
      "16\tmerkityksellinen\tmerkityksellinen\tADJ\tA\tCase=Nom|Degree=Pos|Derivation=Llinen|Number=Sing\t13\txcomp\t_\t_\n",
      "17\t.\t.\tPUNCT\tPunct\t_\t5\tpunct\t_\t_\n",
      "1\tMikä\tmikä\tPRON\tPron\tCase=Nom|Number=Sing|PronType=Int\t3\tnsubj\t_\t_\n",
      "2\tmuka\tmuka\tADV\tAdv\t_\t3\tadvmod\t_\t_\n",
      "3\ttekee\ttehdä\tVERB\tV\tMood=Ind|Number=Sing|Person=3|Tense=Pres|VerbForm=Fin|Voice=Act\t0\troot\t_\t_\n",
      "4\tsinusta\tsinä\tPRON\tPron\tCase=Ela|Number=Sing|Person=2|PronType=Prs\t3\tobl\t_\t_\n",
      "5\tenemmän\tenemmän\tADV\tAdv\t_\t6\tadvmod\t_\t_\n",
      "6\tvalitun\tvalita\tVERB\tV\tCase=Gen|Degree=Pos|Number=Sing|PartForm=Past|VerbForm=Part|Voice=Pass\t3\tobj\t_\t_\n",
      "7\tkuin\tkuin\tSCONJ\tC\t_\t9\tmark\t_\t_\n",
      "8\tjoku\tjoku\tPRON\tPron\tCase=Nom|Number=Sing|PronType=Ind\t9\tdet\t_\t_\n",
      "9\ttoinen\ttoinen\tPRON\tPron\tCase=Nom|Number=Sing|PronType=Rcp\t5\tadvcl\t_\t_\n",
      "10\t,\t,\tPUNCT\tPunct\t_\t3\tpunct\t_\t_\n",
      "11\thäh\thäh\tINTJ\tInterj\t_\t3\tdiscourse\t_\t_\n",
      "12\t?\t?\tPUNCT\tPunct\t_\t3\tpunct\t_\t_\n",
      "1\tJoku\tjoku\tPRON\tPron\tCase=Nom|Number=Sing|PronType=Ind\t3\tnsubj\t_\t_\n",
      "2\tvain\tvain\tADV\tAdv\t_\t3\tadvmod\t_\t_\n",
      "3\tpäätti\tpäättää\tVERB\tV\tMood=Ind|Number=Sing|Person=3|Tense=Past|VerbForm=Fin|Voice=Act\t0\troot\t_\t_\n",
      "4\t,\t,\tPUNCT\tPunct\t_\t9\tpunct\t_\t_\n",
      "5\tettä\tettä\tSCONJ\tC\t_\t9\tmark\t_\t_\n",
      "6\tsinä\tsinä\tPRON\tPron\tCase=Nom|Number=Sing|Person=2|PronType=Prs\t9\tnsubj:cop\t_\t_\n",
      "7\tnyt\tnyt\tADV\tAdv\t_\t9\tadvmod\t_\t_\n",
      "8\tolet\tolla\tAUX\tV\tMood=Ind|Number=Sing|Person=2|Tense=Pres|VerbForm=Fin|Voice=Act\t9\tcop\t_\t_\n",
      "9\ttärkein\ttärkeä\tADJ\tA\tCase=Nom|Degree=Sup|Number=Sing\t3\tccomp\t_\t_\n",
      "10\tkaikista\tkaikki\tPRON\tPron\tCase=Ela|Number=Plur|PronType=Ind\t9\tnmod\t_\t_\n",
      "11\t.\t.\tPUNCT\tPunct\t_\t3\tpunct\t_\t_\n",
      "1\tOlet\tolla\tAUX\tV\tMood=Ind|Number=Sing|Person=2|Tense=Pres|VerbForm=Fin|Voice=Act\t5\tcop\t_\t_\n",
      "2\tihan\tihan\tADV\tAdv\t_\t5\tadvmod\t_\t_\n",
      "3\tyhtä\tyhtä\tADV\tAdv\t_\t5\tadvmod\t_\t_\n",
      "4\tlailla\tlailla\tADV\tAdv\t_\t5\tadvmod\t_\t_\n",
      "5\tmurhaaja\tmurhaaja\tNOUN\tN\tCase=Nom|Derivation=Ja|Number=Sing\t0\troot\t_\t_\n",
      "6\tja\tja\tCCONJ\tC\t_\t7\tcc\t_\t_\n",
      "7\ttuhoaja\ttuhoaja\tNOUN\tN\tCase=Nom|Derivation=Ja|Number=Sing\t5\tconj\t_\t_\n",
      "8\tkuin\tkuin\tSCONJ\tC\t_\t9\tmark\t_\t_\n",
      "9\tmuutkin\tmuu\tPRON\tPron\tCase=Nom|Clitic=Kin|Number=Plur|PronType=Ind\t5\tadvcl\t_\t_\n",
      "10\t.\t.\tPUNCT\tPunct\t_\t5\tpunct\t_\t_\n",
      "1\tTuhlaat\ttuhlata\tVERB\tV\tMood=Ind|Number=Sing|Person=2|Tense=Pres|VerbForm=Fin|Voice=Act\t0\troot\t_\t_\n",
      "2\telämääsi\telämä\tNOUN\tN\tCase=Par|Number=Sing|Number[psor]=Sing|Person[psor]=2\t1\tobj\t_\t_\n",
      "3\tjatkuvasti\tjatkuvasti\tADV\tAdv\tDerivation=Sti\t1\tadvmod\t_\t_\n",
      "4\ttapellen\ttapella\tVERB\tV\tCase=Ins|InfForm=2|Number=Sing|VerbForm=Inf|Voice=Act\t1\tadvcl\t_\t_\n",
      "5\tsiihen\tse\tPRON\tPron\tCase=Ill|Number=Sing|PronType=Dem\t4\tobl\t_\t_\n",
      "6\tasti\tasti\tADP\tAdp\tAdpType=Post\t5\tcase\t_\t_\n",
      "7\t,\t,\tPUNCT\tPunct\t_\t10\tpunct\t_\t_\n",
      "8\tettä\tettä\tSCONJ\tC\t_\t10\tmark\t_\t_\n",
      "9\tPimeydenvaltias\tpimeyden#valtias\tNOUN\tN\tCase=Nom|Number=Sing\t10\tnsubj\t_\t_\n",
      "10\thaluaa\thaluta\tVERB\tV\tMood=Ind|Number=Sing|Person=3|Tense=Pres|VerbForm=Fin|Voice=Act\t5\tccomp\t_\t_\n",
      "11\tvaihtaa\tvaihtaa\tVERB\tV\tInfForm=1|Number=Sing|VerbForm=Inf|Voice=Act\t10\txcomp\t_\t_\n",
      "12\tvalittua\tvalittua\tVERB\tV\tCase=Par|Degree=Pos|Number=Sing|PartForm=Pres|VerbForm=Part|Voice=Pass\t11\tobj\t_\t_\n",
      "13\tja\tja\tCCONJ\tC\t_\t14\tcc\t_\t_\n",
      "14\tpistää\tpistää\tVERB\tV\tInfForm=1|Number=Sing|VerbForm=Inf|Voice=Act\t11\tconj\t_\t_\n",
      "15\tsinut\tsinä\tPRON\tPron\tCase=Acc|Number=Sing|Person=2|PronType=Prs\t14\tobj\t_\t_\n",
      "16\tpois\tpois\tADV\tAdv\t_\t14\tadvmod\t_\t_\n",
      "17\tpäiviltä\tpäivä\tNOUN\tN\tCase=Abl|Number=Plur\t16\tnmod\t_\t_\n",
      "18\t.\t.\tPUNCT\tPunct\t_\t1\tpunct\t_\t_\n",
      "19\t\"\t\"\tPUNCT\tPunct\t_\t1\tpunct\t_\t_\n",
      "1\tTornin\ttorni\tNOUN\tN\tCase=Gen|Number=Sing\t2\tnmod:poss\t_\t_\n",
      "2\tkattoparrujen\tkatto#parru\tNOUN\tN\tCase=Gen|Number=Plur\t4\tobl\t_\t_\n",
      "3\tvälistä\tvälistä\tADP\tAdp\tAdpType=Post\t2\tcase\t_\t_\n",
      "4\tkuului\tkuulua\tVERB\tV\tMood=Ind|Number=Sing|Person=3|Tense=Past|VerbForm=Fin|Voice=Act\t0\troot\t_\t_\n",
      "5\trahinaa\trahina\tNOUN\tN\tCase=Par|Number=Sing\t4\tnsubj\t_\t_\n",
      "6\tja\tja\tCCONJ\tC\t_\t9\tcc\t_\t_\n",
      "7\tmiehen\tmies\tNOUN\tN\tCase=Gen|Number=Sing\t8\tnmod:poss\t_\t_\n",
      "8\thuomio\thuomio\tNOUN\tN\tCase=Nom|Number=Sing\t9\tnsubj\t_\t_\n",
      "9\tkiinnittyi\tkiinnittyä\tVERB\tV\tMood=Ind|Number=Sing|Person=3|Tense=Past|VerbForm=Fin|Voice=Act\t4\tconj\t_\t_\n",
      "10\tääneen\tääneen\tADV\tAdv\t_\t9\tadvmod\t_\t_\n",
      "11\t.\t.\tPUNCT\tPunct\t_\t4\tpunct\t_\t_\n",
      "1\tPikkuinen\tpikkuinen\tADJ\tA\tCase=Nom|Degree=Pos|Derivation=Inen|Number=Sing\t4\tamod\t_\t_\n",
      "2\t,\t,\tPUNCT\tPunct\t_\t4\tpunct\t_\t_\n",
      "3\tvaaleanvioletti\tvaalean#violetti\tADJ\tA\tCase=Nom|Degree=Pos|Number=Sing\t4\tamod\t_\t_\n",
      "4\tlirpakko\tlirpakko\tNOUN\tN\tCase=Nom|Number=Sing\t5\tnsubj\t_\t_\n",
      "5\theräsi\therätä\tVERB\tV\tMood=Ind|Number=Sing|Person=3|Tense=Past|VerbForm=Fin|Voice=Act\t0\troot\t_\t_\n",
      "6\taamu-uniltaan\taamu#unillas\tNOUN\tN\tCase=Ill|Number=Sing\t5\tobl\t_\t_\n",
      "7\tja\tja\tCCONJ\tC\t_\t8\tcc\t_\t_\n",
      "8\tverrytteli\tverrytellä\tVERB\tV\tMood=Ind|Number=Sing|Person=3|Tense=Past|VerbForm=Fin|Voice=Act\t5\tconj\t_\t_\n",
      "9\tnahkaisia\tnahkainen\tADJ\tA\tCase=Par|Degree=Pos|Derivation=Inen|Number=Plur\t10\tamod\t_\t_\n",
      "10\tsiipiään\tsiipi\tNOUN\tN\tCase=Par|Number=Plur|Person[psor]=3\t8\tobj\t_\t_\n",
      "11\t.\t.\tPUNCT\tPunct\t_\t5\tpunct\t_\t_\n",
      "1\tMies\tmies\tNOUN\tN\tCase=Nom|Number=Sing\t2\tnsubj\t_\t_\n",
      "2\tkatsoi\tkatsoa\tVERB\tV\tMood=Ind|Number=Sing|Person=3|Tense=Past|VerbForm=Fin|Voice=Act\t0\troot\t_\t_\n",
      "3\teläintä\teläin\tNOUN\tN\tCase=Par|Number=Sing\t2\tobj\t_\t_\n",
      "4\tniin\tniin\tADV\tAdv\t_\t5\tadvmod\t_\t_\n",
      "5\tkauan\tkauan\tADV\tAdv\t_\t2\tadvmod\t_\t_\n",
      "6\t,\t,\tPUNCT\tPunct\t_\t9\tpunct\t_\t_\n",
      "7\tettä\tettä\tSCONJ\tC\t_\t9\tmark\t_\t_\n",
      "8\tsekin\tse\tPRON\tPron\tCase=Nom|Clitic=Kin|Number=Sing|PronType=Dem\t9\tnsubj\t_\t_\n",
      "9\tlaski\tlaskea\tVERB\tV\tMood=Ind|Number=Sing|Person=3|Tense=Past|VerbForm=Fin|Voice=Act\t5\tccomp\t_\t_\n",
      "10\tkatseensa\tkatse\tNOUN\tN\tCase=Nom|Number=Plur|Person[psor]=3\t9\tobj\t_\t_\n",
      "11\thäneen\thän\tPRON\tPron\tCase=Ill|Number=Sing|Person=3|PronType=Prs\t9\tobl\t_\t_\n",
      "12\tja\tja\tCCONJ\tC\t_\t13\tcc\t_\t_\n",
      "13\tkallisti\tkallistaa\tVERB\tV\tMood=Ind|Number=Sing|Person=3|Tense=Past|VerbForm=Fin|Voice=Act\t9\tconj\t_\t_\n",
      "14\tvähän\tvähän\tADV\tAdv\t_\t13\tadvmod\t_\t_\n",
      "15\tuntuvaista\tuntua\tVERB\tV\tCase=Par|Degree=Pos|Derivation=Inen|Number=Sing\t16\tacl\t_\t_\n",
      "16\tpäätään\tpää\tNOUN\tN\tCase=Par|Number=Sing|Person[psor]=3\t13\tobj\t_\t_\n",
      "17\t.\t.\tPUNCT\tPunct\t_\t2\tpunct\t_\t_\n",
      "1\t\"\t\"\tPUNCT\tPunct\t_\t10\tpunct\t_\t_\n",
      "2\tEttä\tettä\tSCONJ\tC\t_\t10\tmark\t_\t_\n",
      "3\tnoiden\ttuo\tPRON\tPron\tCase=Gen|Number=Plur|PronType=Dem\t5\tdet\t_\t_\n",
      "4\tkahden\tkaksi\tNUM\tNum\tCase=Gen|Number=Sing|NumType=Card\t5\tnummod\t_\t_\n",
      "5\tidiootin\tidiootti\tNOUN\tN\tCase=Gen|Number=Sing\t10\tobl\t_\t_\n",
      "6\tympärillä\tympärillä\tADP\tAdp\tAdpType=Post\t5\tcase\t_\t_\n",
      "7\tsitten\tsitten\tADV\tAdv\t_\t10\tadvmod\t_\t_\n",
      "8\tkoko\tkoko\tADJ\tA\t_\t9\tamod\t_\t_\n",
      "9\tmaailma\tmaailma\tNOUN\tN\tCase=Nom|Number=Sing\t10\tnsubj\t_\t_\n",
      "10\tpyörii\tpyöriä\tVERB\tV\tMood=Ind|Number=Sing|Person=3|Tense=Pres|VerbForm=Fin|Voice=Act\t0\troot\t_\t_\n",
      "11\t!\t!\tPUNCT\tPunct\t_\t10\tpunct\t_\t_\n",
      "12\t\"\t\"\tPUNCT\tPunct\t_\t10\tpunct\t_\t_\n",
      "13\thän\thän\tPRON\tPron\tCase=Nom|Number=Sing|Person=3|PronType=Prs\t14\tnsubj\t_\t_\n",
      "14\tjatkoi\tjatkaa\tVERB\tV\tMood=Ind|Number=Sing|Person=3|Tense=Past|VerbForm=Fin|Voice=Act\t10\tparataxis\t_\t_\n",
      "15\tselostustaan\tselostus\tNOUN\tN\tCase=Par|Number=Sing|Person[psor]=3\t14\tobj\t_\t_\n",
      "16\t.\t.\tPUNCT\tPunct\t_\t10\tpunct\t_\t_\n",
      "1\t\"\t\"\tPUNCT\tPunct\t_\t6\tpunct\t_\t_\n",
      "2\tSinäkin\tsinäkin\tADV\tAdv\tClitic=Kin\t6\tnsubj\t_\t_\n",
      "3\tvarmasti\tvarmasti\tADV\tAdv\tDerivation=Sti\t6\tadvmod\t_\t_\n",
      "4\thiljaa\thiljaa\tADV\tAdv\t_\t6\tadvmod\t_\t_\n",
      "5\tmielessäsi\tmieli\tNOUN\tN\tNumber[psor]=Sing|Person[psor]=2\t4\tnmod\t_\t_\n",
      "6\tnaurat\tnauraa\tVERB\tV\tMood=Ind|Number=Sing|Person=2|Tense=Pres|VerbForm=Fin|Voice=Act\t0\troot\t_\t_\n",
      "7\tmeille\tminä\tPRON\tPron\tCase=All|Number=Plur|Person=1|PronType=Prs\t8\tdet\t_\t_\n",
      "8\tihmisille\tihminen\tNOUN\tN\tCase=All|Number=Plur\t6\tobl\t_\t_\n",
      "9\t.\t.\tPUNCT\tPunct\t_\t6\tpunct\t_\t_\n",
      "1\tEtkö\tei\tVERB\tV\tClitic=Ko|Mood=Ind|Number=Sing|Person=2|Tense=Pres|VerbForm=Fin|Voice=Act\t0\troot\t_\t_\n",
      "2\tvain\tvain\tADV\tAdv\t_\t1\tadvmod\t_\t_\n",
      "3\t?\t?\tPUNCT\tPunct\t_\t1\tpunct\t_\t_\n",
      "4\t\"\t\"\tPUNCT\tPunct\t_\t1\tpunct\t_\t_\n",
      "1\t\t\tPROPN\tN\tCase=Nom|Number=Sing\t3\tnsubj\t_\t_\n",
      "2\tei\tei\tAUX\tV\tNumber=Sing|Person=3|Polarity=Neg|VerbForm=Fin|Voice=Act\t3\taux\t_\t_\n",
      "3\tkommentoinut\tkommentoida\tVERB\tV\tCase=Nom|Degree=Pos|Number=Sing|PartForm=Past|VerbForm=Part|Voice=Act\t0\troot\t_\t_\n",
      "4\tasiaa\tasia\tNOUN\tN\tCase=Par|Number=Sing\t3\tobj\t_\t_\n",
      "5\t,\t,\tPUNCT\tPunct\t_\t7\tpunct\t_\t_\n",
      "6\tvaan\tvaan\tCCONJ\tC\t_\t7\tcc\t_\t_\n",
      "7\talkoi\talkaa\tVERB\tV\tMood=Ind|Number=Sing|Person=3|Tense=Past|VerbForm=Fin|Voice=Act\t3\tconj\t_\t_\n",
      "8\tsukia\tsukia\tVERB\tV\tInfForm=1|Number=Sing|VerbForm=Inf|Voice=Act\t7\txcomp\t_\t_\n",
      "9\titseään\titse\tPRON\tPron\tCase=Par|Number=Sing|Person[psor]=3|Reflex=Yes\t8\tobj\t_\t_\n",
      "10\t.\t.\tPUNCT\tPunct\t_\t3\tpunct\t_\t_\n",
      "1\tMieskin\tmies\tNOUN\tN\tCase=Nom|Clitic=Kin|Number=Sing\t2\tnsubj\t_\t_\n",
      "2\tlaski\tlaskea\tVERB\tV\tMood=Ind|Number=Sing|Person=3|Tense=Past|VerbForm=Fin|Voice=Act\t0\troot\t_\t_\n",
      "3\tkatseensa\tkatse\tNOUN\tN\tCase=Nom|Number=Plur|Person[psor]=3\t2\tobj\t_\t_\n",
      "4\tharmaan\tharmaa\tADJ\tA\tCase=Gen|Degree=Pos|Number=Sing\t10\tamod\t_\t_\n",
      "5\t,\t,\tPUNCT\tPunct\t_\t6\tpunct\t_\t_\n",
      "6\tmöyheän\tmöyheä\tADJ\tA\tCase=Gen|Degree=Pos|Number=Sing\t4\tconj\t_\t_\n",
      "7\tja\tja\tCCONJ\tC\t_\t9\tcc\t_\t_\n",
      "8\tauringossa\taurinko\tNOUN\tN\tCase=Ine|Number=Sing\t9\tobl\t_\t_\n",
      "9\tkiiltelevän\tkiillellä\tVERB\tV\tCase=Gen|Degree=Pos|Number=Sing|PartForm=Pres|VerbForm=Part|Voice=Act\t4\tconj\t_\t_\n",
      "10\taamutakkinsa\taamu#takki\tNOUN\tN\tCase=Gen|Number=Sing|Person[psor]=3\t11\tnmod:poss\t_\t_\n",
      "11\thelmoihin\thelma\tNOUN\tN\tCase=Ill|Number=Plur\t2\tobl\t_\t_\n",
      "12\t.\t.\tPUNCT\tPunct\t_\t2\tpunct\t_\t_\n",
      "1\t\"\t\"\tPUNCT\tPunct\t_\t8\tpunct\t_\t_\n",
      "2\tTiedätkö\ttietää\tVERB\tV\tClitic=Ko|Mood=Ind|Number=Sing|Person=2|Style=Coll|Tense=Pres|VerbForm=Fin|Voice=Act\t8\tdiscourse\t_\t_\n",
      "3\t,\t,\tPUNCT\tPunct\t_\t2\tpunct\t_\t_\n",
      "4\tminäkin\tminä\tPRON\tPron\tCase=Nom|Clitic=Kin|Number=Sing|Person=1|PronType=Prs\t8\tnsubj\t_\t_\n",
      "5\tvoisin\tvoida\tAUX\tV\tMood=Cnd|Number=Sing|Person=1|VerbForm=Fin|Voice=Act\t8\taux\t_\t_\n",
      "6\tolla\tolla\tAUX\tV\tInfForm=1|Number=Sing|VerbForm=Inf|Voice=Act\t8\taux\t_\t_\n",
      "7\ttuolla\ttuolla\tADV\tAdv\t_\t8\tadvmod\t_\t_\n",
      "8\ttaistelemassa\ttaistella\tVERB\tV\tCase=Ine|InfForm=3|Number=Sing|VerbForm=Inf|Voice=Act\t0\troot\t_\t_\n",
      "9\t.\t.\tPUNCT\tPunct\t_\t8\tpunct\t_\t_\n",
      "1\tSama\tsama\tPRON\tPron\tCase=Nom|Number=Sing|PronType=Ind\t0\troot\t_\t_\n",
      "2\tkumpaa\tkumpi\tPRON\tPron\tCase=Par|Number=Sing|PronType=Ind\t1\tnmod\t_\t_\n",
      "3\tvastaan\tvastaan\tADP\tAdp\tAdpType=Post\t2\tcase\t_\t_\n",
      "4\t.\t.\tPUNCT\tPunct\t_\t1\tpunct\t_\t_\n",
      "1\tKyllä\tkyllä\tADV\tAdv\t_\t4\tadvmod\t_\t_\n",
      "2\tvaihtoehtoja\tvaihto#ehto\tNOUN\tN\tCase=Par|Number=Plur\t4\tnsubj\t_\t_\n",
      "3\tolisi\tolla\tAUX\tV\tMood=Cnd|Number=Sing|Person=3|VerbForm=Fin|Voice=Act\t4\taux\t_\t_\n",
      "4\tollut\tolla\tVERB\tV\tCase=Nom|Degree=Pos|Number=Sing|PartForm=Past|VerbForm=Part|Voice=Act\t0\troot\t_\t_\n",
      "5\t,\t,\tPUNCT\tPunct\t_\t7\tpunct\t_\t_\n",
      "6\tmutta\tmutta\tCCONJ\tC\t_\t7\tcc\t_\t_\n",
      "7\tei\tei\tVERB\tV\tNumber=Sing|Person=3|Polarity=Neg|VerbForm=Fin|Voice=Act\t4\tconj\t_\t_\n",
      "8\t!\t!\tPUNCT\tPunct\t_\t4\tpunct\t_\t_\n",
      "1\tJoutava\tjoutava\tADJ\tA\tCase=Nom|Degree=Pos|Number=Sing\t2\tamod\t_\t_\n",
      "2\tpelkuri\tpelkuri\tNOUN\tN\tCase=Nom|Number=Sing\t0\troot\t_\t_\n",
      "3\t.\t.\tPUNCT\tPunct\t_\t2\tpunct\t_\t_\n",
      "4\t\"\t\"\tPUNCT\tPunct\t_\t2\tpunct\t_\t_\n",
      "1\tKaukainen\tkaukainen\tADJ\tA\tCase=Nom|Degree=Pos|Derivation=Inen|Number=Sing\t2\tamod\t_\t_\n",
      "2\tjyty\tjyty\tNOUN\tN\tCase=Nom|Number=Sing\t3\tnsubj\t_\t_\n",
      "3\tkaikui\tkaikua\tVERB\tV\tMood=Ind|Number=Sing|Person=3|Tense=Past|VerbForm=Fin|Voice=Act\t0\troot\t_\t_\n",
      "4\tyli\tyli\tADP\tAdp\tAdpType=Prep\t5\tcase\t_\t_\n",
      "5\tmaan\tmaa\tNOUN\tN\tCase=Gen|Number=Sing\t3\tobl\t_\t_\n",
      "6\t,\t,\tPUNCT\tPunct\t_\t10\tpunct\t_\t_\n",
      "7\tkun\tkun\tSCONJ\tC\t_\t10\tmark\t_\t_\n",
      "8\tsynkät\tsynkkä\tADJ\tA\tCase=Nom|Degree=Pos|Number=Plur\t9\tamod\t_\t_\n",
      "9\tpilvet\tpilvi\tNOUN\tN\tCase=Nom|Number=Plur\t10\tnsubj\t_\t_\n",
      "10\tvyöryivät\tvyöryä\tVERB\tV\tMood=Ind|Number=Plur|Person=3|Tense=Past|VerbForm=Fin|Voice=Act\t3\tadvcl\t_\t_\n",
      "11\tvuoristoon\tvuoristo\tNOUN\tN\tCase=Ill|Number=Sing\t10\tobl\t_\t_\n",
      "12\t,\t,\tPUNCT\tPunct\t_\t13\tpunct\t_\t_\n",
      "13\tvarjostaen\tvarjostaa\tVERB\tV\tCase=Ins|InfForm=2|Number=Sing|VerbForm=Inf|Voice=Act\t10\tadvcl\t_\t_\n",
      "14\ttaistelukentän\ttaistelu#kenttä\tNOUN\tN\tCase=Gen|Number=Sing\t13\tobj\t_\t_\n",
      "15\tdramaattisesti\tdramaattisesti\tADV\tAdv\tDerivation=Sti\t13\tadvmod\t_\t_\n",
      "16\t.\t.\tPUNCT\tPunct\t_\t3\tpunct\t_\t_\n",
      "1\tMies\tmies\tNOUN\tN\tCase=Nom|Number=Sing\t2\tnsubj\t_\t_\n",
      "2\tvilkaisi\tvilkaista\tVERB\tV\tMood=Ind|Number=Sing|Person=3|Tense=Past|VerbForm=Fin|Voice=Act\t0\troot\t_\t_\n",
      "3\tpitelemäänsä\tpidellä\tVERB\tV\tCase=Par|Degree=Pos|Number=Sing|PartForm=Agt|Person[psor]=3|VerbForm=Part|Voice=Act\t4\tacl\t_\t_\n",
      "4\tpaperia\tpaperi\tNOUN\tN\tCase=Par|Number=Sing\t2\tobj\t_\t_\n",
      "5\t,\t,\tPUNCT\tPunct\t_\t6\tpunct\t_\t_\n",
      "6\trepi\trepiä\tVERB\tV\tMood=Ind|Number=Sing|Person=3|Tense=Past|VerbForm=Fin|Voice=Act\t2\tconj\t_\t_\n",
      "7\tsen\tse\tPRON\tPron\tCase=Gen|Number=Sing|PronType=Dem\t6\tobj\t_\t_\n",
      "8\tpieneksi\tpieni\tADJ\tA\tCase=Tra|Degree=Pos|Number=Sing\t9\tamod\t_\t_\n",
      "9\tsilpuksi\tsilppu\tNOUN\tN\tCase=Tra|Derivation=U|Number=Sing\t6\txcomp:ds\t_\t_\n",
      "10\t,\t,\tPUNCT\tPunct\t_\t11\tpunct\t_\t_\n",
      "11\tpuristi\tpuristaa\tVERB\tV\tMood=Ind|Number=Sing|Person=3|Tense=Past|VerbForm=Fin|Voice=Act\t2\tconj\t_\t_\n",
      "12\tsilpun\tsilppu\tNOUN\tN\tCase=Gen|Number=Sing\t11\tobj\t_\t_\n",
      "13\tnyrkkiin\tnyrkki\tNOUN\tN\tCase=Ill|Number=Sing\t11\tobl\t_\t_\n",
      "14\tja\tja\tCCONJ\tC\t_\t15\tcc\t_\t_\n",
      "15\tnojasi\tnojata\tVERB\tV\tMood=Ind|Number=Sing|Person=3|Tense=Past|VerbForm=Fin|Voice=Act\t2\tconj\t_\t_\n",
      "16\tmurahdellen\tmurahdella\tVERB\tV\tCase=Ins|InfForm=2|Number=Sing|VerbForm=Inf|Voice=Act\t15\tadvcl\t_\t_\n",
      "17\ttornin\ttorni\tNOUN\tN\tCase=Gen|Number=Sing\t18\tnmod:poss\t_\t_\n",
      "18\tkivikaiteeseen\tkivi#kaide\tNOUN\tN\tCase=Ill|Number=Sing\t15\tobl\t_\t_\n",
      "19\t.\t.\tPUNCT\tPunct\t_\t2\tpunct\t_\t_\n",
      "1\t\"\t\"\tPUNCT\tPunct\t_\t3\tpunct\t_\t_\n",
      "2\tKuka\tkuka\tPRON\tPron\tCase=Nom|Number=Sing|PronType=Int\t3\tnsubj\t_\t_\n",
      "3\ttietää\ttietää\tVERB\tV\tMood=Ind|Number=Sing|Person=3|Tense=Pres|VerbForm=Fin|Voice=Act\t0\troot\t_\t_\n",
      "4\t,\t,\tPUNCT\tPunct\t_\t9\tpunct\t_\t_\n",
      "5\tmitä\tmikä\tPRON\tPron\tCase=Par|Number=Sing|PronType=Int\t6\tdet\t_\t_\n",
      "6\tkaikkea\tkaikki\tPRON\tPron\tCase=Par|Number=Sing|PronType=Ind\t9\tobj\t_\t_\n",
      "7\tolisin\tolla\tAUX\tV\tMood=Cnd|Number=Sing|Person=1|VerbForm=Fin|Voice=Act\t9\taux\t_\t_\n",
      "8\tvoinut\tvoida\tAUX\tV\tCase=Nom|Degree=Pos|Number=Sing|PartForm=Past|VerbForm=Part|Voice=Act\t9\taux\t_\t_\n",
      "9\testää\testää\tVERB\tV\tInfForm=1|Number=Sing|VerbForm=Inf|Voice=Act\t3\tccomp\t_\t_\n",
      "10\t...\t...\tPUNCT\tPunct\t_\t3\tpunct\t_\t_\n",
      "11\t\"\t\"\tPUNCT\tPunct\t_\t3\tpunct\t_\t_\n",
      "1\tLirpakko\tlirpakko\tNOUN\tN\tCase=Nom|Number=Sing\t2\tnsubj\t_\t_\n",
      "2\tsirkutti\tsirkuttaa\tVERB\tV\tMood=Ind|Number=Sing|Person=3|Tense=Past|VerbForm=Fin|Voice=Act\t0\troot\t_\t_\n",
      "3\tkaukaisuuteen\tkaukaisuus\tNOUN\tN\tCase=Ill|Derivation=Inen,Vs|Number=Sing\t2\tobl\t_\t_\n",
      "4\t.\t.\tPUNCT\tPunct\t_\t2\tpunct\t_\t_\n",
      "1\tMies\tmies\tNOUN\tN\tCase=Nom|Number=Sing\t2\tnsubj\t_\t_\n",
      "2\tkatsoi\tkatsoa\tVERB\tV\tMood=Ind|Number=Sing|Person=3|Tense=Past|VerbForm=Fin|Voice=Act\t0\troot\t_\t_\n",
      "3\tynseästi\tynseästi\tADV\tAdv\tDerivation=Sti\t2\tadvmod\t_\t_\n",
      "4\teläimeen\teläin\tNOUN\tN\tCase=Ill|Number=Sing\t2\tobl\t_\t_\n",
      "5\t.\t.\tPUNCT\tPunct\t_\t2\tpunct\t_\t_\n",
      "1\t\"\t\"\tPUNCT\tPunct\t_\t2\tpunct\t_\t_\n",
      "2\tRupesitko\truvea\tVERB\tV\tClitic=Ko|Mood=Ind|Number=Sing|Person=2|Tense=Past|VerbForm=Fin|Voice=Act\t0\troot\t_\t_\n",
      "3\tkantelemaan\tkandella\tVERB\tV\tCase=Ill|InfForm=3|Number=Sing|VerbForm=Inf|Voice=Act\t2\txcomp\t_\t_\n",
      "4\tValveudelle\tvalveus\tNOUN\tN\tCase=All|Number=Sing\t3\tobl\t_\t_\n",
      "5\thirvittävistä\thirvittävä\tADJ\tA\tCase=Ela|Degree=Pos|Number=Plur\t6\tamod\t_\t_\n",
      "6\tkyseenalaistuksistani\tkyseenalaistus\tNOUN\tN\tCase=Ela|Number=Plur|Number[psor]=Sing|Person[psor]=1\t3\tobl\t_\t_\n",
      "7\t?\t?\tPUNCT\tPunct\t_\t2\tpunct\t_\t_\n",
      "8\t\"\t\"\tPUNCT\tPunct\t_\t2\tpunct\t_\t_\n",
      "1\tLirpakko\tlirpakko\tNOUN\tN\tCase=Nom|Number=Sing\t2\tnsubj\t_\t_\n",
      "2\tpiti\tpitää\tVERB\tV\tMood=Ind|Number=Sing|Person=3|Tense=Past|VerbForm=Fin|Voice=Act\t0\troot\t_\t_\n",
      "3\tpienen\tpieni\tADJ\tA\tCase=Gen|Degree=Pos|Number=Sing\t4\tamod\t_\t_\n",
      "4\ttauon\ttauko\tNOUN\tN\tCase=Gen|Number=Sing\t2\tobj\t_\t_\n",
      "5\t,\t,\tPUNCT\tPunct\t_\t6\tpunct\t_\t_\n",
      "6\tsirkutti\tsirkuttaa\tVERB\tV\tMood=Ind|Number=Sing|Person=3|Tense=Past|VerbForm=Fin|Voice=Act\t2\tconj\t_\t_\n",
      "7\tvielä\tvielä\tADV\tAdv\t_\t6\tadvmod\t_\t_\n",
      "8\tja\tja\tCCONJ\tC\t_\t9\tcc\t_\t_\n",
      "9\tkatsoi\tkatsoa\tVERB\tV\tMood=Ind|Number=Sing|Person=3|Tense=Past|VerbForm=Fin|Voice=Act\t2\tconj\t_\t_\n",
      "10\tsitten\tsitten\tADV\tAdv\t_\t9\tadvmod\t_\t_\n",
      "11\tmieheen\tmies\tNOUN\tN\tCase=Ill|Number=Sing\t9\tobl\t_\t_\n",
      "12\t.\t.\tPUNCT\tPunct\t_\t2\tpunct\t_\t_\n",
      "1\t\"\t\"\tPUNCT\tPunct\t_\t4\tpunct\t_\t_\n",
      "2\tJoo\tjoo\tINTJ\tInterj\t_\t4\tdiscourse\t_\t_\n",
      "3\t,\t,\tPUNCT\tPunct\t_\t2\tpunct\t_\t_\n",
      "4\tanna\tantaa\tVERB\tV\tMood=Imp|Number=Sing|Person=2|VerbForm=Fin|Voice=Act\t0\troot\t_\t_\n",
      "5\tmennä\tmennä\tVERB\tV\tInfForm=1|Number=Sing|VerbForm=Inf|Voice=Act\t4\txcomp:ds\t_\t_\n",
      "6\tvaan\tvaan\tADV\tAdv\t_\t5\tadvmod\t_\t_\n",
      "7\t.\t.\tPUNCT\tPunct\t_\t4\tpunct\t_\t_\n",
      "8\t\"\t\"\tPUNCT\tPunct\t_\t4\tpunct\t_\t_\n",
      "1\tMies\tmies\tNOUN\tN\tCase=Nom|Number=Sing\t2\tnsubj\t_\t_\n",
      "2\thuokaisi\thuokaista\tVERB\tV\tMood=Ind|Number=Sing|Person=3|Tense=Past|VerbForm=Fin|Voice=Act\t0\troot\t_\t_\n",
      "3\traskaasti\traskaasti\tADV\tAdv\tDerivation=Sti\t2\tadvmod\t_\t_\n",
      "4\t,\t,\tPUNCT\tPunct\t_\t5\tpunct\t_\t_\n",
      "5\ttuijotti\ttuijottaa\tVERB\tV\tMood=Ind|Number=Sing|Person=3|Tense=Past|VerbForm=Fin|Voice=Act\t2\tconj\t_\t_\n",
      "6\thetken\thetki\tNOUN\tN\tCase=Gen|Number=Sing\t5\tobl\t_\t_\n",
      "7\ttyhjyyteen\ttyhjyys\tNOUN\tN\tCase=Ill|Number=Sing\t5\tobl\t_\t_\n",
      "8\tja\tja\tCCONJ\tC\t_\t9\tcc\t_\t_\n",
      "9\tojensi\tojentaa\tVERB\tV\tMood=Ind|Number=Sing|Person=3|Tense=Past|VerbForm=Fin|Voice=Act\t2\tconj\t_\t_\n",
      "10\tsitten\tsitten\tADV\tAdv\t_\t9\tadvmod\t_\t_\n",
      "11\tsilppua\tsilppu\tNOUN\tN\tCase=Par|Number=Sing\t9\tobj\t_\t_\n",
      "12\tlirpakkoa\tlirpakko\tNOUN\tN\tCase=Par|Number=Sing\t9\tobl\t_\t_\n",
      "13\tkohti\tkohti\tADP\tAdp\tAdpType=Post\t12\tcase\t_\t_\n",
      "14\t.\t.\tPUNCT\tPunct\t_\t2\tpunct\t_\t_\n",
      "1\t\"\t\"\tPUNCT\tPunct\t_\t2\tpunct\t_\t_\n",
      "2\tTarvitsetko\ttarvita\tVERB\tV\tClitic=Ko|Mood=Ind|Number=Sing|Person=2|Tense=Pres|VerbForm=Fin|Voice=Act\t0\troot\t_\t_\n",
      "3\tvielä\tvielä\tADV\tAdv\t_\t2\tadvmod\t_\t_\n",
      "4\tpesääsi\tpesä\tNOUN\tN\tCase=Par|Number=Sing|Number[psor]=Sing|Person[psor]=2\t2\tobj\t_\t_\n",
      "5\ttäytettä\ttäyte\tNOUN\tN\tCase=Par|Number=Sing\t2\tobj\t_\t_\n",
      "6\t?\t?\tPUNCT\tPunct\t_\t2\tpunct\t_\t_\n",
      "7\t\"\t\"\tPUNCT\tPunct\t_\t2\tpunct\t_\t_\n",
      "1\t\"\t\"\tPUNCT\tPunct\t_\t3\tpunct\t_\t_\n",
      "2\tYstävällinen\tystävällinen\tADJ\tA\tCase=Nom|Degree=Pos|Derivation=Llinen|Number=Sing\t3\tamod\t_\t_\n",
      "3\tajatus\tajatus\tNOUN\tN\tCase=Nom|Number=Sing\t0\troot\t_\t_\n",
      "4\tsir\tsir\tNOUN\tN\t_\t3\tdiscourse\t_\t_\n",
      "5\t.\t.\tPUNCT\tPunct\t_\t4\tpunct\t_\t_\n",
      "6\t\"\t\"\tPUNCT\tPunct\t_\t3\tpunct\t_\t_\n",
      "1\tPaperinpalat\tpaperi#palat\tNOUN\tN\tCase=Nom|Number=Plur\t2\tnsubj\t_\t_\n",
      "2\troiskahtivat\troiskahtia\tVERB\tV\tMood=Ind|Number=Plur|Person=3|Tense=Past|VerbForm=Fin|Voice=Act\t0\troot\t_\t_\n",
      "3\tilmaan\tilma\tNOUN\tN\tCase=Ill|Number=Sing\t2\tobl\t_\t_\n",
      "4\tmiehen\tmies\tNOUN\tN\tCase=Gen|Number=Sing\t5\tnsubj\t_\t_\n",
      "5\tsäikähtäessä\tsäikähtää\tVERB\tV\tCase=Ine|InfForm=2|Number=Sing|VerbForm=Inf|Voice=Act\t2\tadvcl\t_\t_\n",
      "6\t.\t.\tPUNCT\tPunct\t_\t2\tpunct\t_\t_\n",
      "1\tHeti\theti\tADV\tAdv\t_\t5\tadvmod\t_\t_\n",
      "2\tperään\tperään\tADV\tAdv\t_\t1\tfixed\t_\t_\n",
      "3\thän\thän\tPRON\tPron\tCase=Nom|Number=Sing|Person=3|PronType=Prs\t5\tnsubj\t_\t_\n",
      "4\tkuitenkin\tkuitenkin\tADV\tAdv\t_\t5\tadvmod\t_\t_\n",
      "5\ttajusi\ttajuta\tVERB\tV\tMood=Ind|Number=Sing|Person=3|Tense=Past|VerbForm=Fin|Voice=Act\t0\troot\t_\t_\n",
      "6\ttulijan\ttulija\tNOUN\tN\tCase=Gen|Derivation=Ja|Number=Sing\t8\tnsubj:cop\t_\t_\n",
      "7\tolevan\tolla\tAUX\tV\tCase=Gen|Degree=Pos|Number=Sing|PartForm=Pres|VerbForm=Part|Voice=Act\t8\tcop\t_\t_\n",
      "8\tykkösneuvonantajansa\tykkös#neuvonantaja\tNOUN\tN\tCase=Gen|Derivation=Ja|Number=Sing|Person[psor]=3\t5\tccomp\t_\t_\n",
      "9\t,\t,\tPUNCT\tPunct\t_\t12\tpunct\t_\t_\n",
      "10\tjoka\tjoka\tPRON\tPron\tCase=Nom|Number=Sing|PronType=Rel\t12\tnsubj\t_\t_\n",
      "11\toli\tolla\tAUX\tV\tMood=Ind|Number=Sing|Person=3|Tense=Past|VerbForm=Fin|Voice=Act\t12\taux\t_\t_\n",
      "12\tsaapunut\tsaapua\tVERB\tV\tCase=Nom|Degree=Pos|Number=Sing|PartForm=Past|VerbForm=Part|Voice=Act\t8\tacl:relcl\t_\t_\n",
      "13\ttäydellisen\ttäydellinen\tADJ\tA\tCase=Gen|Degree=Pos|Derivation=Llinen|Number=Sing\t14\tamod\t_\t_\n",
      "14\thuomaamattomasti\thuomaamattomasti\tADV\tAdv\tDerivation=Sti\t12\tadvmod\t_\t_\n",
      "15\tpaikalle\tpaikka\tNOUN\tN\tCase=All|Number=Sing\t12\tobl\t_\t_\n",
      "16\t,\t,\tPUNCT\tPunct\t_\t19\tpunct\t_\t_\n",
      "17\tkuten\tkuten\tSCONJ\tC\t_\t19\tmark\t_\t_\n",
      "18\thovimestarien\thovi#mestari\tNOUN\tN\tCase=Gen|Number=Plur\t19\tnsubj\t_\t_\n",
      "19\tkuuluikin\tkuulua\tVERB\tV\tClitic=Kin|Mood=Ind|Number=Sing|Person=3|Tense=Past|VerbForm=Fin|Voice=Act\t8\tadvcl\t_\t_\n",
      "20\t.\t.\tPUNCT\tPunct\t_\t5\tpunct\t_\t_\n",
      "1\t\"\t\"\tPUNCT\tPunct\t_\t2\tpunct\t_\t_\n",
      "2\tHuomenta\tHuomenta\tINTJ\tInterj\t_\t0\troot\t_\t_\n",
      "3\t,\t,\tPUNCT\tPunct\t_\t4\tpunct\t_\t_\n",
      "4\t\t\tPROPN\tN\tCase=Nom|Number=Sing\t2\tvocative\t_\t_\n",
      "5\t\"\t\"\tPUNCT\tPunct\t_\t2\tpunct\t_\t_\n",
      "6\t,\t,\tPUNCT\tPunct\t_\t8\tpunct\t_\t_\n",
      "7\tmies\tmies\tNOUN\tN\tCase=Nom|Number=Sing\t8\tnsubj\t_\t_\n",
      "8\thuokaisi\thuokaista\tVERB\tV\tMood=Ind|Number=Sing|Person=3|Tense=Past|VerbForm=Fin|Voice=Act\t2\tparataxis\t_\t_\n",
      "9\t.\t.\tPUNCT\tPunct\t_\t2\tpunct\t_\t_\n",
      "1\t\"\t\"\tPUNCT\tPunct\t_\t2\tpunct\t_\t_\n",
      "2\tAamukahvinne\taamu#kahvinne\tNOUN\tN\tCase=Nom|Number=Sing\t0\troot\t_\t_\n",
      "3\t,\t,\tPUNCT\tPunct\t_\t5\tpunct\t_\t_\n",
      "4\t\t\tPROPN\tN\tCase=Nom|Number=Sing\t5\tnsubj\t_\t_\n",
      "5\tojensi\tojentaa\tVERB\tV\tMood=Ind|Number=Sing|Person=3|Tense=Past|VerbForm=Fin|Voice=Act\t2\tparataxis\t_\t_\n",
      "6\ttarjottimella\ttarjotin\tNOUN\tN\tCase=Ade|Number=Sing\t5\tobl\t_\t_\n",
      "7\tsuurta\tsuuri\tADJ\tA\tCase=Par|Degree=Pos|Number=Sing\t8\tamod\t_\t_\n",
      "8\tsavimukia\tsavi#muki\tNOUN\tN\tCase=Par|Number=Sing\t5\tobj\t_\t_\n",
      "9\t.\t.\tPUNCT\tPunct\t_\t2\tpunct\t_\t_\n",
      "1\t\"\t\"\tPUNCT\tPunct\t_\t2\tpunct\t_\t_\n",
      "2\tKiitos\tkiitos\tNOUN\tN\tCase=Nom|Number=Sing\t0\troot\t_\t_\n",
      "3\t\"\t\"\tPUNCT\tPunct\t_\t2\tpunct\t_\t_\n",
      "4\t,\t,\tPUNCT\tPunct\t_\t6\tpunct\t_\t_\n",
      "5\tmies\tmies\tNOUN\tN\tCase=Nom|Number=Sing\t6\tnsubj\t_\t_\n",
      "6\tmutisi\tmutista\tVERB\tV\tMood=Ind|Number=Sing|Person=3|Tense=Past|VerbForm=Fin|Voice=Act\t2\tparataxis\t_\t_\n",
      "7\t,\t,\tPUNCT\tPunct\t_\t8\tpunct\t_\t_\n",
      "8\totti\tottaa\tVERB\tV\tMood=Ind|Number=Sing|Person=3|Tense=Past|VerbForm=Fin|Voice=Act\t6\tconj\t_\t_\n",
      "9\tmukin\tmuki\tNOUN\tN\tCase=Gen|Number=Sing\t8\tobj\t_\t_\n",
      "10\tja\tja\tCCONJ\tC\t_\t11\tcc\t_\t_\n",
      "11\tkääntyi\tkääntyä\tVERB\tV\tMood=Ind|Number=Sing|Person=3|Tense=Past|VerbForm=Fin|Voice=Act\t6\tconj\t_\t_\n",
      "12\ttaas\ttaas\tADV\tAdv\t_\t11\tadvmod\t_\t_\n",
      "13\tkatsomaan\tkatsoa\tVERB\tV\tCase=Ill|InfForm=3|Number=Sing|VerbForm=Inf|Voice=Act\t11\txcomp\t_\t_\n",
      "14\tvuorten\tvuori\tNOUN\tN\tCase=Gen|Number=Plur\t15\tnmod:poss\t_\t_\n",
      "15\tsolaa\tsola\tNOUN\tN\tCase=Par|Number=Sing\t13\tobj\t_\t_\n",
      "16\t.\t.\tPUNCT\tPunct\t_\t2\tpunct\t_\t_\n",
      "1\t\t\tPROPN\tN\tCase=Nom|Number=Sing\t2\tnsubj\t_\t_\n",
      "2\tlaski\tlaskea\tVERB\tV\tMood=Ind|Number=Sing|Person=3|Tense=Past|VerbForm=Fin|Voice=Act\t0\troot\t_\t_\n",
      "3\ttarjottimen\ttarjotin\tNOUN\tN\tCase=Gen|Number=Sing\t2\tobj\t_\t_\n",
      "4\tja\tja\tCCONJ\tC\t_\t5\tcc\t_\t_\n",
      "5\totti\tottaa\tVERB\tV\tMood=Ind|Number=Sing|Person=3|Tense=Past|VerbForm=Fin|Voice=Act\t2\tconj\t_\t_\n",
      "6\taskeleen\taskel\tNOUN\tN\tCase=Gen|Number=Sing\t5\tobj\t_\t_\n",
      "7\teteenpäin\teteenpäin\tADV\tAdv\t_\t5\tadvmod\t_\t_\n",
      "8\t,\t,\tPUNCT\tPunct\t_\t9\tpunct\t_\t_\n",
      "9\tseisoen\tseisoa\tVERB\tV\tCase=Ins|InfForm=2|Number=Sing|VerbForm=Inf|Voice=Act\t5\tadvcl\t_\t_\n",
      "10\tsamassa\tsama\tPRON\tPron\tCase=Ine|Number=Sing|PronType=Ind\t11\tdet\t_\t_\n",
      "11\trivissä\trivi\tNOUN\tN\tCase=Ine|Number=Sing\t9\tobl\t_\t_\n",
      "12\tisäntänsä\tisäntä\tNOUN\tN\tCase=Gen|Number=Sing|Person[psor]=3\t9\tobl\t_\t_\n",
      "13\tkanssa\tkanssa\tADP\tAdp\tAdpType=Post\t12\tcase\t_\t_\n",
      "14\t,\t,\tPUNCT\tPunct\t_\t16\tpunct\t_\t_\n",
      "15\tkohteliaalla\tkohtelias\tADJ\tA\tCase=Ade|Degree=Pos|Number=Sing\t16\tamod\t_\t_\n",
      "16\tetäisyydellä\tetäisyys\tNOUN\tN\tCase=Ade|Number=Sing\t9\tobl\t_\t_\n",
      "17\ttietenkin\ttietenkin\tADV\tAdv\t_\t16\tadvmod\t_\t_\n",
      "18\t.\t.\tPUNCT\tPunct\t_\t2\tpunct\t_\t_\n",
      "1\t\"\t\"\tPUNCT\tPunct\t_\t3\tpunct\t_\t_\n",
      "2\tMitä\tmikä\tPRON\tPron\tCase=Par|Number=Sing|PronType=Int\t3\tobj\t_\t_\n",
      "3\tkirjoititte\tkirjoittaa\tVERB\tV\tMood=Ind|Number=Plur|Person=2|Tense=Pres|VerbForm=Fin|Voice=Act\t0\troot\t_\t_\n",
      "4\t,\t,\tPUNCT\tPunct\t_\t5\tpunct\t_\t_\n",
      "5\tsir\tsir\tNOUN\tN\tCase=Nom|Number=Sing\t3\tvocative\t_\t_\n",
      "6\t?\t?\tPUNCT\tPunct\t_\t3\tpunct\t_\t_\n",
      "7\t\"\t\"\tPUNCT\tPunct\t_\t3\tpunct\t_\t_\n",
      "8\thovimestari\thovi#mestari\tNOUN\tN\tCase=Nom|Number=Sing\t9\tnsubj\t_\t_\n",
      "9\tkysyi\tkysyä\tVERB\tV\tMood=Ind|Number=Sing|Person=3|Tense=Past|VerbForm=Fin|Voice=Act\t3\tparataxis\t_\t_\n",
      "10\t.\t.\tPUNCT\tPunct\t_\t3\tpunct\t_\t_\n",
      "1\t\"\t\"\tPUNCT\tPunct\t_\t2\tpunct\t_\t_\n",
      "2\tEn\tei\tVERB\tV\tNumber=Sing|Person=1|Polarity=Neg|VerbForm=Fin|Voice=Act\t0\troot\t_\t_\n",
      "3\tmitään\tmikään\tPRON\tPron\tCase=Par|Number=Sing|PronType=Ind\t4\tdet\t_\t_\n",
      "4\tuutta\tuusi\tADJ\tA\tCase=Par|Degree=Pos|Number=Sing\t2\tobj\t_\t_\n",
      "5\ttai\ttai\tCCONJ\tC\t_\t6\tcc\t_\t_\n",
      "6\tmielenkiintoista\tmielenkiintoinen\tADJ\tA\tCase=Par|Degree=Pos|Derivation=Inen|Number=Sing\t4\tconj\t_\t_\n",
      "7\t.\t.\tPUNCT\tPunct\t_\t2\tpunct\t_\t_\n",
      "8\t\"\t\"\tPUNCT\tPunct\t_\t2\tpunct\t_\t_\n",
      "1\t\"\t\"\tPUNCT\tPunct\t_\t2\tpunct\t_\t_\n",
      "2\tTahdotteko\ttahdota\tVERB\tV\tClitic=Ko|Mood=Ind|Number=Plur|Person=2|Tense=Pres|VerbForm=Fin|Voice=Act\t0\troot\t_\t_\n",
      "3\tpuhua\tpuhua\tVERB\tV\tInfForm=1|Number=Sing|VerbForm=Inf|Voice=Act\t2\txcomp\t_\t_\n",
      "4\tasiasta\tasia\tNOUN\tN\tCase=Ela|Number=Sing\t3\tobl\t_\t_\n",
      "5\t,\t,\tPUNCT\tPunct\t_\t6\tpunct\t_\t_\n",
      "6\tsir\tsir\tNOUN\tN\t_\t2\tvocative\t_\t_\n",
      "7\t?\t?\tPUNCT\tPunct\t_\t2\tpunct\t_\t_\n",
      "8\t\"\t\"\tPUNCT\tPunct\t_\t2\tpunct\t_\t_\n",
      "1\tMies\tmies\tNOUN\tN\tCase=Nom|Number=Sing\t2\tnsubj\t_\t_\n",
      "2\ttuhahti\ttuhahtaa\tVERB\tV\tMood=Ind|Number=Sing|Person=3|Tense=Past|VerbForm=Fin|Voice=Act\t0\troot\t_\t_\n",
      "3\t,\t,\tPUNCT\tPunct\t_\t4\tpunct\t_\t_\n",
      "4\tryysti\tryystää\tVERB\tV\tMood=Ind|Number=Sing|Person=3|Tense=Past|VerbForm=Fin|Voice=Act\t2\tconj\t_\t_\n",
      "5\tkahviaan\tkahvi\tNOUN\tN\tCase=Par|Number=Sing|Person[psor]=3\t4\tobj\t_\t_\n",
      "6\tja\tja\tCCONJ\tC\t_\t7\tcc\t_\t_\n",
      "7\thuokaisi\thuokaista\tVERB\tV\tMood=Ind|Number=Sing|Person=3|Tense=Past|VerbForm=Fin|Voice=Act\t2\tconj\t_\t_\n",
      "8\tsitten\tsitten\tADV\tAdv\t_\t7\tadvmod\t_\t_\n",
      "9\t.\t.\tPUNCT\tPunct\t_\t2\tpunct\t_\t_\n",
      "1\t\"\t\"\tPUNCT\tPunct\t_\t4\tpunct\t_\t_\n",
      "2\tEn\tei\tAUX\tV\tNumber=Sing|Person=1|Polarity=Neg|VerbForm=Fin|Voice=Act\t4\taux\t_\t_\n",
      "3\tvain\tvain\tADV\tAdv\t_\t4\tadvmod\t_\t_\n",
      "4\tpysty\tpystyä\tVERB\tV\tConnegative=Yes|Mood=Ind|Tense=Pres|VerbForm=Fin\t0\troot\t_\t_\n",
      "5\tolemaan\tolla\tAUX\tV\tCase=Ill|InfForm=3|Number=Sing|VerbForm=Inf|Voice=Act\t6\taux\t_\t_\n",
      "6\tajattelematta\tajatella\tVERB\tV\tCase=Abe|InfForm=3|Number=Sing|VerbForm=Inf|Voice=Act\t4\txcomp\t_\t_\n",
      "7\t,\t,\tPUNCT\tPunct\t_\t13\tpunct\t_\t_\n",
      "8\tmitä\tmikä\tPRON\tPron\tCase=Par|Number=Sing|PronType=Int\t9\tdet\t_\t_\n",
      "9\tkaikkea\tkaikki\tPRON\tPron\tCase=Par|Number=Sing|PronType=Ind\t13\tobj\t_\t_\n",
      "10\tolisin\tolla\tAUX\tV\tMood=Cnd|Number=Sing|Person=1|VerbForm=Fin|Voice=Act\t13\taux\t_\t_\n",
      "11\tvielä\tvielä\tADV\tAdv\t_\t13\tadvmod\t_\t_\n",
      "12\tvoinut\tvoida\tAUX\tV\tCase=Nom|Degree=Pos|Number=Sing|PartForm=Past|VerbForm=Part|Voice=Act\t13\taux\t_\t_\n",
      "13\tsaada\tsaada\tVERB\tV\tInfForm=1|Number=Sing|VerbForm=Inf|Voice=Act\t6\tccomp\t_\t_\n",
      "14\taikaan\taikaan\tADV\tAdv\t_\t13\tcompound:prt\t_\t_\n",
      "15\tkaikkien\tkaikki\tPRON\tPron\tCase=Gen|Number=Plur|PronType=Ind\t17\tdet\t_\t_\n",
      "16\tnäiden\ttämä\tPRON\tPron\tCase=Gen|Number=Plur|PronType=Dem\t17\tdet\t_\t_\n",
      "17\tvuosien\tvuosi\tNOUN\tN\tCase=Gen|Number=Plur\t18\tnmod:poss\t_\t_\n",
      "18\taikana\taika\tNOUN\tN\tCase=Ess|Number=Sing\t13\tobl\t_\t_\n",
      "19\t.\t.\tPUNCT\tPunct\t_\t4\tpunct\t_\t_\n",
      "1\tOlihan\tolla\tAUX\tV\tCase=Nom|Clitic=Han|Number=Sing\t3\tcop\t_\t_\n",
      "2\tse\tse\tPRON\tPron\tCase=Nom|Number=Sing|PronType=Dem\t3\tnsubj:cop\t_\t_\n",
      "3\tlapsellista\tlapsellinen\tADJ\tA\tCase=Par|Degree=Pos|Derivation=Llinen|Number=Sing\t0\troot\t_\t_\n",
      "4\tkuvitella\tkuvitella\tVERB\tV\tInfForm=1|Number=Sing|VerbForm=Inf|Voice=Act\t3\tcsubj:cop\t_\t_\n",
      "5\t,\t,\tPUNCT\tPunct\t_\t7\tpunct\t_\t_\n",
      "6\tettä\tettä\tSCONJ\tC\t_\t7\tmark\t_\t_\n",
      "7\tpystyisin\tpystyä\tVERB\tV\tMood=Cnd|Number=Sing|Person=1|VerbForm=Fin|Voice=Act\t4\tccomp\t_\t_\n",
      "8\tjallittamaan\tjallittaa\tVERB\tV\tCase=Ill|InfForm=3|Number=Sing|VerbForm=Inf|Voice=Act\t7\tconj\t_\t_\n",
      "9\tprofetiaa\tprofetia\tNOUN\tN\tCase=Par|Number=Sing\t8\tobj\t_\t_\n",
      "10\tpysymällä\tpysyä\tVERB\tV\tCase=Ade|InfForm=3|Number=Sing|VerbForm=Inf|Voice=Act\t7\tadvcl\t_\t_\n",
      "11\tsen\tse\tPRON\tPron\tCase=Gen|Number=Sing|PronType=Dem\t10\tobl\t_\t_\n",
      "12\tulkopuolella\tulkopuolella\tADP\tAdp\tAdpType=Post\t11\tcase\t_\t_\n",
      "13\t.\t.\tPUNCT\tPunct\t_\t3\tpunct\t_\t_\n",
      "1\tJa\tja\tCCONJ\tC\t_\t4\tcc\t_\t_\n",
      "2\tnyt\tnyt\tADV\tAdv\t_\t4\tadvmod\t_\t_\n",
      "3\tolen\tolla\tAUX\tV\tMood=Ind|Number=Sing|Person=1|Tense=Pres|VerbForm=Fin|Voice=Act\t4\taux\t_\t_\n",
      "4\tsaanut\tsaada\tVERB\tV\tCase=Nom|Degree=Pos|Number=Sing|PartForm=Past|VerbForm=Part|Voice=Act\t0\troot\t_\t_\n",
      "5\taikaan\taikaan\tADV\tAdv\t_\t4\tcompound:prt\t_\t_\n",
      "6\tvain\tvain\tADV\tAdv\t_\t7\tadvmod\t_\t_\n",
      "7\tsen\tse\tPRON\tPron\tCase=Gen|Number=Sing|PronType=Dem\t4\tobj\t_\t_\n",
      "8\t,\t,\tPUNCT\tPunct\t_\t12\tpunct\t_\t_\n",
      "9\tettä\tettä\tSCONJ\tC\t_\t12\tmark\t_\t_\n",
      "10\tolemme\tolla\tAUX\tV\tMood=Ind|Number=Plur|Person=1|Tense=Pres|VerbForm=Fin|Voice=Act\t12\tcop\t_\t_\n",
      "11\tsivullisia\tsivullinen\tADJ\tA\tCase=Par|Degree=Pos|Derivation=Llinen|Number=Plur\t12\tamod\t_\t_\n",
      "12\tpahiksia\tpahis\tNOUN\tN\tCase=Par|Number=Plur\t7\tccomp\t_\t_\n",
      "13\t,\t,\tPUNCT\tPunct\t_\t14\tpunct\t_\t_\n",
      "14\tjoilla\tjoka\tPRON\tPron\tCase=Ade|Number=Plur|PronType=Rel\t12\tacl:relcl\t_\t_\n",
      "15\tei\tei\tAUX\tV\tNumber=Sing|Person=3|Polarity=Neg|VerbForm=Fin|Voice=Act\t14\taux\t_\t_\n",
      "16\tole\tolla\tAUX\tV\tConnegative=Yes|Mood=Ind|Tense=Pres|VerbForm=Fin\t14\tcop:own\t_\t_\n",
      "17\tmitään\tmikään\tPRON\tPron\tCase=Par|Number=Sing|PronType=Ind\t18\tdet\t_\t_\n",
      "18\tosaa\tosa\tNOUN\tN\tCase=Par|Number=Sing\t14\tnsubj:cop\t_\t_\n",
      "19\teikä\tei\tAUX\tV\tClitic=Ka|Number=Sing|Person=3|Polarity=Neg|VerbForm=Fin|Voice=Act\t20\taux\t_\t_\n",
      "20\tarpaa\tarpa\tNOUN\tN\tCase=Par|Number=Sing\t18\tconj\t_\t_\n",
      "21\tmaailmankaikkeuden\tmaailman#kaikkeus\tNOUN\tN\tCase=Gen|Derivation=Vs|Number=Sing\t22\tnmod:poss\t_\t_\n",
      "22\tpääjuonessa\tpää#juone\tNOUN\tN\tCase=Ine|Number=Sing\t14\tobl\t_\t_\n",
      "23\t!\t!\tPUNCT\tPunct\t_\t4\tpunct\t_\t_\n",
      "1\tMe\tminä\tPRON\tPron\tCase=Nom|Number=Plur|Person=1|PronType=Prs\t4\tnsubj:cop\t_\t_\n",
      "2\tolemme\tolla\tAUX\tV\tMood=Ind|Number=Plur|Person=1|Tense=Pres|VerbForm=Fin|Voice=Act\t4\tcop\t_\t_\n",
      "3\tkaikki\tkaikki\tPRON\tPron\tCase=Nom|Number=Sing|PronType=Ind\t4\tdet\t_\t_\n",
      "4\tturhia\tturha\tADJ\tA\tCase=Par|Degree=Pos|Number=Plur\t0\troot\t_\t_\n",
      "5\t,\t,\tPUNCT\tPunct\t_\t6\tpunct\t_\t_\n",
      "6\telelemme\telellä\tVERB\tV\tMood=Ind|Number=Plur|Person=1|Tense=Pres|VerbForm=Fin|Voice=Act\t4\tconj\t_\t_\n",
      "7\ttäällä\ttäällä\tADV\tAdv\t_\t6\tadvmod\t_\t_\n",
      "8\tturhaa\tturha\tADJ\tA\tCase=Par|Degree=Pos|Number=Sing\t9\tamod\t_\t_\n",
      "9\telämäämme\telämä\tNOUN\tN\tCase=Par|Number=Sing|Number[psor]=Plur|Person[psor]=1\t6\tobj\t_\t_\n",
      "10\tja\tja\tCCONJ\tC\t_\t11\tcc\t_\t_\n",
      "11\tkuolemme\tkuolla\tVERB\tV\tMood=Ind|Number=Plur|Person=1|Tense=Pres|VerbForm=Fin|Voice=Act\t6\tconj\t_\t_\n",
      "12\tpois\tpois\tADV\tAdv\t_\t11\tadvmod\t_\t_\n",
      "13\t!\t!\tPUNCT\tPunct\t_\t4\tpunct\t_\t_\n",
      "1\tOlisi\tolla\tAUX\tV\tMood=Cnd|Number=Sing|Person=0|VerbForm=Fin|Voice=Act\t4\taux\t_\t_\n",
      "2\tpitänyt\tpitää\tAUX\tV\tCase=Nom|Degree=Pos|Number=Sing|PartForm=Past|VerbForm=Part|Voice=Act\t4\taux\t_\t_\n",
      "3\tkuitenkin\tkuitenkin\tADV\tAdv\t_\t4\tadvmod\t_\t_\n",
      "4\tkäydä\tkäydä\tVERB\tV\tInfForm=1|Number=Sing|VerbForm=Inf|Voice=Act\t0\troot\t_\t_\n",
      "5\titse\titse\tADV\tAdv\t_\t4\tadvmod\t_\t_\n",
      "6\tpolttamassa\tpolttaa\tVERB\tV\tCase=Ine|InfForm=3|Number=Sing|VerbForm=Inf|Voice=Act\t4\txcomp\t_\t_\n",
      "7\t\t\tPROPN\tN\tCase=Gen|Number=Sing\t6\tobj\t_\t_\n",
      "8\tja\tja\tCCONJ\tC\t_\t9\tcc\t_\t_\n",
      "9\thidastaa\thidastaa\tVERB\tV\tInfForm=1|Number=Sing|VerbForm=Inf|Voice=Act\t4\tconj\t_\t_\n",
      "10\tuuden\tuusi\tADJ\tA\tCase=Gen|Degree=Pos|Number=Sing\t11\tamod\t_\t_\n",
      "11\tvalitun\tvalita\tNOUN\tN\tCase=Gen|Number=Sing\t12\tnmod:gobj\t_\t_\n",
      "12\tetsintää\tetsintä\tNOUN\tN\tCase=Par|Number=Sing\t9\tobj\t_\t_\n",
      "13\t.\t.\tPUNCT\tPunct\t_\t4\tpunct\t_\t_\n",
      "1\tOlisinpahan\tolla\tAUX\tV\tClitic=Pa|Mood=Cnd|Number=Sing|Person=1|VerbForm=Fin|Voice=Act\t5\taux\t_\t_\n",
      "2\tollut\tolla\tAUX\tV\tCase=Nom|Degree=Pos|Number=Sing|PartForm=Past|VerbForm=Part|Voice=Act\t5\tcop\t_\t_\n",
      "3\tedes\tedes\tADV\tAdv\t_\t5\tadvmod\t_\t_\n",
      "4\tkunnon\tkunnon\tADV\tAdv\t_\t5\tadvmod\t_\t_\n",
      "5\tpahis\tpahis\tNOUN\tN\tCase=Nom|Number=Sing\t0\troot\t_\t_\n",
      "6\t.\t.\tPUNCT\tPunct\t_\t5\tpunct\t_\t_\n",
      "7\t\"\t\"\tPUNCT\tPunct\t_\t5\tpunct\t_\t_\n",
      "1\t\t\tPROPN\tN\tCase=Nom|Number=Sing\t2\tnsubj\t_\t_\n",
      "2\tkuunteli\tkuunnella\tVERB\tV\tMood=Ind|Number=Sing|Person=3|Tense=Past|VerbForm=Fin|Voice=Act\t0\troot\t_\t_\n",
      "3\tisäntänsä\tisäntä\tNOUN\tN\tCase=Gen|Number=Sing|Person[psor]=3\t4\tnmod:gsubj\t_\t_\n",
      "4\tvuodatusta\tvuodatus\tNOUN\tN\tCase=Par|Number=Sing\t2\tobj\t_\t_\n",
      "5\ttarkasti\ttarkasti\tADV\tAdv\tDerivation=Sti\t6\tadvmod\t_\t_\n",
      "6\tharkituissa\tharkita\tVERB\tV\tCase=Ine|Degree=Pos|Number=Plur|PartForm=Past|VerbForm=Part|Voice=Pass\t7\tacl\t_\t_\n",
      "7\tväleissä\tväli\tNOUN\tN\tCase=Ine|Number=Plur\t4\tnmod\t_\t_\n",
      "8\tkevyesti\tkevyesti\tADV\tAdv\tDerivation=Sti\t9\tadvmod\t_\t_\n",
      "9\tnyökäten\tnyökätä\tVERB\tV\tCase=Ins|InfForm=2|Number=Sing|VerbForm=Inf|Voice=Act\t2\tadvcl\t_\t_\n",
      "10\t.\t.\tPUNCT\tPunct\t_\t2\tpunct\t_\t_\n",
      "1\t\"\t\"\tPUNCT\tPunct\t_\t2\tpunct\t_\t_\n",
      "2\tSaanen\tsaada\tVERB\tV\tMood=Pot|Number=Sing|Person=1|VerbForm=Fin|Voice=Act\t0\troot\t_\t_\n",
      "3\tmuistuttaa\tmuistuttaa\tVERB\tV\tInfForm=1|Number=Sing|VerbForm=Inf|Voice=Act\t2\txcomp\t_\t_\n",
      "4\t,\t,\tPUNCT\tPunct\t_\t7\tpunct\t_\t_\n",
      "5\tettä\tettä\tSCONJ\tC\t_\t7\tmark\t_\t_\n",
      "6\tolette\tolla\tAUX\tV\tMood=Ind|Number=Plur|Person=2|Tense=Pres|VerbForm=Fin|Voice=Act\t7\taux\t_\t_\n",
      "7\tsaaneet\tsaada\tVERB\tV\tCase=Nom|Degree=Pos|Number=Plur|PartForm=Past|VerbForm=Part|Voice=Act\t3\tccomp\t_\t_\n",
      "8\thyvinkin\thyvin\tADV\tAdv\tClitic=Kin\t9\tadvmod\t_\t_\n",
      "9\tpaljon\tpaljon\tADV\tAdv\t_\t7\tadvmod\t_\t_\n",
      "10\taikaan\taika\tNOUN\tN\tCase=Ill|Number=Sing\t7\tcompound:prt\t_\t_\n",
      "11\t,\t,\tPUNCT\tPunct\t_\t7\tpunct\t_\t_\n",
      "12\tsir\tsir\tINTJ\tInterj\t_\t7\tdiscourse\t_\t_\n",
      "13\t\"\t\"\tPUNCT\tPunct\t_\t2\tpunct\t_\t_\n",
      "1\t\"\t\"\tPUNCT\tPunct\t_\t4\tpunct\t_\t_\n",
      "2\tMutta\tmutta\tCCONJ\tC\t_\t4\tcc\t_\t_\n",
      "3\tei\tei\tAUX\tV\tNumber=Sing|Person=3|Polarity=Neg|VerbForm=Fin|Voice=Act\t4\taux\t_\t_\n",
      "4\tsillä\tse\tPRON\tPron\tCase=Ade|Number=Sing|PronType=Dem\t0\troot\t_\t_\n",
      "5\tole\tolla\tAUX\tV\tConnegative=Yes|Mood=Ind|Tense=Pres|VerbForm=Fin\t4\tcop\t_\t_\n",
      "6\tmitään\tmikään\tPRON\tPron\tCase=Par|Number=Sing|PronType=Ind\t7\tdet\t_\t_\n",
      "7\tväliä\tväli\tNOUN\tN\tCase=Par|Number=Sing\t4\tnsubj:cop\t_\t_\n",
      "8\t!\t!\tPUNCT\tPunct\t_\t4\tpunct\t_\t_\n",
      "9\t”\t”\tPUNCT\tPunct\t_\t4\tpunct\t_\t_\n",
      "10\tmies\tmies\tNOUN\tN\tCase=Nom|Number=Sing\t11\tnsubj\t_\t_\n",
      "11\tärähti\tärähtää\tVERB\tV\tMood=Ind|Number=Sing|Person=3|Tense=Past|VerbForm=Fin|Voice=Act\t4\tparataxis\t_\t_\n",
      "12\tja\tja\tCCONJ\tC\t_\t13\tcc\t_\t_\n",
      "13\tiski\tiskeä\tVERB\tV\tMood=Ind|Number=Sing|Person=3|Tense=Past|VerbForm=Fin|Voice=Act\t11\tconj\t_\t_\n",
      "14\tmukinsa\tmuki\tNOUN\tN\tCase=Gen|Number=Sing|Person[psor]=3\t13\tobj\t_\t_\n",
      "15\ttornin\ttorni\tNOUN\tN\tCase=Gen|Number=Sing\t16\tnmod:poss\t_\t_\n",
      "16\tparveketta\tparveke\tNOUN\tN\tCase=Par|Number=Sing\t17\tobj\t_\t_\n",
      "17\tympäröivään\tympäröidä\tVERB\tV\tCase=Ill|Degree=Pos|Number=Sing|PartForm=Pres|VerbForm=Part|Voice=Act\t18\tacl\t_\t_\n",
      "18\tkiviaitaan\tkivi#aita\tNOUN\tN\tCase=Ill|Number=Sing\t13\tobl\t_\t_\n",
      "19\t.\t.\tPUNCT\tPunct\t_\t4\tpunct\t_\t_\n",
      "1\tSavi\tsavi\tNOUN\tN\tCase=Nom|Number=Sing\t2\tnsubj\t_\t_\n",
      "2\thalkesi\thaljeta\tVERB\tV\tMood=Ind|Number=Sing|Person=3|Tense=Past|VerbForm=Fin|Voice=Act\t0\troot\t_\t_\n",
      "3\tja\tja\tCCONJ\tC\t_\t5\tcc\t_\t_\n",
      "4\tmiehelle\tmies\tNOUN\tN\tCase=All|Number=Sing\t5\tobl\t_\t_\n",
      "5\tjäi\tjäädä\tVERB\tV\tMood=Ind|Number=Sing|Person=3|Tense=Past|VerbForm=Fin|Voice=Act\t2\tconj\t_\t_\n",
      "6\tvain\tvain\tADV\tAdv\t_\t7\tadvmod\t_\t_\n",
      "7\tpuolet\tpuoli\tNOUN\tN\tCase=Nom|Number=Plur\t5\tnsubj\t_\t_\n",
      "8\tmukista\tmuki\tNOUN\tN\tCase=Ela|Number=Plur\t7\tnmod\t_\t_\n",
      "9\tkäteen\tkäsi\tNOUN\tN\tCase=Ill|Number=Sing\t5\tobl\t_\t_\n",
      "10\t.\t.\tPUNCT\tPunct\t_\t2\tpunct\t_\t_\n",
      "1\tHiljaisuudessa\thiljaisuus\tNOUN\tN\tCase=Ine|Derivation=Inen,Vs|Number=Sing\t5\tobl\t_\t_\n",
      "2\thän\thän\tPRON\tPron\tCase=Nom|Number=Sing|Person=3|PronType=Prs\t5\tnsubj\t_\t_\n",
      "3\tja\tja\tCCONJ\tC\t_\t4\tcc\t_\t_\n",
      "4\thovimestari\thovi#mestari\tNOUN\tN\tCase=Nom|Number=Sing\t2\tconj\t_\t_\n",
      "5\tseurasivat\tseurata\tVERB\tV\tMood=Ind|Number=Plur|Person=3|Tense=Past|VerbForm=Fin|Voice=Act\t0\troot\t_\t_\n",
      "6\t,\t,\tPUNCT\tPunct\t_\t11\tpunct\t_\t_\n",
      "7\tkuinka\tkuinka\tADV\tAdv\t_\t11\tadvmod\t_\t_\n",
      "8\tsirpaleet\tsirpale\tNOUN\tN\tCase=Nom|Number=Plur\t11\tnsubj\t_\t_\n",
      "9\tja\tja\tCCONJ\tC\t_\t10\tcc\t_\t_\n",
      "10\tkahvi\tkahvi\tNOUN\tN\tCase=Nom|Number=Sing\t8\tconj\t_\t_\n",
      "11\tputosivat\tpudota\tVERB\tV\tMood=Ind|Number=Plur|Person=3|Tense=Past|VerbForm=Fin|Voice=Act\t5\tccomp\t_\t_\n",
      "12\talas\talas\tADV\tAdv\t_\t11\tadvmod\t_\t_\n",
      "13\taina\taina\tADV\tAdv\t_\t14\tadvmod\t_\t_\n",
      "14\tkeskusaukiolle\tkesku#saukio\tNOUN\tN\tCase=All|Number=Sing\t11\tobl\t_\t_\n",
      "15\tsaakka\tsaakka\tADP\tAdp\tAdpType=Post\t14\tcase\t_\t_\n",
      "16\t.\t.\tPUNCT\tPunct\t_\t5\tpunct\t_\t_\n",
      "\n"
     ]
    }
   ],
   "source": [
    "print(test_conllu_line)"
   ]
  },
  {
   "cell_type": "code",
   "execution_count": 41,
   "id": "4d1a4d33",
   "metadata": {},
   "outputs": [
    {
     "name": "stdout",
     "output_type": "stream",
     "text": [
      "1\n",
      "55\n",
      "113\n",
      "{'1': 3}\n"
     ]
    }
   ],
   "source": [
    "from pprint import pprint\n",
    "\n",
    "test_df = snippetConllu2DF(test_conllu_line)\n",
    "\n",
    "pprint(getPreposingAdverbialClauses({'1':test_df}))"
   ]
  },
  {
   "cell_type": "code",
   "execution_count": 139,
   "id": "5a3d36ec",
   "metadata": {},
   "outputs": [
    {
     "name": "stdout",
     "output_type": "stream",
     "text": [
      "{0: [],\n",
      " 1: [0],\n",
      " 2: [],\n",
      " 3: [2],\n",
      " 4: [3],\n",
      " 5: [4],\n",
      " 6: [1, 5, 11, 13, 19],\n",
      " 7: [],\n",
      " 8: [],\n",
      " 9: [8],\n",
      " 10: [],\n",
      " 11: [7, 9, 10],\n",
      " 12: [],\n",
      " 13: [12, 14],\n",
      " 14: [16, 18],\n",
      " 15: [],\n",
      " 16: [15],\n",
      " 17: [],\n",
      " 18: [17],\n",
      " 19: []}\n"
     ]
    }
   ],
   "source": [
    "test_tree = buildIdTreeFromConllu(test_df)\n",
    "pprint(test_tree[6])"
   ]
  },
  {
   "cell_type": "code",
   "execution_count": 140,
   "id": "ae8c8342",
   "metadata": {},
   "outputs": [
    {
     "name": "stdout",
     "output_type": "stream",
     "text": [
      "4\n"
     ]
    }
   ],
   "source": [
    "print(getDepthOfTree(6, test_tree[6], 0))"
   ]
  },
  {
   "cell_type": "code",
   "execution_count": 142,
   "id": "b9f6e96d",
   "metadata": {},
   "outputs": [
    {
     "name": "stdout",
     "output_type": "stream",
     "text": [
      "2.9873417721518987\n"
     ]
    }
   ],
   "source": [
    "print(getMeanSyntacticTreeDepth(test_tree))"
   ]
  },
  {
   "cell_type": "code",
   "execution_count": null,
   "id": "1f3ff5c3",
   "metadata": {},
   "outputs": [],
   "source": [
    "\"\"\"\n",
    "def customConlluVectorizer(example):\n",
    "\n",
    "    conllu_lines = example['conllu']\n",
    "    \n",
    "    feature_vector = []\n",
    "    \n",
    "    df = snippetConllu2DF(conllu_lines)\n",
    "\n",
    "    temp_corp = {'1':df}\n",
    "    #Deprel per main clause for each deprel\n",
    "    for deprel in DEPRELS:\n",
    "        feature_vector.append(bdf.getDeprelFeaturePerBook(temp_corp, deprel, True)['1'])\n",
    "    #Feat per main clause for each feature\n",
    "    for feat in FEATS:\n",
    "        feature_vector.append(bdf.getFeatsFeaturePerBook(temp_corp, feat, True)['1'])\n",
    "    #POS per main clause for each pos-tag\n",
    "    for pos in POS:\n",
    "        feature_vector.append(bdf.getPosFeaturePerBook(temp_corp, pos, True)['1'])\n",
    "\n",
    "    #Other features\n",
    "    word_freqs = bdf.getWordFrequencies(temp_corp)\n",
    "    word_amounts = bdf.getTokenAmounts(temp_corp)\n",
    "    sent_amounts = bdf.getNumOfSentences(temp_corp)\n",
    "    #TTR\n",
    "    feature_vector.append(bdf.getTypeTokenRatios(word_freqs, word_amounts)['1'])\n",
    "    #MLS\n",
    "    feature_vector.append(bdf.getAvgSentenceLens(temp_corp)['1'])\n",
    "    #CONJ2Sent\n",
    "    feature_vector.append(bdf.getConjPerSentence(temp_corp)['1'])\n",
    "    #Noun phrases per main clause\n",
    "    feature_vector.append(bdf.scaleCorpusData(bdf.getPosPhraseCounts(temp_corp, 'NOUN'), sent_amounts)['1'])\n",
    "    #Verb phrases per main clause\n",
    "    feature_vector.append(bdf.scaleCorpusData(bdf.getPosPhraseCounts(temp_corp, 'VERB'), sent_amounts)['1'])\n",
    "    #Adj phrases per main clause\n",
    "    feature_vector.append(bdf.scaleCorpusData(bdf.getPosPhraseCounts(temp_corp, 'ADJ'), sent_amounts)['1'])\n",
    "    #Adv phrases per main clause\n",
    "    feature_vector.append(bdf.scaleCorpusData(bdf.getPosPhraseCounts(temp_corp, 'ADV'), sent_amounts)['1'])\n",
    "    #Flesch-Kincaid grade level divided by 9 (for scaling purposes)\n",
    "    feature_vector.append(getFleschKincaidGradeLevel(temp_corp)['1']/9)\n",
    "\n",
    "\n",
    "    #Normalize the feature vectors using l2\n",
    "    l2 = math.sqrt(sum([x**2 for x in feature_vector]))\n",
    "    if not l2 == 0:\n",
    "        feature_vector = [x/l2 for x in feature_vector]\n",
    "\n",
    "    return {\"handpicked_features_vector\":feature_vector}\n",
    "\"\"\"\n"
   ]
  },
  {
   "cell_type": "code",
   "execution_count": null,
   "id": "08d5f310",
   "metadata": {},
   "outputs": [],
   "source": [
    "#Alternative way of using the custom vectorizer to enable min-max normalization of the data\n",
    "\n",
    "def customConlluVectorizer(conllu_lines):\n",
    "    \"\"\"\n",
    "    Custom vecotrizer used to create feature vectors from hand-picked features\n",
    "    \"\"\"\n",
    "    feature_vector = []\n",
    "    \n",
    "    df = snippetConllu2DF(conllu_lines)\n",
    "\n",
    "    temp_corp = {'1':df}\n",
    "    #Deprel per main clause for each deprel\n",
    "    for deprel in DEPRELS:\n",
    "        feature_vector.append(bdf.getDeprelFeaturePerBook(temp_corp, deprel, True)['1'])\n",
    "    #Feat per main clause for each feature\n",
    "    for feat in FEATS:\n",
    "        feature_vector.append(bdf.getFeatsFeaturePerBook(temp_corp, feat, True)['1'])\n",
    "    #POS per main clause for each pos-tag\n",
    "    for pos in POS:\n",
    "        feature_vector.append(bdf.getPosFeaturePerBook(temp_corp, pos, True)['1'])\n",
    "\n",
    "    #Other features\n",
    "    word_freqs = bdf.getWordFrequencies(temp_corp)\n",
    "    word_amounts = bdf.getTokenAmounts(temp_corp)\n",
    "    sent_amounts = bdf.getNumOfSentences(temp_corp)\n",
    "    #TTR\n",
    "    feature_vector.append(bdf.getTypeTokenRatios(word_freqs, word_amounts)['1'])\n",
    "    #MLS\n",
    "    feature_vector.append(bdf.getAvgSentenceLens(temp_corp)['1'])\n",
    "    #CONJ2Sent\n",
    "    feature_vector.append(bdf.getConjPerSentence(temp_corp)['1'])\n",
    "    #Noun phrases per main clause\n",
    "    feature_vector.append(bdf.scaleCorpusData(bdf.getPosPhraseCounts(temp_corp, 'NOUN'), sent_amounts)['1'])\n",
    "    #Verb phrases per main clause\n",
    "    feature_vector.append(bdf.scaleCorpusData(bdf.getPosPhraseCounts(temp_corp, 'VERB'), sent_amounts)['1'])\n",
    "    #Adj phrases per main clause\n",
    "    feature_vector.append(bdf.scaleCorpusData(bdf.getPosPhraseCounts(temp_corp, 'ADJ'), sent_amounts)['1'])\n",
    "    #Adv phrases per main clause\n",
    "    feature_vector.append(bdf.scaleCorpusData(bdf.getPosPhraseCounts(temp_corp, 'ADV'), sent_amounts)['1'])\n",
    "    #Flesch-Kincaid grade level\n",
    "    feature_vector.append(getFleschKincaidGradeLevel(temp_corp)['1'])\n",
    "    #Verb to noun ratio\n",
    "    feature_vector.append(bdf.getPosFeaturePerBook(temp_corp, 'VERB')['1'] / bdf.getPosFeaturePerBook(temp_corp, 'NOUN')['1'])\n",
    "\n",
    "    #Features that require parsing the syntactic tree structure\n",
    "    syntactic_tree = buildIdTreeFromConllu(df)\n",
    "    #Average depth of syntactic tree\n",
    "    feature_vector.append(getMeanSyntacticTreeDepth(syntactic_tree))\n",
    "\n",
    "    return feature_vector"
   ]
  },
  {
   "cell_type": "markdown",
   "id": "708fd19d",
   "metadata": {},
   "source": [
    "# Test custom vectorizer"
   ]
  },
  {
   "cell_type": "code",
   "execution_count": 8,
   "id": "335b2c0d",
   "metadata": {},
   "outputs": [
    {
     "name": "stderr",
     "output_type": "stream",
     "text": [
      "/home/tenojo/miniconda3/envs/Test/lib/python3.10/site-packages/tqdm/auto.py:21: TqdmWarning: IProgress not found. Please update jupyter and ipywidgets. See https://ipywidgets.readthedocs.io/en/stable/user_install.html\n",
      "  from .autonotebook import tqdm as notebook_tqdm\n"
     ]
    }
   ],
   "source": [
    "from scripts import corpusMLfunctions as cmf\n",
    "from datasets import Dataset"
   ]
  },
  {
   "cell_type": "code",
   "execution_count": 9,
   "id": "d5a100f2",
   "metadata": {},
   "outputs": [],
   "source": [
    "train_keys = keylists[87]['train_keys']\n",
    "eval_keys = keylists[87]['eval_keys']+keylists[87]['test_keys']\n",
    "train_dss = cmf.combineSnippedBooksToDS(train_keys, SNIPPET_LENS[5], BASE_BEG)\n",
    "eval_dss = cmf.combineSnippedBooksToDS(eval_keys, SNIPPET_LENS[5], BASE_BEG)"
   ]
  },
  {
   "cell_type": "code",
   "execution_count": 10,
   "id": "7fb2b2c3",
   "metadata": {},
   "outputs": [
    {
     "name": "stderr",
     "output_type": "stream",
     "text": [
      "Map:   0%|          | 0/10146 [00:00<?, ? examples/s]"
     ]
    },
    {
     "name": "stderr",
     "output_type": "stream",
     "text": [
      "Map: 100%|██████████| 10146/10146 [09:53<00:00, 17.09 examples/s]\n",
      "Map: 100%|██████████| 4599/4599 [04:25<00:00, 17.32 examples/s]\n"
     ]
    }
   ],
   "source": [
    "vecd_train_data = train_dss.map(customConlluVectorizer)\n",
    "vecd_eval_data = eval_dss.map(customConlluVectorizer)"
   ]
  },
  {
   "cell_type": "code",
   "execution_count": 11,
   "id": "54581335",
   "metadata": {},
   "outputs": [
    {
     "name": "stdout",
     "output_type": "stream",
     "text": [
      "152\n"
     ]
    }
   ],
   "source": [
    "from pprint import pprint\n",
    "\n",
    "pprint(len(vecd_train_data['handpicked_features_vector'][0]))"
   ]
  },
  {
   "cell_type": "code",
   "execution_count": null,
   "id": "33089a90",
   "metadata": {},
   "outputs": [],
   "source": [
    "from sklearn.svm import LinearSVC\n",
    "from sklearn import metrics\n",
    "import optuna\n",
    "\n",
    "def objective(trial):\n",
    "    #Defining hyperparameters to tune\n",
    "    c = trial.suggest_float('c', 1e-5, 1e+4, log=True)\n",
    "    tol = trial.suggest_categorical('tol', [1e-6, 1e-5, 1e-4, 1e-3])\n",
    "\n",
    "    clf = LinearSVC(\n",
    "            random_state=42,\n",
    "            C=c,\n",
    "            tol=tol\n",
    "        )\n",
    "    clf.fit(vecd_train_data['handpicked_features_vector'], train_dss['label'])\n",
    "    predicted = clf.predict(vecd_eval_data['handpicked_features_vector'])\n",
    "    f1 = metrics.f1_score(eval_dss['label'], predicted, average='macro')\n",
    "    return f1\n",
    "\n"
   ]
  },
  {
   "cell_type": "code",
   "execution_count": 13,
   "id": "ac1de762",
   "metadata": {},
   "outputs": [
    {
     "name": "stderr",
     "output_type": "stream",
     "text": [
      "[I 2025-06-27 10:22:43,090] A new study created in memory with name: no-name-8ed7ba79-30a6-416a-a347-414a4fa80fac\n",
      "[I 2025-06-27 10:22:43,788] Trial 0 finished with value: 0.21122994652406415 and parameters: {'c': 0.0005927958881620286, 'tol': 1e-05}. Best is trial 0 with value: 0.21122994652406415.\n"
     ]
    },
    {
     "name": "stdout",
     "output_type": "stream",
     "text": [
      "0.21122994652406415\n"
     ]
    },
    {
     "name": "stderr",
     "output_type": "stream",
     "text": [
      "[I 2025-06-27 10:22:44,526] Trial 1 finished with value: 0.21122994652406415 and parameters: {'c': 0.001044124353782234, 'tol': 0.0001}. Best is trial 0 with value: 0.21122994652406415.\n"
     ]
    },
    {
     "name": "stdout",
     "output_type": "stream",
     "text": [
      "0.21122994652406415\n"
     ]
    },
    {
     "name": "stderr",
     "output_type": "stream",
     "text": [
      "[I 2025-06-27 10:22:47,193] Trial 2 finished with value: 0.49184322971522176 and parameters: {'c': 330.41548230167837, 'tol': 0.0001}. Best is trial 2 with value: 0.49184322971522176.\n"
     ]
    },
    {
     "name": "stdout",
     "output_type": "stream",
     "text": [
      "0.49184322971522176\n"
     ]
    },
    {
     "name": "stderr",
     "output_type": "stream",
     "text": [
      "[I 2025-06-27 10:22:48,847] Trial 3 finished with value: 0.47741086125485105 and parameters: {'c': 8.232389364426002, 'tol': 1e-05}. Best is trial 2 with value: 0.49184322971522176.\n"
     ]
    },
    {
     "name": "stdout",
     "output_type": "stream",
     "text": [
      "0.47741086125485105\n"
     ]
    },
    {
     "name": "stderr",
     "output_type": "stream",
     "text": [
      "[I 2025-06-27 10:22:49,615] Trial 4 finished with value: 0.21122994652406415 and parameters: {'c': 4.311615201213811e-05, 'tol': 1e-06}. Best is trial 2 with value: 0.49184322971522176.\n"
     ]
    },
    {
     "name": "stdout",
     "output_type": "stream",
     "text": [
      "0.21122994652406415\n"
     ]
    },
    {
     "name": "stderr",
     "output_type": "stream",
     "text": [
      "[I 2025-06-27 10:22:51,336] Trial 5 finished with value: 0.47703102817869697 and parameters: {'c': 8.113329756938558, 'tol': 1e-06}. Best is trial 2 with value: 0.49184322971522176.\n"
     ]
    },
    {
     "name": "stdout",
     "output_type": "stream",
     "text": [
      "0.47703102817869697\n"
     ]
    },
    {
     "name": "stderr",
     "output_type": "stream",
     "text": [
      "[I 2025-06-27 10:22:53,283] Trial 6 finished with value: 0.47670733540500615 and parameters: {'c': 20.254615946385492, 'tol': 1e-06}. Best is trial 2 with value: 0.49184322971522176.\n"
     ]
    },
    {
     "name": "stdout",
     "output_type": "stream",
     "text": [
      "0.47670733540500615\n"
     ]
    },
    {
     "name": "stderr",
     "output_type": "stream",
     "text": [
      "[I 2025-06-27 10:22:58,789] Trial 7 finished with value: 0.49617896248245313 and parameters: {'c': 2302.1573505789725, 'tol': 1e-06}. Best is trial 7 with value: 0.49617896248245313.\n"
     ]
    },
    {
     "name": "stdout",
     "output_type": "stream",
     "text": [
      "0.49617896248245313\n"
     ]
    },
    {
     "name": "stderr",
     "output_type": "stream",
     "text": [
      "[I 2025-06-27 10:22:59,707] Trial 8 finished with value: 0.3496452990458451 and parameters: {'c': 0.06961956156883899, 'tol': 0.001}. Best is trial 7 with value: 0.49617896248245313.\n"
     ]
    },
    {
     "name": "stdout",
     "output_type": "stream",
     "text": [
      "0.3496452990458451\n"
     ]
    },
    {
     "name": "stderr",
     "output_type": "stream",
     "text": [
      "[I 2025-06-27 10:23:00,771] Trial 9 finished with value: 0.3801100306806111 and parameters: {'c': 0.14402185639355075, 'tol': 1e-05}. Best is trial 7 with value: 0.49617896248245313.\n"
     ]
    },
    {
     "name": "stdout",
     "output_type": "stream",
     "text": [
      "0.3801100306806111\n"
     ]
    },
    {
     "name": "stderr",
     "output_type": "stream",
     "text": [
      "[I 2025-06-27 10:23:02,968] Trial 10 finished with value: 0.4915835850985591 and parameters: {'c': 5497.452809420605, 'tol': 0.001}. Best is trial 7 with value: 0.49617896248245313.\n"
     ]
    },
    {
     "name": "stdout",
     "output_type": "stream",
     "text": [
      "0.4915835850985591\n"
     ]
    },
    {
     "name": "stderr",
     "output_type": "stream",
     "text": [
      "[I 2025-06-27 10:23:07,048] Trial 11 finished with value: 0.49675945681834016 and parameters: {'c': 6879.63758068423, 'tol': 0.0001}. Best is trial 11 with value: 0.49675945681834016.\n"
     ]
    },
    {
     "name": "stdout",
     "output_type": "stream",
     "text": [
      "0.49675945681834016\n"
     ]
    },
    {
     "name": "stderr",
     "output_type": "stream",
     "text": [
      "[I 2025-06-27 10:23:10,542] Trial 12 finished with value: 0.49537339809607156 and parameters: {'c': 1869.6860573481388, 'tol': 0.0001}. Best is trial 11 with value: 0.49675945681834016.\n"
     ]
    },
    {
     "name": "stdout",
     "output_type": "stream",
     "text": [
      "0.49537339809607156\n"
     ]
    },
    {
     "name": "stderr",
     "output_type": "stream",
     "text": [
      "[I 2025-06-27 10:23:13,539] Trial 13 finished with value: 0.4896236007608972 and parameters: {'c': 169.3244765883543, 'tol': 1e-06}. Best is trial 11 with value: 0.49675945681834016.\n"
     ]
    },
    {
     "name": "stdout",
     "output_type": "stream",
     "text": [
      "0.4896236007608972\n"
     ]
    },
    {
     "name": "stderr",
     "output_type": "stream",
     "text": [
      "[I 2025-06-27 10:23:17,466] Trial 14 finished with value: 0.49497047632988683 and parameters: {'c': 4040.101445570918, 'tol': 0.0001}. Best is trial 11 with value: 0.49675945681834016.\n"
     ]
    },
    {
     "name": "stdout",
     "output_type": "stream",
     "text": [
      "0.49497047632988683\n"
     ]
    },
    {
     "name": "stderr",
     "output_type": "stream",
     "text": [
      "[I 2025-06-27 10:23:19,724] Trial 15 finished with value: 0.4840749901142469 and parameters: {'c': 55.07039419373328, 'tol': 1e-06}. Best is trial 11 with value: 0.49675945681834016.\n"
     ]
    },
    {
     "name": "stdout",
     "output_type": "stream",
     "text": [
      "0.4840749901142469\n"
     ]
    },
    {
     "name": "stderr",
     "output_type": "stream",
     "text": [
      "[I 2025-06-27 10:23:20,747] Trial 16 finished with value: 0.436186959447827 and parameters: {'c': 1.0723725902824575, 'tol': 0.0001}. Best is trial 11 with value: 0.49675945681834016.\n"
     ]
    },
    {
     "name": "stdout",
     "output_type": "stream",
     "text": [
      "0.436186959447827\n"
     ]
    },
    {
     "name": "stderr",
     "output_type": "stream",
     "text": [
      "[I 2025-06-27 10:23:23,078] Trial 17 finished with value: 0.4930147798043831 and parameters: {'c': 605.480200955063, 'tol': 0.0001}. Best is trial 11 with value: 0.49675945681834016.\n"
     ]
    },
    {
     "name": "stdout",
     "output_type": "stream",
     "text": [
      "0.4930147798043831\n"
     ]
    },
    {
     "name": "stderr",
     "output_type": "stream",
     "text": [
      "[I 2025-06-27 10:23:24,805] Trial 18 finished with value: 0.49254599701706936 and parameters: {'c': 6719.651647513512, 'tol': 0.001}. Best is trial 11 with value: 0.49675945681834016.\n"
     ]
    },
    {
     "name": "stdout",
     "output_type": "stream",
     "text": [
      "0.49254599701706936\n"
     ]
    },
    {
     "name": "stderr",
     "output_type": "stream",
     "text": [
      "[I 2025-06-27 10:23:26,006] Trial 19 finished with value: 0.43857495378525346 and parameters: {'c': 1.204015446604022, 'tol': 1e-06}. Best is trial 11 with value: 0.49675945681834016.\n"
     ]
    },
    {
     "name": "stdout",
     "output_type": "stream",
     "text": [
      "0.43857495378525346\n"
     ]
    },
    {
     "name": "stderr",
     "output_type": "stream",
     "text": [
      "[I 2025-06-27 10:23:26,748] Trial 20 finished with value: 0.2466204026311906 and parameters: {'c': 0.01053142278685761, 'tol': 0.0001}. Best is trial 11 with value: 0.49675945681834016.\n"
     ]
    },
    {
     "name": "stdout",
     "output_type": "stream",
     "text": [
      "0.2466204026311906\n"
     ]
    },
    {
     "name": "stderr",
     "output_type": "stream",
     "text": [
      "[I 2025-06-27 10:23:29,765] Trial 21 finished with value: 0.4939094415302027 and parameters: {'c': 1111.9515311702476, 'tol': 0.0001}. Best is trial 11 with value: 0.49675945681834016.\n"
     ]
    },
    {
     "name": "stdout",
     "output_type": "stream",
     "text": [
      "0.4939094415302027\n"
     ]
    },
    {
     "name": "stderr",
     "output_type": "stream",
     "text": [
      "[I 2025-06-27 10:23:32,603] Trial 22 finished with value: 0.494649924086328 and parameters: {'c': 1240.8815282771566, 'tol': 0.0001}. Best is trial 11 with value: 0.49675945681834016.\n"
     ]
    },
    {
     "name": "stdout",
     "output_type": "stream",
     "text": [
      "0.494649924086328\n"
     ]
    },
    {
     "name": "stderr",
     "output_type": "stream",
     "text": [
      "[I 2025-06-27 10:23:34,483] Trial 23 finished with value: 0.4881106152390265 and parameters: {'c': 102.98728795075299, 'tol': 0.0001}. Best is trial 11 with value: 0.49675945681834016.\n"
     ]
    },
    {
     "name": "stdout",
     "output_type": "stream",
     "text": [
      "0.4881106152390265\n"
     ]
    },
    {
     "name": "stderr",
     "output_type": "stream",
     "text": [
      "[I 2025-06-27 10:23:38,689] Trial 24 finished with value: 0.4964103404341343 and parameters: {'c': 9566.247558632927, 'tol': 0.0001}. Best is trial 11 with value: 0.49675945681834016.\n"
     ]
    },
    {
     "name": "stdout",
     "output_type": "stream",
     "text": [
      "0.4964103404341343\n"
     ]
    },
    {
     "name": "stderr",
     "output_type": "stream",
     "text": [
      "[I 2025-06-27 10:23:46,191] Trial 25 finished with value: 0.495958074303321 and parameters: {'c': 9893.374953624925, 'tol': 1e-06}. Best is trial 11 with value: 0.49675945681834016.\n"
     ]
    },
    {
     "name": "stdout",
     "output_type": "stream",
     "text": [
      "0.495958074303321\n"
     ]
    },
    {
     "name": "stderr",
     "output_type": "stream",
     "text": [
      "[I 2025-06-27 10:23:47,561] Trial 26 finished with value: 0.48215201432457105 and parameters: {'c': 39.35084363391439, 'tol': 0.001}. Best is trial 11 with value: 0.49675945681834016.\n"
     ]
    },
    {
     "name": "stdout",
     "output_type": "stream",
     "text": [
      "0.48215201432457105\n"
     ]
    },
    {
     "name": "stderr",
     "output_type": "stream",
     "text": [
      "[I 2025-06-27 10:23:50,704] Trial 27 finished with value: 0.49230478302539576 and parameters: {'c': 498.57944272234846, 'tol': 1e-05}. Best is trial 11 with value: 0.49675945681834016.\n"
     ]
    },
    {
     "name": "stdout",
     "output_type": "stream",
     "text": [
      "0.49230478302539576\n"
     ]
    },
    {
     "name": "stderr",
     "output_type": "stream",
     "text": [
      "[I 2025-06-27 10:23:52,735] Trial 28 finished with value: 0.48975625555921504 and parameters: {'c': 196.04116053108012, 'tol': 0.0001}. Best is trial 11 with value: 0.49675945681834016.\n"
     ]
    },
    {
     "name": "stdout",
     "output_type": "stream",
     "text": [
      "0.48975625555921504\n"
     ]
    },
    {
     "name": "stderr",
     "output_type": "stream",
     "text": [
      "[I 2025-06-27 10:23:56,358] Trial 29 finished with value: 0.49489674892226926 and parameters: {'c': 1580.7121424405768, 'tol': 1e-05}. Best is trial 11 with value: 0.49675945681834016.\n"
     ]
    },
    {
     "name": "stdout",
     "output_type": "stream",
     "text": [
      "0.49489674892226926\n"
     ]
    },
    {
     "name": "stderr",
     "output_type": "stream",
     "text": [
      "[I 2025-06-27 10:23:57,073] Trial 30 finished with value: 0.21122994652406415 and parameters: {'c': 1.587527504743515e-05, 'tol': 1e-06}. Best is trial 11 with value: 0.49675945681834016.\n"
     ]
    },
    {
     "name": "stdout",
     "output_type": "stream",
     "text": [
      "0.21122994652406415\n"
     ]
    },
    {
     "name": "stderr",
     "output_type": "stream",
     "text": [
      "[I 2025-06-27 10:24:04,596] Trial 31 finished with value: 0.4961922303894923 and parameters: {'c': 7864.063556477728, 'tol': 1e-06}. Best is trial 11 with value: 0.49675945681834016.\n"
     ]
    },
    {
     "name": "stdout",
     "output_type": "stream",
     "text": [
      "0.4961922303894923\n"
     ]
    },
    {
     "name": "stderr",
     "output_type": "stream",
     "text": [
      "[I 2025-06-27 10:24:12,133] Trial 32 finished with value: 0.495958074303321 and parameters: {'c': 9326.967795557943, 'tol': 1e-06}. Best is trial 11 with value: 0.49675945681834016.\n"
     ]
    },
    {
     "name": "stdout",
     "output_type": "stream",
     "text": [
      "0.495958074303321\n"
     ]
    },
    {
     "name": "stderr",
     "output_type": "stream",
     "text": [
      "[I 2025-06-27 10:24:17,166] Trial 33 finished with value: 0.49593941283578885 and parameters: {'c': 2152.2483487638483, 'tol': 1e-06}. Best is trial 11 with value: 0.49675945681834016.\n"
     ]
    },
    {
     "name": "stdout",
     "output_type": "stream",
     "text": [
      "0.49593941283578885\n"
     ]
    },
    {
     "name": "stderr",
     "output_type": "stream",
     "text": [
      "[I 2025-06-27 10:24:19,413] Trial 34 finished with value: 0.4923835738915923 and parameters: {'c': 320.82293730657847, 'tol': 0.0001}. Best is trial 11 with value: 0.49675945681834016.\n"
     ]
    },
    {
     "name": "stdout",
     "output_type": "stream",
     "text": [
      "0.4923835738915923\n"
     ]
    },
    {
     "name": "stderr",
     "output_type": "stream",
     "text": [
      "[I 2025-06-27 10:24:20,129] Trial 35 finished with value: 0.21122994652406415 and parameters: {'c': 0.0019142003294129071, 'tol': 1e-06}. Best is trial 11 with value: 0.49675945681834016.\n"
     ]
    },
    {
     "name": "stdout",
     "output_type": "stream",
     "text": [
      "0.21122994652406415\n"
     ]
    },
    {
     "name": "stderr",
     "output_type": "stream",
     "text": [
      "[I 2025-06-27 10:24:21,647] Trial 36 finished with value: 0.4732330920809249 and parameters: {'c': 6.480928039706946, 'tol': 1e-06}. Best is trial 11 with value: 0.49675945681834016.\n"
     ]
    },
    {
     "name": "stdout",
     "output_type": "stream",
     "text": [
      "0.4732330920809249\n"
     ]
    },
    {
     "name": "stderr",
     "output_type": "stream",
     "text": [
      "[I 2025-06-27 10:24:24,210] Trial 37 finished with value: 0.4933231436652066 and parameters: {'c': 629.7771523906509, 'tol': 0.0001}. Best is trial 11 with value: 0.49675945681834016.\n"
     ]
    },
    {
     "name": "stdout",
     "output_type": "stream",
     "text": [
      "0.4933231436652066\n"
     ]
    },
    {
     "name": "stderr",
     "output_type": "stream",
     "text": [
      "[I 2025-06-27 10:24:29,087] Trial 38 finished with value: 0.49546890691311846 and parameters: {'c': 2884.8301034281244, 'tol': 1e-05}. Best is trial 11 with value: 0.49675945681834016.\n"
     ]
    },
    {
     "name": "stdout",
     "output_type": "stream",
     "text": [
      "0.49546890691311846\n"
     ]
    },
    {
     "name": "stderr",
     "output_type": "stream",
     "text": [
      "[I 2025-06-27 10:24:31,150] Trial 39 finished with value: 0.48039049969123343 and parameters: {'c': 31.87944142685159, 'tol': 1e-06}. Best is trial 11 with value: 0.49675945681834016.\n"
     ]
    },
    {
     "name": "stdout",
     "output_type": "stream",
     "text": [
      "0.48039049969123343\n"
     ]
    },
    {
     "name": "stderr",
     "output_type": "stream",
     "text": [
      "[I 2025-06-27 10:24:32,671] Trial 40 finished with value: 0.48758696743854996 and parameters: {'c': 113.83339053140537, 'tol': 0.001}. Best is trial 11 with value: 0.49675945681834016.\n"
     ]
    },
    {
     "name": "stdout",
     "output_type": "stream",
     "text": [
      "0.48758696743854996\n"
     ]
    },
    {
     "name": "stderr",
     "output_type": "stream",
     "text": [
      "[I 2025-06-27 10:24:40,266] Trial 41 finished with value: 0.495958074303321 and parameters: {'c': 9702.023652519227, 'tol': 1e-06}. Best is trial 11 with value: 0.49675945681834016.\n"
     ]
    },
    {
     "name": "stdout",
     "output_type": "stream",
     "text": [
      "0.495958074303321\n"
     ]
    },
    {
     "name": "stderr",
     "output_type": "stream",
     "text": [
      "[I 2025-06-27 10:24:47,613] Trial 42 finished with value: 0.495958074303321 and parameters: {'c': 9104.630387941706, 'tol': 1e-06}. Best is trial 11 with value: 0.49675945681834016.\n"
     ]
    },
    {
     "name": "stdout",
     "output_type": "stream",
     "text": [
      "0.495958074303321\n"
     ]
    },
    {
     "name": "stderr",
     "output_type": "stream",
     "text": [
      "[I 2025-06-27 10:24:53,232] Trial 43 finished with value: 0.4958857122872866 and parameters: {'c': 2697.4360103307076, 'tol': 1e-06}. Best is trial 11 with value: 0.49675945681834016.\n"
     ]
    },
    {
     "name": "stdout",
     "output_type": "stream",
     "text": [
      "0.4958857122872866\n"
     ]
    },
    {
     "name": "stderr",
     "output_type": "stream",
     "text": [
      "[I 2025-06-27 10:24:59,185] Trial 44 finished with value: 0.4953300014405826 and parameters: {'c': 3283.866882936339, 'tol': 1e-06}. Best is trial 11 with value: 0.49675945681834016.\n"
     ]
    },
    {
     "name": "stdout",
     "output_type": "stream",
     "text": [
      "0.4953300014405826\n"
     ]
    },
    {
     "name": "stderr",
     "output_type": "stream",
     "text": [
      "[I 2025-06-27 10:24:59,881] Trial 45 finished with value: 0.21122994652406415 and parameters: {'c': 0.00022017197177229858, 'tol': 1e-06}. Best is trial 11 with value: 0.49675945681834016.\n"
     ]
    },
    {
     "name": "stdout",
     "output_type": "stream",
     "text": [
      "0.21122994652406415\n"
     ]
    },
    {
     "name": "stderr",
     "output_type": "stream",
     "text": [
      "[I 2025-06-27 10:25:02,219] Trial 46 finished with value: 0.49279021863117073 and parameters: {'c': 546.0224487535141, 'tol': 0.0001}. Best is trial 11 with value: 0.49675945681834016.\n"
     ]
    },
    {
     "name": "stdout",
     "output_type": "stream",
     "text": [
      "0.49279021863117073\n"
     ]
    },
    {
     "name": "stderr",
     "output_type": "stream",
     "text": [
      "[I 2025-06-27 10:25:06,897] Trial 47 finished with value: 0.49414778935322823 and parameters: {'c': 1108.5072128665763, 'tol': 1e-06}. Best is trial 11 with value: 0.49675945681834016.\n"
     ]
    },
    {
     "name": "stdout",
     "output_type": "stream",
     "text": [
      "0.49414778935322823\n"
     ]
    },
    {
     "name": "stderr",
     "output_type": "stream",
     "text": [
      "[I 2025-06-27 10:25:11,162] Trial 48 finished with value: 0.4959368900486172 and parameters: {'c': 4989.641150528634, 'tol': 0.0001}. Best is trial 11 with value: 0.49675945681834016.\n"
     ]
    },
    {
     "name": "stdout",
     "output_type": "stream",
     "text": [
      "0.4959368900486172\n"
     ]
    },
    {
     "name": "stderr",
     "output_type": "stream",
     "text": [
      "[I 2025-06-27 10:25:11,950] Trial 49 finished with value: 0.3052927171217487 and parameters: {'c': 0.037454358015606606, 'tol': 1e-05}. Best is trial 11 with value: 0.49675945681834016.\n"
     ]
    },
    {
     "name": "stdout",
     "output_type": "stream",
     "text": [
      "0.3052927171217487\n"
     ]
    }
   ],
   "source": [
    "study = optuna.create_study(direction='maximize')\n",
    "study.optimize(objective, n_trials=50)"
   ]
  },
  {
   "cell_type": "code",
   "execution_count": 14,
   "id": "b9803eeb",
   "metadata": {},
   "outputs": [
    {
     "name": "stdout",
     "output_type": "stream",
     "text": [
      "Best trial (number 11):\n",
      "  Value: 0.49675945681834016\n",
      "  Params: {'c': 6879.63758068423, 'tol': 0.0001}\n"
     ]
    }
   ],
   "source": [
    "# Print the best trial's hyperparameters and objective value\n",
    "best_trial = study.best_trial\n",
    "print(f\"Best trial (number {best_trial.number}):\")\n",
    "print(f\"  Value: {best_trial.value}\")\n",
    "print(f\"  Params: {best_trial.params}\")"
   ]
  },
  {
   "cell_type": "code",
   "execution_count": 16,
   "id": "824a1945",
   "metadata": {},
   "outputs": [
    {
     "name": "stdout",
     "output_type": "stream",
     "text": [
      "              precision    recall  f1-score   support\n",
      "\n",
      "         13+       0.61      0.58      0.59      2133\n",
      "         7-8       0.49      0.60      0.54      1009\n",
      "        9-12       0.36      0.32      0.34      1457\n",
      "\n",
      "    accuracy                           0.50      4599\n",
      "   macro avg       0.48      0.50      0.49      4599\n",
      "weighted avg       0.50      0.50      0.50      4599\n",
      "\n"
     ]
    }
   ],
   "source": [
    "\n",
    "\n",
    "clf = LinearSVC(\n",
    "    loss='squared_hinge', penalty='l2',\n",
    "                    random_state=42,\n",
    "                    C=120,\n",
    "                    tol=1e-5)\n",
    "clf.fit(vecd_train_data['handpicked_features_vector'], train_dss['label'])\n",
    "eval_predict = clf.predict(vecd_eval_data['handpicked_features_vector'])\n",
    "print(metrics.classification_report(eval_dss['label'], eval_predict))"
   ]
  }
 ],
 "metadata": {
  "kernelspec": {
   "display_name": "Test",
   "language": "python",
   "name": "python3"
  },
  "language_info": {
   "codemirror_mode": {
    "name": "ipython",
    "version": 3
   },
   "file_extension": ".py",
   "mimetype": "text/x-python",
   "name": "python",
   "nbconvert_exporter": "python",
   "pygments_lexer": "ipython3",
   "version": "3.10.16"
  }
 },
 "nbformat": 4,
 "nbformat_minor": 5
}
