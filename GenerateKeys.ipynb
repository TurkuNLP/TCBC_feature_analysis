{
 "cells": [
  {
   "cell_type": "code",
   "execution_count": 23,
   "id": "fc89a501",
   "metadata": {},
   "outputs": [],
   "source": [
    "#Imports\n",
    "from scripts import bookdatafunctions as bdf\n",
    "from scripts import corpusMLfunctions as cmf\n",
    "import json"
   ]
  },
  {
   "cell_type": "code",
   "execution_count": 24,
   "id": "a7b1b162",
   "metadata": {},
   "outputs": [],
   "source": [
    "#Constants\n",
    "AGE_SHEET = \"ISBN_MAPS/ISBN2AGE.xlsx\"\n",
    "AUTH_SHEET = \"ISBN_MAPS/ISBN2AUTH.xlsx\"\n",
    "CONLLUS_FOLDER = \"Conllus\"\n",
    "SNIPPET_LENS = [5,10,25,50,75,100]"
   ]
  },
  {
   "cell_type": "code",
   "execution_count": 25,
   "id": "a2e62f56",
   "metadata": {},
   "outputs": [],
   "source": [
    "#Load corpus\n",
    "corpus = bdf.mapGroup2Age(bdf.maskPropn(bdf.initBooksFromConllus(CONLLUS_FOLDER)), AGE_SHEET)"
   ]
  },
  {
   "cell_type": "code",
   "execution_count": 26,
   "id": "060ae1ac",
   "metadata": {},
   "outputs": [
    {
     "name": "stdout",
     "output_type": "stream",
     "text": [
      "{6: 11, 5: 10, 11: 6, 10: 9, 16: 2, 9: 35, 7: 25, 14: 32, 18: 0, 15: 19, 8: 21, 12: 18, 13: 15}\n"
     ]
    }
   ],
   "source": [
    "#Generate train-test-eval split for keys\n",
    "author_level_split = cmf.splitOnAuthorLevel(list(corpus.keys()), AUTH_SHEET)\n",
    "train_target, test_target, eval_target = cmf.generateAgeStratificationAmounts(corpus, 0.7)\n",
    "print(train_target)\n",
    "train_keys, test_keys, eval_keys = cmf.doTrainTestEvalSplitSeriesLevel(author_level_split, train_target, test_target, eval_target)"
   ]
  },
  {
   "cell_type": "code",
   "execution_count": 27,
   "id": "070fbe49",
   "metadata": {},
   "outputs": [],
   "source": [
    "def checkDuplicates(trainkeys: list, testkeys:list):\n",
    "    for key in trainkeys:\n",
    "        if key in testkeys:\n",
    "            return False\n",
    "    return True\n",
    "\n",
    "def checkGenres(trainkeys: list, correct_amounts: dict):\n",
    "    amounts = {1:0, 2:0, 3:0}\n",
    "    for key in trainkeys:\n",
    "        genre = int(key[-1])\n",
    "        amounts[genre] = amounts[genre] + 1\n",
    "    for key in correct_amounts:\n",
    "        if abs(correct_amounts[key]-amounts[key]) > 1:\n",
    "            return False\n",
    "    return True"
   ]
  },
  {
   "cell_type": "code",
   "execution_count": null,
   "id": "6043ff05",
   "metadata": {},
   "outputs": [
    {
     "name": "stdout",
     "output_type": "stream",
     "text": [
      "0\n",
      "1\n",
      "2\n",
      "3\n",
      "4\n",
      "5\n",
      "6\n",
      "7\n",
      "8\n",
      "9\n",
      "10\n",
      "11\n",
      "12\n",
      "13\n",
      "14\n",
      "15\n",
      "16\n",
      "17\n",
      "18\n",
      "19\n",
      "20\n",
      "21\n",
      "22\n",
      "23\n",
      "24\n",
      "25\n",
      "26\n",
      "27\n",
      "28\n",
      "29\n",
      "30\n",
      "31\n",
      "32\n",
      "33\n",
      "34\n",
      "35\n",
      "36\n",
      "37\n",
      "38\n",
      "39\n",
      "40\n",
      "41\n",
      "42\n",
      "43\n",
      "44\n",
      "45\n",
      "46\n",
      "47\n",
      "48\n",
      "49\n",
      "50\n",
      "51\n",
      "52\n",
      "53\n",
      "54\n",
      "55\n",
      "56\n",
      "57\n",
      "58\n",
      "59\n",
      "60\n",
      "61\n",
      "62\n",
      "63\n",
      "64\n",
      "65\n",
      "66\n",
      "67\n",
      "68\n",
      "69\n",
      "70\n",
      "71\n",
      "72\n",
      "73\n",
      "74\n",
      "75\n",
      "76\n",
      "77\n",
      "78\n",
      "79\n",
      "80\n",
      "81\n",
      "82\n",
      "83\n",
      "84\n",
      "85\n",
      "86\n",
      "87\n",
      "88\n",
      "89\n",
      "90\n",
      "91\n",
      "92\n",
      "93\n",
      "94\n",
      "95\n",
      "96\n",
      "97\n",
      "98\n",
      "99\n"
     ]
    }
   ],
   "source": [
    "trainkeys_straps = []\n",
    "testkeys_straps = []\n",
    "evalkeys_straps = []\n",
    "\n",
    "while len(trainkeys_straps) != 100:\n",
    "    train_keys, test_keys, eval_keys = cmf.doTrainTestEvalSplitSeriesLevel(author_level_split, train_target, test_target, eval_target)\n",
    "    if len(train_keys) == 210 and checkDuplicates(train_keys, test_keys+eval_keys) and checkGenres(train_keys, {1:158, 2:32, 3:20}):\n",
    "        print(len(trainkeys_straps))\n",
    "        trainkeys_straps.append(train_keys)\n",
    "        testkeys_straps.append(test_keys)\n",
    "        evalkeys_straps.append(eval_keys)"
   ]
  },
  {
   "cell_type": "code",
   "execution_count": 28,
   "id": "30d2b439",
   "metadata": {},
   "outputs": [
    {
     "name": "stdout",
     "output_type": "stream",
     "text": [
      "100\n"
     ]
    }
   ],
   "source": [
    "counter = 0\n",
    "for x in trainkeys_straps:\n",
    "    for y in trainkeys_straps:\n",
    "        if x==y:\n",
    "            counter += 1\n",
    "print(counter)"
   ]
  },
  {
   "cell_type": "code",
   "execution_count": 29,
   "id": "5d2456bf",
   "metadata": {},
   "outputs": [],
   "source": [
    "temp_dict = []\n",
    "for i in range(len(trainkeys_straps)):\n",
    "    temp_dict.append({'id':i, 'train_keys':trainkeys_straps[i], 'eval_keys':evalkeys_straps[i], 'test_keys':testkeys_straps[i]})\n",
    "with open(\"Keylists.jsonl\", 'w') as f:\n",
    "    f.write('\\n'.join(map(json.dumps, temp_dict)))"
   ]
  }
 ],
 "metadata": {
  "kernelspec": {
   "display_name": "Test",
   "language": "python",
   "name": "python3"
  },
  "language_info": {
   "codemirror_mode": {
    "name": "ipython",
    "version": 3
   },
   "file_extension": ".py",
   "mimetype": "text/x-python",
   "name": "python",
   "nbconvert_exporter": "python",
   "pygments_lexer": "ipython3",
   "version": "3.10.16"
  }
 },
 "nbformat": 4,
 "nbformat_minor": 5
}
