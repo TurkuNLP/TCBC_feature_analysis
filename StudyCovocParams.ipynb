{
 "cells": [
  {
   "cell_type": "code",
   "execution_count": 4,
   "id": "0501e3af",
   "metadata": {},
   "outputs": [],
   "source": [
    "#Imports\n",
    "import itertools\n",
    "import json\n",
    "from collections import Counter\n",
    "import pandas as pd\n",
    "import numpy as np\n",
    "import os"
   ]
  },
  {
   "cell_type": "code",
   "execution_count": 5,
   "id": "0a77533a",
   "metadata": {},
   "outputs": [],
   "source": [
    "def loadOptimParams(sniplen, tfidf):\n",
    "    #Load optimized parameters\n",
    "    best_params = []\n",
    "    for i in range(100):\n",
    "        filename = \"TestResults/COVOC_hyperparams/COVOC_hyperparams_sniplen_\"+str(sniplen)+\"_keylist_\"+str(i)\n",
    "        if tfidf:\n",
    "            filename += \"_tfidf\"\n",
    "        else:\n",
    "            filename += \"_hpfv\"\n",
    "        filename += \".jsonl\"\n",
    "        with open(filename, 'r') as reader:\n",
    "            for line in reader:\n",
    "                best_params.append(json.loads(line))\n",
    "    return best_params"
   ]
  },
  {
   "cell_type": "code",
   "execution_count": 34,
   "id": "f5689230",
   "metadata": {},
   "outputs": [],
   "source": [
    "df = pd.DataFrame(loadOptimParams(50, False))"
   ]
  },
  {
   "cell_type": "code",
   "execution_count": 35,
   "id": "23444350",
   "metadata": {},
   "outputs": [
    {
     "data": {
      "text/plain": [
       "57     0.024970\n",
       "0      0.100454\n",
       "45     0.111081\n",
       "105    0.139761\n",
       "288    0.140799\n",
       "         ...   \n",
       "183    0.966243\n",
       "204    0.977534\n",
       "27     0.980865\n",
       "108    0.988354\n",
       "198    0.996150\n",
       "Name: c, Length: 100, dtype: float64"
      ]
     },
     "execution_count": 35,
     "metadata": {},
     "output_type": "execute_result"
    }
   ],
   "source": [
    "df[df['id'] == '0_1']['c'].sort_values()"
   ]
  },
  {
   "cell_type": "code",
   "execution_count": 36,
   "id": "039d80ca",
   "metadata": {},
   "outputs": [
    {
     "data": {
      "text/plain": [
       "181    7.703144e-08\n",
       "196    1.429457e-07\n",
       "112    2.859618e-07\n",
       "130    6.928849e-07\n",
       "232    1.120467e-06\n",
       "           ...     \n",
       "52     8.903085e-01\n",
       "289    9.020743e-01\n",
       "178    9.128348e-01\n",
       "211    9.662839e-01\n",
       "223    9.924033e-01\n",
       "Name: c, Length: 100, dtype: float64"
      ]
     },
     "execution_count": 36,
     "metadata": {},
     "output_type": "execute_result"
    }
   ],
   "source": [
    "df[df['id'] == '0_2']['c'].sort_values()\n"
   ]
  },
  {
   "cell_type": "code",
   "execution_count": 37,
   "id": "ee613680",
   "metadata": {},
   "outputs": [
    {
     "data": {
      "text/plain": [
       "62     0.000014\n",
       "11     0.000015\n",
       "242    0.000035\n",
       "86     0.000181\n",
       "161    0.000697\n",
       "         ...   \n",
       "128    0.947870\n",
       "179    0.962545\n",
       "104    0.981641\n",
       "215    0.990749\n",
       "23     0.990772\n",
       "Name: c, Length: 100, dtype: float64"
      ]
     },
     "execution_count": 37,
     "metadata": {},
     "output_type": "execute_result"
    }
   ],
   "source": [
    "df[df['id'] == '1_2']['c'].sort_values()\n"
   ]
  }
 ],
 "metadata": {
  "kernelspec": {
   "display_name": "Test",
   "language": "python",
   "name": "python3"
  },
  "language_info": {
   "codemirror_mode": {
    "name": "ipython",
    "version": 3
   },
   "file_extension": ".py",
   "mimetype": "text/x-python",
   "name": "python",
   "nbconvert_exporter": "python",
   "pygments_lexer": "ipython3",
   "version": "3.10.16"
  }
 },
 "nbformat": 4,
 "nbformat_minor": 5
}
