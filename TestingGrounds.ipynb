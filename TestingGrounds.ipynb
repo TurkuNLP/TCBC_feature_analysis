{
 "cells": [
  {
   "cell_type": "code",
   "execution_count": null,
   "id": "adce870e",
   "metadata": {},
   "outputs": [],
   "source": [
    "#Imports\n",
    "import json"
   ]
  },
  {
   "cell_type": "code",
   "execution_count": 2,
   "id": "75da3c96",
   "metadata": {},
   "outputs": [],
   "source": [
    "#Constants\n",
    "KEYLISTS = \"Keylists.jsonl\""
   ]
  },
  {
   "cell_type": "code",
   "execution_count": 3,
   "id": "6a647843",
   "metadata": {},
   "outputs": [],
   "source": [
    "keylists = []\n",
    "with open(KEYLISTS, 'r') as f:\n",
    "    for line in f:\n",
    "        keylists.append(json.loads(line))"
   ]
  },
  {
   "cell_type": "code",
   "execution_count": 7,
   "id": "fe33ddf4",
   "metadata": {},
   "outputs": [
    {
     "name": "stdout",
     "output_type": "stream",
     "text": [
      "[0, 1, 2, 3, 4]\n",
      "[5, 6, 7, 8, 9]\n",
      "[10, 11, 12, 13, 14]\n",
      "[15, 16, 17, 18, 19]\n",
      "[20, 21, 22, 23, 24]\n",
      "[25, 26, 27, 28, 29]\n",
      "[30, 31, 32, 33, 34]\n",
      "[35, 36, 37, 38, 39]\n",
      "[40, 41, 42, 43, 44]\n",
      "[45, 46, 47, 48, 49]\n",
      "[50, 51, 52, 53, 54]\n",
      "[55, 56, 57, 58, 59]\n",
      "[60, 61, 62, 63, 64]\n",
      "[65, 66, 67, 68, 69]\n",
      "[70, 71, 72, 73, 74]\n",
      "[75, 76, 77, 78, 79]\n",
      "[80, 81, 82, 83, 84]\n",
      "[85, 86, 87, 88, 89]\n",
      "[90, 91, 92, 93, 94]\n",
      "[95, 96, 97, 98, 99]\n"
     ]
    }
   ],
   "source": [
    "tt = list(range(100))\n",
    "prev = 0\n",
    "step = 5\n",
    "for i in range(step, len(tt)+1, step):\n",
    "    print(tt[prev:i])\n",
    "    prev = i"
   ]
  }
 ],
 "metadata": {
  "kernelspec": {
   "display_name": "Test",
   "language": "python",
   "name": "python3"
  },
  "language_info": {
   "codemirror_mode": {
    "name": "ipython",
    "version": 3
   },
   "file_extension": ".py",
   "mimetype": "text/x-python",
   "name": "python",
   "nbconvert_exporter": "python",
   "pygments_lexer": "ipython3",
   "version": "3.10.16"
  }
 },
 "nbformat": 4,
 "nbformat_minor": 5
}
