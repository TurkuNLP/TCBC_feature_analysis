{
 "cells": [
  {
   "cell_type": "code",
   "execution_count": 128,
   "id": "252bc7f9",
   "metadata": {},
   "outputs": [],
   "source": [
    "#Imports\n",
    "import os\n",
    "import numpy as np\n",
    "import pandas as pd\n",
    "import json\n",
    "from pprint import pprint"
   ]
  },
  {
   "cell_type": "code",
   "execution_count": 129,
   "id": "e9ed3c97",
   "metadata": {},
   "outputs": [],
   "source": [
    "base_dir = \"TestResults/DifferentAgeGroups_tfidf/\"\n",
    "\n",
    "tests = []\n",
    "\n",
    "for f in os.listdir(base_dir):\n",
    "    with open(base_dir+f, 'r') as file:\n",
    "        tests.append(json.loads(file.read()))"
   ]
  },
  {
   "cell_type": "code",
   "execution_count": 130,
   "id": "7ef54dcc",
   "metadata": {},
   "outputs": [],
   "source": [
    "df = pd.DataFrame.from_dict(tests)"
   ]
  },
  {
   "cell_type": "code",
   "execution_count": 131,
   "id": "eeeb0485",
   "metadata": {},
   "outputs": [
    {
     "name": "stdout",
     "output_type": "stream",
     "text": [
      "          f1                id                labels  \\\n",
      "27  0.706065         5-9_10-15          [10-15, 5-9]   \n",
      "3   0.694506        5-10_11-15         [11-15, 5-10]   \n",
      "47  0.685234          5-8_9-15           [5-8, 9-15]   \n",
      "16  0.665980        5-12_13-15         [13-15, 5-12]   \n",
      "11  0.658723        5-11_12-15         [12-15, 5-11]   \n",
      "34  0.613611        5-13_14-15         [14-15, 5-13]   \n",
      "21  0.537986          5-7_8-15           [5-7, 8-15]   \n",
      "32  0.494315          5-6_7-15           [5-6, 7-15]   \n",
      "18  0.491153  5-10_11-13_14-15  [11-13, 14-15, 5-10]   \n",
      "12  0.485087    5-8_9-12_13-15    [13-15, 5-8, 9-12]   \n",
      "\n",
      "                                          conf_matrix         c           tol  \\\n",
      "27                          [[1555, 420], [397, 667]]  0.320575  1.954179e-04   \n",
      "3                           [[1272, 388], [523, 856]]  0.264689  1.575747e-07   \n",
      "47                          [[295, 436], [168, 2140]]  0.130006  7.002243e-06   \n",
      "16                          [[747, 576], [404, 1312]]  0.067027  6.417922e-10   \n",
      "11                          [[1099, 529], [504, 907]]  0.849754  3.737483e-08   \n",
      "34                          [[445, 668], [341, 1585]]  0.993816  1.051251e-09   \n",
      "21                           [[49, 288], [205, 2497]]  0.871572  1.571903e-09   \n",
      "32                             [[1, 124], [23, 2891]]  0.611239  2.768801e-05   \n",
      "18  [[167, 196, 184], [243, 535, 335], [153, 275, ...  0.984195  2.349616e-07   \n",
      "12  [[889, 91, 343], [112, 396, 223], [465, 264, 2...  0.152687  1.056645e-08   \n",
      "\n",
      "   penalty                                      c_eval_scores  \n",
      "27      l2  [[0.0067416202009783505, 0.4553711331591985], ...  \n",
      "3       l2  [[0.0015835335522651488, 0.5357491896776959], ...  \n",
      "47      l2  [[9.64263240223101e-07, 0.4463350785340314], [...  \n",
      "16      l1  [[0.0013658614893420089, 0.33198806808211967],...  \n",
      "11      l2  [[0.0842265029531622, 0.6056910341898017], [7....  \n",
      "34      l2  [[0.0004215072414480801, 0.34711027268050076],...  \n",
      "21      l2  [[0.0008913604061979958, 0.4739532955644604], ...  \n",
      "32      l2  [[5.648696332219313e-10, 0.48960986727443356],...  \n",
      "18      l1  [[1.1311657695817007e-07, 0.081199538638985], ...  \n",
      "12      l2  [[2.2090718336711084e-09, 0.22311546079459396]...  \n"
     ]
    }
   ],
   "source": [
    "print(df.sort_values('f1', ascending=False)[:10])"
   ]
  },
  {
   "cell_type": "code",
   "execution_count": 132,
   "id": "0056ff98",
   "metadata": {},
   "outputs": [
    {
     "name": "stderr",
     "output_type": "stream",
     "text": [
      "/tmp/ipykernel_549212/3107025408.py:3: UserWarning: set_ticklabels() should only be used with a fixed number of ticks, i.e. after set_ticks() or using a FixedLocator.\n",
      "  sns.lineplot(tt).set_xticklabels(df.sort_values('f1', ascending=False)['labels'].apply(lambda x:len(x)).to_numpy())\n"
     ]
    },
    {
     "data": {
      "text/plain": [
       "[Text(0, 0, '2'),\n",
       " Text(1, 0, '2'),\n",
       " Text(2, 0, '2'),\n",
       " Text(3, 0, '2'),\n",
       " Text(4, 0, '2'),\n",
       " Text(5, 0, '2'),\n",
       " Text(6, 0, '2'),\n",
       " Text(7, 0, '2'),\n",
       " Text(8, 0, '3'),\n",
       " Text(9, 0, '3'),\n",
       " Text(10, 0, '3'),\n",
       " Text(11, 0, '3'),\n",
       " Text(12, 0, '3'),\n",
       " Text(13, 0, '3'),\n",
       " Text(14, 0, '3'),\n",
       " Text(15, 0, '3'),\n",
       " Text(16, 0, '3'),\n",
       " Text(17, 0, '3'),\n",
       " Text(18, 0, '3'),\n",
       " Text(19, 0, '3'),\n",
       " Text(20, 0, '3'),\n",
       " Text(21, 0, '3'),\n",
       " Text(22, 0, '3'),\n",
       " Text(23, 0, '3'),\n",
       " Text(24, 0, '3'),\n",
       " Text(25, 0, '4'),\n",
       " Text(26, 0, '3'),\n",
       " Text(27, 0, '3'),\n",
       " Text(28, 0, '3'),\n",
       " Text(29, 0, '4'),\n",
       " Text(30, 0, '4'),\n",
       " Text(31, 0, '4'),\n",
       " Text(32, 0, '4'),\n",
       " Text(33, 0, '4'),\n",
       " Text(34, 0, '4'),\n",
       " Text(35, 0, '3'),\n",
       " Text(36, 0, '4'),\n",
       " Text(37, 0, '4'),\n",
       " Text(38, 0, '4'),\n",
       " Text(39, 0, '4'),\n",
       " Text(40, 0, '4'),\n",
       " Text(41, 0, '4'),\n",
       " Text(42, 0, '4'),\n",
       " Text(43, 0, '4'),\n",
       " Text(44, 0, '4'),\n",
       " Text(45, 0, '4'),\n",
       " Text(46, 0, '4'),\n",
       " Text(47, 0, '4'),\n",
       " Text(48, 0, '4')]"
      ]
     },
     "execution_count": 132,
     "metadata": {},
     "output_type": "execute_result"
    },
    {
     "data": {
      "image/png": "[encoded data removed]",
      "text/plain": [
       "<Figure size 640x480 with 1 Axes>"
      ]
     },
     "metadata": {},
     "output_type": "display_data"
    }
   ],
   "source": [
    "import seaborn as sns\n",
    "tt = pd.Series(data=df.sort_values('f1', ascending=False)['f1'].to_numpy(), index=df.sort_values('f1', ascending=False)['id'].to_numpy())\n",
    "sns.lineplot(tt).set_xticklabels(df.sort_values('f1', ascending=False)['labels'].apply(lambda x:len(x)).to_numpy())"
   ]
  },
  {
   "cell_type": "markdown",
   "id": "4f88992d",
   "metadata": {},
   "source": [
    "### Best for three groups"
   ]
  },
  {
   "cell_type": "code",
   "execution_count": 133,
   "id": "87a50669",
   "metadata": {},
   "outputs": [],
   "source": [
    "df = df[df['labels'].apply(lambda x: len(x)==4)]"
   ]
  },
  {
   "cell_type": "code",
   "execution_count": 134,
   "id": "92c260af",
   "metadata": {},
   "outputs": [
    {
     "name": "stdout",
     "output_type": "stream",
     "text": [
      "          f1                     id                      labels  \\\n",
      "4   0.390167   5-8_9-10_11-13_14-15   [11-13, 14-15, 5-8, 9-10]   \n",
      "8   0.379977     5-6_7-8_9-12_13-15     [13-15, 5-6, 7-8, 9-12]   \n",
      "28  0.376589     5-6_7-8_9-13_14-15     [14-15, 5-6, 7-8, 9-13]   \n",
      "1   0.372535   5-6_7-10_11-13_14-15   [11-13, 14-15, 5-6, 7-10]   \n",
      "24  0.363049   5-8_9-11_12-13_14-15   [12-13, 14-15, 5-8, 9-11]   \n",
      "20  0.360221    5-6_7-9_10-13_14-15    [10-13, 14-15, 5-6, 7-9]   \n",
      "17  0.359814   5-8_9-10_11-12_13-15   [11-12, 13-15, 5-8, 9-10]   \n",
      "2   0.356733     5-6_7-8_9-11_12-15     [12-15, 5-6, 7-8, 9-11]   \n",
      "46  0.351426   5-6_7-11_12-13_14-15   [12-13, 14-15, 5-6, 7-11]   \n",
      "48  0.349731   5-6_7-10_11-12_13-15   [11-12, 13-15, 5-6, 7-10]   \n",
      "10  0.346268  5-9_10-11_12-13_14-15  [10-11, 12-13, 14-15, 5-9]   \n",
      "22  0.346039    5-6_7-9_10-12_13-15    [10-12, 13-15, 5-6, 7-9]   \n",
      "33  0.344607     5-6_7-8_9-10_11-15     [11-15, 5-6, 7-8, 9-10]   \n",
      "19  0.333446   5-7_8-10_11-13_14-15   [11-13, 14-15, 5-7, 8-10]   \n",
      "45  0.332679    5-6_7-9_10-11_12-15    [10-11, 12-15, 5-6, 7-9]   \n",
      "44  0.311111    5-7_8-9_10-12_13-15    [10-12, 13-15, 5-7, 8-9]   \n",
      "7   0.305668   5-7_8-10_11-12_13-15   [11-12, 13-15, 5-7, 8-10]   \n",
      "23  0.304966    5-7_8-9_10-13_14-15    [10-13, 14-15, 5-7, 8-9]   \n",
      "43  0.300195   5-7_8-11_12-13_14-15   [12-13, 14-15, 5-7, 8-11]   \n",
      "15  0.275314    5-7_8-9_10-11_12-15    [10-11, 12-15, 5-7, 8-9]   \n",
      "\n",
      "                                          conf_matrix         c           tol  \\\n",
      "4   [[179, 224, 122, 22], [255, 622, 135, 101], [6...  0.258362  1.523088e-08   \n",
      "8   [[858, 13, 66, 386], [22, 3, 20, 80], [113, 5,...  0.437346  3.215304e-09   \n",
      "28  [[530, 2, 66, 515], [6, 0, 5, 114], [103, 3, 3...  0.268662  2.738817e-07   \n",
      "1   [[172, 217, 24, 134], [227, 569, 6, 311], [23,...  0.397675  6.444843e-07   \n",
      "24  [[115, 190, 111, 99], [217, 575, 141, 180], [6...  0.921401  3.035025e-05   \n",
      "20  [[235, 330, 27, 270], [293, 554, 12, 254], [54...  0.930685  3.231318e-04   \n",
      "17  [[24, 182, 108, 23], [145, 929, 145, 104], [32...  0.359957  5.235826e-04   \n",
      "2   [[1248, 29, 110, 241], [53, 3, 13, 56], [194, ...  0.422712  4.325184e-06   \n",
      "46  [[116, 187, 28, 184], [188, 539, 16, 370], [25...  0.841144  3.730774e-10   \n",
      "48  [[29, 176, 9, 123], [135, 848, 35, 305], [5, 2...  0.580163  1.858502e-09   \n",
      "10  [[0, 25, 160, 162], [33, 115, 184, 183], [43, ...  0.771947  2.371707e-06   \n",
      "22  [[68, 300, 12, 272], [171, 862, 41, 249], [30,...  0.931144  4.928256e-09   \n",
      "33  [[1480, 12, 87, 81], [61, 0, 5, 59], [235, 2, ...  0.121346  1.410186e-07   \n",
      "19  [[186, 221, 53, 87], [253, 611, 44, 205], [45,...  0.383923  3.324080e-10   \n",
      "45  [[0, 214, 0, 133], [64, 1201, 35, 328], [3, 45...  0.926253  4.223314e-08   \n",
      "44  [[101, 330, 62, 159], [184, 886, 74, 179], [43...  0.857300  2.620622e-04   \n",
      "7   [[33, 172, 51, 81], [162, 878, 70, 213], [20, ...  0.972793  9.548215e-08   \n",
      "23  [[245, 348, 70, 199], [313, 575, 60, 165], [92...  0.943293  2.287184e-08   \n",
      "43  [[98, 216, 45, 156], [186, 609, 46, 272], [33,...  0.277527  4.737231e-06   \n",
      "15  [[0, 244, 11, 92], [65, 1247, 114, 202], [9, 8...  0.666460  5.966388e-10   \n",
      "\n",
      "   penalty                                      c_eval_scores  \n",
      "4       l2  [[0.002089145041964513, 0.34088153545299643], ...  \n",
      "8       l1  [[9.9801811386703e-09, 0.16733659559594546], [...  \n",
      "28      l2  [[0.04427661661456271, 0.32338651454303846], [...  \n",
      "1       l2  [[0.0020202611758268732, 0.22663277441197976],...  \n",
      "24      l2  [[5.5487319550719e-05, 0.15948121645796065], [...  \n",
      "20      l2  [[4.3895895509795935e-05, 0.12809918863094866]...  \n",
      "17      l2  [[0.15311331917086243, 0.39458808904846626], [...  \n",
      "2       l1  [[0.00012654643325780447, 0.18285571476174609]...  \n",
      "46      l1  [[1.0796107066020512e-06, 0.13839285714285715]...  \n",
      "48      l2  [[1.2985408384970018e-09, 0.047109207708779445...  \n",
      "10      l1  [[1.1183685794901552e-05, 0.05421545667447307]...  \n",
      "22      l2  [[3.3297862036950555e-08, 0.08164835164835164]...  \n",
      "33      l2  [[3.3586312481226726e-05, 0.18886891140895717]...  \n",
      "19      l2  [[7.051553591368832e-05, 0.15948121645796065],...  \n",
      "45      l1  [[2.0827182875862058e-08, 0.18285571476174609]...  \n",
      "44      l1  [[9.129549222713237e-10, 0.08164835164835164],...  \n",
      "7       l2  [[6.263137049463531e-05, 0.16733659559594546],...  \n",
      "23      l2  [[2.7340944782060796e-06, 0.15948121645796065]...  \n",
      "43      l2  [[2.5972703093088577e-06, 0.04882673619341076]...  \n",
      "15      l2  [[3.952194433044703e-09, 0.18285571476174609],...  \n"
     ]
    }
   ],
   "source": [
    "print(df.sort_values('f1', ascending=False))"
   ]
  },
  {
   "cell_type": "code",
   "execution_count": 135,
   "id": "0221f10e",
   "metadata": {},
   "outputs": [],
   "source": [
    "worst_predicts = np.array(df.sort_values('f1')[:1]['conf_matrix'].to_numpy()[0])\n",
    "worst_labels = df.sort_values('f1')[:1]['labels'].to_numpy()[0]"
   ]
  },
  {
   "cell_type": "code",
   "execution_count": 136,
   "id": "4fcd0406",
   "metadata": {},
   "outputs": [],
   "source": [
    "best_predicts = np.array(df.sort_values('f1', ascending=False)[:1]['conf_matrix'].to_numpy()[0])\n",
    "best_labels = df.sort_values('f1', ascending=False)[:1]['labels'].to_numpy()[0]"
   ]
  },
  {
   "cell_type": "code",
   "execution_count": 137,
   "id": "fffa343e",
   "metadata": {},
   "outputs": [],
   "source": [
    "from sklearn import metrics\n",
    "p = metrics.ConfusionMatrixDisplay(confusion_matrix=worst_predicts, display_labels=worst_labels)"
   ]
  },
  {
   "cell_type": "code",
   "execution_count": 138,
   "id": "09fd8785",
   "metadata": {},
   "outputs": [],
   "source": [
    "#p.plot()"
   ]
  },
  {
   "cell_type": "code",
   "execution_count": 139,
   "id": "d9b51b3a",
   "metadata": {},
   "outputs": [
    {
     "data": {
      "text/plain": [
       "<sklearn.metrics._plot.confusion_matrix.ConfusionMatrixDisplay at 0x7984c9622cb0>"
      ]
     },
     "execution_count": 139,
     "metadata": {},
     "output_type": "execute_result"
    },
    {
     "data": {
      "image/png": "[encoded data removed]",
      "text/plain": [
       "<Figure size 640x480 with 2 Axes>"
      ]
     },
     "metadata": {},
     "output_type": "display_data"
    }
   ],
   "source": [
    "p = metrics.ConfusionMatrixDisplay(confusion_matrix=best_predicts, display_labels=best_labels)\n",
    "p.plot()"
   ]
  }
 ],
 "metadata": {
  "kernelspec": {
   "display_name": "Test",
   "language": "python",
   "name": "python3"
  },
  "language_info": {
   "codemirror_mode": {
    "name": "ipython",
    "version": 3
   },
   "file_extension": ".py",
   "mimetype": "text/x-python",
   "name": "python",
   "nbconvert_exporter": "python",
   "pygments_lexer": "ipython3",
   "version": "3.10.16"
  }
 },
 "nbformat": 4,
 "nbformat_minor": 5
}
