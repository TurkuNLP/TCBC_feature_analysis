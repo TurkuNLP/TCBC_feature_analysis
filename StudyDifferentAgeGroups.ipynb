{
 "cells": [
  {
   "cell_type": "code",
   "execution_count": 1,
   "id": "252bc7f9",
   "metadata": {},
   "outputs": [],
   "source": [
    "#Imports\n",
    "import os\n",
    "import numpy as np\n",
    "import pandas as pd\n",
    "import json\n",
    "from pprint import pprint"
   ]
  },
  {
   "cell_type": "code",
   "execution_count": 2,
   "id": "e9ed3c97",
   "metadata": {},
   "outputs": [],
   "source": [
    "base_dir = \"TestResults/FullResultOnlyTextNew/\"\n",
    "\n",
    "tests = []\n",
    "\n",
    "for f in os.listdir(base_dir):\n",
    "    with open(base_dir+f, 'r') as file:\n",
    "        tests.append(json.loads(file.read()))"
   ]
  },
  {
   "cell_type": "code",
   "execution_count": 3,
   "id": "7ef54dcc",
   "metadata": {},
   "outputs": [],
   "source": [
    "df = pd.DataFrame.from_dict(tests)"
   ]
  },
  {
   "cell_type": "code",
   "execution_count": 4,
   "id": "eeeb0485",
   "metadata": {},
   "outputs": [
    {
     "name": "stdout",
     "output_type": "stream",
     "text": [
      "     keylist_id        f1            labels  \\\n",
      "523          37  0.650726  [13+, 7-8, 9-12]   \n",
      "453          37  0.635622  [13+, 7-8, 9-12]   \n",
      "440          61  0.635211  [13+, 7-8, 9-12]   \n",
      "363          61  0.630919  [13+, 7-8, 9-12]   \n",
      "176          41  0.624378  [13+, 7-8, 9-12]   \n",
      "198          13  0.624005  [13+, 7-8, 9-12]   \n",
      "236          13  0.617249  [13+, 7-8, 9-12]   \n",
      "410          69  0.613953  [13+, 7-8, 9-12]   \n",
      "228          67  0.613844  [13+, 7-8, 9-12]   \n",
      "424          37  0.611146  [13+, 7-8, 9-12]   \n",
      "\n",
      "                                           conf_matrix         c  \\\n",
      "523    [[376, 36, 170], [30, 177, 34], [121, 77, 311]]  0.890222   \n",
      "453    [[463, 65, 251], [44, 232, 47], [156, 91, 430]]  0.680727   \n",
      "440  [[1088, 38, 82], [58, 204, 134], [345, 102, 402]]  0.153713   \n",
      "363    [[820, 29, 55], [41, 148, 107], [240, 92, 303]]  0.243256   \n",
      "176     [[241, 29, 79], [46, 156, 37], [55, 117, 215]]  0.877203   \n",
      "198     [[618, 9, 120], [69, 187, 64], [224, 76, 237]]  0.479342   \n",
      "236  [[813, 29, 157], [83, 245, 102], [264, 123, 331]]  0.998233   \n",
      "410     [[508, 49, 67], [14, 167, 93], [83, 135, 175]]  0.941252   \n",
      "228   [[785, 27, 114], [15, 179, 75], [102, 140, 144]]  0.355149   \n",
      "424  [[700, 107, 363], [78, 320, 89], [234, 161, 626]]  0.982034   \n",
      "\n",
      "              tol penalty                                      c_eval_scores  \n",
      "523  3.563304e-05      l2  [[0.000441765326219074, 0.19287531806615776], ...  \n",
      "453  4.913821e-04      l1  [[3.389672699321948e-10, 0.2378862208451674], ...  \n",
      "440  3.236898e-06      l2  [[0.0008256817863866731, 0.2472405688098603], ...  \n",
      "363  9.846197e-10      l1  [[0.08212131295711103, 0.5512881601382758], [0...  \n",
      "176  8.121474e-07      l2  [[1.7951421292973398e-10, 0.24356120826709063]...  \n",
      "198  6.720979e-09      l1  [[2.9930660512715554e-07, 0.15787139689578714]...  \n",
      "236  1.065875e-07      l2  [[2.5680456746888625e-09, 0.15790054030212813]...  \n",
      "410  5.424621e-10      l2  [[2.695803151650587e-05, 0.21668124817731116],...  \n",
      "228  8.004289e-04      l2  [[5.71139899879102e-10, 0.16751269035532992], ...  \n",
      "424  2.102167e-09      l2  [[4.690791121896136e-09, 0.23767021398329327],...  \n"
     ]
    }
   ],
   "source": [
    "print(df.sort_values('f1', ascending=False)[:10])"
   ]
  },
  {
   "cell_type": "code",
   "execution_count": null,
   "id": "0056ff98",
   "metadata": {},
   "outputs": [
    {
     "ename": "KeyError",
     "evalue": "'id'",
     "output_type": "error",
     "traceback": [
      "\u001b[0;31m---------------------------------------------------------------------------\u001b[0m",
      "\u001b[0;31mKeyError\u001b[0m                                  Traceback (most recent call last)",
      "File \u001b[0;32m~/miniconda3/envs/Test/lib/python3.10/site-packages/pandas/core/indexes/base.py:3805\u001b[0m, in \u001b[0;36mIndex.get_loc\u001b[0;34m(self, key)\u001b[0m\n\u001b[1;32m   3804\u001b[0m \u001b[38;5;28;01mtry\u001b[39;00m:\n\u001b[0;32m-> 3805\u001b[0m     \u001b[38;5;28;01mreturn\u001b[39;00m \u001b[38;5;28;43mself\u001b[39;49m\u001b[38;5;241;43m.\u001b[39;49m\u001b[43m_engine\u001b[49m\u001b[38;5;241;43m.\u001b[39;49m\u001b[43mget_loc\u001b[49m\u001b[43m(\u001b[49m\u001b[43mcasted_key\u001b[49m\u001b[43m)\u001b[49m\n\u001b[1;32m   3806\u001b[0m \u001b[38;5;28;01mexcept\u001b[39;00m \u001b[38;5;167;01mKeyError\u001b[39;00m \u001b[38;5;28;01mas\u001b[39;00m err:\n",
      "File \u001b[0;32mindex.pyx:167\u001b[0m, in \u001b[0;36mpandas._libs.index.IndexEngine.get_loc\u001b[0;34m()\u001b[0m\n",
      "File \u001b[0;32mindex.pyx:196\u001b[0m, in \u001b[0;36mpandas._libs.index.IndexEngine.get_loc\u001b[0;34m()\u001b[0m\n",
      "File \u001b[0;32mpandas/_libs/hashtable_class_helper.pxi:7081\u001b[0m, in \u001b[0;36mpandas._libs.hashtable.PyObjectHashTable.get_item\u001b[0;34m()\u001b[0m\n",
      "File \u001b[0;32mpandas/_libs/hashtable_class_helper.pxi:7089\u001b[0m, in \u001b[0;36mpandas._libs.hashtable.PyObjectHashTable.get_item\u001b[0;34m()\u001b[0m\n",
      "\u001b[0;31mKeyError\u001b[0m: 'id'",
      "\nThe above exception was the direct cause of the following exception:\n",
      "\u001b[0;31mKeyError\u001b[0m                                  Traceback (most recent call last)",
      "Cell \u001b[0;32mIn[5], line 2\u001b[0m\n\u001b[1;32m      1\u001b[0m \u001b[38;5;28;01mimport\u001b[39;00m\u001b[38;5;250m \u001b[39m\u001b[38;5;21;01mseaborn\u001b[39;00m\u001b[38;5;250m \u001b[39m\u001b[38;5;28;01mas\u001b[39;00m\u001b[38;5;250m \u001b[39m\u001b[38;5;21;01msns\u001b[39;00m\n\u001b[0;32m----> 2\u001b[0m tt \u001b[38;5;241m=\u001b[39m pd\u001b[38;5;241m.\u001b[39mSeries(data\u001b[38;5;241m=\u001b[39mdf\u001b[38;5;241m.\u001b[39msort_values(\u001b[38;5;124m'\u001b[39m\u001b[38;5;124mf1\u001b[39m\u001b[38;5;124m'\u001b[39m, ascending\u001b[38;5;241m=\u001b[39m\u001b[38;5;28;01mFalse\u001b[39;00m)[\u001b[38;5;124m'\u001b[39m\u001b[38;5;124mf1\u001b[39m\u001b[38;5;124m'\u001b[39m]\u001b[38;5;241m.\u001b[39mto_numpy(), index\u001b[38;5;241m=\u001b[39m\u001b[43mdf\u001b[49m\u001b[38;5;241;43m.\u001b[39;49m\u001b[43msort_values\u001b[49m\u001b[43m(\u001b[49m\u001b[38;5;124;43m'\u001b[39;49m\u001b[38;5;124;43mf1\u001b[39;49m\u001b[38;5;124;43m'\u001b[39;49m\u001b[43m,\u001b[49m\u001b[43m \u001b[49m\u001b[43mascending\u001b[49m\u001b[38;5;241;43m=\u001b[39;49m\u001b[38;5;28;43;01mFalse\u001b[39;49;00m\u001b[43m)\u001b[49m\u001b[43m[\u001b[49m\u001b[38;5;124;43m'\u001b[39;49m\u001b[38;5;124;43mid\u001b[39;49m\u001b[38;5;124;43m'\u001b[39;49m\u001b[43m]\u001b[49m\u001b[38;5;241m.\u001b[39mto_numpy())\n\u001b[1;32m      3\u001b[0m sns\u001b[38;5;241m.\u001b[39mlineplot(tt)\u001b[38;5;241m.\u001b[39mset_xticklabels(df\u001b[38;5;241m.\u001b[39msort_values(\u001b[38;5;124m'\u001b[39m\u001b[38;5;124mf1\u001b[39m\u001b[38;5;124m'\u001b[39m, ascending\u001b[38;5;241m=\u001b[39m\u001b[38;5;28;01mFalse\u001b[39;00m)[\u001b[38;5;124m'\u001b[39m\u001b[38;5;124mlabels\u001b[39m\u001b[38;5;124m'\u001b[39m]\u001b[38;5;241m.\u001b[39mapply(\u001b[38;5;28;01mlambda\u001b[39;00m x:\u001b[38;5;28mlen\u001b[39m(x))\u001b[38;5;241m.\u001b[39mto_numpy())\n",
      "File \u001b[0;32m~/miniconda3/envs/Test/lib/python3.10/site-packages/pandas/core/frame.py:4102\u001b[0m, in \u001b[0;36mDataFrame.__getitem__\u001b[0;34m(self, key)\u001b[0m\n\u001b[1;32m   4100\u001b[0m \u001b[38;5;28;01mif\u001b[39;00m \u001b[38;5;28mself\u001b[39m\u001b[38;5;241m.\u001b[39mcolumns\u001b[38;5;241m.\u001b[39mnlevels \u001b[38;5;241m>\u001b[39m \u001b[38;5;241m1\u001b[39m:\n\u001b[1;32m   4101\u001b[0m     \u001b[38;5;28;01mreturn\u001b[39;00m \u001b[38;5;28mself\u001b[39m\u001b[38;5;241m.\u001b[39m_getitem_multilevel(key)\n\u001b[0;32m-> 4102\u001b[0m indexer \u001b[38;5;241m=\u001b[39m \u001b[38;5;28;43mself\u001b[39;49m\u001b[38;5;241;43m.\u001b[39;49m\u001b[43mcolumns\u001b[49m\u001b[38;5;241;43m.\u001b[39;49m\u001b[43mget_loc\u001b[49m\u001b[43m(\u001b[49m\u001b[43mkey\u001b[49m\u001b[43m)\u001b[49m\n\u001b[1;32m   4103\u001b[0m \u001b[38;5;28;01mif\u001b[39;00m is_integer(indexer):\n\u001b[1;32m   4104\u001b[0m     indexer \u001b[38;5;241m=\u001b[39m [indexer]\n",
      "File \u001b[0;32m~/miniconda3/envs/Test/lib/python3.10/site-packages/pandas/core/indexes/base.py:3812\u001b[0m, in \u001b[0;36mIndex.get_loc\u001b[0;34m(self, key)\u001b[0m\n\u001b[1;32m   3807\u001b[0m     \u001b[38;5;28;01mif\u001b[39;00m \u001b[38;5;28misinstance\u001b[39m(casted_key, \u001b[38;5;28mslice\u001b[39m) \u001b[38;5;129;01mor\u001b[39;00m (\n\u001b[1;32m   3808\u001b[0m         \u001b[38;5;28misinstance\u001b[39m(casted_key, abc\u001b[38;5;241m.\u001b[39mIterable)\n\u001b[1;32m   3809\u001b[0m         \u001b[38;5;129;01mand\u001b[39;00m \u001b[38;5;28many\u001b[39m(\u001b[38;5;28misinstance\u001b[39m(x, \u001b[38;5;28mslice\u001b[39m) \u001b[38;5;28;01mfor\u001b[39;00m x \u001b[38;5;129;01min\u001b[39;00m casted_key)\n\u001b[1;32m   3810\u001b[0m     ):\n\u001b[1;32m   3811\u001b[0m         \u001b[38;5;28;01mraise\u001b[39;00m InvalidIndexError(key)\n\u001b[0;32m-> 3812\u001b[0m     \u001b[38;5;28;01mraise\u001b[39;00m \u001b[38;5;167;01mKeyError\u001b[39;00m(key) \u001b[38;5;28;01mfrom\u001b[39;00m\u001b[38;5;250m \u001b[39m\u001b[38;5;21;01merr\u001b[39;00m\n\u001b[1;32m   3813\u001b[0m \u001b[38;5;28;01mexcept\u001b[39;00m \u001b[38;5;167;01mTypeError\u001b[39;00m:\n\u001b[1;32m   3814\u001b[0m     \u001b[38;5;66;03m# If we have a listlike key, _check_indexing_error will raise\u001b[39;00m\n\u001b[1;32m   3815\u001b[0m     \u001b[38;5;66;03m#  InvalidIndexError. Otherwise we fall through and re-raise\u001b[39;00m\n\u001b[1;32m   3816\u001b[0m     \u001b[38;5;66;03m#  the TypeError.\u001b[39;00m\n\u001b[1;32m   3817\u001b[0m     \u001b[38;5;28mself\u001b[39m\u001b[38;5;241m.\u001b[39m_check_indexing_error(key)\n",
      "\u001b[0;31mKeyError\u001b[0m: 'id'"
     ]
    }
   ],
   "source": [
    "import seaborn as sns\n",
    "tt = pd.Series(data=df.sort_values('f1', ascending=False)['f1'].to_numpy(), index=df.sort_values('f1', ascending=False)['book_id'].to_numpy())\n",
    "sns.lineplot(tt).set_xticklabels(df.sort_values('f1', ascending=False)['labels'].apply(lambda x:len(x)).to_numpy())"
   ]
  },
  {
   "cell_type": "markdown",
   "id": "4f88992d",
   "metadata": {},
   "source": [
    "### Best for three groups"
   ]
  },
  {
   "cell_type": "code",
   "execution_count": null,
   "id": "87a50669",
   "metadata": {},
   "outputs": [],
   "source": [
    "df = df[df['labels'].apply(lambda x: len(x)==4)]"
   ]
  },
  {
   "cell_type": "code",
   "execution_count": null,
   "id": "92c260af",
   "metadata": {},
   "outputs": [
    {
     "name": "stdout",
     "output_type": "stream",
     "text": [
      "          f1                     id                      labels  \\\n",
      "4   0.390167   5-8_9-10_11-13_14-15   [11-13, 14-15, 5-8, 9-10]   \n",
      "8   0.379977     5-6_7-8_9-12_13-15     [13-15, 5-6, 7-8, 9-12]   \n",
      "28  0.376589     5-6_7-8_9-13_14-15     [14-15, 5-6, 7-8, 9-13]   \n",
      "1   0.372535   5-6_7-10_11-13_14-15   [11-13, 14-15, 5-6, 7-10]   \n",
      "24  0.363049   5-8_9-11_12-13_14-15   [12-13, 14-15, 5-8, 9-11]   \n",
      "20  0.360221    5-6_7-9_10-13_14-15    [10-13, 14-15, 5-6, 7-9]   \n",
      "17  0.359814   5-8_9-10_11-12_13-15   [11-12, 13-15, 5-8, 9-10]   \n",
      "2   0.356733     5-6_7-8_9-11_12-15     [12-15, 5-6, 7-8, 9-11]   \n",
      "46  0.351426   5-6_7-11_12-13_14-15   [12-13, 14-15, 5-6, 7-11]   \n",
      "48  0.349731   5-6_7-10_11-12_13-15   [11-12, 13-15, 5-6, 7-10]   \n",
      "10  0.346268  5-9_10-11_12-13_14-15  [10-11, 12-13, 14-15, 5-9]   \n",
      "22  0.346039    5-6_7-9_10-12_13-15    [10-12, 13-15, 5-6, 7-9]   \n",
      "33  0.344607     5-6_7-8_9-10_11-15     [11-15, 5-6, 7-8, 9-10]   \n",
      "19  0.333446   5-7_8-10_11-13_14-15   [11-13, 14-15, 5-7, 8-10]   \n",
      "45  0.332679    5-6_7-9_10-11_12-15    [10-11, 12-15, 5-6, 7-9]   \n",
      "44  0.311111    5-7_8-9_10-12_13-15    [10-12, 13-15, 5-7, 8-9]   \n",
      "7   0.305668   5-7_8-10_11-12_13-15   [11-12, 13-15, 5-7, 8-10]   \n",
      "23  0.304966    5-7_8-9_10-13_14-15    [10-13, 14-15, 5-7, 8-9]   \n",
      "43  0.300195   5-7_8-11_12-13_14-15   [12-13, 14-15, 5-7, 8-11]   \n",
      "15  0.275314    5-7_8-9_10-11_12-15    [10-11, 12-15, 5-7, 8-9]   \n",
      "\n",
      "                                          conf_matrix         c           tol  \\\n",
      "4   [[179, 224, 122, 22], [255, 622, 135, 101], [6...  0.258362  1.523088e-08   \n",
      "8   [[858, 13, 66, 386], [22, 3, 20, 80], [113, 5,...  0.437346  3.215304e-09   \n",
      "28  [[530, 2, 66, 515], [6, 0, 5, 114], [103, 3, 3...  0.268662  2.738817e-07   \n",
      "1   [[172, 217, 24, 134], [227, 569, 6, 311], [23,...  0.397675  6.444843e-07   \n",
      "24  [[115, 190, 111, 99], [217, 575, 141, 180], [6...  0.921401  3.035025e-05   \n",
      "20  [[235, 330, 27, 270], [293, 554, 12, 254], [54...  0.930685  3.231318e-04   \n",
      "17  [[24, 182, 108, 23], [145, 929, 145, 104], [32...  0.359957  5.235826e-04   \n",
      "2   [[1248, 29, 110, 241], [53, 3, 13, 56], [194, ...  0.422712  4.325184e-06   \n",
      "46  [[116, 187, 28, 184], [188, 539, 16, 370], [25...  0.841144  3.730774e-10   \n",
      "48  [[29, 176, 9, 123], [135, 848, 35, 305], [5, 2...  0.580163  1.858502e-09   \n",
      "10  [[0, 25, 160, 162], [33, 115, 184, 183], [43, ...  0.771947  2.371707e-06   \n",
      "22  [[68, 300, 12, 272], [171, 862, 41, 249], [30,...  0.931144  4.928256e-09   \n",
      "33  [[1480, 12, 87, 81], [61, 0, 5, 59], [235, 2, ...  0.121346  1.410186e-07   \n",
      "19  [[186, 221, 53, 87], [253, 611, 44, 205], [45,...  0.383923  3.324080e-10   \n",
      "45  [[0, 214, 0, 133], [64, 1201, 35, 328], [3, 45...  0.926253  4.223314e-08   \n",
      "44  [[101, 330, 62, 159], [184, 886, 74, 179], [43...  0.857300  2.620622e-04   \n",
      "7   [[33, 172, 51, 81], [162, 878, 70, 213], [20, ...  0.972793  9.548215e-08   \n",
      "23  [[245, 348, 70, 199], [313, 575, 60, 165], [92...  0.943293  2.287184e-08   \n",
      "43  [[98, 216, 45, 156], [186, 609, 46, 272], [33,...  0.277527  4.737231e-06   \n",
      "15  [[0, 244, 11, 92], [65, 1247, 114, 202], [9, 8...  0.666460  5.966388e-10   \n",
      "\n",
      "   penalty                                      c_eval_scores  \n",
      "4       l2  [[0.002089145041964513, 0.34088153545299643], ...  \n",
      "8       l1  [[9.9801811386703e-09, 0.16733659559594546], [...  \n",
      "28      l2  [[0.04427661661456271, 0.32338651454303846], [...  \n",
      "1       l2  [[0.0020202611758268732, 0.22663277441197976],...  \n",
      "24      l2  [[5.5487319550719e-05, 0.15948121645796065], [...  \n",
      "20      l2  [[4.3895895509795935e-05, 0.12809918863094866]...  \n",
      "17      l2  [[0.15311331917086243, 0.39458808904846626], [...  \n",
      "2       l1  [[0.00012654643325780447, 0.18285571476174609]...  \n",
      "46      l1  [[1.0796107066020512e-06, 0.13839285714285715]...  \n",
      "48      l2  [[1.2985408384970018e-09, 0.047109207708779445...  \n",
      "10      l1  [[1.1183685794901552e-05, 0.05421545667447307]...  \n",
      "22      l2  [[3.3297862036950555e-08, 0.08164835164835164]...  \n",
      "33      l2  [[3.3586312481226726e-05, 0.18886891140895717]...  \n",
      "19      l2  [[7.051553591368832e-05, 0.15948121645796065],...  \n",
      "45      l1  [[2.0827182875862058e-08, 0.18285571476174609]...  \n",
      "44      l1  [[9.129549222713237e-10, 0.08164835164835164],...  \n",
      "7       l2  [[6.263137049463531e-05, 0.16733659559594546],...  \n",
      "23      l2  [[2.7340944782060796e-06, 0.15948121645796065]...  \n",
      "43      l2  [[2.5972703093088577e-06, 0.04882673619341076]...  \n",
      "15      l2  [[3.952194433044703e-09, 0.18285571476174609],...  \n"
     ]
    }
   ],
   "source": [
    "print(df.sort_values('f1', ascending=False))"
   ]
  },
  {
   "cell_type": "code",
   "execution_count": null,
   "id": "0221f10e",
   "metadata": {},
   "outputs": [],
   "source": [
    "worst_predicts = np.array(df.sort_values('f1')[:1]['conf_matrix'].to_numpy()[0])\n",
    "worst_labels = df.sort_values('f1')[:1]['labels'].to_numpy()[0]"
   ]
  },
  {
   "cell_type": "code",
   "execution_count": null,
   "id": "4fcd0406",
   "metadata": {},
   "outputs": [],
   "source": [
    "best_predicts = np.array(df.sort_values('f1', ascending=False)[:1]['conf_matrix'].to_numpy()[0])\n",
    "best_labels = df.sort_values('f1', ascending=False)[:1]['labels'].to_numpy()[0]"
   ]
  },
  {
   "cell_type": "code",
   "execution_count": null,
   "id": "fffa343e",
   "metadata": {},
   "outputs": [],
   "source": [
    "from sklearn import metrics\n",
    "p = metrics.ConfusionMatrixDisplay(confusion_matrix=worst_predicts, display_labels=worst_labels)"
   ]
  },
  {
   "cell_type": "code",
   "execution_count": null,
   "id": "09fd8785",
   "metadata": {},
   "outputs": [],
   "source": [
    "#p.plot()"
   ]
  },
  {
   "cell_type": "code",
   "execution_count": null,
   "id": "d9b51b3a",
   "metadata": {},
   "outputs": [
    {
     "data": {
      "text/plain": [
       "<sklearn.metrics._plot.confusion_matrix.ConfusionMatrixDisplay at 0x7984c9622cb0>"
      ]
     },
     "execution_count": 139,
     "metadata": {},
     "output_type": "execute_result"
    },
    {
     "data": {
      "image/png": "[encoded data removed]",
      "text/plain": [
       "<Figure size 640x480 with 2 Axes>"
      ]
     },
     "metadata": {},
     "output_type": "display_data"
    }
   ],
   "source": [
    "p = metrics.ConfusionMatrixDisplay(confusion_matrix=best_predicts, display_labels=best_labels)\n",
    "p.plot()"
   ]
  }
 ],
 "metadata": {
  "kernelspec": {
   "display_name": "Test",
   "language": "python",
   "name": "python3"
  },
  "language_info": {
   "codemirror_mode": {
    "name": "ipython",
    "version": 3
   },
   "file_extension": ".py",
   "mimetype": "text/x-python",
   "name": "python",
   "nbconvert_exporter": "python",
   "pygments_lexer": "ipython3",
   "version": "3.10.16"
  }
 },
 "nbformat": 4,
 "nbformat_minor": 5
}
