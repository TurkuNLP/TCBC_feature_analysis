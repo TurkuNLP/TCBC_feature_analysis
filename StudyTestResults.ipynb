{
 "cells": [
  {
   "cell_type": "code",
   "execution_count": 1,
   "id": "ec4ccc1b",
   "metadata": {},
   "outputs": [],
   "source": [
    "#Imports\n",
    "import itertools\n",
    "import json\n",
    "from collections import Counter\n",
    "import pandas as pd\n",
    "import numpy as np\n",
    "import os"
   ]
  },
  {
   "cell_type": "code",
   "execution_count": 2,
   "id": "1cbe3cf9",
   "metadata": {},
   "outputs": [],
   "source": [
    "#Constants\n",
    "BASE_FOLDER = \"TestResults/EvalTest1stRun/\"\n",
    "BASE_START = \"ParamOptim_List_\"\n",
    "BASE_MID = \"_SnipLen_\"\n",
    "BASE_END = \"_Results.jsonl\"\n",
    "SNIPPET_LENS = [5,10,25,50,75,100]\n"
   ]
  },
  {
   "cell_type": "code",
   "execution_count": 3,
   "id": "9892545f",
   "metadata": {},
   "outputs": [],
   "source": [
    "def helperParser(file):\n",
    "    temp = []\n",
    "    with open(file, 'r') as f:\n",
    "        for line in f:\n",
    "            temp.append(json.loads(line))\n",
    "    return temp"
   ]
  },
  {
   "cell_type": "code",
   "execution_count": 4,
   "id": "adc41d0d",
   "metadata": {},
   "outputs": [
    {
     "name": "stdout",
     "output_type": "stream",
     "text": [
      "\n",
      "\n",
      "\n",
      "\n",
      "\n",
      "\n",
      "\n",
      "\n",
      "\n",
      "\n",
      "\n",
      "\n",
      "\n",
      "\n",
      "\n",
      "\n",
      "\n",
      "\n",
      "\n",
      "\n",
      "\n",
      "\n",
      "\n",
      "\n",
      "\n",
      "\n",
      "\n",
      "\n",
      "\n",
      "\n",
      "\n",
      "\n",
      "\n",
      "\n",
      "\n",
      "\n",
      "\n",
      "\n",
      "\n",
      "\n",
      "\n",
      "\n",
      "\n",
      "\n",
      "\n",
      "\n",
      "\n",
      "\n",
      "\n",
      "\n",
      "\n",
      "\n",
      "\n",
      "\n",
      "\n",
      "\n",
      "\n",
      "\n",
      "\n",
      "\n",
      "\n",
      "\n",
      "\n",
      "\n",
      "\n",
      "\n",
      "\n",
      "\n",
      "\n",
      "\n",
      "\n",
      "\n",
      "\n",
      "\n",
      "\n",
      "\n",
      "\n",
      "\n",
      "\n",
      "\n",
      "\n",
      "\n",
      "\n",
      "\n",
      "\n",
      "\n",
      "\n",
      "\n",
      "\n",
      "\n",
      "\n",
      "\n",
      "\n",
      "\n",
      "\n",
      "\n",
      "\n",
      "\n",
      "\n",
      "\n"
     ]
    }
   ],
   "source": [
    "loaded = []\n",
    "for i in range(100):\n",
    "    print()\n",
    "    loaded.append(helperParser(BASE_FOLDER+BASE_START+str(i)+BASE_MID+'5'+BASE_END))\n",
    "    loaded.append(helperParser(BASE_FOLDER+BASE_START+str(i)+BASE_MID+'10'+BASE_END))\n",
    "    loaded.append(helperParser(BASE_FOLDER+BASE_START+str(i)+BASE_MID+'25'+BASE_END))\n",
    "    loaded.append(helperParser(BASE_FOLDER+BASE_START+str(i)+BASE_MID+'50'+BASE_END))\n",
    "    loaded.append(helperParser(BASE_FOLDER+BASE_START+str(i)+BASE_MID+'75'+BASE_END))\n",
    "    loaded.append(helperParser(BASE_FOLDER+BASE_START+str(i)+BASE_MID+'100'+BASE_END))"
   ]
  },
  {
   "cell_type": "code",
   "execution_count": 5,
   "id": "68e00405",
   "metadata": {},
   "outputs": [
    {
     "name": "stdout",
     "output_type": "stream",
     "text": [
      "[{'keylist_id': 0, 'sniplen': '5', 'c': 0.15, 'tol': 1e-06, 'f1': 0.5108868129889762, 'important_feats_7-8': ['herra', 'koira', 'jätti', 'rouva', 'kännykkä', 'sanoi', 'paperi', 'avain', 'neiti', 'yleisö', 'Minä', 'vauva', 'opettaja', 'parataxis', 'Tense=Past', 'eläin', 'kapteeni', 'minä', 'Herra', ';', 'osoitti', 'laatikko', '*', 'root', 'napata', 'ihmetellä', 'kysyi', 'selitti', 'keksiä', 'leikata', 'korkeus', 'sääntö', '2.', 'kartta', 'lapset', 'hauska', 'lahja', 'juna', 'lapsi', 'ehdottaa', 'hypätä', 'totesi', 'salaisuus', 'lukea', 'lentää', 'vocative', '1.', 'salainen', ',', 'harjoitella', 'seura', 'luokka', 'vene', 'täti', 'Siinä', 'Case=Nom', 'kortti', 'kansi', 'Onneksi', 'nummod', 'seitsemän', 'johtaja', 'linna', 'Tässä', 'mietti', 'leikkiä', 'taatusti', 'taitaa', 'kertoi', 'huusi', 'poliisi', 'koulu', 'pyörä', 'ystävä', '-', 'He', 'syödä', 'cm', '!', 'Emme', 'kirje', 'kuiskasi', 'varastaa', 'esitys', 'kummallinen', 'tasku', 'Nyt', 'PronType=Dem', 'InfForm=2', 'pelottaa', 'discourse', 'rehtori', 'Siksi', 'hieman', 'kiva', 'te', 'vastasi', 'Olen', 'hieno', 'pohtia'], 'important_feats_9-12': ['leiri', 'soturi', 'klaani', 'hevonen', 'orvokki', 'Orvokki', 'lehti', 'tohtori', 'pentu', 'jumala', 'sanoi', 'päällikkö', 'ratsastaa', 'metsä', 'kasvi', 'kirja', 'oppilas', 'astella', 'Sitten', 'hotelli', 'hirviö', 'lohi#käärme', 'joki', 'luultavasti', 'onnistua', 'Me', 'tassu', 'sade', 'vastaa', 'alue', 'huudahtaa', 'sisar', 'teksti', 'esimerkiksi', 'hammas', '>>', 'pian', 'minä', 'tähti', 'samassa', 'tärkeä', 'aukko', 'päin', 'otus', 'luokse', '!', 'kysyi', 'taistelu', 'luola', 'laite', 'avaruus', 'sanoin', 'aivot', 'Minä', 'nuoli', 'taistella', 'piste', 'nähdä', 'pelastaa', 'saattaa', 'sisko', 'nyökätä', 'Person=3', 'oksa', 'tehtävä', 'vaarallinen', 'Pian', 'me', 'näytti', 'liikkua', 'ilmeisesti', 'parataxis', 'laiva', 'kissa', 'Yritin', 'tosiaan', 'Kuinka', 'kivi', 'hiukan', 'tahtoa', 'turkki', 'päästä', 'valo', 'jonkinlainen', 'ystävä', 'sivu', 'meidän', 'tavallinen', 'iskä', 'hän', 'advcl', 'kirjoittaa', 'kokoinen', 'kovasti', 'päätellä', 'yrittää', 'luonto', 'tunneli', 'iso', 'a.'], 'important_feats_13+': ['juuli', 'herttua', 'palatsi', 'noita', 'sotilas', 'prinsessa', 'tiny', 'vaari', 'sanon', 'kuningatar', 'huuli', 'kysyn', 'suudella', 'Derivation=Llinen,Vs', 'sota', 'Foreign=Yes', 'hius', 'mestari', '”', 'mun', 'näyttö', 'obj', 'aine', 'Derivation=Sti', 'mua', 'sanoo', 'Derivation=Vs', 'Style=Coll', 'Derivation=Inen,Vs', 'työ', 'Tense=Pres', 'miekka', 'nmod:poss', 'ehdottomasti', 'mulle', 'metalli', 'laulu', 'muodostua', 'Derivation=Ton', 'minua', 'Person=1', 'mä', 'minulle', 'rakastaa', 'sisältää', 'Number[psor]=Sing', 'vuosi', 'iho', 'kieltää', 'nmod:gsubj', 'rakkaus', 'hiekka', 'sai', 'kämmen', 'muisto', 'nmod', 'välittömästi', 'kysyy', 'halusin', 'veli', '\"', 'väli', 'valta', 'perhe', 'kahvi', 'minut', 'tyyppi', 'molemmat', 'sormi', 'sama', 'käsi', 'nuori', 'Derivation=Llinen', 'koskettaa', 'kädet', 'Person[psor]=1', 'puhelin', 'conj', ')', 'Case=Abe', 'hymyillä', 'lähtee', 'Älä', 'paita', 'tilanne', 'keskustelu', 'mutista', 'kätensä', 'Mun', 'ero', 'ilta', 'kuningas', 'kauemmas', 'vuonna', 'nmod:gobj', 'kuinka', 'laski', 'Siis', 'uudelleen', 'nojata']}, {'keylist_id': 0, 'sniplen': '5', 'c': 5, 'tol': 0.0001, 'f1': 0.5327566311602826, 'important_feats_7-8': ['root', 'jätti', 'cc', 'kännykkä', 'herra', 'koira', 'avain', 'rouva', 'selitti', 'minä', 'totesi', 'osoitti', 'Case=Nom', 'yleisö', 'Herra', 'paperi', 'vauva', 'kapteeni', 'kohotti', 'neiti', 'Minä', 'napata', 'sääntö', 'sanoi', 'mietti', 'lapset', 'salaisuus', 'leikata', ';', 'kartta', 'eläin', 'opettaja', 'seura', 'ihmetellä', 'Emme', 'Onneksi', 'korkeus', 'salainen', 'juna', 'Case=Gen', 'laatikko', 'lahja', 'Siksi', 'ADJ', 'Siinä', '*', 'ehdottaa', 'Case=Par', 'Tässä', 'kansi', 'Olemme', 'lisäsi', 'kummallinen', 'mielestä', 'harjoitella', 'VERB', ',', 'hypätä', 'He', 'Tense=Past', 'pahoillaan', 'teille', 'keksiä', 'seitsemän', 'johtaja', 'kertoi', 'kysyi', 'Minusta', 'linna', 'luokka', 'lentää', '2.', 'paikalle', 'maan', 'huusi', 'varastaa', 'taatusti', 'hauska', 'iltana', 'kortti', 'leikkiä', 'täti', 'epäillä', 'veti', 'esitys', 'pyörä', 'Sillä', 'vene', 'pohtia', 'kuiskasi', 'pelottaa', 'taitaa', 'ojensi', 'te', 'NUM', 'Hetken', 'poistua', 'Siitä', 'mielellään', 'heitä'], 'important_feats_9-12': ['Orvokki', 'leiri', 'klaani', 'soturi', 'orvokki', 'hevonen', 'pentu', 'astella', 'jumala', 'lehti', 'päällikkö', 'ratsastaa', 'tohtori', 'lohi#käärme', 'hotelli', 'tassu', 'kasvi', 'sanoi', 'C', 'CCONJ', 'NOUN', 'metsä', 'vastaa', 'joki', 'oppilas', 'mutisi', 'Person=3', 'huudahtaa', 'Sitten', 'luultavasti', 'onnistua', 'sade', 'hirviö', 'Me', 'Punct', 'hammas', 'avaruus', 'kirja', 'sisar', 'minä', 'alue', 'teksti', 'root', 'Pian', 'aukko', '', 'samassa', 'taistelu', 'huokaisi', 'laite', 'luola', 'otus', 'Yritin', 'aivot', 'tärkeä', 'mahdollista', 'naurahti', 'sanoin', 'esimerkiksi', 'taistella', 'vaarallinen', 'tähti', 'nuoli', 'oksa', 'näyttivät', 'tahtoa', 'nyökätä', 'hymyilee', 'vauhtia', 'luokse', 'Niinpä', 'laiva', 'toivottavasti', 'piste', 'voivat', 'Myös', 'kysyi', 'sisko', 'Minä', 'näytti', 'tavallinen', 'tehty', 'vilkuilla', 'päin', 'heille', 'iskä', 'vilkaisi', 'pelastaa', 'ilmeisesti', 'me', 'tapauksessa', 'tuntui', 'vakava', 'kokoinen', 'jonkinlainen', 'metri', 'näky', 'Entä', 'pian', 'liikkua'], 'important_feats_13+': ['herttua', 'juuli', 'palatsi', 'tiny', 'noita', '0', 'sotilas', 'prinsessa', 'vaari', 'PronType=Prs', 'suudella', 'kuningatar', 'kysyn', 'näyttö', 'mutista', 'mestari', 'huuli', 'Derivation=Llinen,Vs', 'sanon', 'Foreign=Yes', 'mulle', 'sota', '.', 'halusin', 'hius', 'kämmen', 'mua', 'muodostua', 'obj', 'VerbForm=Fin', 'lähtee', 'Derivation=Inen,Vs', 'Number=Sing', 'Derivation=Sti', '”', 'väli', 'hiekka', 'metalli', 'mun', 'nmod:poss', 'ja', 'niinpä', 'miekka', 'Num', 'laulu', '\"', 'sisältää', 'aine', 'rakkaus', 'työ', 'Derivation=Vs', 'kahvi', 'kädet', 'kieltää', ',', 'sanoo', 'muisto', 'minut', 'laski', 'käveli', 'yritän', 'minulle', 'kylä', 'valta', 'sai', 'enkä', 'nmod:gsubj', 'kysyy', 'rakastaa', 'PROPN', 'A', 'vuonna', 'N', 'Siis', 'hymyillä', 'veli', 'ero', 'iho', 'InfForm=3', 'eikä', 'mä', 'paita', 'Derivation=Ton', 'raha', 'ehdottomasti', 'koskettaa', 'välittömästi', 'äänensä', 'porukka', 'olka', 'nmod', 'minua', 'Derivation=Llinen', 'keskustelu', 'tyyppi', 'nojata', 'perhe', ')', 'SCONJ', 'conj']}, {'keylist_id': 0, 'sniplen': '5', 'c': 60, 'tol': 0.0001, 'f1': 0.5339901067442617, 'important_feats_7-8': ['root', 'cc', 'Case=Nom', 'jätti', 'VERB', 'Case=Gen', 'Case=Par', 'kännykkä', 'herra', 'Person=3', 'VerbForm=Inf', 'avain', 'koira', 'totesi', 'rouva', 'minä', 'selitti', 'Case=Ill', 'AUX', 'osoitti', 'yleisö', 'Case=Ela', 'Case=All', 'Herra', 'paperi', 'Case=Ade', 'mark', 'vauva', 'ADJ', 'kohotti', 'Case=Ine', 'kapteeni', 'Minä', 'napata', 'neiti', 'mietti', 'sääntö', 'Voice=Act', 'salaisuus', 'lapset', 'leikata', 'sanoi', ';', 'Person=2', 'kartta', 'seura', 'Emme', 'eläin', 'Onneksi', 'Person=0', 'opettaja', 'ihmetellä', 'Case=Tra', 'korkeus', 'salainen', 'NUM', 'juna', 'laatikko', 'Case=Ess', 'Siksi', 'parataxis', 'pahoillaan', 'lahja', 'Siinä', 'lisäsi', '*', 'Olemme', 'ehdottaa', 'mielestä', 'Tässä', 'kansi', 'advmod', 'kummallinen', ',', 'He', 'harjoitella', 'punct', 'teille', 'hypätä', 'nsubj', 'vocative', 'nummod', 'Minusta', 'aux', 'keksiä', 'kertoi', 'johtaja', 'seitsemän', 'Connegative=Yes', 'Voice=Pass', 'linna', 'maan', 'Tense=Past', 'iltana', 'luokka', 'kysyi', 'paikalle', 'lentää', 'varastaa', '2.'], 'important_feats_9-12': ['Orvokki', 'leiri', 'klaani', 'NOUN', 'soturi', '', 'hevonen', 'pentu', 'Punct', 'orvokki', 'astella', 'jumala', 'CCONJ', 'lehti', 'VerbForm=Inf', 'päällikkö', 'ratsastaa', 'C', 'tohtori', 'Person=3', 'lohi#käärme', 'hotelli', 'tassu', 'kasvi', 'sanoi', 'mutisi', 'vastaa', 'joki', 'metsä', 'V', 'oppilas', 'huudahtaa', 'Sitten', 'luultavasti', 'onnistua', 'sade', 'Me', 'hammas', 'hirviö', 'avaruus', 'ADJ', 'minä', 'kirja', 'sisar', 'huokaisi', 'alue', 'Pian', 'teksti', 'aukko', 'Mood=Imp', 'samassa', 'taistelu', 'root', 'laite', 'luola', 'otus', 'Yritin', 'mahdollista', 'aivot', 'naurahti', 'Niinpä', 'tärkeä', 'sanoin', 'esimerkiksi', 'taistella', 'näyttivät', 'vaarallinen', 'vauhtia', 'nuoli', 'hymyilee', 'oksa', 'tähti', 'tahtoa', 'nyökätä', 'Myös', 'tapauksessa', 'voivat', 'toivottavasti', 'laiva', 'luokse', 'piste', 'Minä', 'sisko', 'kysyi', 'tavallinen', 'Clitic=Ka', 'näytti', 'heille', 'vilkuilla', 'tehty', 'vilkaisi', 'päin', 'iskä', 'Entä', 'me', 'vakava', 'tuntui', 'pelastaa', 'ilmeisesti', 'NUM'], 'important_feats_13+': ['herttua', 'tiny', 'juuli', 'palatsi', '0', 'noita', 'N', 'PronType=Prs', 'VerbForm=Fin', 'sotilas', 'InfForm=3', 'PUNCT', 'Number=Sing', 'InfForm=1', 'prinsessa', 'vaari', 'PROPN', 'suudella', 'mutista', 'kuningatar', 'kysyn', 'Number=Plur', 'näyttö', 'mestari', 'InfForm=2', '.', 'huuli', 'Derivation=Llinen,Vs', 'sanon', 'Num', 'A', 'Foreign=Yes', 'sota', 'halusin', 'kämmen', 'hius', 'SYM', 'niinpä', 'mulle', 'muodostua', 'lähtee', 'ja', '”', 'Derivation=Inen,Vs', 'obj', 'Derivation=Sti', 'SCONJ', 'väli', '\"', ',', 'hiekka', 'metalli', 'nmod:poss', 'miekka', 'laulu', 'sisältää', 'aine', 'mua', 'rakkaus', 'minut', 'työ', 'kädet', 'enkä', 'kahvi', 'Derivation=Vs', 'kieltää', 'sanoo', 'käveli', 'Älä', 'laski', 'yritän', 'muisto', 'kylä', 'valta', 'minulle', 'sai', 'eikä', 'kysyy', 'vuonna', 'nmod:gsubj', 'rakastaa', 'Siis', 'hymyillä', 'mun', 'ero', 'veli', 'raha', 'VerbForm=Part', 'iho', 'paita', 'äänensä', 'mä', 'Derivation=Ton', 'koskettaa', 'porukka', 'olka', 'ehdottomasti', 'välittömästi', ')', 'Derivation=Llinen']}, {'keylist_id': 0, 'sniplen': '5', 'c': 120, 'tol': 0.0001, 'f1': 0.5340848119496444, 'important_feats_7-8': ['root', 'jätti', 'cc', 'Case=Nom', 'kännykkä', 'herra', 'Case=Gen', 'Case=Par', 'ADJ', 'VERB', 'avain', 'koira', 'rouva', 'minä', 'totesi', 'selitti', 'osoitti', 'Person=3', 'yleisö', 'Herra', 'paperi', 'Case=Ill', 'vauva', 'NUM', 'kohotti', 'Voice=Act', 'kapteeni', 'Minä', 'napata', 'neiti', 'Case=All', 'mietti', 'sääntö', 'salaisuus', 'lapset', 'Case=Ela', 'leikata', 'sanoi', ';', 'kartta', 'seura', 'Case=Ade', 'Emme', 'eläin', 'Onneksi', 'opettaja', 'ihmetellä', 'korkeus', 'salainen', 'juna', 'VerbForm=Inf', 'laatikko', 'Siksi', 'Case=Ine', 'lahja', 'Siinä', '*', 'lisäsi', 'Olemme', 'ehdottaa', 'pahoillaan', 'Case=Tra', 'mielestä', 'Tässä', 'kummallinen', 'kansi', ',', 'Person=0', 'He', 'harjoitella', 'teille', 'hypätä', 'Connegative=Yes', 'Voice=Pass', 'Person=2', 'Minusta', 'seitsemän', 'keksiä', 'kertoi', 'johtaja', 'linna', 'maan', 'Case=Ess', 'paikalle', 'luokka', 'mark', 'iltana', 'kysyi', 'lentää', '2.', 'varastaa', 'AdpType=Prep', 'veti', 'kuiskasi', 'taatusti', 'täti', 'huusi', 'Sillä', 'leikkiä', 'epäillä'], 'important_feats_9-12': ['Orvokki', 'leiri', 'klaani', 'NOUN', 'soturi', '', 'hevonen', 'pentu', 'Punct', 'orvokki', 'astella', 'jumala', 'VerbForm=Inf', 'lehti', 'päällikkö', 'ratsastaa', 'CCONJ', 'tohtori', 'Person=3', 'C', 'lohi#käärme', 'hotelli', 'tassu', 'kasvi', 'sanoi', 'vastaa', 'mutisi', 'joki', 'metsä', 'V', 'oppilas', 'huudahtaa', 'Sitten', 'luultavasti', 'onnistua', 'sade', 'ADJ', 'hammas', 'Me', 'hirviö', 'avaruus', 'kirja', 'minä', 'sisar', 'alue', 'Mood=Imp', 'Pian', 'teksti', 'aukko', 'huokaisi', 'taistelu', 'samassa', 'laite', 'luola', 'otus', 'Yritin', 'naurahti', 'mahdollista', 'aivot', 'Niinpä', 'tärkeä', 'sanoin', 'näyttivät', 'taistella', 'esimerkiksi', 'vauhtia', 'vaarallinen', 'hymyilee', 'nuoli', 'oksa', 'tahtoa', 'tähti', 'nyökätä', 'Myös', 'voivat', 'toivottavasti', 'root', 'laiva', 'luokse', 'piste', 'kysyi', 'sisko', 'Minä', 'tavallinen', 'näytti', 'vilkuilla', 'heille', 'tehty', 'NUM', 'Entä', 'päin', 'vilkaisi', 'iskä', 'vakava', 'tapauksessa', 'me', 'tuntui', 'pelastaa', 'ilmeisesti', 'metri'], 'important_feats_13+': ['herttua', 'tiny', 'juuli', 'palatsi', '0', 'N', 'noita', 'PUNCT', 'PronType=Prs', 'VerbForm=Fin', 'InfForm=3', 'InfForm=1', 'sotilas', 'Number=Sing', 'prinsessa', 'PROPN', 'vaari', 'InfForm=2', 'Number=Plur', 'mutista', 'suudella', 'kuningatar', 'kysyn', 'näyttö', 'mestari', '.', 'huuli', 'Derivation=Llinen,Vs', 'Num', 'sanon', 'A', 'SYM', 'Foreign=Yes', 'sota', 'halusin', 'kämmen', 'hius', 'niinpä', 'muodostua', 'lähtee', 'mulle', 'ja', 'SCONJ', 'obj', '”', 'Derivation=Inen,Vs', 'Derivation=Sti', 'väli', '\"', ',', 'hiekka', 'metalli', 'nmod:poss', 'miekka', 'laulu', 'sisältää', 'aine', 'rakkaus', 'minut', 'VerbForm=Part', 'mua', 'työ', 'Älä', 'kädet', 'enkä', 'kahvi', 'Derivation=Vs', 'kieltää', 'sanoo', 'käveli', 'laski', 'yritän', 'muisto', 'kylä', 'minulle', 'valta', 'eikä', 'sai', 'kysyy', 'vuonna', 'nmod:gsubj', 'rakastaa', 'Siis', 'hymyillä', 'ero', 'veli', 'raha', 'iho', 'paita', 'mun', 'mä', 'äänensä', 'Derivation=Ton', 'koskettaa', 'porukka', 'olka', 'ehdottomasti', 'välittömästi', ')', 'Derivation=Llinen']}]\n"
     ]
    }
   ],
   "source": [
    "print(loaded[0])"
   ]
  },
  {
   "cell_type": "code",
   "execution_count": 6,
   "id": "343a4dad",
   "metadata": {},
   "outputs": [],
   "source": [
    "def helperParser2(temp_list: list[dict], key: str):\n",
    "    return [x[key] for x in temp_list]\n",
    "\n",
    "def flattenList(temp_list):\n",
    "    return [x for y in temp_list for x in y]"
   ]
  },
  {
   "cell_type": "code",
   "execution_count": 7,
   "id": "51d7b4a0",
   "metadata": {},
   "outputs": [],
   "source": [
    "df = pd.DataFrame.from_dict(flattenList(loaded))\n",
    "df['sniplen'] = df['sniplen'].apply(lambda x: int(x))"
   ]
  },
  {
   "cell_type": "code",
   "execution_count": 24,
   "id": "3190dd9e",
   "metadata": {},
   "outputs": [
    {
     "name": "stdout",
     "output_type": "stream",
     "text": [
      "      keylist_id  sniplen      c     tol        f1  \\\n",
      "599           24      100  120.0  0.0001  0.817144   \n",
      "1655          68      100  120.0  0.0001  0.817736   \n",
      "719           29      100  120.0  0.0001  0.818006   \n",
      "575           23      100  120.0  0.0001  0.818517   \n",
      "503           20      100  120.0  0.0001  0.822380   \n",
      "...          ...      ...    ...     ...       ...   \n",
      "2183          90      100  120.0  0.0001  0.868694   \n",
      "1535          63      100  120.0  0.0001  0.869244   \n",
      "1247          51      100  120.0  0.0001  0.870937   \n",
      "1175          48      100  120.0  0.0001  0.872680   \n",
      "1895          78      100  120.0  0.0001  0.878449   \n",
      "\n",
      "                                    important_feats_7-8  \\\n",
      "599   [eläin, vocative, viimein, opettaja, ystävä, h...   \n",
      "1655  [eläin, minä, avain, Minä, vocative, syntyä, s...   \n",
      "719   [eläin, vocative, avain, Minä, InfForm=2, aarr...   \n",
      "575   [eläin, vocative, InfForm=2, aarre, Minä, herr...   \n",
      "503   [herra, avain, jätti, äkkiä, eläin, ranta, JA,...   \n",
      "...                                                 ...   \n",
      "2183  [vocative, eläin, kännykkä, InfForm=2, avain, ...   \n",
      "1535  [eläin, vocative, lapset, *, hypätä, ranta, sä...   \n",
      "1247  [kännykkä, sanoi, eläin, jätti, *, vocative, ;...   \n",
      "1175  [herra, avain, vocative, tahtoa, lapsi, hauska...   \n",
      "1895  [kännykkä, vocative, jätti, –, aarre, yleisö, ...   \n",
      "\n",
      "                                   important_feats_9-12  \\\n",
      "599   [soturi, hevonen, taikuri, pian, luokse, agent...   \n",
      "1655  [luokse, hevonen, oppilas, ratsastaa, taikuri,...   \n",
      "719   [Orvokki, orvokki, soturi, hotelli, klaani, he...   \n",
      "575   [klaani, soturi, luokse, sisar, pian, huudahti...   \n",
      "503   [hevonen, leiri, jumala, luokse, hirviö, jopa,...   \n",
      "...                                                 ...   \n",
      "2183  [ratsastaa, jopa, taikuri, samassa, soturi, te...   \n",
      "1535  [leiri, orvokki, Orvokki, hirviö, hevonen, jum...   \n",
      "1247  [orvokki, Orvokki, hevonen, leiri, soturi, hot...   \n",
      "1175  [orvokki, leiri, luokse, jumala, luultavasti, ...   \n",
      "1895  [leiri, orvokki, jumala, klaani, hevonen, hote...   \n",
      "\n",
      "                                    important_feats_13+  \n",
      "599   [herttua, juuli, nmod:poss, ”, vaari, prinsess...  \n",
      "1655  [juuli, ”, prinssi, Derivation=Ton, hius, poru...  \n",
      "719   [herttua, juuli, noita, käsi, näyttö, Siis, va...  \n",
      "575   [”, juuli, herttua, vaari, Derivation=Ton, pal...  \n",
      "503   [herttua, nmod:poss, prinssi, noita, prinsessa...  \n",
      "...                                                 ...  \n",
      "2183  [palatsi, juuli, noita, ”, olin, hius, Derivat...  \n",
      "1535  [herttua, juuli, palatsi, noita, Derivation=St...  \n",
      "1247  [herttua, vaan, noita, huuli, nmod:poss, ”, la...  \n",
      "1175  [palatsi, kuningatar, noita, ”, conj, porukka,...  \n",
      "1895  [herttua, juuli, noita, palatsi, Derivation=St...  \n",
      "\n",
      "[100 rows x 8 columns]\n"
     ]
    }
   ],
   "source": [
    "print(df[(df['c']==120) & (df['sniplen'] == 100)].sort_values('f1'))"
   ]
  },
  {
   "cell_type": "code",
   "execution_count": 9,
   "id": "3eaf0378",
   "metadata": {},
   "outputs": [],
   "source": [
    "param_df = df[['keylist_id','sniplen','c','f1']]"
   ]
  },
  {
   "cell_type": "code",
   "execution_count": 10,
   "id": "89e622e5",
   "metadata": {},
   "outputs": [
    {
     "name": "stdout",
     "output_type": "stream",
     "text": [
      "[0.04516120212297747, 0.051806198666189296, 0.06190683232468519, 0.06441427737175076, 0.06427646182987257, 0.061304552681131774]\n",
      "[0.5778260310490303, 0.6511538361733512, 0.7538065752541941, 0.8303496018417326, 0.8639826685063626, 0.8784489812570037]\n",
      "[0.5326648289260528, 0.5993476375071619, 0.691899742929509, 0.7659353244699818, 0.7997062066764901, 0.8171444285758719]\n"
     ]
    }
   ],
   "source": [
    "keylist_diffs = []\n",
    "maxss = []\n",
    "minss = []\n",
    "for i in SNIPPET_LENS:\n",
    "    filtered = param_df[(param_df['sniplen'] == i)].sort_values('f1', ascending=False).drop_duplicates('keylist_id')[['f1']]\n",
    "    mins = np.min(filtered.to_numpy())\n",
    "    maxs = np.max(filtered.to_numpy())\n",
    "    maxss.append(maxs)\n",
    "    minss.append(mins)\n",
    "    keylist_diffs.append(np.add(maxs, -mins))\n",
    "print(keylist_diffs)\n",
    "print(maxss)\n",
    "print(minss)"
   ]
  },
  {
   "cell_type": "code",
   "execution_count": 11,
   "id": "6da202d6",
   "metadata": {},
   "outputs": [
    {
     "name": "stdout",
     "output_type": "stream",
     "text": [
      "[0.023198   0.06262594 0.17834538 0.30099928 0.36887204 0.40232351]\n",
      "[0.01547128 0.04475629 0.14793134 0.27180071 0.34892583 0.3954209 ]\n",
      "[0.01798383 0.0498861  0.15764957 0.28056595 0.33652655 0.37144422]\n",
      "[0.01250877 0.04321157 0.14479869 0.26188434 0.33338832 0.36859411]\n",
      "[0.01473405 0.04913316 0.15332143 0.26722695 0.33796295 0.37892261]\n",
      "[0.01620975 0.04627019 0.14559273 0.25185358 0.29708198 0.3299924 ]\n",
      "[0.01388682 0.04023406 0.13769732 0.26581613 0.33539674 0.38053198]\n",
      "[0.01609377 0.04810377 0.1469498  0.26089128 0.33255252 0.37446865]\n",
      "[0.01812832 0.05581391 0.17024683 0.27918599 0.34240965 0.37869069]\n",
      "[0.01296932 0.04163382 0.13774481 0.25348331 0.32557862 0.3645762 ]\n",
      "[0.01774267 0.05195386 0.1557518  0.28738483 0.36029013 0.40622665]\n",
      "[0.0150746  0.04965266 0.16317689 0.28941937 0.35564625 0.3931842 ]\n",
      "[0.01868218 0.05431869 0.16062797 0.27326789 0.33428011 0.37167864]\n",
      "[0.01628648 0.04799143 0.15641491 0.26894989 0.33310928 0.36288849]\n",
      "[0.00912571 0.03356383 0.12273385 0.23346218 0.30610574 0.34501444]\n",
      "[0.01339898 0.04124157 0.13931538 0.25201144 0.32035498 0.36134457]\n",
      "[0.01709309 0.05002533 0.15366156 0.26394859 0.32334394 0.3529806 ]\n",
      "[0.01621131 0.05048455 0.16212683 0.28404016 0.34958153 0.38736162]\n",
      "[0.01452741 0.04711705 0.15056237 0.26735847 0.3336815  0.36934287]\n",
      "[0.01889819 0.05576123 0.16390958 0.28034218 0.34084113 0.37250709]\n",
      "[0.01608023 0.04760439 0.15823383 0.28183361 0.35556209 0.40483048]\n",
      "[0.01498826 0.04387142 0.1419062  0.24788986 0.31574078 0.35227376]\n",
      "[0.0159126  0.0487772  0.14677699 0.27287322 0.34582819 0.39176295]\n",
      "[0.02227474 0.05990613 0.17457264 0.29124029 0.36294759 0.40068052]\n",
      "[0.01559546 0.04702748 0.1429426  0.23977118 0.28284651 0.31104677]\n",
      "[0.0198614  0.05917235 0.17285162 0.29477191 0.35021708 0.38391242]\n",
      "[0.01973858 0.05487591 0.15518599 0.26758547 0.32724198 0.36004989]\n",
      "[0.02036456 0.05601455 0.16438074 0.27886179 0.34077828 0.37832972]\n",
      "[0.01791961 0.05514505 0.16880304 0.29204831 0.3562799  0.39386736]\n",
      "[0.015035   0.04386759 0.13841206 0.24611082 0.31085579 0.3481174 ]\n",
      "[0.01429428 0.04705132 0.15801175 0.276782   0.34040645 0.37038518]\n",
      "[0.01503358 0.04814047 0.16366161 0.2890993  0.35204332 0.38378629]\n",
      "[0.01463942 0.04794723 0.14663433 0.25839986 0.32533745 0.36577925]\n",
      "[0.01782673 0.05046379 0.15828392 0.27526244 0.34491401 0.37879951]\n",
      "[0.01424254 0.04376163 0.14595544 0.26466652 0.34160301 0.38086922]\n",
      "[0.0159081  0.05207162 0.16693887 0.29086809 0.35387514 0.38400451]\n",
      "[0.01617692 0.04903758 0.15515546 0.27630681 0.35184165 0.3886048 ]\n",
      "[0.01657491 0.04781158 0.15161569 0.25839391 0.31771083 0.35010065]\n",
      "[0.01473011 0.04642529 0.14665195 0.27327243 0.34798037 0.39780175]\n",
      "[0.02111075 0.05885469 0.18471641 0.32227633 0.38585084 0.43539632]\n",
      "[0.01358279 0.04146175 0.13970771 0.25446632 0.31704355 0.3515632 ]\n",
      "[0.01873753 0.05284707 0.1606117  0.27464729 0.34336425 0.38122551]\n",
      "[0.0168393  0.05146602 0.16994886 0.30256009 0.37454869 0.41529572]\n",
      "[0.01335008 0.04364644 0.1468845  0.27838756 0.34618257 0.39135554]\n",
      "[0.01739385 0.05065051 0.15418482 0.27248889 0.34035334 0.37505907]\n",
      "[0.01783679 0.05354798 0.16433719 0.2791177  0.34104489 0.36608713]\n",
      "[0.01843219 0.05563953 0.17141503 0.31064337 0.3886699  0.4276657 ]\n",
      "[0.01627817 0.05291365 0.16207444 0.28150013 0.35031801 0.38919518]\n",
      "[0.01210404 0.04199493 0.14589594 0.26625991 0.33243727 0.37338473]\n",
      "[0.01969685 0.05805873 0.16895937 0.28843053 0.35118288 0.38982333]\n",
      "[0.01271019 0.03812114 0.13766928 0.24343104 0.29813426 0.33145841]\n",
      "[0.01179155 0.03943656 0.13716018 0.25071422 0.31666326 0.35401573]\n",
      "[0.01485776 0.04429538 0.14616065 0.27133635 0.36302312 0.41625798]\n",
      "[0.02075823 0.05619127 0.16266456 0.26883841 0.32376688 0.35799716]\n",
      "[0.01355659 0.04697486 0.15061533 0.27237693 0.32819943 0.37477236]\n",
      "[0.01406788 0.04540478 0.1478376  0.26908384 0.33389862 0.37376527]\n",
      "[0.01857723 0.05462054 0.16655476 0.29747774 0.37334283 0.42475749]\n",
      "[0.01717943 0.05086782 0.15939742 0.27228622 0.33459307 0.37156164]\n",
      "[0.01374508 0.04244139 0.1414552  0.25415383 0.31492127 0.35168629]\n",
      "[0.01548284 0.04751439 0.14823926 0.2658076  0.32384531 0.35963588]\n",
      "[0.01300908 0.04363641 0.14627004 0.25825914 0.33147746 0.35943978]\n",
      "[0.01687019 0.05188908 0.15763382 0.27721576 0.34500282 0.38257458]\n",
      "[0.01347124 0.04336367 0.1393829  0.25597892 0.32196336 0.36296239]\n",
      "[0.01450287 0.04217583 0.14863795 0.26745262 0.33675625 0.37748202]\n",
      "[0.01609192 0.04956104 0.16282869 0.29349782 0.36751291 0.40128177]\n",
      "[0.01226102 0.04212227 0.14492972 0.2665436  0.3353068  0.38049626]\n",
      "[0.01390629 0.04667658 0.14658086 0.26032649 0.32432029 0.36643844]\n",
      "[0.01550521 0.0461684  0.15518511 0.27457422 0.33987188 0.37412688]\n",
      "[0.0161285  0.04677497 0.14135698 0.24715728 0.30622371 0.34211924]\n",
      "[0.02061349 0.0537234  0.15948317 0.28030354 0.34238363 0.38255331]\n",
      "[0.0181602  0.05369624 0.15789437 0.27641657 0.33859871 0.36897787]\n",
      "[0.01933503 0.05035821 0.16504937 0.28413638 0.34781347 0.3885048 ]\n",
      "[0.01400952 0.04275207 0.14276921 0.26036372 0.33962674 0.38813671]\n",
      "[0.01326134 0.04520101 0.14087211 0.25313242 0.31740514 0.3524848 ]\n",
      "[0.01498572 0.04621935 0.14649821 0.25024425 0.31124277 0.34085304]\n",
      "[0.01617485 0.04790685 0.14929622 0.25624494 0.31593385 0.34978675]\n",
      "[0.01937981 0.05780445 0.18098508 0.31737316 0.38529273 0.41721172]\n",
      "[0.0196513  0.05314502 0.16181804 0.27579207 0.33680112 0.37563226]\n",
      "[0.01625469 0.04859532 0.15923064 0.28349263 0.34972216 0.38202721]\n",
      "[0.01546678 0.04653468 0.14089715 0.24899712 0.30813607 0.34756044]\n",
      "[0.01769805 0.0533247  0.16263398 0.27593494 0.34182175 0.38264166]\n",
      "[0.01844267 0.05478852 0.17529285 0.30195013 0.36944452 0.4146162 ]\n",
      "[0.01444656 0.04430833 0.1463423  0.2632136  0.32723232 0.36410412]\n",
      "[0.01934311 0.05563985 0.16221472 0.27198425 0.34039945 0.37986979]\n",
      "[0.02111503 0.0610772  0.17217402 0.29028384 0.35868638 0.40345782]\n",
      "[0.01677595 0.04920109 0.15172312 0.26328865 0.32486567 0.35603578]\n",
      "[0.02034857 0.053622   0.16525908 0.2954289  0.36413616 0.40099918]\n",
      "[0.02019543 0.05335742 0.15323197 0.25312326 0.30717556 0.33816712]\n",
      "[0.01226994 0.04062355 0.13911061 0.26302173 0.33457542 0.37057724]\n",
      "[0.01649049 0.04993809 0.15356682 0.27096851 0.33773573 0.37152639]\n",
      "[0.01294338 0.04315005 0.14414735 0.2590371  0.32414103 0.36547771]\n",
      "[0.01197614 0.04163095 0.1352166  0.2441458  0.30073    0.33158622]\n",
      "[0.01385349 0.04594112 0.15211099 0.2595129  0.3254994  0.3707936 ]\n",
      "[0.01360454 0.04429373 0.14166167 0.25052894 0.30547911 0.34069455]\n",
      "[0.01804995 0.05281212 0.15314829 0.26481271 0.32129447 0.35907812]\n",
      "[0.01386831 0.04436042 0.1480291  0.26331052 0.32340137 0.35202425]\n",
      "[0.01456807 0.04764893 0.15821737 0.27491807 0.3400799  0.36778537]\n",
      "[0.01799465 0.05098055 0.16075691 0.2861624  0.354728   0.39394663]\n",
      "[0.01115868 0.03883268 0.133278   0.24932023 0.3176975  0.35660966]\n",
      "[0.0167351  0.05074687 0.15221984 0.26794938 0.33068702 0.37895691]\n"
     ]
    }
   ],
   "source": [
    "min_max_diff = []\n",
    "for i in range(100):\n",
    "    filtered = param_df[(param_df['keylist_id'] == i)][['sniplen','f1']]\n",
    "    maxs = np.array([np.max(filtered[filtered['sniplen'] == x]['f1'].to_numpy()) for x in SNIPPET_LENS])\n",
    "    mins = np.array([np.min(filtered[filtered['sniplen'] == x]['f1'].to_numpy()) for x in SNIPPET_LENS])\n",
    "    print(np.add(maxs, -mins))"
   ]
  },
  {
   "cell_type": "code",
   "execution_count": 12,
   "id": "343b2a40",
   "metadata": {},
   "outputs": [
    {
     "name": "stdout",
     "output_type": "stream",
     "text": [
      "Counter({(100.0, 120.0): 100, (75.0, 120.0): 100, (50.0, 120.0): 100, (25.0, 120.0): 98, (10.0, 120.0): 85, (5.0, 120.0): 65, (5.0, 60.0): 35, (10.0, 60.0): 15, (25.0, 60.0): 2})\n"
     ]
    }
   ],
   "source": [
    "query = param_df.sort_values('f1', ascending=False).drop_duplicates(['keylist_id','sniplen'])[['sniplen','c']].to_numpy()\n",
    "tuples = [(x[0], x[1]) for x in query]\n",
    "print(Counter(tuples))"
   ]
  },
  {
   "cell_type": "code",
   "execution_count": 13,
   "id": "fcd45fca",
   "metadata": {},
   "outputs": [
    {
     "name": "stdout",
     "output_type": "stream",
     "text": [
      "      keylist_id  sniplen      c        f1\n",
      "1895          78      100  120.0  0.878449\n",
      "1175          48      100  120.0  0.872680\n",
      "1247          51      100  120.0  0.870937\n",
      "1535          63      100  120.0  0.869244\n",
      "2183          90      100  120.0  0.868694\n",
      "...          ...      ...    ...       ...\n",
      "1370          57        5   60.0  0.542394\n",
      "554           23        5   60.0  0.540912\n",
      "651           27        5  120.0  0.538875\n",
      "3              0        5  120.0  0.534085\n",
      "483           20        5  120.0  0.532665\n",
      "\n",
      "[600 rows x 4 columns]\n"
     ]
    }
   ],
   "source": [
    "print(param_df.sort_values('f1', ascending=False).drop_duplicates(['keylist_id','sniplen']))"
   ]
  },
  {
   "cell_type": "code",
   "execution_count": 14,
   "id": "54fa33d5",
   "metadata": {},
   "outputs": [
    {
     "name": "stdout",
     "output_type": "stream",
     "text": [
      "      keylist_id  sniplen      c        f1\n",
      "1878          78       10   60.0  0.651154\n",
      "1230          51       10   60.0  0.648104\n",
      "439           18       10  120.0  0.645314\n",
      "367           15       10  120.0  0.645246\n",
      "1519          63       10  120.0  0.644005\n",
      "...          ...      ...    ...       ...\n",
      "559           23       10  120.0  0.610449\n",
      "655           27       10  120.0  0.609733\n",
      "7              0       10  120.0  0.609355\n",
      "1639          68       10  120.0  0.608449\n",
      "486           20       10   60.0  0.599348\n",
      "\n",
      "[100 rows x 4 columns]\n"
     ]
    }
   ],
   "source": [
    "print(param_df[param_df.sniplen == 10].sort_values('f1', ascending=False).drop_duplicates(['keylist_id'])[:100])"
   ]
  },
  {
   "cell_type": "code",
   "execution_count": 15,
   "id": "3dee42ba",
   "metadata": {},
   "outputs": [
    {
     "name": "stdout",
     "output_type": "stream",
     "text": [
      "Empty DataFrame\n",
      "Columns: [keylist_id, sniplen, c, f1]\n",
      "Index: []\n"
     ]
    }
   ],
   "source": [
    "print(param_df[param_df.sniplen == '25'].sort_values('f1', ascending=False).drop_duplicates(['keylist_id'])[:100])"
   ]
  },
  {
   "cell_type": "code",
   "execution_count": 16,
   "id": "90e8dba4",
   "metadata": {},
   "outputs": [
    {
     "name": "stdout",
     "output_type": "stream",
     "text": [
      "Empty DataFrame\n",
      "Columns: [keylist_id, sniplen, c, f1]\n",
      "Index: []\n"
     ]
    }
   ],
   "source": [
    "print(param_df[param_df.sniplen == '50'].sort_values('f1', ascending=False).drop_duplicates(['keylist_id'])[:100])"
   ]
  },
  {
   "cell_type": "code",
   "execution_count": 17,
   "id": "ccb63a9c",
   "metadata": {},
   "outputs": [
    {
     "name": "stdout",
     "output_type": "stream",
     "text": [
      "Empty DataFrame\n",
      "Columns: [keylist_id, sniplen, c, f1]\n",
      "Index: []\n"
     ]
    }
   ],
   "source": [
    "print(param_df[param_df.sniplen == '75'].sort_values('f1', ascending=False).drop_duplicates(['keylist_id'])[:100])"
   ]
  },
  {
   "cell_type": "code",
   "execution_count": 18,
   "id": "f847830b",
   "metadata": {},
   "outputs": [
    {
     "name": "stdout",
     "output_type": "stream",
     "text": [
      "[120. 120. 120. 120. 120. 120. 120. 120. 120. 120. 120. 120. 120. 120.\n",
      " 120. 120. 120. 120. 120. 120. 120. 120. 120. 120. 120. 120. 120. 120.\n",
      " 120. 120. 120. 120. 120. 120. 120. 120. 120. 120. 120. 120. 120. 120.\n",
      " 120. 120. 120. 120. 120. 120. 120. 120. 120. 120. 120. 120. 120. 120.\n",
      " 120. 120. 120. 120. 120. 120. 120. 120. 120. 120. 120. 120. 120. 120.\n",
      " 120. 120. 120. 120. 120. 120. 120. 120. 120. 120. 120. 120. 120. 120.\n",
      " 120. 120. 120. 120. 120. 120. 120. 120. 120. 120. 120. 120. 120. 120.\n",
      " 120. 120.]\n"
     ]
    }
   ],
   "source": [
    "print(param_df[param_df.sniplen == 100].sort_values('f1', ascending=False).drop_duplicates(['keylist_id'])[:100]['c'].to_numpy())"
   ]
  },
  {
   "cell_type": "code",
   "execution_count": 19,
   "id": "361bb9fe",
   "metadata": {},
   "outputs": [
    {
     "name": "stdout",
     "output_type": "stream",
     "text": [
      "      keylist_id  sniplen      c     tol        f1  \\\n",
      "1895          78      100  120.0  0.0001  0.878449   \n",
      "1175          48      100  120.0  0.0001  0.872680   \n",
      "1247          51      100  120.0  0.0001  0.870937   \n",
      "1535          63      100  120.0  0.0001  0.869244   \n",
      "2183          90      100  120.0  0.0001  0.868694   \n",
      "...          ...      ...    ...     ...       ...   \n",
      "503           20      100  120.0  0.0001  0.822380   \n",
      "575           23      100  120.0  0.0001  0.818517   \n",
      "719           29      100  120.0  0.0001  0.818006   \n",
      "1655          68      100  120.0  0.0001  0.817736   \n",
      "599           24      100  120.0  0.0001  0.817144   \n",
      "\n",
      "                                    important_feats_7-8  \\\n",
      "1895  [kännykkä, vocative, jätti, –, aarre, yleisö, ...   \n",
      "1175  [herra, avain, vocative, tahtoa, lapsi, hauska...   \n",
      "1247  [kännykkä, sanoi, eläin, jätti, *, vocative, ;...   \n",
      "1535  [eläin, vocative, lapset, *, hypätä, ranta, sä...   \n",
      "2183  [vocative, eläin, kännykkä, InfForm=2, avain, ...   \n",
      "...                                                 ...   \n",
      "503   [herra, avain, jätti, äkkiä, eläin, ranta, JA,...   \n",
      "575   [eläin, vocative, InfForm=2, aarre, Minä, herr...   \n",
      "719   [eläin, vocative, avain, Minä, InfForm=2, aarr...   \n",
      "1655  [eläin, minä, avain, Minä, vocative, syntyä, s...   \n",
      "599   [eläin, vocative, viimein, opettaja, ystävä, h...   \n",
      "\n",
      "                                   important_feats_9-12  \\\n",
      "1895  [leiri, orvokki, jumala, klaani, hevonen, hote...   \n",
      "1175  [orvokki, leiri, luokse, jumala, luultavasti, ...   \n",
      "1247  [orvokki, Orvokki, hevonen, leiri, soturi, hot...   \n",
      "1535  [leiri, orvokki, Orvokki, hirviö, hevonen, jum...   \n",
      "2183  [ratsastaa, jopa, taikuri, samassa, soturi, te...   \n",
      "...                                                 ...   \n",
      "503   [hevonen, leiri, jumala, luokse, hirviö, jopa,...   \n",
      "575   [klaani, soturi, luokse, sisar, pian, huudahti...   \n",
      "719   [Orvokki, orvokki, soturi, hotelli, klaani, he...   \n",
      "1655  [luokse, hevonen, oppilas, ratsastaa, taikuri,...   \n",
      "599   [soturi, hevonen, taikuri, pian, luokse, agent...   \n",
      "\n",
      "                                    important_feats_13+  \n",
      "1895  [herttua, juuli, noita, palatsi, Derivation=St...  \n",
      "1175  [palatsi, kuningatar, noita, ”, conj, porukka,...  \n",
      "1247  [herttua, vaan, noita, huuli, nmod:poss, ”, la...  \n",
      "1535  [herttua, juuli, palatsi, noita, Derivation=St...  \n",
      "2183  [palatsi, juuli, noita, ”, olin, hius, Derivat...  \n",
      "...                                                 ...  \n",
      "503   [herttua, nmod:poss, prinssi, noita, prinsessa...  \n",
      "575   [”, juuli, herttua, vaari, Derivation=Ton, pal...  \n",
      "719   [herttua, juuli, noita, käsi, näyttö, Siis, va...  \n",
      "1655  [juuli, ”, prinssi, Derivation=Ton, hius, poru...  \n",
      "599   [herttua, juuli, nmod:poss, ”, vaari, prinsess...  \n",
      "\n",
      "[100 rows x 8 columns]\n"
     ]
    }
   ],
   "source": [
    "print(df[(df.sniplen == 100) & (df.c==120)].sort_values('f1', ascending=False))"
   ]
  },
  {
   "cell_type": "code",
   "execution_count": 20,
   "id": "6afbf577",
   "metadata": {},
   "outputs": [
    {
     "name": "stdout",
     "output_type": "stream",
     "text": [
      "Counter({'herttua': 1, 'juuli': 1, 'noita': 1, 'palatsi': 1, 'Derivation=Sti': 1, 'prinssi': 1, 'jotakin': 1, 'acl': 1, 'hius': 1, 'prinsessa': 1, 'mun': 1, 'Mä': 1, 'käveli': 1, 'molemmat': 1, '”': 1, 'mutista': 1, 'Derivation=Llinen,Vs': 1, 'liittyä': 1, 'vanhempi': 1, 'mua': 1, 'minusta': 1, 'lakata': 1, 'tuoksu': 1, 'välittömästi': 1, 'huuli': 1, 'nmod:poss': 1, 'katsoa': 1, 'obj': 1, 'raha': 1, 'Siis': 1, 'sotilas': 1, 'kohta': 1, 'sama': 1, 'pitäisi': 1, 'Derivation=Vs': 1, 'käsi': 1, 'mä': 1, 'raskas': 1, 'puhua': 1, 'suudella': 1, 'minut': 1, 'haluta': 1, 'Mitä': 1, 'hiekka': 1, 'ihminen': 1, 'minua': 1, 'kannattaa': 1, 'väli': 1, 'Derivation=Ton': 1, 'ollut': 1, 'tajuta': 1, 'tavalla': 1, 'siksi': 1, 'vartija': 1, 'veri': 1, 'vähemmän': 1, 'Derivation=Inen,Vs': 1, 'tappaa': 1, 'Reflex=Yes': 1, 'kävellä': 1, 'puoleen': 1, 'mulle': 1, 'kädet': 1, 'pitänyt': 1, 'todellinen': 1, 'perhe': 1, 'ero': 1, 'lisää': 1, 'joten': 1, 'totuus': 1, 'Anteeksi': 1, 'tosin': 1, 'kipu': 1, 'nmod': 1, 'poski': 1, 'puristaa': 1, 'kysyn': 1, 'päätyä': 1, 'viikko': 1, 'polvi': 1, 'voisin': 1, 'järjestää': 1, 'juoda': 1, 'kysyy': 1, 'kohota': 1, 'portti': 1, 'hymyili': 1, 'puolesta': 1, 'lähelle': 1, 'paita': 1, 'Älä': 1, 'viettää': 1, 'lumi': 1, ':': 1, 'a': 1, 'kulkea': 1, 'Derivation=Llinen': 1, 'hiukset': 1, 'halua': 1, 'hiljaa': 1})\n"
     ]
    }
   ],
   "source": [
    "print(Counter([x for y in df.sort_values('f1', ascending=False)[:1]['important_feats_13+'].to_numpy() for x in y]))"
   ]
  }
 ],
 "metadata": {
  "kernelspec": {
   "display_name": "Test",
   "language": "python",
   "name": "python3"
  },
  "language_info": {
   "codemirror_mode": {
    "name": "ipython",
    "version": 3
   },
   "file_extension": ".py",
   "mimetype": "text/x-python",
   "name": "python",
   "nbconvert_exporter": "python",
   "pygments_lexer": "ipython3",
   "version": "3.10.16"
  }
 },
 "nbformat": 4,
 "nbformat_minor": 5
}
