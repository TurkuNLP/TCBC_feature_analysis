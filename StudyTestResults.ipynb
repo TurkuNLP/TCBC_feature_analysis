{
 "cells": [
  {
   "cell_type": "code",
   "execution_count": 1,
   "id": "ec4ccc1b",
   "metadata": {},
   "outputs": [],
   "source": [
    "#Imports\n",
    "import itertools\n",
    "import json\n",
    "from collections import Counter\n",
    "import pandas as pd\n",
    "import numpy as np\n",
    "import os"
   ]
  },
  {
   "cell_type": "code",
   "execution_count": 2,
   "id": "1cbe3cf9",
   "metadata": {},
   "outputs": [],
   "source": [
    "#Constants\n",
    "BASE_FOLDER = \"TestResults/FullResultOnlyText/\"\n",
    "BASE_START = \"ParamOptim_List_\"\n",
    "BASE_MID = \"_SnipLen_\"\n",
    "BASE_END = \"_Results.jsonl\"\n",
    "SNIPPET_LENS = [5,10,25,50,75,100]\n"
   ]
  },
  {
   "cell_type": "code",
   "execution_count": 3,
   "id": "9892545f",
   "metadata": {},
   "outputs": [],
   "source": [
    "def helperParser(file):\n",
    "    temp = []\n",
    "    with open(file, 'r') as f:\n",
    "        for line in f:\n",
    "            temp.append(json.loads(line))\n",
    "    return temp"
   ]
  },
  {
   "cell_type": "code",
   "execution_count": 4,
   "id": "adc41d0d",
   "metadata": {},
   "outputs": [
    {
     "name": "stdout",
     "output_type": "stream",
     "text": [
      "\n",
      "\n",
      "\n",
      "\n",
      "\n",
      "\n",
      "\n",
      "\n",
      "\n",
      "\n",
      "\n",
      "\n",
      "\n",
      "\n",
      "\n",
      "\n",
      "\n",
      "\n",
      "\n",
      "\n",
      "\n",
      "\n",
      "\n",
      "\n",
      "\n",
      "\n",
      "\n",
      "\n",
      "\n",
      "\n",
      "\n",
      "\n",
      "\n",
      "\n",
      "\n",
      "\n",
      "\n",
      "\n",
      "\n",
      "\n",
      "\n",
      "\n",
      "\n",
      "\n",
      "\n",
      "\n",
      "\n",
      "\n",
      "\n",
      "\n",
      "\n",
      "\n",
      "\n",
      "\n",
      "\n",
      "\n",
      "\n",
      "\n",
      "\n",
      "\n",
      "\n",
      "\n",
      "\n",
      "\n",
      "\n",
      "\n",
      "\n",
      "\n",
      "\n",
      "\n",
      "\n",
      "\n",
      "\n",
      "\n",
      "\n",
      "\n",
      "\n",
      "\n",
      "\n",
      "\n",
      "\n",
      "\n",
      "\n",
      "\n",
      "\n",
      "\n",
      "\n",
      "\n",
      "\n",
      "\n",
      "\n",
      "\n",
      "\n",
      "\n",
      "\n",
      "\n",
      "\n",
      "\n",
      "\n",
      "\n"
     ]
    }
   ],
   "source": [
    "loaded = []\n",
    "for i in range(100):\n",
    "    print()\n",
    "    loaded.append(helperParser(BASE_FOLDER+BASE_START+str(i)+BASE_MID+'5'+BASE_END))\n",
    "    loaded.append(helperParser(BASE_FOLDER+BASE_START+str(i)+BASE_MID+'10'+BASE_END))\n",
    "    loaded.append(helperParser(BASE_FOLDER+BASE_START+str(i)+BASE_MID+'25'+BASE_END))\n",
    "    loaded.append(helperParser(BASE_FOLDER+BASE_START+str(i)+BASE_MID+'50'+BASE_END))\n",
    "    loaded.append(helperParser(BASE_FOLDER+BASE_START+str(i)+BASE_MID+'75'+BASE_END))\n",
    "    loaded.append(helperParser(BASE_FOLDER+BASE_START+str(i)+BASE_MID+'100'+BASE_END))"
   ]
  },
  {
   "cell_type": "code",
   "execution_count": 6,
   "id": "343a4dad",
   "metadata": {},
   "outputs": [],
   "source": [
    "def helperParser2(temp_list: list[dict], key: str):\n",
    "    return [x[key] for x in temp_list]\n",
    "\n",
    "def flattenList(temp_list):\n",
    "    return [x for y in temp_list for x in y]"
   ]
  },
  {
   "cell_type": "code",
   "execution_count": 7,
   "id": "51d7b4a0",
   "metadata": {},
   "outputs": [],
   "source": [
    "df = pd.DataFrame.from_dict(flattenList(loaded))\n",
    "df['sniplen'] = df['sniplen'].apply(lambda x: int(x))"
   ]
  },
  {
   "cell_type": "code",
   "execution_count": 8,
   "id": "3190dd9e",
   "metadata": {},
   "outputs": [
    {
     "name": "stdout",
     "output_type": "stream",
     "text": [
      "      keylist_id  sniplen      c     tol        f1  \\\n",
      "383           15      100  120.0  0.0001  0.919993   \n",
      "2255          93      100  120.0  0.0001  0.920185   \n",
      "599           24      100  120.0  0.0001  0.924908   \n",
      "1151          47      100  120.0  0.0001  0.925485   \n",
      "2279          94      100  120.0  0.0001  0.925984   \n",
      "...          ...      ...    ...     ...       ...   \n",
      "1415          58      100  120.0  0.0001  0.953928   \n",
      "167            6      100  120.0  0.0001  0.954608   \n",
      "527           21      100  120.0  0.0001  0.955528   \n",
      "1247          51      100  120.0  0.0001  0.958680   \n",
      "1991          82      100  120.0  0.0001  0.960813   \n",
      "\n",
      "                                    important_feats_7-8  \\\n",
      "383   [Lapset, Äkkiä, Onneksi, luku, perille, taatus...   \n",
      "2255  [Onneksi, nappasi, lujaa, mietti, -, sanotaan,...   \n",
      "599   [katselee, Onneksi, Lapset, kouluun, Luulen, y...   \n",
      "1151  [luku, tokaisi, taatusti, *, Lapset, -, kivaa,...   \n",
      "2279  [luku, selvä, Lapset, tokaisi, innoissaan, kek...   \n",
      "...                                                 ...   \n",
      "1415  [Lapset, luokan, jätti, Tiesin, innoissaan, to...   \n",
      "167   [Lapset, mietti, melko, –, Luulen, vanhan, pie...   \n",
      "527   [totesi, tokaisi, kauhean, Lapset, pimeää, toi...   \n",
      "1247  [luku, –, Lapset, taatusti, Onneksi, sanaakaan...   \n",
      "1991  [-, tokaisi, taatusti, Onneksi, kertoi, neiti,...   \n",
      "\n",
      "                                   important_feats_9-12  \\\n",
      "383   [a., b., maukui, kerta, c., Tulisydän, Lehti, ...   \n",
      "2255  [Orvokki, Tulisydän, Samassa, onnistunut, luok...   \n",
      "599   [Orvokki, a., kumpikin, Pian, istua, hotellin,...   \n",
      "1151  [b., Lehti, a., hengissä, Tulisydän, ainoastaa...   \n",
      "2279  [Orvokki, b., Lehti, maukui, Tulisydän, keskit...   \n",
      "...                                                 ...   \n",
      "1415  [a., b., maukui, suunnilleen, Lehti, Tulisydän...   \n",
      "167   [Orvokki, Tulisydän, maukui, a., löytänyt, olk...   \n",
      "527   [b., Tulisydän, b, Lehti, Tutki, muistaa, nost...   \n",
      "1247  [Orvokki, a., Tulisydän, valita, b., ainoastaa...   \n",
      "1991  [Orvokki, b., a., Tulisydän, ainoastaan, Niide...   \n",
      "\n",
      "                                    important_feats_13+  \n",
      "383   [herttua, Toisaalta, miettii, oltiin, ikkunast...  \n",
      "2255  [herttua, olis, Juuli, katson, välittömästi, K...  \n",
      "599   [herttua, ”, olis, Mennään, asiat, kysynyt, su...  \n",
      "1151  [herttua, Juuli, miettii, }, Siis, Mennään, vä...  \n",
      "2279  [herttua, välittömästi, olis, tuoksu, Juuli, h...  \n",
      "...                                                 ...  \n",
      "1415  [palatsin, herttua, täsmälleen, minussa, kysyn...  \n",
      "167   [herttua, ”, mutten, Juuli, täsmälleen, kenell...  \n",
      "527   [herttua, Juuli, prinsessa, a, kysyn, itseni, ...  \n",
      "1247  [”, kuinka, Juuli, päältä, Siis, täsmälleen, k...  \n",
      "1991  [herttua, olis, vuonna, prinsessa, avata, Tois...  \n",
      "\n",
      "[100 rows x 8 columns]\n"
     ]
    }
   ],
   "source": [
    "print(df[(df['c']==120) & (df['sniplen'] == 100)].sort_values('f1'))"
   ]
  },
  {
   "cell_type": "code",
   "execution_count": 9,
   "id": "3eaf0378",
   "metadata": {},
   "outputs": [],
   "source": [
    "param_df = df[['keylist_id','sniplen','c','f1']]"
   ]
  },
  {
   "cell_type": "markdown",
   "id": "af2d6048",
   "metadata": {},
   "source": [
    "## Param_df plots"
   ]
  },
  {
   "cell_type": "code",
   "execution_count": 32,
   "id": "af303236",
   "metadata": {},
   "outputs": [],
   "source": [
    "#Imports\n",
    "import matplotlib.pyplot as plt\n",
    "import seaborn as sns\n",
    "\n",
    "#Consts\n",
    "cs = param_df['c'].drop_duplicates().to_numpy()"
   ]
  },
  {
   "cell_type": "code",
   "execution_count": 30,
   "id": "62d6a8f9",
   "metadata": {},
   "outputs": [
    {
     "data": {
      "image/png": "[encoded data removed]",
      "text/plain": [
       "<Figure size 640x480 with 1 Axes>"
      ]
     },
     "metadata": {},
     "output_type": "display_data"
    }
   ],
   "source": [
    "#Errorbar plot for sniplen 100 per c\n",
    "snip_df = param_df[param_df['sniplen'] == 100]\n",
    "data = [snip_df[snip_df['c'] == c]['f1'].to_numpy() for c in cs]\n",
    "plt.boxplot(data)\n",
    "plt.xticks([1,2,3,4], labels=cs)\n",
    "plt.tick_params(axis='both', labelsize=20)"
   ]
  },
  {
   "cell_type": "code",
   "execution_count": null,
   "id": "f20d993b",
   "metadata": {},
   "outputs": [],
   "source": [
    "#Lineplot showing how c affects the accuracy of different sniplens\n",
    "\n",
    "def getLineplot():\n",
    "    for sniplen in SNIPPET_LENS:\n",
    "        snip_df = param_df[param_df['sniplen'] == sniplen]\n",
    "        ax = sns.lineplot(data=snip_df, x='c', y='f1', estimator='mean', errorbar=('ci', 99), n_boot=1000)\n",
    "        ax.text(90, ax.lines[-1].get_ydata()[-2]-0.005, sniplen, bbox=dict(facecolor='gray', alpha=1))\n",
    "    lbls = []\n",
    "    for l in SNIPPET_LENS:\n",
    "        lbls.append(str(l))\n",
    "        lbls.append(str(l)+\"_99%_ci\")\n",
    "    "
   ]
  },
  {
   "cell_type": "code",
   "execution_count": 121,
   "id": "007f4ebd",
   "metadata": {},
   "outputs": [
    {
     "data": {
      "image/png": "[encoded data removed]",
      "text/plain": [
       "<Figure size 640x480 with 1 Axes>"
      ]
     },
     "metadata": {},
     "output_type": "display_data"
    }
   ],
   "source": [
    "getLineplot()"
   ]
  },
  {
   "cell_type": "code",
   "execution_count": 10,
   "id": "89e622e5",
   "metadata": {},
   "outputs": [
    {
     "name": "stdout",
     "output_type": "stream",
     "text": [
      "[0.05625693075894578, 0.04971469467211098, 0.04483267099136734, 0.04910667835743676, 0.046005310322228765, 0.04082019521781244]\n",
      "[0.5884666986991086, 0.6603603244002237, 0.7644726629188608, 0.8611985689580884, 0.9323089283106283, 0.9608131638122718]\n",
      "[0.5322097679401628, 0.6106456297281128, 0.7196399919274935, 0.8120918906006517, 0.8863036179883995, 0.9199929685944593]\n"
     ]
    }
   ],
   "source": [
    "keylist_diffs = []\n",
    "maxss = []\n",
    "minss = []\n",
    "for i in SNIPPET_LENS:\n",
    "    filtered = param_df[(param_df['sniplen'] == i)].sort_values('f1', ascending=False).drop_duplicates('keylist_id')[['f1']]\n",
    "    mins = np.min(filtered.to_numpy())\n",
    "    maxs = np.max(filtered.to_numpy())\n",
    "    maxss.append(maxs)\n",
    "    minss.append(mins)\n",
    "    keylist_diffs.append(np.add(maxs, -mins))\n",
    "print(keylist_diffs)\n",
    "print(maxss)\n",
    "print(minss)"
   ]
  },
  {
   "cell_type": "code",
   "execution_count": 11,
   "id": "6da202d6",
   "metadata": {},
   "outputs": [
    {
     "name": "stdout",
     "output_type": "stream",
     "text": [
      "[0.00170845 0.00352139 0.01699146 0.06106148 0.11936805 0.15633001]\n",
      "[0.00199044 0.00248641 0.01587502 0.05685777 0.10918962 0.14311566]\n",
      "[0.00103604 0.00302743 0.0152588  0.05663974 0.11210676 0.14766766]\n",
      "[0.00298429 0.0059024  0.02132091 0.06852476 0.13778392 0.17774388]\n",
      "[0.00248525 0.00441836 0.0193902  0.06663388 0.12625643 0.16411292]\n",
      "[0.00275159 0.0063814  0.02005809 0.06543974 0.1201043  0.14856579]\n",
      "[0.00168794 0.00372993 0.01751628 0.05764848 0.11789029 0.14204546]\n",
      "[0.00272912 0.00437502 0.01883845 0.06661494 0.1328285  0.1737711 ]\n",
      "[0.00323446 0.00528831 0.02273589 0.07735291 0.14358826 0.17972688]\n",
      "[0.0015934  0.00476497 0.02121814 0.07292614 0.12887407 0.15778419]\n",
      "[0.00263776 0.00430969 0.01867033 0.06353227 0.13585216 0.17085401]\n",
      "[0.00135108 0.00282179 0.01753803 0.05736576 0.11360855 0.14002579]\n",
      "[0.00222589 0.00582291 0.01758834 0.06350132 0.12204443 0.15632378]\n",
      "[0.0033859  0.00603131 0.02286188 0.07365897 0.14126571 0.17152466]\n",
      "[0.00167584 0.00431791 0.01662769 0.06450644 0.1226879  0.15842464]\n",
      "[0.00234993 0.00450849 0.01820422 0.06020692 0.12741011 0.15747418]\n",
      "[0.00277875 0.0055358  0.01770483 0.06442627 0.13052752 0.163289  ]\n",
      "[0.00196933 0.00380895 0.01557605 0.05959946 0.1166591  0.1466162 ]\n",
      "[0.00298509 0.00583103 0.01855422 0.07065744 0.12256323 0.15356355]\n",
      "[0.00142706 0.002847   0.01166718 0.05031647 0.1155692  0.15106919]\n",
      "[0.00311225 0.00621261 0.01955273 0.07060335 0.1322796  0.16753634]\n",
      "[0.00234019 0.00435333 0.01975415 0.066116   0.12368847 0.16513634]\n",
      "[0.00132712 0.00374818 0.01613973 0.05956248 0.12538732 0.15848609]\n",
      "[0.00268722 0.00556376 0.01507615 0.05474166 0.10910794 0.13096654]\n",
      "[0.00243341 0.00656803 0.01986748 0.06493457 0.12362805 0.1510587 ]\n",
      "[0.00415876 0.00669768 0.02150181 0.06730151 0.1213484  0.14395093]\n",
      "[0.0023663  0.00322693 0.01830474 0.05678172 0.11576289 0.14514599]\n",
      "[0.0022357  0.00432835 0.01497992 0.05715881 0.11074327 0.1440938 ]\n",
      "[0.00199504 0.00365624 0.01465189 0.06104933 0.11839085 0.14878306]\n",
      "[0.00317652 0.00624515 0.0203296  0.07366484 0.1322171  0.16233644]\n",
      "[0.00262313 0.00509901 0.02185401 0.06867483 0.11852561 0.15076591]\n",
      "[0.00271544 0.00575631 0.01670759 0.05861904 0.11757192 0.14828024]\n",
      "[0.00280274 0.00525348 0.01793491 0.05905477 0.11474173 0.15414924]\n",
      "[0.00315916 0.00539843 0.01631576 0.06645725 0.12001709 0.1442552 ]\n",
      "[0.0039491  0.00633432 0.01952263 0.06573943 0.1313164  0.16858169]\n",
      "[0.00231717 0.00407264 0.01803437 0.0576392  0.11937943 0.16696794]\n",
      "[0.00327001 0.00502101 0.01948887 0.06786838 0.12179985 0.15811691]\n",
      "[0.00186388 0.00404759 0.01530696 0.05921661 0.11637449 0.15768663]\n",
      "[0.00242056 0.00527519 0.01612369 0.06570785 0.13158505 0.16920835]\n",
      "[0.00192518 0.00560491 0.01917085 0.06806527 0.12989297 0.1505259 ]\n",
      "[0.00143309 0.00288772 0.01942616 0.05567928 0.10305295 0.12601519]\n",
      "[0.00163814 0.00283226 0.01444014 0.05391594 0.1081065  0.15152292]\n",
      "[0.00265605 0.00681727 0.02278385 0.07047784 0.11877118 0.1450679 ]\n",
      "[0.00145504 0.00287557 0.0161727  0.056572   0.11554706 0.14407592]\n",
      "[0.00164376 0.00338922 0.01649032 0.05575277 0.10634188 0.13018113]\n",
      "[0.002066   0.00448001 0.01625499 0.0585693  0.1178889  0.15119193]\n",
      "[0.00333049 0.00669649 0.02209156 0.06640212 0.13025694 0.15652163]\n",
      "[0.0025424  0.00420835 0.01537259 0.06901919 0.13223518 0.16788694]\n",
      "[0.00269405 0.0055399  0.02092478 0.06947268 0.12900376 0.15136408]\n",
      "[0.00186664 0.00328241 0.02050854 0.06321454 0.12958038 0.1599241 ]\n",
      "[0.00211698 0.00612191 0.01986903 0.06480836 0.12281327 0.15722349]\n",
      "[0.0019716  0.00449384 0.01678817 0.05897646 0.11469601 0.14671136]\n",
      "[0.0020322  0.00425649 0.01810089 0.06005055 0.11405824 0.13982429]\n",
      "[0.00221188 0.00323033 0.01702961 0.05862579 0.1112069  0.14771355]\n",
      "[0.00164941 0.00394436 0.01657557 0.05879105 0.12639444 0.16269322]\n",
      "[0.00231713 0.00551498 0.01809945 0.06476298 0.12094921 0.15012093]\n",
      "[0.00244902 0.00507304 0.01643473 0.0609635  0.11309879 0.14371986]\n",
      "[0.00284181 0.00333626 0.01943599 0.06226933 0.11516585 0.14567955]\n",
      "[0.00344256 0.00709656 0.02423661 0.07384532 0.13868774 0.17331839]\n",
      "[0.00250003 0.00452056 0.01757077 0.06415029 0.12223361 0.16200432]\n",
      "[0.00135907 0.00337787 0.01890182 0.05880947 0.11156351 0.13785766]\n",
      "[0.00156299 0.00385109 0.0144111  0.0562888  0.12138698 0.15631655]\n",
      "[0.00169876 0.00354616 0.01529859 0.05159334 0.11503543 0.14927859]\n",
      "[0.00166828 0.00445748 0.0172208  0.06136993 0.11435716 0.1436384 ]\n",
      "[0.00292784 0.00605354 0.01936526 0.06496097 0.13192271 0.1663423 ]\n",
      "[0.00354881 0.00540151 0.02048376 0.06406745 0.11456446 0.13289026]\n",
      "[0.00185727 0.00324221 0.01557496 0.05838853 0.11622301 0.14529648]\n",
      "[0.00208992 0.00393209 0.01893662 0.06162236 0.11772869 0.16215196]\n",
      "[0.00333897 0.00684818 0.02010337 0.06445419 0.12289415 0.1514795 ]\n",
      "[0.0017105  0.00333137 0.0179785  0.05845236 0.11735576 0.15376717]\n",
      "[0.0028625  0.0062357  0.01817854 0.06281628 0.12112546 0.15764198]\n",
      "[0.00105286 0.00340298 0.01477554 0.05762247 0.11307409 0.15005591]\n",
      "[0.00276464 0.00507436 0.02205598 0.06832718 0.13008011 0.16977537]\n",
      "[0.00232658 0.00338404 0.01359978 0.05776805 0.12020405 0.16987628]\n",
      "[0.00259749 0.00450563 0.01700969 0.06406538 0.11852886 0.15266393]\n",
      "[0.00227307 0.00434336 0.01772932 0.061268   0.12651071 0.15510546]\n",
      "[0.00367554 0.0057347  0.02027977 0.06780426 0.13457969 0.16484285]\n",
      "[0.00145485 0.00271642 0.01568116 0.05501364 0.11589509 0.13923292]\n",
      "[0.00300549 0.00619178 0.02469495 0.07671542 0.13442142 0.17180736]\n",
      "[0.00312173 0.0071937  0.01718751 0.06337874 0.12705295 0.17255219]\n",
      "[0.00189154 0.00304487 0.01682673 0.06421666 0.12409538 0.15888401]\n",
      "[0.00292159 0.00570661 0.01830352 0.06596229 0.12702661 0.16601611]\n",
      "[0.00244744 0.00394555 0.01946433 0.07083079 0.13386247 0.1622229 ]\n",
      "[0.0028432  0.00434088 0.01968999 0.07098971 0.13548797 0.16616379]\n",
      "[0.00358258 0.00604408 0.01977225 0.06964201 0.12416851 0.15960491]\n",
      "[0.00144494 0.00270567 0.01822621 0.05973573 0.11948899 0.1588504 ]\n",
      "[0.00315706 0.00461607 0.0228685  0.06563595 0.1318407  0.16515885]\n",
      "[0.00192577 0.00309479 0.01482955 0.05104556 0.11089861 0.13866855]\n",
      "[0.00242909 0.00505053 0.0200714  0.06376773 0.12090625 0.16231989]\n",
      "[0.00150302 0.0040353  0.01644288 0.06210013 0.12531519 0.15377409]\n",
      "[0.00260512 0.00504774 0.02030089 0.06721748 0.12862204 0.16786191]\n",
      "[0.00321305 0.00649971 0.02046557 0.07429291 0.12844297 0.15676086]\n",
      "[0.00217594 0.00392621 0.01446227 0.05794252 0.11030081 0.14398722]\n",
      "[0.00237103 0.00394001 0.01413594 0.05368945 0.11873024 0.15585578]\n",
      "[0.00217876 0.0037289  0.01841951 0.06795789 0.13123728 0.16414755]\n",
      "[0.00195779 0.00395656 0.01886286 0.06467773 0.12955752 0.16542452]\n",
      "[0.00220214 0.0049057  0.01863305 0.06185775 0.11702911 0.14165189]\n",
      "[0.00297917 0.00484767 0.02044258 0.06977371 0.12588726 0.16449946]\n",
      "[0.00365838 0.00667618 0.02164464 0.06960279 0.13040487 0.16617644]\n",
      "[0.00341517 0.00475436 0.01933075 0.06477622 0.12102689 0.15041431]\n"
     ]
    }
   ],
   "source": [
    "min_max_diff = []\n",
    "for i in range(100):\n",
    "    filtered = param_df[(param_df['keylist_id'] == i)][['sniplen','f1']]\n",
    "    maxs = np.array([np.max(filtered[filtered['sniplen'] == x]['f1'].to_numpy()) for x in SNIPPET_LENS])\n",
    "    mins = np.array([np.min(filtered[filtered['sniplen'] == x]['f1'].to_numpy()) for x in SNIPPET_LENS])\n",
    "    print(np.add(maxs, -mins))"
   ]
  },
  {
   "cell_type": "code",
   "execution_count": 12,
   "id": "343b2a40",
   "metadata": {},
   "outputs": [
    {
     "name": "stdout",
     "output_type": "stream",
     "text": [
      "Counter({(100.0, 120.0): 100, (75.0, 120.0): 100, (50.0, 120.0): 92, (25.0, 120.0): 64, (10.0, 120.0): 54, (5.0, 120.0): 53, (5.0, 60.0): 41, (10.0, 60.0): 34, (25.0, 60.0): 31, (10.0, 5.0): 12, (50.0, 60.0): 8, (5.0, 5.0): 6, (25.0, 5.0): 5})\n"
     ]
    }
   ],
   "source": [
    "query = param_df.sort_values('f1', ascending=False).drop_duplicates(['keylist_id','sniplen'])[['sniplen','c']].to_numpy()\n",
    "tuples = [(x[0], x[1]) for x in query]\n",
    "print(Counter(tuples))"
   ]
  },
  {
   "cell_type": "code",
   "execution_count": 13,
   "id": "fcd45fca",
   "metadata": {},
   "outputs": [
    {
     "name": "stdout",
     "output_type": "stream",
     "text": [
      "      keylist_id  sniplen      c        f1\n",
      "1991          82      100  120.0  0.960813\n",
      "1247          51      100  120.0  0.958680\n",
      "527           21      100  120.0  0.955528\n",
      "167            6      100  120.0  0.954608\n",
      "1415          58      100  120.0  0.953928\n",
      "...          ...      ...    ...       ...\n",
      "986           41        5   60.0  0.546077\n",
      "171            7        5  120.0  0.543647\n",
      "1538          64        5   60.0  0.539121\n",
      "1899          79        5  120.0  0.535159\n",
      "817           34        5    5.0  0.532210\n",
      "\n",
      "[600 rows x 4 columns]\n"
     ]
    }
   ],
   "source": [
    "print(param_df.sort_values('f1', ascending=False).drop_duplicates(['keylist_id','sniplen']))"
   ]
  },
  {
   "cell_type": "code",
   "execution_count": 14,
   "id": "54fa33d5",
   "metadata": {},
   "outputs": [
    {
     "name": "stdout",
     "output_type": "stream",
     "text": [
      "      keylist_id  sniplen      c        f1\n",
      "943           39       10  120.0  0.660360\n",
      "1446          60       10   60.0  0.655596\n",
      "798           33       10   60.0  0.651888\n",
      "1062          44       10   60.0  0.651446\n",
      "150            6       10   60.0  0.650787\n",
      "...          ...      ...    ...       ...\n",
      "367           15       10  120.0  0.616566\n",
      "174            7       10   60.0  0.615715\n",
      "1903          79       10  120.0  0.615533\n",
      "1543          64       10  120.0  0.613752\n",
      "823           34       10  120.0  0.610646\n",
      "\n",
      "[100 rows x 4 columns]\n"
     ]
    }
   ],
   "source": [
    "print(param_df[param_df.sniplen == 10].sort_values('f1', ascending=False).drop_duplicates(['keylist_id'])[:100])"
   ]
  },
  {
   "cell_type": "code",
   "execution_count": 15,
   "id": "3dee42ba",
   "metadata": {},
   "outputs": [
    {
     "name": "stdout",
     "output_type": "stream",
     "text": [
      "Empty DataFrame\n",
      "Columns: [keylist_id, sniplen, c, f1]\n",
      "Index: []\n"
     ]
    }
   ],
   "source": [
    "print(param_df[param_df.sniplen == '25'].sort_values('f1', ascending=False).drop_duplicates(['keylist_id'])[:100])"
   ]
  },
  {
   "cell_type": "code",
   "execution_count": 16,
   "id": "90e8dba4",
   "metadata": {},
   "outputs": [
    {
     "name": "stdout",
     "output_type": "stream",
     "text": [
      "Empty DataFrame\n",
      "Columns: [keylist_id, sniplen, c, f1]\n",
      "Index: []\n"
     ]
    }
   ],
   "source": [
    "print(param_df[param_df.sniplen == '50'].sort_values('f1', ascending=False).drop_duplicates(['keylist_id'])[:100])"
   ]
  },
  {
   "cell_type": "code",
   "execution_count": 17,
   "id": "ccb63a9c",
   "metadata": {},
   "outputs": [
    {
     "name": "stdout",
     "output_type": "stream",
     "text": [
      "Empty DataFrame\n",
      "Columns: [keylist_id, sniplen, c, f1]\n",
      "Index: []\n"
     ]
    }
   ],
   "source": [
    "print(param_df[param_df.sniplen == '75'].sort_values('f1', ascending=False).drop_duplicates(['keylist_id'])[:100])"
   ]
  },
  {
   "cell_type": "code",
   "execution_count": 18,
   "id": "f847830b",
   "metadata": {},
   "outputs": [
    {
     "name": "stdout",
     "output_type": "stream",
     "text": [
      "[120. 120. 120. 120. 120. 120. 120. 120. 120. 120. 120. 120. 120. 120.\n",
      " 120. 120. 120. 120. 120. 120. 120. 120. 120. 120. 120. 120. 120. 120.\n",
      " 120. 120. 120. 120. 120. 120. 120. 120. 120. 120. 120. 120. 120. 120.\n",
      " 120. 120. 120. 120. 120. 120. 120. 120. 120. 120. 120. 120. 120. 120.\n",
      " 120. 120. 120. 120. 120. 120. 120. 120. 120. 120. 120. 120. 120. 120.\n",
      " 120. 120. 120. 120. 120. 120. 120. 120. 120. 120. 120. 120. 120. 120.\n",
      " 120. 120. 120. 120. 120. 120. 120. 120. 120. 120. 120. 120. 120. 120.\n",
      " 120. 120.]\n"
     ]
    }
   ],
   "source": [
    "print(param_df[param_df.sniplen == 100].sort_values('f1', ascending=False).drop_duplicates(['keylist_id'])[:100]['c'].to_numpy())"
   ]
  },
  {
   "cell_type": "code",
   "execution_count": 19,
   "id": "361bb9fe",
   "metadata": {},
   "outputs": [
    {
     "name": "stdout",
     "output_type": "stream",
     "text": [
      "      keylist_id  sniplen      c     tol        f1  \\\n",
      "1991          82      100  120.0  0.0001  0.960813   \n",
      "1247          51      100  120.0  0.0001  0.958680   \n",
      "527           21      100  120.0  0.0001  0.955528   \n",
      "167            6      100  120.0  0.0001  0.954608   \n",
      "1415          58      100  120.0  0.0001  0.953928   \n",
      "...          ...      ...    ...     ...       ...   \n",
      "2279          94      100  120.0  0.0001  0.925984   \n",
      "1151          47      100  120.0  0.0001  0.925485   \n",
      "599           24      100  120.0  0.0001  0.924908   \n",
      "2255          93      100  120.0  0.0001  0.920185   \n",
      "383           15      100  120.0  0.0001  0.919993   \n",
      "\n",
      "                                    important_feats_7-8  \\\n",
      "1991  [-, tokaisi, taatusti, Onneksi, kertoi, neiti,...   \n",
      "1247  [luku, –, Lapset, taatusti, Onneksi, sanaakaan...   \n",
      "527   [totesi, tokaisi, kauhean, Lapset, pimeää, toi...   \n",
      "167   [Lapset, mietti, melko, –, Luulen, vanhan, pie...   \n",
      "1415  [Lapset, luokan, jätti, Tiesin, innoissaan, to...   \n",
      "...                                                 ...   \n",
      "2279  [luku, selvä, Lapset, tokaisi, innoissaan, kek...   \n",
      "1151  [luku, tokaisi, taatusti, *, Lapset, -, kivaa,...   \n",
      "599   [katselee, Onneksi, Lapset, kouluun, Luulen, y...   \n",
      "2255  [Onneksi, nappasi, lujaa, mietti, -, sanotaan,...   \n",
      "383   [Lapset, Äkkiä, Onneksi, luku, perille, taatus...   \n",
      "\n",
      "                                   important_feats_9-12  \\\n",
      "1991  [Orvokki, b., a., Tulisydän, ainoastaan, Niide...   \n",
      "1247  [Orvokki, a., Tulisydän, valita, b., ainoastaa...   \n",
      "527   [b., Tulisydän, b, Lehti, Tutki, muistaa, nost...   \n",
      "167   [Orvokki, Tulisydän, maukui, a., löytänyt, olk...   \n",
      "1415  [a., b., maukui, suunnilleen, Lehti, Tulisydän...   \n",
      "...                                                 ...   \n",
      "2279  [Orvokki, b., Lehti, maukui, Tulisydän, keskit...   \n",
      "1151  [b., Lehti, a., hengissä, Tulisydän, ainoastaa...   \n",
      "599   [Orvokki, a., kumpikin, Pian, istua, hotellin,...   \n",
      "2255  [Orvokki, Tulisydän, Samassa, onnistunut, luok...   \n",
      "383   [a., b., maukui, kerta, c., Tulisydän, Lehti, ...   \n",
      "\n",
      "                                    important_feats_13+  \n",
      "1991  [herttua, olis, vuonna, prinsessa, avata, Tois...  \n",
      "1247  [”, kuinka, Juuli, päältä, Siis, täsmälleen, k...  \n",
      "527   [herttua, Juuli, prinsessa, a, kysyn, itseni, ...  \n",
      "167   [herttua, ”, mutten, Juuli, täsmälleen, kenell...  \n",
      "1415  [palatsin, herttua, täsmälleen, minussa, kysyn...  \n",
      "...                                                 ...  \n",
      "2279  [herttua, välittömästi, olis, tuoksu, Juuli, h...  \n",
      "1151  [herttua, Juuli, miettii, }, Siis, Mennään, vä...  \n",
      "599   [herttua, ”, olis, Mennään, asiat, kysynyt, su...  \n",
      "2255  [herttua, olis, Juuli, katson, välittömästi, K...  \n",
      "383   [herttua, Toisaalta, miettii, oltiin, ikkunast...  \n",
      "\n",
      "[100 rows x 8 columns]\n"
     ]
    }
   ],
   "source": [
    "print(df[(df.sniplen == 100) & (df.c==120)].sort_values('f1', ascending=False))"
   ]
  },
  {
   "cell_type": "code",
   "execution_count": 24,
   "id": "6afbf577",
   "metadata": {},
   "outputs": [
    {
     "name": "stdout",
     "output_type": "stream",
     "text": [
      "Counter({'välittömästi': 96, 'kanssani': 86, 'Siis': 81, 'olis': 79, 'äänensä': 75, 'kuinka': 73, 'kädet': 72, 'itseni': 71, 'herttua': 70, 'täsmälleen': 70, 'Haluatko': 70, '”': 69, 'kuule': 69, 'Toisaalta': 68, 'Juuli': 68, 'käveli': 67, 'a': 64, 'keittiön': 63, 'prinsessa': 61, 'oltiin': 59, 'lisää': 58, 'ajatus': 58, 'avata': 57, 'Mennään': 56, 'kauemmas': 56, 'tuoksu': 55, 'vuonna': 52, 'tavalla': 51, 'hiukset': 51, 'Kopiointi': 51, 'osannut': 50, 'sekaisin': 48, 'päältä': 46, 'viikon': 45, 'pitänyt': 44, 'kätensä': 44, 'jotakin': 44, 'tulivat': 44, 'ymmärtänyt': 44, 'hei': 44, 'molemmat': 44, 'huulet': 43, 'katson': 43, 'kysyn': 43, 'kohosi': 43, 'ajaa': 43, 'kulki': 43, 'vastannut': 43, 'mieli': 42, 'ollut': 41, 'Kai': 40, 'hymyillen': 39, 'kädessä': 38, 'tunnin': 38, 'miettii': 37, 'LUKU': 37, 'silmiäni': 37, 'saadaan': 36, 'hoitaa': 36, 'kanssasi': 35, 'katsoin': 35, 'vastasin': 35, 'käteensä': 35, 'käänsi': 35, 'enkä': 35, 'tämän': 34, 'muistan': 34, 'lähtee': 34, 'you': 34, 'minussa': 33, 'muistanut': 32, 'mutisi': 32, 'kädellään': 32, 'sormensa': 32, 'haluaa': 31, 'jokaisen': 31, 'soittaa': 31, 'toisaalta': 30, 'tiny': 30, 'takia': 30, 'lapsi': 30, 'hyvältä': 30, 'jo': 29, 'ulkopuolella': 29, 'kääntää': 29, 'Kuin': 29, 'yhteensä': 29, 'niissä': 28, 'ikkunasta': 28, 'tuuli': 28, 'olit': 28, 'minuutin': 28, 'riittävän': 28, 'Mitä': 28, 'kohdalla': 28, 'tarina': 27, 'todellakaan': 27, 'Katsoin': 27, 'c.': 27, 'tunsin': 27, 'enempää': 27, 'perusteella': 27, '}': 26, 'halua': 26, 'lapsen': 26, 'minuun': 26, 'noita': 26, 'viikkoa': 26, 'minulle': 26, 'sulki': 26, 'kielletty': 26, 'mieluummin': 25, 'tajua': 25, 'katsonut': 25, 'Esimerkiksi': 25, 'menossa': 25, 'Äkkiä': 25, 'itseään': 25, 'Tietenkin': 25, 'Kuten': 24, 'Olisi': 24, 'Katson': 24, 'Aurinko': 24, 'asiat': 24, 'ymmärtää': 23, 'jää': 23, 'mulle': 23, 'käsiään': 23, 'aavistustakaan': 22, 'hiljaa': 22, 'äkkiä': 22, 'puolen': 22, 'pöydän': 22, 'päättää': 22, 'nauruun': 22, 'liikaa': 21, 'saman': 21, 'hänet': 21, 'tuhahti': 21, 'palatsin': 21, 'töissä': 21, 'tajusin': 21, 'moni': 21, 'toiselle': 20, 'istuu': 20, 'kysynyt': 20, 'ihmettä': 20, 'loppuun': 20, 'ostaa': 20, 'mennään': 20, 'muka': 20, 'oman': 19, 'niihin': 19, 'puristi': 19, 'mutten': 19, 'toisiamme': 19, 'tuntua': 19, 'hymyili': 19, 'itseäni': 19, 'minulta': 19, 'jonka': 19, 'halusin': 19, 'ihminen': 19, 'menivät': 19, 'järkeä': 19, 'lähtien': 19, 'erilainen': 19, 'siksi': 18, 'iski': 18, 'vahva': 18, 'olo': 18, 'vaiheessa': 18, 'käsi': 18, 'kannattaa': 18, 'alussa': 18, 'myötä': 18, 'mielessäni': 18, 'olin': 18, 'maailma': 18, 'tajusi': 17, 'kuvitellut': 17, 'minusta': 17, 'tuo': 17, 'näköjään': 17, 'Oletko': 17, 'Ainakin': 17, 'hetkessä': 17, 'itselleni': 17, 'nauraa': 16, 'tehneet': 16, 'onkin': 16, 'otan': 16, 'selkänsä': 16, 'yhden': 16, 'enemmän': 16, 'nimittäin': 16, 'tapa': 16, 'oot': 16, 'tukka': 16, 'vaikuttaa': 16, 'kasvoilla': 16, 'lähtenyt': 15, 'suurta': 15, 'kovaa': 15, 'mennyt': 15, 'samalla': 15, 'muuttaa': 15, 'kasvoja': 15, 'lähemmäs': 15, 'perheen': 14, 'olimme': 14, 'Äidin': 14, 'ollaan': 14, 'Okei': 14, '6': 14, 'ehdottomasti': 14, 'omasta': 14, 'halusi': 14, 'täytyi': 14, 'enää': 14, 'muisti': 14, 'katoaa': 14, 'Miksi': 14, 'seinään': 14, 'verran': 14, 'Voisin': 14, 'väliä': 14, 'Olen': 13, 'ole': 13, 'naimisiin': 13, 'jaksa': 13, 'huone': 13, 'jutella': 13, 'täysin': 13, 'hymyn': 13, 'aikana': 13, 'Älä': 13, 'tajuan': 13, 'puolesta': 13, 'halunnut': 13, 'hädin': 13, 'kulmiaan': 13, 'Mietin': 13, 'suunsa': 12, 'totesi': 12, 'b': 12, 'sai': 12, 'tiesin': 12, 'miehet': 12, 'uudelleen': 12, 'asiassa': 12, 'teen': 12, 'Mihin': 12, 'rauhallisesti': 12, 'vanhemmat': 12, 'kohtaan': 12, 'tietysti': 12, 'puun': 12, 'hiuksensa': 12, 'lujaa': 12, 'kohotti': 12, 'muodostuu': 12, 'välissä': 12, 'elää': 12, 'sormet': 12, 'kova': 12, 'etsi': 11, 'silmin': 11, 'sillä': 11, 'muutakin': 11, 'odottanut': 11, 'joen': 11, 'Tuuli': 11, 'kysyy': 11, 'olisi': 11, 'itsensä': 11, 'lailla': 11, 'nimen': 11, 'Mistä': 11, 'tuntea': 11, 'Eihän': 11, 'uusia': 11, 'kunnossa': 11, 'silmäni': 11, 'meistä': 11, 'kohta': 11, 'ongelma': 11, 'katseen': 11, 'odottamaan': 11, 'töitä': 11, 'Samalla': 11, 'kääntyi': 11, 'Tuntui': 10, 'Yksi': 10, 'isäni': 10, 'henkeä': 10, 'sanon': 10, 'kumartui': 10, 'lisäsi': 10, 'sille': 10, 'ilta': 10, 'kiinnostunut': 10, 'kasvoi': 10, 'suhteen': 10, 'kulkee': 10, 'puhelimen': 10, 'oon': 10, 'paikoillaan': 10, 'elämän': 10, 'ollutkaan': 10, 'Aika': 10, 'lähti': 10, 'kaunis': 10, 'nopeammin': 9, 'taisi': 9, 'kuulen': 9, 'sanat': 9, 'yksin': 9, 'pojat': 9, 'Anteeksi': 9, 'kiva': 9, 'Joku': 9, 'perhe': 9, 'vähemmän': 9, 'voidaan': 9, 'toisistaan': 9, 'ihmisistä': 9, 'olleet': 9, 'siten': 9, 'kaikille': 9, 'puhu': 9, 'nopeasti': 9, 'sinua': 9, 'ensimmäistä': 9, 'seinää': 9, 'hiljaisuus': 9, 'istui': 9, 'myöskään': 9, 'Voi': 9, 'tulleet': 9, 'tappaa': 9, 'tulevat': 8, 'lähelle': 8, 'huomaan': 8, 'hiukan': 8, 'nuori': 8, 'aikoina': 8, 'äitini': 8, 'jälleen': 8, 'Kyllä': 8, 'naurahti': 8, 'oliko': 8, 'olekaan': 8, 'yllään': 8, 'vihdoin': 8, 'millainen': 8, 'tapauksessa': 8, 'pystynyt': 8, 'vasten': 8, 'sama': 8, 'mennessä': 8, 'kokonaan': 8, 'tulossa': 8, 'tehtävä': 8, 'juoksi': 8, 'katseeni': 8, 'saisin': 8, 'yhteyttä': 8, 'viestin': 8, 'vaatteita': 8, 'työtä': 8, 'tää': 7, 'suu': 7, 'pikemminkin': 7, 'pysty': 7, 'olen': 7, 'erittäin': 7, 'ihana': 7, 'mua': 7, 'lyhyt': 7, 'liian': 7, 'jäädä': 7, 'tämä': 7, 'alusta': 7, 'lunta': 7, 'hitaasti': 7, 'vetää': 7, 'keskeytti': 7, 'kanssa': 7, 'keskellä': 7, 'osoittaa': 7, 'Tiedätkö': 7, 'eteenpäin': 7, 'hieman': 7, 'lähden': 7, 'ehdin': 7, 'asian': 7, 'aurinko': 7, 'mutta': 7, 'rahaa': 7, 'Nainen': 7, 'menin': 7, 'Mulla': 7, 'muuttui': 6, 'siinä': 6, 'tosin': 6, 'ehti': 6, 'kahvia': 6, 'helppo': 6, 'okei': 6, 'kaikkien': 6, 'omaa': 6, 'nousi': 6, 'viedä': 6, 'kaveri': 6, 'kuoli': 6, 'ensi': 6, 'taivaalle': 6, 'iho': 6, 'pahoillani': 6, 'kolmen': 6, 'huomattavasti': 6, 'Luulen': 6, 'Tuntuu': 6, 'halusivat': 6, 'minua': 6, 'täydellinen': 6, 'juttu': 6, 'lasten': 6, 'tuijottaa': 6, 'nappasi': 6, 'selvästi': 6, 'varovasti': 6, 'silmissä': 6, 'sopii': 6, 'näe': 6, 'Tästä': 6, 'tapahtuisi': 6, 'tyyppi': 6, 'Oliko': 6, 'jota': 6, 'laski': 6, 'I': 6, 'ihmisen': 5, 'vaikutti': 5, 'näen': 5, 'Ehkä': 5, 'kuva': 5, 'sattuu': 5, 'olisit': 5, 'Tutki': 5, 'Jotkut': 5, 'Kunpa': 5, 'tein': 5, 'mahdollista': 5, 'tilanteen': 5, 'itsestään': 5, 'siis': 5, 'näitä': 5, 'kello': 5, 'Ai': 5, 'Sinulla': 5, 'onnistui': 5, 'Niinpä': 5, 'toisen': 5, 'todennäköisesti': 5, 'ympärilleni': 5, 'rantaan': 5, 'elämä': 5, 'kuluttua': 5, 'kutsui': 5, 'puhua': 5, 'Voin': 5, 'taaksepäin': 5, 'nojasi': 5, '-': 5, 'ovesta': 5, 'ääniä': 5, 'jatkuvasti': 5, 'syömään': 5, 'aikoi': 5, 'mukaansa': 5, 'välistä': 5, 'todella': 5, 'toimii': 5, 'viettää': 5, 'syytä': 5, 'tälle': 5, 'aiheuttaa': 5, 'yhdessä': 5, 'mielestään': 5, 'päälle': 5, 'jossakin': 4, 'voimaa': 4, 'milloin': 4, 'sitä': 4, 'vaikea': 4, 'lopulta': 4, 'sisälle': 4, 'virnisti': 4, 'onnellinen': 4, 'palannut': 4, 'toisin': 4, 'syystä': 4, 'keittiöön': 4, 'Aina': 4, 'seuraa': 4, 'katsoa': 4, 'mitään': 4, 'kaikkea': 4, 'pystyisi': 4, 'Täydennä': 4, 'ottamaan': 4, 'ilmaan': 4, 'samalta': 4, 'puhelin': 4, 'annan': 4, 'ilmeensä': 4, 'kuuli': 4, 'puoliksi': 4, 'Sun': 4, 'seisoo': 4, 'kääntyivät': 4, 'Näen': 4, 'helposti': 4, 'keskenään': 4, 'lähteä': 4, 'joten': 4, 'tavallista': 4, 'puhunut': 4, 'mustan': 4, 'ihanaa': 4, 'toivon': 4, 'elämänsä': 4, 'onko': 4, 'viestiä': 4, 'olet': 4, 'selkään': 4, 'ensimmäinen': 4, 'kyse': 4, 'näyttävät': 4, 'Melkein': 4, 'kaupunkiin': 4, 'häneen': 4, 'jostakin': 3, 'tarkasti': 3, 'Kuka': 3, 'piti': 3, 'sulla': 3, 'kuvan': 3, 'vain': 3, 'Lopulta': 3, 'minut': 3, 'häntä': 3, 'tuntenut': 3, 'niille': 3, 'kuunteli': 3, 'pitkät': 3, 'kysyä': 3, 'pani': 3, 'puoleen': 3, 'voit': 3, 'sana': 3, 'katsoi': 3, 'katsomaan': 3, 'päästi': 3, 'tyytyväinen': 3, 'sinuun': 3, 'puolet': 3, 'uutta': 3, 'mukavaa': 3, 'periksi': 3, 'vaan': 3, 'tuntia': 3, 'eroon': 3, 'Poika': 3, 'edessä': 3, 'joilla': 3, 'Ajattelin': 3, 'muutkin': 3, 'ellei': 3, 'pintaan': 3, 'kaukaa': 3, 'paikalla': 3, 'pyytänyt': 3, 'väärässä': 3, 'sydän': 3, 'uskoa': 3, 'Olemme': 3, 'kysymyksiä': 3, 'Tyttö': 3, 'puoli': 3, 'näiden': 3, '2': 3, 'ilmestyi': 3, 'sanoa': 3, 'Että': 3, 'tajunnut': 3, 'Osa': 3, 'metrin': 3, 'mukanaan': 3, 'Ota': 3, 'käymään': 3, 'Silti': 3, 'kasvot': 3, 'pöydälle': 3, 'Tunsin': 3, 'mihin': 3, 'olette': 3, 'luultavasti': 3, 'punaista': 3, 'kohottaa': 3, 'silmiään': 3, 'ovi': 3, 'vastaa': 3, 'jokainen': 3, 'Jep': 3, 'Paitsi': 3, 'tapana': 3, 'muttei': 3, 'tästä': 3, 'mistään': 3, 'yllä': 3, 'lapsia': 2, '4': 2, 'pään': 2, 'pukeutunut': 2, 'teillä': 2, 'makasi': 2, 'ymmärrä': 2, 'aikonut': 2, 'yllättävän': 2, 'välillä': 2, 'miltei': 2, 'ketään': 2, 'kenellekään': 2, 'vilkaisee': 2, 'Tietysti': 2, 'hetken': 2, 'hakemaan': 2, 'joutui': 2, 'emme': 2, 'eikö': 2, 'paikassa': 2, 'suurempi': 2, 'päivänä': 2, 'Aivan': 2, 'maa': 2, 'ilma': 2, '⟫': 2, 'jaksanut': 2, 'kiersi': 2, 'toinen': 2, 'asiasta': 2, 'vieläkin': 2, 'lähetti': 2, 'eniten': 2, 'sinut': 2, 'ihmistä': 2, 'valita': 2, 'avaa': 2, 'annoin': 2, 'kääntyy': 2, 'välttämättä': 2, 'vähällä': 2, 'päässä': 2, 'antoi': 2, 'outoa': 2, 'Koska': 2, 'Vain': 2, 'pelkästään': 2, 'joista': 2, 'käsin': 2, 'tiesi': 2, 'Tunnen': 2, 'joihin': 2, 'ainoa': 2, 'minäkin': 2, 'en': 2, 'kaukana': 2, 'unohtaa': 2, 'saattoi': 2, 'toivoi': 2, 'jalkansa': 2, 'kerron': 2, 'Jokainen': 2, 'mikään': 2, '5': 2, 'sinusta': 2, 'suostunut': 2, 'päätä': 2, 'silmien': 2, 'mihinkään': 2, 'todellakin': 2, 'sanoja': 2, 'tekemään': 2, 'yön': 2, 'tuota': 2, 'ainakin': 2, 'ihan': 2, 'lämmin': 2, 'myöhemmin': 2, 'puolelta': 2, 'vaikeaa': 2, 'yritti': 2, 'Luulin': 2, 'ikään': 2, 'viikolla': 2, 'Haluan': 2, 'käski': 2, 'jokin': 2, 'auttoi': 2, 'selville': 2, 'Ensin': 2, 'Muistan': 2, 'ikävä': 2, 'tarvitaan': 2, 'ympärillä': 2, 'kohti': 2, 'Niitä': 2, 'kuunnella': 2, 'kysyin': 2, 'kävelee': 2, 'koiran': 2, 'istumaan': 2, 'teki': 2, 'toisti': 2, 'Emme': 2, 'jalat': 2, '/': 2, 'senkin': 2, 'vai': 2, 'huomiota': 2, 'ilmestyy': 2, 'asettui': 2, 'sininen': 2, 'sinulle': 2, 'auttamaan': 2, 'varalta': 2, 'Monet': 2, 'näköisenä': 2, 'kuoleman': 2, 'väkeä': 2, 'lopuksi': 2, 'ulos': 2, 'kirjaa': 2, 'lukea': 2, 'tilanne': 2, 'kanssaan': 2, 'tätä': 2, 'viimeksi': 2, 'meni': 2, 'auto': 2, 'nimeltä': 2, 'haluavat': 2, 'tiedä': 2, 'kädessään': 2, 'tosiaan': 2, 'Teidän': 2, 'yhä': 2, 'edessäni': 2, 'erityisesti': 2, 'vahingossa': 2, 'suuret': 2, 'äitinsä': 2, 'ajattelen': 2, 'aio': 2, 'nousta': 2, 'parin': 2, 'kukaan': 2, 'luota': 2, 'kimppuun': 2, 'vuoden': 2, 'merkitystä': 2, 'käteni': 2, 'tuntuivat': 2, 'pitkää': 2, 'nämä': 2, 'Olin': 2, 'elämään': 2, 'paljastaa': 2, 'sijaan': 2, 'sanomaan': 2, 'äänet': 2, 'kutsua': 2, 'pääni': 1, 'mene': 1, 'pidän': 1, 'keskittyä': 1, 'luulen': 1, 'kuningas': 1, 'Voit': 1, 'oikealle': 1, 'kulkea': 1, 'näytä': 1, 'aion': 1, 'näy': 1, 'tarvinnut': 1, 'keskelle': 1, 'kerroin': 1, 'oikea': 1, 'avasi': 1, 'ottaa': 1, 'avautui': 1, 'jätti': 1, 'tuntemaan': 1, 'kuuntelemaan': 1, 'valossa': 1, 'Sain': 1, 'koko': 1, 'erityisen': 1, 'olivat': 1, 'kuulosti': 1, 'äänellä': 1, 'olevaa': 1, 'käden': 1, 'mielestäni': 1, 'puhui': 1, 'saattaisi': 1, 'päättänyt': 1, 'tietä': 1, 'ääressä': 1, 'kokeilla': 1, 'eihän': 1, 'tokaisi': 1, 'ottanut': 1, 'kevyesti': 1, 'Hei': 1, 'pääsen': 1, 'elämäni': 1, 'tietenkin': 1, 'kohtaa': 1, 'ennenkin': 1, 'mustaa': 1, 'ääneen': 1, 'Ihan': 1, 'hymy': 1, 'täytyy': 1, 'pois': 1, 'maailmaa': 1, 'saakka': 1, 'Kuulin': 1, 'elossa': 1, 'kaivoi': 1, 'tällaista': 1, 'etsiä': 1, 'ottamatta': 1, 'Joka': 1, '7': 1, 'kunhan': 1, 'ajatellut': 1, 'vaivaa': 1, 'näkee': 1, 'ovella': 1, 'paikoilleen': 1, 'lukenut': 1, ')': 1, 'toisesta': 1, 'joukko': 1, 'muuta': 1, 'väliin': 1, 'syliinsä': 1, 'kirjoja': 1, 'kannata': 1, 'näkyviin': 1, 'olisimme': 1, 'hetkellä': 1, 'kerrallaan': 1, 'mahdotonta': 1, '8': 1, 'Minulle': 1, 'hymähti': 1, 'Saat': 1, 'sellaisia': 1, 'muu': 1, 'puuskahti': 1, 'vuotta': 1, 'yöllä': 1, 'päivää': 1, 'takana': 1, 'jotka': 1, 'yrittää': 1, 'On': 1, 'kohautti': 1, 'heitä': 1, 'sinäkin': 1, 'pitää': 1, 'nälkä': 1, 'viimein': 1, 'myöten': 1, 'vastausta': 1, 'silmiin': 1, '»': 1, 'jossain': 1, 'katseli': 1, 'nähnyt': 1, 'luokseni': 1, 'olkansa': 1, 'vuoksi': 1, 'aina': 1, 'ystävä': 1, 'ääntä': 1, 'ollenkaan': 1, 'varsin': 1, 'kaivaa': 1, '6.': 1, 'huoneesta': 1, 'kaikessa': 1, 'muistutti': 1, 'Kukaan': 1, 'pitäisi': 1, 'yhtään': 1, 'luona': 1, 'Sä': 1, 'kerran': 1, 'Kirjoita': 1, 'puhuu': 1, 'olemme': 1, 'sivuun': 1, 'Ei': 1, 'valon': 1, 'ääreen': 1, 'muuttunut': 1, 'avaan': 1, 'tapahtua': 1, 'kiltti': 1, 'pahasti': 1, 'pääsisi': 1, 'Meillä': 1, 'joskus': 1, 'muualla': 1, 'ehtinyt': 1, 'aikaisemmin': 1, 'ääni': 1, 'vähitellen': 1, 'alkavat': 1, 'pysyi': 1, 'johonkin': 1, 'kävellä': 1, 'pihalle': 1, 'tarkemmin': 1, 'toisiinsa': 1, 'matkaan': 1, 'piteli': 1, 'menen': 1, 'katsoo': 1, 'pääsi': 1, 'lisäksi': 1, 'kasvoillaan': 1, 'mun': 1, 'kautta': 1})\n"
     ]
    }
   ],
   "source": [
    "print(Counter([x for y in df.sort_values('f1', ascending=False)[:100]['important_feats_13+'].to_numpy() for x in y]))"
   ]
  }
 ],
 "metadata": {
  "kernelspec": {
   "display_name": "Test",
   "language": "python",
   "name": "python3"
  },
  "language_info": {
   "codemirror_mode": {
    "name": "ipython",
    "version": 3
   },
   "file_extension": ".py",
   "mimetype": "text/x-python",
   "name": "python",
   "nbconvert_exporter": "python",
   "pygments_lexer": "ipython3",
   "version": "3.10.16"
  }
 },
 "nbformat": 4,
 "nbformat_minor": 5
}
