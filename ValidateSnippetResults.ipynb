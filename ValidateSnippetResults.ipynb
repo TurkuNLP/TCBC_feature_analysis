{
 "cells": [
  {
   "cell_type": "code",
   "execution_count": 1,
   "id": "3d9d1acd",
   "metadata": {},
   "outputs": [
    {
     "name": "stderr",
     "output_type": "stream",
     "text": [
      "/home/tenojo/miniconda3/envs/Test/lib/python3.10/site-packages/tqdm/auto.py:21: TqdmWarning: IProgress not found. Please update jupyter and ipywidgets. See https://ipywidgets.readthedocs.io/en/stable/user_install.html\n",
      "  from .autonotebook import tqdm as notebook_tqdm\n"
     ]
    }
   ],
   "source": [
    "#imports\n",
    "from scripts import bookdatafunctions as bdf\n",
    "from scripts import corpusMLfunctions as cmf\n",
    "import pandas as pd\n",
    "import numpy as np\n",
    "import os\n",
    "from pprint import pprint\n",
    "import json"
   ]
  },
  {
   "cell_type": "code",
   "execution_count": 2,
   "id": "be7e0521",
   "metadata": {},
   "outputs": [],
   "source": [
    "#constants\n",
    "#Imports\n",
    "from scripts import bookdatafunctions as bdf\n",
    "from scripts import corpusMLfunctions as cmf\n",
    "import pandas as pd\n",
    "import numpy as np\n",
    "from datasets import Dataset, disable_progress_bars\n",
    "import os\n",
    "from sklearn.feature_extraction.text import TfidfVectorizer\n",
    "from sklearn.svm import LinearSVC\n",
    "from sklearn import metrics\n",
    "from sklearn.metrics import f1_score\n",
    "import optuna\n",
    "import json\n",
    "import multiprocessing as mp\n",
    "import shutil\n",
    "import warnings\n",
    "from tqdm import tqdm\n",
    "\n",
    "#Constants\n",
    "AGES = ['5','6','7','8','9','10','11','12','13','14','15']\n",
    "KEYLISTS = \"Keylists.jsonl\"\n",
    "keylists = []\n",
    "with open(KEYLISTS, 'r') as f:\n",
    "    for line in f:\n",
    "        keylists.append(json.loads(line))\n",
    "\n",
    "#Dataset name\n",
    "DATASET = \"TCBC_datasets/sniplen5\"\n",
    "\n",
    "#Helper functions\n",
    "def do_nothing(ex):\n",
    "    return ex.lower()\n",
    "\n",
    "def conllu_tokenizer(ex):\n",
    "    return ex.replace(\"\\n\", \"\\t\").replace(\"|\", \"\\t\").split(\"\\t\")\n",
    "\n",
    "def whitespace_tokenizer(ex):\n",
    "    return ex.split(\" \")"
   ]
  },
  {
   "cell_type": "code",
   "execution_count": 3,
   "id": "980ca0d5",
   "metadata": {},
   "outputs": [],
   "source": [
    "train_keys = keylists[1]['train_keys']\n",
    "eval_keys = keylists[1]['eval_keys']\n",
    "test_keys = keylists[1]['test_keys']"
   ]
  },
  {
   "cell_type": "code",
   "execution_count": null,
   "id": "9ef514df",
   "metadata": {},
   "outputs": [],
   "source": [
    "def assignLabel(ex):\n",
    "    age = int(bdf.findAgeFromID(ex))\n",
    "    if age < 9:\n",
    "        return '7-8'\n",
    "    elif age < 13:\n",
    "        return '9-12'\n",
    "    else:\n",
    "        return '13+'\n",
    "\n",
    "def conllu2RawLemmas(conllu_text):\n",
    "    conllu_lines = conllu_text.split(\"\\n\")\n",
    "    return \" \".join([x.split('\\t')[2] for x in conllu_lines if len(x) > 0])\n",
    "\n",
    "\n",
    "def mapLabels(ex):\n",
    "    return {'label':[assignLabel(x) for x in ex['book_id']]}\n",
    "\n",
    "def mapConlluData2RawLemmas(ex):\n",
    "    return {'data':[conllu2RawLemmas(x) for x in ex['data']]}\n"
   ]
  },
  {
   "cell_type": "code",
   "execution_count": 5,
   "id": "b5f831a7",
   "metadata": {},
   "outputs": [
    {
     "name": "stderr",
     "output_type": "stream",
     "text": [
      "Filter:   0%|          | 0/228160 [00:00<?, ? examples/s]"
     ]
    },
    {
     "name": "stderr",
     "output_type": "stream",
     "text": [
      "Filter: 100%|██████████| 228160/228160 [00:01<00:00, 209616.76 examples/s]\n",
      "Map: 100%|██████████| 166351/166351 [00:02<00:00, 56809.60 examples/s]\n",
      "Map:   6%|▌         | 9552/166351 [00:00<00:05, 28562.46 examples/s]\n"
     ]
    },
    {
     "ename": "IndexError",
     "evalue": "list index out of range",
     "output_type": "error",
     "traceback": [
      "\u001b[0;31m---------------------------------------------------------------------------\u001b[0m",
      "\u001b[0;31mIndexError\u001b[0m                                Traceback (most recent call last)",
      "Cell \u001b[0;32mIn[5], line 5\u001b[0m\n\u001b[1;32m      3\u001b[0m train_ds \u001b[38;5;241m=\u001b[39m ds\u001b[38;5;241m.\u001b[39mfilter(\u001b[38;5;28;01mlambda\u001b[39;00m x: x[\u001b[38;5;124m'\u001b[39m\u001b[38;5;124mbook_id\u001b[39m\u001b[38;5;124m'\u001b[39m] \u001b[38;5;129;01min\u001b[39;00m train_keys)\u001b[38;5;241m.\u001b[39mshuffle()\n\u001b[1;32m      4\u001b[0m train_ds \u001b[38;5;241m=\u001b[39m train_ds\u001b[38;5;241m.\u001b[39mmap(mapLabels, batched\u001b[38;5;241m=\u001b[39m\u001b[38;5;28;01mTrue\u001b[39;00m, batch_size\u001b[38;5;241m=\u001b[39m\u001b[38;5;241m32\u001b[39m, load_from_cache_file\u001b[38;5;241m=\u001b[39m\u001b[38;5;28;01mFalse\u001b[39;00m)\n\u001b[0;32m----> 5\u001b[0m train_ds \u001b[38;5;241m=\u001b[39m \u001b[43mtrain_ds\u001b[49m\u001b[38;5;241;43m.\u001b[39;49m\u001b[43mmap\u001b[49m\u001b[43m(\u001b[49m\u001b[43mmapConlluData2RawLemmas\u001b[49m\u001b[43m,\u001b[49m\u001b[43m \u001b[49m\u001b[43mbatched\u001b[49m\u001b[38;5;241;43m=\u001b[39;49m\u001b[38;5;28;43;01mTrue\u001b[39;49;00m\u001b[43m,\u001b[49m\u001b[43m \u001b[49m\u001b[43mbatch_size\u001b[49m\u001b[38;5;241;43m=\u001b[39;49m\u001b[38;5;241;43m16\u001b[39;49m\u001b[43m,\u001b[49m\u001b[43m \u001b[49m\u001b[43mload_from_cache_file\u001b[49m\u001b[38;5;241;43m=\u001b[39;49m\u001b[38;5;28;43;01mFalse\u001b[39;49;00m\u001b[43m)\u001b[49m\n",
      "File \u001b[0;32m~/miniconda3/envs/Test/lib/python3.10/site-packages/datasets/arrow_dataset.py:562\u001b[0m, in \u001b[0;36mtransmit_format.<locals>.wrapper\u001b[0;34m(*args, **kwargs)\u001b[0m\n\u001b[1;32m    555\u001b[0m self_format \u001b[38;5;241m=\u001b[39m {\n\u001b[1;32m    556\u001b[0m     \u001b[38;5;124m\"\u001b[39m\u001b[38;5;124mtype\u001b[39m\u001b[38;5;124m\"\u001b[39m: \u001b[38;5;28mself\u001b[39m\u001b[38;5;241m.\u001b[39m_format_type,\n\u001b[1;32m    557\u001b[0m     \u001b[38;5;124m\"\u001b[39m\u001b[38;5;124mformat_kwargs\u001b[39m\u001b[38;5;124m\"\u001b[39m: \u001b[38;5;28mself\u001b[39m\u001b[38;5;241m.\u001b[39m_format_kwargs,\n\u001b[1;32m    558\u001b[0m     \u001b[38;5;124m\"\u001b[39m\u001b[38;5;124mcolumns\u001b[39m\u001b[38;5;124m\"\u001b[39m: \u001b[38;5;28mself\u001b[39m\u001b[38;5;241m.\u001b[39m_format_columns,\n\u001b[1;32m    559\u001b[0m     \u001b[38;5;124m\"\u001b[39m\u001b[38;5;124moutput_all_columns\u001b[39m\u001b[38;5;124m\"\u001b[39m: \u001b[38;5;28mself\u001b[39m\u001b[38;5;241m.\u001b[39m_output_all_columns,\n\u001b[1;32m    560\u001b[0m }\n\u001b[1;32m    561\u001b[0m \u001b[38;5;66;03m# apply actual function\u001b[39;00m\n\u001b[0;32m--> 562\u001b[0m out: Union[\u001b[38;5;124m\"\u001b[39m\u001b[38;5;124mDataset\u001b[39m\u001b[38;5;124m\"\u001b[39m, \u001b[38;5;124m\"\u001b[39m\u001b[38;5;124mDatasetDict\u001b[39m\u001b[38;5;124m\"\u001b[39m] \u001b[38;5;241m=\u001b[39m \u001b[43mfunc\u001b[49m\u001b[43m(\u001b[49m\u001b[38;5;28;43mself\u001b[39;49m\u001b[43m,\u001b[49m\u001b[43m \u001b[49m\u001b[38;5;241;43m*\u001b[39;49m\u001b[43margs\u001b[49m\u001b[43m,\u001b[49m\u001b[43m \u001b[49m\u001b[38;5;241;43m*\u001b[39;49m\u001b[38;5;241;43m*\u001b[39;49m\u001b[43mkwargs\u001b[49m\u001b[43m)\u001b[49m\n\u001b[1;32m    563\u001b[0m datasets: List[\u001b[38;5;124m\"\u001b[39m\u001b[38;5;124mDataset\u001b[39m\u001b[38;5;124m\"\u001b[39m] \u001b[38;5;241m=\u001b[39m \u001b[38;5;28mlist\u001b[39m(out\u001b[38;5;241m.\u001b[39mvalues()) \u001b[38;5;28;01mif\u001b[39;00m \u001b[38;5;28misinstance\u001b[39m(out, \u001b[38;5;28mdict\u001b[39m) \u001b[38;5;28;01melse\u001b[39;00m [out]\n\u001b[1;32m    564\u001b[0m \u001b[38;5;66;03m# re-apply format to the output\u001b[39;00m\n",
      "File \u001b[0;32m~/miniconda3/envs/Test/lib/python3.10/site-packages/datasets/arrow_dataset.py:3079\u001b[0m, in \u001b[0;36mDataset.map\u001b[0;34m(self, function, with_indices, with_rank, input_columns, batched, batch_size, drop_last_batch, remove_columns, keep_in_memory, load_from_cache_file, cache_file_name, writer_batch_size, features, disable_nullable, fn_kwargs, num_proc, suffix_template, new_fingerprint, desc)\u001b[0m\n\u001b[1;32m   3073\u001b[0m \u001b[38;5;28;01mif\u001b[39;00m transformed_dataset \u001b[38;5;129;01mis\u001b[39;00m \u001b[38;5;28;01mNone\u001b[39;00m:\n\u001b[1;32m   3074\u001b[0m     \u001b[38;5;28;01mwith\u001b[39;00m hf_tqdm(\n\u001b[1;32m   3075\u001b[0m         unit\u001b[38;5;241m=\u001b[39m\u001b[38;5;124m\"\u001b[39m\u001b[38;5;124m examples\u001b[39m\u001b[38;5;124m\"\u001b[39m,\n\u001b[1;32m   3076\u001b[0m         total\u001b[38;5;241m=\u001b[39mpbar_total,\n\u001b[1;32m   3077\u001b[0m         desc\u001b[38;5;241m=\u001b[39mdesc \u001b[38;5;129;01mor\u001b[39;00m \u001b[38;5;124m\"\u001b[39m\u001b[38;5;124mMap\u001b[39m\u001b[38;5;124m\"\u001b[39m,\n\u001b[1;32m   3078\u001b[0m     ) \u001b[38;5;28;01mas\u001b[39;00m pbar:\n\u001b[0;32m-> 3079\u001b[0m         \u001b[38;5;28;01mfor\u001b[39;00m rank, done, content \u001b[38;5;129;01min\u001b[39;00m Dataset\u001b[38;5;241m.\u001b[39m_map_single(\u001b[38;5;241m*\u001b[39m\u001b[38;5;241m*\u001b[39mdataset_kwargs):\n\u001b[1;32m   3080\u001b[0m             \u001b[38;5;28;01mif\u001b[39;00m done:\n\u001b[1;32m   3081\u001b[0m                 shards_done \u001b[38;5;241m+\u001b[39m\u001b[38;5;241m=\u001b[39m \u001b[38;5;241m1\u001b[39m\n",
      "File \u001b[0;32m~/miniconda3/envs/Test/lib/python3.10/site-packages/datasets/arrow_dataset.py:3519\u001b[0m, in \u001b[0;36mDataset._map_single\u001b[0;34m(shard, function, with_indices, with_rank, input_columns, batched, batch_size, drop_last_batch, remove_columns, keep_in_memory, cache_file_name, writer_batch_size, features, disable_nullable, fn_kwargs, new_fingerprint, rank, offset)\u001b[0m\n\u001b[1;32m   3517\u001b[0m \u001b[38;5;28;01melse\u001b[39;00m:\n\u001b[1;32m   3518\u001b[0m     _time \u001b[38;5;241m=\u001b[39m time\u001b[38;5;241m.\u001b[39mtime()\n\u001b[0;32m-> 3519\u001b[0m     \u001b[38;5;28;01mfor\u001b[39;00m i, batch \u001b[38;5;129;01min\u001b[39;00m iter_outputs(shard_iterable):\n\u001b[1;32m   3520\u001b[0m         num_examples_in_batch \u001b[38;5;241m=\u001b[39m \u001b[38;5;28mlen\u001b[39m(i)\n\u001b[1;32m   3521\u001b[0m         \u001b[38;5;28;01mif\u001b[39;00m update_data:\n",
      "File \u001b[0;32m~/miniconda3/envs/Test/lib/python3.10/site-packages/datasets/arrow_dataset.py:3469\u001b[0m, in \u001b[0;36mDataset._map_single.<locals>.iter_outputs\u001b[0;34m(shard_iterable)\u001b[0m\n\u001b[1;32m   3467\u001b[0m \u001b[38;5;28;01melse\u001b[39;00m:\n\u001b[1;32m   3468\u001b[0m     \u001b[38;5;28;01mfor\u001b[39;00m i, example \u001b[38;5;129;01min\u001b[39;00m shard_iterable:\n\u001b[0;32m-> 3469\u001b[0m         \u001b[38;5;28;01myield\u001b[39;00m i, \u001b[43mapply_function\u001b[49m\u001b[43m(\u001b[49m\u001b[43mexample\u001b[49m\u001b[43m,\u001b[49m\u001b[43m \u001b[49m\u001b[43mi\u001b[49m\u001b[43m,\u001b[49m\u001b[43m \u001b[49m\u001b[43moffset\u001b[49m\u001b[38;5;241;43m=\u001b[39;49m\u001b[43moffset\u001b[49m\u001b[43m)\u001b[49m\n",
      "File \u001b[0;32m~/miniconda3/envs/Test/lib/python3.10/site-packages/datasets/arrow_dataset.py:3392\u001b[0m, in \u001b[0;36mDataset._map_single.<locals>.apply_function\u001b[0;34m(pa_inputs, indices, offset)\u001b[0m\n\u001b[1;32m   3390\u001b[0m \u001b[38;5;250m\u001b[39m\u001b[38;5;124;03m\"\"\"Utility to apply the function on a selection of columns.\"\"\"\u001b[39;00m\n\u001b[1;32m   3391\u001b[0m inputs, fn_args, additional_args, fn_kwargs \u001b[38;5;241m=\u001b[39m prepare_inputs(pa_inputs, indices, offset\u001b[38;5;241m=\u001b[39moffset)\n\u001b[0;32m-> 3392\u001b[0m processed_inputs \u001b[38;5;241m=\u001b[39m \u001b[43mfunction\u001b[49m\u001b[43m(\u001b[49m\u001b[38;5;241;43m*\u001b[39;49m\u001b[43mfn_args\u001b[49m\u001b[43m,\u001b[49m\u001b[43m \u001b[49m\u001b[38;5;241;43m*\u001b[39;49m\u001b[43madditional_args\u001b[49m\u001b[43m,\u001b[49m\u001b[43m \u001b[49m\u001b[38;5;241;43m*\u001b[39;49m\u001b[38;5;241;43m*\u001b[39;49m\u001b[43mfn_kwargs\u001b[49m\u001b[43m)\u001b[49m\n\u001b[1;32m   3393\u001b[0m \u001b[38;5;28;01mreturn\u001b[39;00m prepare_outputs(pa_inputs, inputs, processed_inputs)\n",
      "Cell \u001b[0;32mIn[4], line 19\u001b[0m, in \u001b[0;36mmapConlluData2RawLemmas\u001b[0;34m(ex)\u001b[0m\n\u001b[1;32m     18\u001b[0m \u001b[38;5;28;01mdef\u001b[39;00m\u001b[38;5;250m \u001b[39m\u001b[38;5;21mmapConlluData2RawLemmas\u001b[39m(ex):\n\u001b[0;32m---> 19\u001b[0m     \u001b[38;5;28;01mreturn\u001b[39;00m {\u001b[38;5;124m'\u001b[39m\u001b[38;5;124mdata\u001b[39m\u001b[38;5;124m'\u001b[39m:[conllu2RawLemmas(x) \u001b[38;5;28;01mfor\u001b[39;00m x \u001b[38;5;129;01min\u001b[39;00m ex[\u001b[38;5;124m'\u001b[39m\u001b[38;5;124mdata\u001b[39m\u001b[38;5;124m'\u001b[39m]]}\n",
      "Cell \u001b[0;32mIn[4], line 19\u001b[0m, in \u001b[0;36m<listcomp>\u001b[0;34m(.0)\u001b[0m\n\u001b[1;32m     18\u001b[0m \u001b[38;5;28;01mdef\u001b[39;00m\u001b[38;5;250m \u001b[39m\u001b[38;5;21mmapConlluData2RawLemmas\u001b[39m(ex):\n\u001b[0;32m---> 19\u001b[0m     \u001b[38;5;28;01mreturn\u001b[39;00m {\u001b[38;5;124m'\u001b[39m\u001b[38;5;124mdata\u001b[39m\u001b[38;5;124m'\u001b[39m:[\u001b[43mconllu2RawLemmas\u001b[49m\u001b[43m(\u001b[49m\u001b[43mx\u001b[49m\u001b[43m)\u001b[49m \u001b[38;5;28;01mfor\u001b[39;00m x \u001b[38;5;129;01min\u001b[39;00m ex[\u001b[38;5;124m'\u001b[39m\u001b[38;5;124mdata\u001b[39m\u001b[38;5;124m'\u001b[39m]]}\n",
      "Cell \u001b[0;32mIn[4], line 12\u001b[0m, in \u001b[0;36mconllu2RawLemmas\u001b[0;34m(conllu_text)\u001b[0m\n\u001b[1;32m     10\u001b[0m \u001b[38;5;28;01mdef\u001b[39;00m\u001b[38;5;250m \u001b[39m\u001b[38;5;21mconllu2RawLemmas\u001b[39m(conllu_text):\n\u001b[1;32m     11\u001b[0m     conllu_lines \u001b[38;5;241m=\u001b[39m conllu_text\u001b[38;5;241m.\u001b[39msplit(\u001b[38;5;124m\"\u001b[39m\u001b[38;5;130;01m\\n\u001b[39;00m\u001b[38;5;124m\"\u001b[39m)\n\u001b[0;32m---> 12\u001b[0m     \u001b[38;5;28;01mreturn\u001b[39;00m \u001b[38;5;124m\"\u001b[39m\u001b[38;5;124m \u001b[39m\u001b[38;5;124m\"\u001b[39m\u001b[38;5;241m.\u001b[39mjoin([x\u001b[38;5;241m.\u001b[39msplit(\u001b[38;5;124m'\u001b[39m\u001b[38;5;130;01m\\t\u001b[39;00m\u001b[38;5;124m'\u001b[39m)[\u001b[38;5;241m2\u001b[39m] \u001b[38;5;28;01mfor\u001b[39;00m x \u001b[38;5;129;01min\u001b[39;00m conllu_lines])\n",
      "Cell \u001b[0;32mIn[4], line 12\u001b[0m, in \u001b[0;36m<listcomp>\u001b[0;34m(.0)\u001b[0m\n\u001b[1;32m     10\u001b[0m \u001b[38;5;28;01mdef\u001b[39;00m\u001b[38;5;250m \u001b[39m\u001b[38;5;21mconllu2RawLemmas\u001b[39m(conllu_text):\n\u001b[1;32m     11\u001b[0m     conllu_lines \u001b[38;5;241m=\u001b[39m conllu_text\u001b[38;5;241m.\u001b[39msplit(\u001b[38;5;124m\"\u001b[39m\u001b[38;5;130;01m\\n\u001b[39;00m\u001b[38;5;124m\"\u001b[39m)\n\u001b[0;32m---> 12\u001b[0m     \u001b[38;5;28;01mreturn\u001b[39;00m \u001b[38;5;124m\"\u001b[39m\u001b[38;5;124m \u001b[39m\u001b[38;5;124m\"\u001b[39m\u001b[38;5;241m.\u001b[39mjoin([\u001b[43mx\u001b[49m\u001b[38;5;241;43m.\u001b[39;49m\u001b[43msplit\u001b[49m\u001b[43m(\u001b[49m\u001b[38;5;124;43m'\u001b[39;49m\u001b[38;5;130;43;01m\\t\u001b[39;49;00m\u001b[38;5;124;43m'\u001b[39;49m\u001b[43m)\u001b[49m\u001b[43m[\u001b[49m\u001b[38;5;241;43m2\u001b[39;49m\u001b[43m]\u001b[49m \u001b[38;5;28;01mfor\u001b[39;00m x \u001b[38;5;129;01min\u001b[39;00m conllu_lines])\n",
      "\u001b[0;31mIndexError\u001b[0m: list index out of range"
     ]
    }
   ],
   "source": [
    "ds = Dataset.load_from_disk(DATASET)\n",
    "#Training dataset\n",
    "train_ds = ds.filter(lambda x: x['book_id'] in train_keys).shuffle()\n",
    "train_ds = train_ds.map(mapLabels, batched=True, batch_size=32, load_from_cache_file=False)\n",
    "train_ds = train_ds.map(mapConlluData2RawLemmas, batched=True, batch_size=16, load_from_cache_file=False)"
   ]
  },
  {
   "cell_type": "code",
   "execution_count": null,
   "id": "bb5231b4",
   "metadata": {},
   "outputs": [
    {
     "name": "stderr",
     "output_type": "stream",
     "text": [
      "Filter: 100%|██████████| 22688/22688 [00:00<00:00, 70926.23 examples/s]\n",
      "Map: 100%|██████████| 3503/3503 [00:00<00:00, 27891.59 examples/s]\n",
      "Map: 100%|██████████| 3503/3503 [00:00<00:00, 5658.77 examples/s]\n"
     ]
    }
   ],
   "source": [
    "#Evaluation dataset\n",
    "eval_ds = ds.filter(lambda x: x['book_id'] in eval_keys).shuffle()\n",
    "eval_ds = eval_ds.map(mapLabels, batched=True, batch_size=32, load_from_cache_file=False)\n",
    "eval_ds = eval_ds.map(mapConlluData2RawLemmas, batched=True, batch_size=16, load_from_cache_file=False)"
   ]
  },
  {
   "cell_type": "code",
   "execution_count": null,
   "id": "3f3d130d",
   "metadata": {},
   "outputs": [
    {
     "name": "stderr",
     "output_type": "stream",
     "text": [
      "Filter: 100%|██████████| 22688/22688 [00:00<00:00, 68256.91 examples/s]\n",
      "Map: 100%|██████████| 2641/2641 [00:00<00:00, 21128.85 examples/s]\n",
      "Map: 100%|██████████| 2641/2641 [00:00<00:00, 5018.00 examples/s]\n"
     ]
    }
   ],
   "source": [
    "#Test dataset\n",
    "test_ds = ds.filter(lambda x: x['book_id'] in test_keys).shuffle()\n",
    "test_ds = test_ds.map(mapLabels, batched=True, batch_size=32, load_from_cache_file=False)\n",
    "test_ds = test_ds.map(mapConlluData2RawLemmas, batched=True, batch_size=16, load_from_cache_file=False)"
   ]
  },
  {
   "cell_type": "code",
   "execution_count": null,
   "id": "6799d452",
   "metadata": {},
   "outputs": [
    {
     "name": "stderr",
     "output_type": "stream",
     "text": [
      "/home/tenojo/miniconda3/envs/Test/lib/python3.10/site-packages/sklearn/feature_extraction/text.py:521: UserWarning: The parameter 'token_pattern' will not be used since 'tokenizer' is not None'\n",
      "  warnings.warn(\n"
     ]
    }
   ],
   "source": [
    "#Initialize and fir our vectorizer\n",
    "vectorizer = TfidfVectorizer(norm='l2', tokenizer=whitespace_tokenizer, preprocessor=do_nothing, max_features=2000).fit([x['data'] for x in train_ds])\n",
    "#Vectorize datasets\n",
    "vectorized_train = vectorizer.transform([x['data'] for x in train_ds])\n",
    "vectorized_eval = vectorizer.transform([x['data'] for x in eval_ds])\n",
    "vectorized_test = vectorizer.transform([x['data'] for x in test_ds])"
   ]
  },
  {
   "cell_type": "code",
   "execution_count": null,
   "id": "e735ae0f",
   "metadata": {},
   "outputs": [
    {
     "name": "stderr",
     "output_type": "stream",
     "text": [
      "[I 2025-08-27 15:16:32,668] A new study created in memory with name: no-name-c5647077-a189-4c7c-bef8-bb4315343d4c\n"
     ]
    }
   ],
   "source": [
    "returnable = {}\n",
    "c_eval_pairs= []\n",
    "\n",
    "#Very quick hyperparam optimization as we have computational resources\n",
    "def objective(trial):\n",
    "    #Defining hyperparameters to tune\n",
    "    c = trial.suggest_float('c', 1e-10, 1e+0, log=True)\n",
    "    pen = trial.suggest_categorical('pen', ['l2'])\n",
    "    tol = trial.suggest_float('tol', 1e-10, 1e-3, log=True)\n",
    "    clf = LinearSVC(\n",
    "        random_state=42,\n",
    "        C=c,\n",
    "        tol=tol,\n",
    "        penalty=pen\n",
    "    )\n",
    "    clf.fit(vectorized_train,train_ds['label'])\n",
    "    predicted = clf.predict(vectorized_eval)\n",
    "    f1 = f1_score(eval_ds['label'], predicted, average=\"macro\")\n",
    "    c_eval_pairs.append([c, f1])\n",
    "    return f1\n",
    "\n",
    "# Your code for hyperparameter optimization here\n",
    "study = optuna.create_study(direction='maximize')\n",
    "optuna.logging.disable_default_handler()\n",
    "study.optimize(objective, n_trials=50)\n",
    "\n",
    "#Run with best params\n",
    "clf = LinearSVC(\n",
    "    penalty=study.best_trial.params['pen'],\n",
    "    random_state=42,\n",
    "    C=study.best_trial.params['c'],\n",
    "    tol=study.best_trial.params['tol'],\n",
    ")\n",
    "clf.fit(vectorized_train, train_ds['label'])\n",
    "test_predict = clf.predict(vectorized_test)\n",
    "\n",
    "#Assign returnble values\n",
    "returnable['f1'] = f1_score(test_ds['label'], test_predict, average=\"macro\")\n",
    "returnable['labels'] = clf.classes_.tolist()\n",
    "returnable['conf_matrix'] = metrics.confusion_matrix(test_ds['label'], test_predict).tolist()\n",
    "returnable['c'] = study.best_trial.params['c']\n",
    "returnable['tol'] = study.best_trial.params['tol']\n",
    "returnable['penalty'] = study.best_trial.params['pen']\n",
    "returnable['c_eval_scores'] = c_eval_pairs"
   ]
  },
  {
   "cell_type": "code",
   "execution_count": null,
   "id": "d0423176",
   "metadata": {},
   "outputs": [
    {
     "name": "stdout",
     "output_type": "stream",
     "text": [
      "{'c': 0.27764262049946187,\n",
      " 'c_eval_scores': [[0.04271440151317089, 0.5103387543623029],\n",
      "                   [1.1285994494572602e-06, 0.20559394537676867],\n",
      "                   [4.650022876016453e-05, 0.20559394537676867],\n",
      "                   [0.006770421665083378, 0.4465134718919454],\n",
      "                   [0.008269115051532508, 0.4558790871872864],\n",
      "                   [1.1012602214925731e-10, 0.20559394537676867],\n",
      "                   [0.022598399427820836, 0.5025551155082398],\n",
      "                   [3.322291280717807e-08, 0.20559394537676867],\n",
      "                   [7.64619930150672e-05, 0.20559394537676867],\n",
      "                   [4.054465597855323e-06, 0.20559394537676867],\n",
      "                   [0.9506671704578242, 0.5330699115891079],\n",
      "                   [0.672741611731461, 0.5326932720623817],\n",
      "                   [0.5720020908933716, 0.5319224585639826],\n",
      "                   [0.49171197202240374, 0.5332483175812591],\n",
      "                   [0.0009706945756005886, 0.25542438859270544],\n",
      "                   [0.6216516792077037, 0.5306630464537043],\n",
      "                   [0.000617444497682979, 0.23929963201819637],\n",
      "                   [1.7091590006376578e-07, 0.20559394537676867],\n",
      "                   [0.08656327422412834, 0.5246010713677073],\n",
      "                   [4.822645689812864e-10, 0.20559394537676867],\n",
      "                   [0.0008495972796326551, 0.2523087344568033],\n",
      "                   [0.7300561072298584, 0.5329504137014817],\n",
      "                   [0.09378933021204229, 0.5237024715933768],\n",
      "                   [0.16709174503308485, 0.5323820815483927],\n",
      "                   [0.006341569568396078, 0.4427802751909431],\n",
      "                   [0.9756072879414278, 0.5332056286203805],\n",
      "                   [0.002172511618249119, 0.3139765768629366],\n",
      "                   [8.784628673605824e-05, 0.20559394537676867],\n",
      "                   [0.1694637376508924, 0.5325493464036647],\n",
      "                   [0.02345718475471354, 0.5024826250296297],\n",
      "                   [0.036783669097170464, 0.5061977099050402],\n",
      "                   [0.6767397209840225, 0.5325001615267503],\n",
      "                   [0.18920437351103045, 0.5315368168325617],\n",
      "                   [0.9686672037383995, 0.5332838885459127],\n",
      "                   [0.04308891055910922, 0.510179678371],\n",
      "                   [0.008077186973565255, 0.45661867883507856],\n",
      "                   [0.24161802460196302, 0.5338973212966277],\n",
      "                   [0.16050888510917724, 0.5311818141768637],\n",
      "                   [0.00028957734288225564, 0.20838649609111937],\n",
      "                   [1.606073028926959e-05, 0.20559394537676867],\n",
      "                   [0.004967526521552467, 0.418599975110349],\n",
      "                   [0.24068302663933272, 0.5333976436692905],\n",
      "                   [0.017360230033014755, 0.49211255238665835],\n",
      "                   [0.2746759845777328, 0.5360084711435967],\n",
      "                   [0.06145399552202079, 0.5182198436898214],\n",
      "                   [0.27764262049946187, 0.5360997192580425],\n",
      "                   [0.016121893871817252, 0.49060446678052355],\n",
      "                   [0.21416271180591637, 0.5324679829552469],\n",
      "                   [0.003079480270377784, 0.36379522938812664],\n",
      "                   [2.725914976449122e-09, 0.20559394537676867]],\n",
      " 'conf_matrix': [[1047, 58, 228], [97, 317, 265], [243, 211, 175]],\n",
      " 'f1': 0.5136307400076879,\n",
      " 'labels': ['13+', '7-8', '9-12'],\n",
      " 'penalty': 'l2',\n",
      " 'tol': 4.438775486367372e-05}\n"
     ]
    }
   ],
   "source": [
    "pprint(returnable)"
   ]
  },
  {
   "cell_type": "code",
   "execution_count": null,
   "id": "a242759e",
   "metadata": {},
   "outputs": [
    {
     "data": {
      "text/plain": [
       "<sklearn.metrics._plot.confusion_matrix.ConfusionMatrixDisplay at 0x7e2503feb940>"
      ]
     },
     "execution_count": 11,
     "metadata": {},
     "output_type": "execute_result"
    },
    {
     "data": {
      "image/png": "[encoded data removed]",
      "text/plain": [
       "<Figure size 640x480 with 2 Axes>"
      ]
     },
     "metadata": {},
     "output_type": "display_data"
    }
   ],
   "source": [
    "p = metrics.ConfusionMatrixDisplay(confusion_matrix=np.array(returnable['conf_matrix']), display_labels=returnable['labels'])\n",
    "p.plot()"
   ]
  }
 ],
 "metadata": {
  "kernelspec": {
   "display_name": "Test",
   "language": "python",
   "name": "python3"
  },
  "language_info": {
   "codemirror_mode": {
    "name": "ipython",
    "version": 3
   },
   "file_extension": ".py",
   "mimetype": "text/x-python",
   "name": "python",
   "nbconvert_exporter": "python",
   "pygments_lexer": "ipython3",
   "version": "3.10.16"
  }
 },
 "nbformat": 4,
 "nbformat_minor": 5
}
