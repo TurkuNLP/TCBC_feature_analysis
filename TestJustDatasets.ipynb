{
 "cells": [
  {
   "cell_type": "code",
   "execution_count": 1,
   "id": "1463e46c",
   "metadata": {},
   "outputs": [
    {
     "name": "stderr",
     "output_type": "stream",
     "text": [
      "/home/tenojo/miniconda3/envs/Test/lib/python3.10/site-packages/tqdm/auto.py:21: TqdmWarning: IProgress not found. Please update jupyter and ipywidgets. See https://ipywidgets.readthedocs.io/en/stable/user_install.html\n",
      "  from .autonotebook import tqdm as notebook_tqdm\n"
     ]
    }
   ],
   "source": [
    "#Imports\n",
    "from scripts import bookdatafunctions as bdf\n",
    "from scripts import corpusMLfunctions as cmf\n",
    "import pandas as pd\n",
    "import numpy as np\n",
    "from datasets import Dataset, disable_progress_bars\n",
    "import os\n",
    "from sklearn.feature_extraction.text import TfidfVectorizer\n",
    "from sklearn.svm import LinearSVC\n",
    "from sklearn import metrics\n",
    "from sklearn.metrics import f1_score\n",
    "import optuna\n",
    "import json\n",
    "import multiprocessing as mp\n",
    "import shutil\n",
    "import warnings\n",
    "from tqdm import tqdm\n",
    "from pprint import pprint\n",
    "\n",
    "#Constants\n",
    "AGES = ['5','6','7','8','9','10','11','12','13','14','15']\n",
    "KEYLISTS = \"Keylists.jsonl\"\n",
    "keylists = []\n",
    "with open(KEYLISTS, 'r') as f:\n",
    "    for line in f:\n",
    "        keylists.append(json.loads(line))\n",
    "\n",
    "#Helper functions\n",
    "def do_nothing(ex):\n",
    "    return ex.lower()\n",
    "\n",
    "def conllu_tokenizer(ex):\n",
    "    return ex.replace(\"\\n\", \"\\t\").replace(\"|\", \"\\t\").split(\"\\t\")\n",
    "\n",
    "def whitespace_tokenizer(ex):\n",
    "    return ex.split(\" \")"
   ]
  },
  {
   "cell_type": "code",
   "execution_count": 2,
   "id": "1413ece4",
   "metadata": {},
   "outputs": [],
   "source": [
    "def buildDatasetFromRawConllus(conllu_folder, age_mapping_file):\n",
    "    to_convert = []\n",
    "    isbn2age_series = pd.DataFrame(pd.read_excel(age_mapping_file, index_col=0))\n",
    "    for key in os.listdir(conllu_folder):\n",
    "        book_id = key[:14] +  str(isbn2age_series.at[int(key[:13]),isbn2age_series.columns[0]]) + key[15:17]\n",
    "        age = isbn2age_series.at[int(key[:13]),isbn2age_series.columns[0]]\n",
    "        with open(conllu_folder+key, 'r', encoding='UTF-8') as reader:\n",
    "            conllu_text = reader.read()\n",
    "        to_convert.append({'book_id':book_id, 'data':conllu_text})\n",
    "    return Dataset.from_list(to_convert)"
   ]
  },
  {
   "cell_type": "code",
   "execution_count": 3,
   "id": "4ac8cf18",
   "metadata": {},
   "outputs": [
    {
     "name": "stderr",
     "output_type": "stream",
     "text": [
      "Saving the dataset (2/2 shards): 100%|██████████| 300/300 [00:00<00:00, 1529.51 examples/s]\n"
     ]
    }
   ],
   "source": [
    "#Build / re-build the raw dataset\n",
    "buildDatasetFromRawConllus('Conllus/', \"ISBN_MAPS/ISBN2AGE.xlsx\").save_to_disk(\"TCBC_datasets/RawDataset\")"
   ]
  },
  {
   "cell_type": "code",
   "execution_count": 4,
   "id": "58c3e9b4",
   "metadata": {},
   "outputs": [],
   "source": [
    "#Function for generating a snippet dataset\n",
    "def generateSnippetDatasetFromRawConllu(ex, sniplen):\n",
    "        conllu = ex['data'][0]\n",
    "        new_data = []\n",
    "        df = cmf.snippetConllu2DF(conllu)\n",
    "        tree = bdf.buildIdTreeFromConllu(df)\n",
    "        df.loc[df['upos'] == 'PROPN', 'lemma'] = \"[MASK]\"\n",
    "        df.loc[df['upos'] == 'PROPN', 'text'] = \"[MASK]\"\n",
    "        conllu_lines = [\"\\t\".join(x) for x in df.to_numpy(\"str\").tolist()]\n",
    "        tree_heads = list(tree.keys())\n",
    "        start = 0\n",
    "        for i in range(sniplen-1, len(tree), sniplen):\n",
    "                new_data.append(\"\\n\".join(conllu_lines[start:list(tree[tree_heads[i]].keys())[-1]]))\n",
    "                start = i\n",
    "        return {\"book_id\":[ex['book_id'][0]]*len(new_data), \"data\": new_data}"
   ]
  },
  {
   "cell_type": "code",
   "execution_count": 5,
   "id": "5dd338c1",
   "metadata": {},
   "outputs": [],
   "source": [
    "#Generate and save to disk sniplen 100\n",
    "#with_100 = Dataset.load_from_disk(\"TCBC_datasets/RawDataset\").map(generateSnippetDatasetFromRawConllu, fn_kwargs={\"sniplen\":100}, batched=True, batch_size=1, remove_columns=['book_id', 'age', 'data'])"
   ]
  },
  {
   "cell_type": "code",
   "execution_count": 6,
   "id": "790242b3",
   "metadata": {},
   "outputs": [],
   "source": [
    "#Generate and save to disk sniplen 75\n",
    "#Dataset.load_from_disk(\"TCBC_datasets/RawDataset\").map(generateSnippetDatasetFromRawConllu, fn_kwargs={\"sniplen\":75}, batched=True, batch_size=1, remove_columns=['book_id', 'data']).save_to_disk(\"TCBC_datasets/sniplen75\")"
   ]
  },
  {
   "cell_type": "code",
   "execution_count": 7,
   "id": "e7eb73c1",
   "metadata": {},
   "outputs": [
    {
     "name": "stderr",
     "output_type": "stream",
     "text": [
      "Saving the dataset (2/2 shards): 100%|██████████| 300/300 [00:00<00:00, 347.97 examples/s] \n"
     ]
    }
   ],
   "source": [
    "#Build / re-build the raw dataset\n",
    "buildDatasetFromRawConllus('Conllus/', \"ISBN_MAPS/ISBN2AGE.xlsx\").save_to_disk(\"TCBC_datasets/RawDataset\")"
   ]
  },
  {
   "cell_type": "code",
   "execution_count": 8,
   "id": "2166798d",
   "metadata": {},
   "outputs": [],
   "source": [
    "#Generate and save to disk sniplen 50\n",
    "#Dataset.load_from_disk(\"TCBC_datasets/sniplen100\").map(generateSnippetDatasetFromRawConllu, fn_kwargs={\"sniplen\":50}, batched=True, batch_size=1, remove_columns=['book_id', 'data']).save_to_disk(\"TCBC_datasets/sniplen50\")"
   ]
  }
 ],
 "metadata": {
  "kernelspec": {
   "display_name": "Test",
   "language": "python",
   "name": "python3"
  },
  "language_info": {
   "codemirror_mode": {
    "name": "ipython",
    "version": 3
   },
   "file_extension": ".py",
   "mimetype": "text/x-python",
   "name": "python",
   "nbconvert_exporter": "python",
   "pygments_lexer": "ipython3",
   "version": "3.10.16"
  }
 },
 "nbformat": 4,
 "nbformat_minor": 5
}
