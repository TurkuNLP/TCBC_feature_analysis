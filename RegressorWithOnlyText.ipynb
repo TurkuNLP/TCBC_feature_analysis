{
 "cells": [
  {
   "cell_type": "code",
   "execution_count": 28,
   "id": "29101476",
   "metadata": {},
   "outputs": [],
   "source": [
    "#Imports\n",
    "from mapie.metrics import regression_coverage_score\n",
    "from mapie.regression import MapieRegressor\n",
    "from mapie.subsample import Subsample\n",
    "from sklearn.model_selection import StratifiedKFold\n",
    "from scripts import bookdatafunctions as bdf\n",
    "from sklearn.feature_extraction.text import TfidfVectorizer\n",
    "import pandas as pd\n",
    "from sklearn.linear_model import LinearRegression, Ridge\n",
    "from sklearn.ensemble import RandomForestRegressor\n",
    "import numpy as np\n",
    "from sklearn import metrics\n",
    "import random\n",
    "from datasets import Dataset, DatasetDict\n",
    "from itertools import chain, combinations\n",
    "from tqdm import tqdm\n",
    "import seaborn as sns\n",
    "import matplotlib\n",
    "import os\n",
    "from natsort import natsorted\n",
    "from scripts import corpusMLfunctions as cmf\n",
    "from scipy.sparse import vstack\n",
    "from sklearn.feature_selection import f_regression\n",
    "from datasets import logging\n",
    "import json\n",
    "import shutil"
   ]
  },
  {
   "cell_type": "code",
   "execution_count": 29,
   "id": "41e01c23",
   "metadata": {},
   "outputs": [],
   "source": [
    "#Constants\n",
    "BASE_BEG = \"SnippetDatasets/\"\n",
    "BASE_MID = \"sniplen_\"\n",
    "BASE_END = \".jsonl\"\n",
    "KEYLIST_FILE = \"Keylists.jsonl\"\n",
    "SNIPPET_LENS = ['5','10','25','50','75','100']\n",
    "logging.set_verbosity(40)\n",
    "KEYLIST_NUM = 0"
   ]
  },
  {
   "cell_type": "code",
   "execution_count": 30,
   "id": "54858bdb",
   "metadata": {},
   "outputs": [],
   "source": [
    "keylists = []\n",
    "with open(KEYLIST_FILE, 'r') as f:\n",
    "    for line in f:\n",
    "        keylists.append(json.loads(line))"
   ]
  },
  {
   "cell_type": "code",
   "execution_count": 31,
   "id": "f18c2afd",
   "metadata": {},
   "outputs": [],
   "source": [
    "#TFIDF Vectorizer functions\n",
    "def do_nothing(ex):\n",
    "    return ex.lower()\n",
    "\n",
    "def conllu_tokenizer(ex):\n",
    "    return ex.replace(\"\\n\", \"\\t\").replace(\"|\", \"\\t\").split(\"\\t\")\n",
    "\n",
    "def whitespace_tokenizer(ex):\n",
    "    return ex.split(\" \")"
   ]
  },
  {
   "cell_type": "code",
   "execution_count": 32,
   "id": "0ab229f5",
   "metadata": {},
   "outputs": [],
   "source": [
    "#Load keys\n",
    "train_keys = keylists[KEYLIST_NUM]['train_keys']\n",
    "eval_keys = keylists[KEYLIST_NUM]['eval_keys']\n",
    "test_keys = keylists[KEYLIST_NUM]['test_keys']"
   ]
  },
  {
   "cell_type": "code",
   "execution_count": 33,
   "id": "fb15cddb",
   "metadata": {},
   "outputs": [
    {
     "name": "stderr",
     "output_type": "stream",
     "text": [
      "Generating train split: 162834 examples [00:00, 1404125.97 examples/s]\n",
      "Generating train split: 81449 examples [00:00, 800501.14 examples/s]\n",
      "Generating train split: 32626 examples [00:00, 363802.88 examples/s]\n",
      "Generating train split: 16352 examples [00:00, 188424.15 examples/s]\n",
      "Generating train split: 10921 examples [00:00, 145323.58 examples/s]\n",
      "Generating train split: 8217 examples [00:00, 112912.42 examples/s]\n",
      "Generating train split: 37979 examples [00:00, 1589489.63 examples/s]\n",
      "Generating train split: 18995 examples [00:00, 828661.22 examples/s]\n",
      "Generating train split: 7607 examples [00:00, 441649.30 examples/s]\n",
      "Generating train split: 3807 examples [00:00, 195793.16 examples/s]\n",
      "Generating train split: 2540 examples [00:00, 124646.45 examples/s]\n",
      "Generating train split: 1908 examples [00:00, 112301.71 examples/s]\n",
      "Generating train split: 30222 examples [00:00, 1596899.12 examples/s]\n",
      "Generating train split: 15122 examples [00:00, 613341.57 examples/s]\n",
      "Generating train split: 6059 examples [00:00, 428193.56 examples/s]\n",
      "Generating train split: 3039 examples [00:00, 188412.61 examples/s]\n",
      "Generating train split: 2031 examples [00:00, 125257.41 examples/s]\n",
      "Generating train split: 1529 examples [00:00, 93905.54 examples/s]\n"
     ]
    }
   ],
   "source": [
    "#Local cache management for HF\n",
    "#Also makes it easier to clean cache files and use space more efficiently\n",
    "cache_dir = \"cache_dir/temp/\"\n",
    "if os.path.exists(cache_dir):\n",
    "    shutil.rmtree(cache_dir)\n",
    "os.mkdir(cache_dir)\n",
    "cache_file_trains = [cache_dir+str(KEYLIST_NUM)+\"_\"+str(SNIPPET_LENS[x])+\"_train.jsonl\" for x in range(6)]\n",
    "cache_file_evals = [cache_dir+str(KEYLIST_NUM)+\"_\"+str(SNIPPET_LENS[x])+\"_eval.jsonl\" for x in range(6)]\n",
    "cache_file_tests = [cache_dir+str(KEYLIST_NUM)+\"_\"+str(SNIPPET_LENS[x])+\"_test.jsonl\" for x in range(6)]\n",
    "#Generate datasets\n",
    "train_dss = [cmf.combineSnippedBooksToDS(train_keys, x, cache_dir, cache_file=cache_dir+str(KEYLIST_NUM)+\"_\"+x+\"_train.jsonl\", folder=BASE_BEG, inc_raw_text=True) for x in SNIPPET_LENS]\n",
    "eval_dss = [cmf.combineSnippedBooksToDS(eval_keys, x, cache_dir, cache_file=cache_dir+str(KEYLIST_NUM)+\"_\"+x+\"_eval.jsonl\", folder=BASE_BEG, inc_raw_text=True) for x in SNIPPET_LENS]\n",
    "test_dss = [cmf.combineSnippedBooksToDS(test_keys, x, cache_dir, cache_file=cache_dir+str(KEYLIST_NUM)+\"_\"+x+\"_test.jsonl\", folder=BASE_BEG, inc_raw_text=True) for x in SNIPPET_LENS]"
   ]
  },
  {
   "cell_type": "code",
   "execution_count": 34,
   "id": "1b5a8ce1",
   "metadata": {},
   "outputs": [
    {
     "name": "stderr",
     "output_type": "stream",
     "text": [
      "/home/tenojo/miniconda3/envs/Test/lib/python3.10/site-packages/sklearn/feature_extraction/text.py:521: UserWarning: The parameter 'token_pattern' will not be used since 'tokenizer' is not None'\n",
      "  warnings.warn(\n"
     ]
    }
   ],
   "source": [
    "vectorizers = [TfidfVectorizer(norm='l2', tokenizer=whitespace_tokenizer, preprocessor=do_nothing, max_features=2000).fit(x['raw_text']) for x in train_dss]"
   ]
  },
  {
   "cell_type": "code",
   "execution_count": 35,
   "id": "e3e9db68",
   "metadata": {},
   "outputs": [],
   "source": [
    "#Choose vectorizer and dataset\n",
    "SNIP_CHOS = 2"
   ]
  },
  {
   "cell_type": "code",
   "execution_count": 36,
   "id": "c1297463",
   "metadata": {},
   "outputs": [],
   "source": [
    "vectorized_training_data = vectorizers[SNIP_CHOS].transform(train_dss[SNIP_CHOS]['raw_text'])\n",
    "vectorized_eval_data = vectorizers[SNIP_CHOS].transform(eval_dss[SNIP_CHOS]['raw_text'])\n",
    "vectorized_test_data = vectorizers[SNIP_CHOS].transform(test_dss[SNIP_CHOS]['raw_text'])"
   ]
  },
  {
   "cell_type": "code",
   "execution_count": null,
   "id": "7e8d8604",
   "metadata": {},
   "outputs": [],
   "source": [
    "from sklearn.linear_model import ElasticNet\n",
    "from sklearn.linear_model import Ridge\n",
    "from sklearn.linear_model import Lasso\n",
    "from sklearn.preprocessing import normalize\n",
    "import optuna\n",
    "\n",
    "def objective(trial):\n",
    "    #Defining hyperparameters to tune\n",
    "    alpha = trial.suggest_float('alpha', 1e-10, 1e+3, log=True)\n",
    "    tol = trial.suggest_float('tol', 1e-10, 1e-3, log=True)\n",
    "    #l_ratio = trial.suggest_float('l_ratio', 0, 1)\n",
    "    #r_state = trial.suggest_int('r_state', 0, 1000)\n",
    "\n",
    "    mses = []\n",
    "    for snip in range(5,6):\n",
    "        lr_model = Lasso(\n",
    "            alpha=alpha,\n",
    "            tol=tol,\n",
    "            random_state=42\n",
    "        )\n",
    "        vectorized_train_data = vectorizers[snip].transform(train_dss[snip]['raw_text'])\n",
    "        vectorized_eval_data = vectorizers[snip].transform(eval_dss[snip]['raw_text'])\n",
    "        lr_model.fit(vectorized_train_data, train_dss[snip]['age'])\n",
    "        y_eval_pred = lr_model.predict(vectorized_eval_data)\n",
    "        y_eval_true = eval_dss[snip]['age']\n",
    "        mses.append(metrics.mean_squared_error(y_eval_true, y_eval_pred))\n",
    "    return np.max(mses)"
   ]
  },
  {
   "cell_type": "code",
   "execution_count": 40,
   "id": "9b42936e",
   "metadata": {},
   "outputs": [
    {
     "name": "stderr",
     "output_type": "stream",
     "text": [
      "[I 2025-08-15 12:32:52,945] A new study created in memory with name: no-name-12bef13a-0b30-494a-99ac-174c846115a0\n",
      "[I 2025-08-15 12:32:56,250] Trial 0 finished with value: 9.011830673273167 and parameters: {'alpha': 5.141256340483505e-10, 'tol': 9.955739094592108e-09}. Best is trial 0 with value: 9.011830673273167.\n",
      "[I 2025-08-15 12:32:59,277] Trial 1 finished with value: 9.011815529617879 and parameters: {'alpha': 4.90074115757472e-05, 'tol': 3.6503458517337783e-06}. Best is trial 1 with value: 9.011815529617879.\n",
      "[I 2025-08-15 12:33:02,095] Trial 2 finished with value: 8.484505868287304 and parameters: {'alpha': 9.864154373762949, 'tol': 4.193069347823941e-09}. Best is trial 2 with value: 8.484505868287304.\n",
      "[I 2025-08-15 12:33:04,926] Trial 3 finished with value: 9.009656743782283 and parameters: {'alpha': 2.8158750074250933e-06, 'tol': 0.0007772442097395162}. Best is trial 2 with value: 8.484505868287304.\n",
      "[I 2025-08-15 12:33:07,968] Trial 4 finished with value: 9.011830623429836 and parameters: {'alpha': 3.596862973178748e-09, 'tol': 6.40304297471114e-08}. Best is trial 2 with value: 8.484505868287304.\n",
      "[I 2025-08-15 12:33:10,719] Trial 5 finished with value: 8.975499329530322 and parameters: {'alpha': 134.35059999068787, 'tol': 2.7490046313245656e-09}. Best is trial 2 with value: 8.484505868287304.\n",
      "[I 2025-08-15 12:33:13,358] Trial 6 finished with value: 9.476914397629058 and parameters: {'alpha': 792.4716865544514, 'tol': 0.000249274761945382}. Best is trial 2 with value: 8.484505868287304.\n",
      "[I 2025-08-15 12:33:16,145] Trial 7 finished with value: 8.448083289179001 and parameters: {'alpha': 14.192447195291296, 'tol': 2.3555103100761517e-06}. Best is trial 7 with value: 8.448083289179001.\n",
      "[I 2025-08-15 12:33:18,970] Trial 8 finished with value: 9.009625974341427 and parameters: {'alpha': 1.881496978269636e-07, 'tol': 0.0005853305232744936}. Best is trial 7 with value: 8.448083289179001.\n",
      "[I 2025-08-15 12:33:21,779] Trial 9 finished with value: 8.782410945344466 and parameters: {'alpha': 89.07083353588389, 'tol': 5.42053360578727e-06}. Best is trial 7 with value: 8.448083289179001.\n",
      "[I 2025-08-15 12:33:24,718] Trial 10 finished with value: 9.00612820266195 and parameters: {'alpha': 0.028710039087287142, 'tol': 1.2367013866417053e-06}. Best is trial 7 with value: 8.448083289179001.\n",
      "[I 2025-08-15 12:33:27,875] Trial 11 finished with value: 8.990724212150061 and parameters: {'alpha': 0.10888904371229277, 'tol': 8.636401061729606e-10}. Best is trial 7 with value: 8.448083289179001.\n",
      "[I 2025-08-15 12:33:30,858] Trial 12 finished with value: 8.920397927839694 and parameters: {'alpha': 0.529385483628768, 'tol': 1.205942139105695e-07}. Best is trial 7 with value: 8.448083289179001.\n",
      "[I 2025-08-15 12:33:33,769] Trial 13 finished with value: 8.655167136351672 and parameters: {'alpha': 3.583766039413014, 'tol': 2.1480633390226248e-10}. Best is trial 7 with value: 8.448083289179001.\n",
      "[I 2025-08-15 12:33:36,691] Trial 14 finished with value: 9.011514336458585 and parameters: {'alpha': 0.0017339837916700357, 'tol': 3.430971002045187e-05}. Best is trial 7 with value: 8.448083289179001.\n",
      "[I 2025-08-15 12:33:39,562] Trial 15 finished with value: 8.443120059083347 and parameters: {'alpha': 15.424349513791189, 'tol': 1.645316404967586e-08}. Best is trial 15 with value: 8.443120059083347.\n",
      "[I 2025-08-15 12:33:42,579] Trial 16 finished with value: 9.011619051514426 and parameters: {'alpha': 0.0010529708144573259, 'tol': 4.7182158141027625e-07}. Best is trial 15 with value: 8.443120059083347.\n",
      "[I 2025-08-15 12:33:45,579] Trial 17 finished with value: 9.008186346665303 and parameters: {'alpha': 0.018294683495480902, 'tol': 4.4723276260412264e-08}. Best is trial 15 with value: 8.443120059083347.\n",
      "[I 2025-08-15 12:33:48,381] Trial 18 finished with value: 8.558947838679023 and parameters: {'alpha': 6.082991884647977, 'tol': 2.3677469654964493e-05}. Best is trial 15 with value: 8.443120059083347.\n",
      "[I 2025-08-15 12:33:51,121] Trial 19 finished with value: 9.476435902370403 and parameters: {'alpha': 735.7155638917574, 'tol': 2.1856890458196937e-08}. Best is trial 15 with value: 8.443120059083347.\n",
      "[I 2025-08-15 12:33:54,170] Trial 20 finished with value: 8.936506179156629 and parameters: {'alpha': 0.42439838757165677, 'tol': 4.759031014216752e-07}. Best is trial 15 with value: 8.443120059083347.\n",
      "[I 2025-08-15 12:33:56,951] Trial 21 finished with value: 8.452806716307201 and parameters: {'alpha': 13.316475488863716, 'tol': 5.212348688620644e-09}. Best is trial 15 with value: 8.443120059083347.\n",
      "[I 2025-08-15 12:33:59,836] Trial 22 finished with value: 8.449549758838623 and parameters: {'alpha': 13.89775197727538, 'tol': 1.0850307640308713e-10}. Best is trial 15 with value: 8.443120059083347.\n",
      "[I 2025-08-15 12:34:02,977] Trial 23 finished with value: 8.890307369993716 and parameters: {'alpha': 0.7413973120041343, 'tol': 1.7260907495560925e-10}. Best is trial 15 with value: 8.443120059083347.\n",
      "[I 2025-08-15 12:34:05,798] Trial 24 finished with value: 8.52148124041006 and parameters: {'alpha': 41.5937808906171, 'tol': 6.571149665283599e-10}. Best is trial 15 with value: 8.443120059083347.\n",
      "[I 2025-08-15 12:34:08,917] Trial 25 finished with value: 9.009539845235626 and parameters: {'alpha': 0.01147609103033743, 'tol': 1.0676258237824887e-10}. Best is trial 15 with value: 8.443120059083347.\n",
      "[I 2025-08-15 12:34:12,091] Trial 26 finished with value: 9.011819091347949 and parameters: {'alpha': 5.787311024095429e-05, 'tol': 1.1878547514488636e-09}. Best is trial 15 with value: 8.443120059083347.\n",
      "[I 2025-08-15 12:34:15,028] Trial 27 finished with value: 8.822293498602605 and parameters: {'alpha': 1.311530794167792, 'tol': 1.5693017446914377e-07}. Best is trial 15 with value: 8.443120059083347.\n",
      "[I 2025-08-15 12:34:17,796] Trial 28 finished with value: 8.844178881293505 and parameters: {'alpha': 102.06659697656195, 'tol': 2.2752575963251415e-05}. Best is trial 15 with value: 8.443120059083347.\n",
      "[I 2025-08-15 12:34:20,787] Trial 29 finished with value: 9.011830698402976 and parameters: {'alpha': 2.56876137433469e-10, 'tol': 1.8069037014007218e-08}. Best is trial 15 with value: 8.443120059083347.\n",
      "[I 2025-08-15 12:34:23,776] Trial 30 finished with value: 8.98861748462486 and parameters: {'alpha': 0.120156477134053, 'tol': 1.4772857185721884e-06}. Best is trial 15 with value: 8.443120059083347.\n",
      "[I 2025-08-15 12:34:26,677] Trial 31 finished with value: 8.460318991766183 and parameters: {'alpha': 12.227178599312948, 'tol': 5.888382893905122e-09}. Best is trial 15 with value: 8.443120059083347.\n",
      "[I 2025-08-15 12:34:29,451] Trial 32 finished with value: 8.439886558086874 and parameters: {'alpha': 16.636679442362144, 'tol': 1.5591019448593393e-08}. Best is trial 32 with value: 8.439886558086874.\n",
      "[I 2025-08-15 12:34:32,107] Trial 33 finished with value: 9.472533729553025 and parameters: {'alpha': 941.6365438812218, 'tol': 5.696627972370311e-06}. Best is trial 32 with value: 8.439886558086874.\n",
      "[I 2025-08-15 12:34:34,885] Trial 34 finished with value: 8.447295878087385 and parameters: {'alpha': 25.320748122405003, 'tol': 1.5262055821448445e-08}. Best is trial 32 with value: 8.439886558086874.\n",
      "[I 2025-08-15 12:34:37,788] Trial 35 finished with value: 8.745042212202648 and parameters: {'alpha': 2.163756991142466, 'tol': 1.4915268593918166e-08}. Best is trial 32 with value: 8.439886558086874.\n",
      "[I 2025-08-15 12:34:40,471] Trial 36 finished with value: 8.802425279299735 and parameters: {'alpha': 93.16236963489756, 'tol': 7.967123969206891e-08}. Best is trial 32 with value: 8.439886558086874.\n",
      "[I 2025-08-15 12:34:43,509] Trial 37 finished with value: 9.011830793799191 and parameters: {'alpha': 1.7330554783838742e-08, 'tol': 3.4908770984997526e-08}. Best is trial 32 with value: 8.439886558086874.\n",
      "[I 2025-08-15 12:34:46,680] Trial 38 finished with value: 9.011827854131022 and parameters: {'alpha': 1.4128231304616368e-05, 'tol': 2.4462550991448734e-09}. Best is trial 32 with value: 8.439886558086874.\n",
      "[I 2025-08-15 12:34:49,834] Trial 39 finished with value: 8.985410958572981 and parameters: {'alpha': 0.13744949089000846, 'tol': 2.453366616450944e-07}. Best is trial 32 with value: 8.439886558086874.\n",
      "[I 2025-08-15 12:34:52,634] Trial 40 finished with value: 9.200584044009892 and parameters: {'alpha': 217.3996944244925, 'tol': 1.1827528391055575e-06}. Best is trial 32 with value: 8.439886558086874.\n",
      "[I 2025-08-15 12:34:55,613] Trial 41 finished with value: 8.444658855438073 and parameters: {'alpha': 24.365042650963687, 'tol': 1.85885081718956e-09}. Best is trial 32 with value: 8.439886558086874.\n",
      "[I 2025-08-15 12:34:58,391] Trial 42 finished with value: 8.46485528003344 and parameters: {'alpha': 30.18566780524383, 'tol': 8.832497025604718e-09}. Best is trial 32 with value: 8.439886558086874.\n",
      "[I 2025-08-15 12:35:01,306] Trial 43 finished with value: 8.670376821489842 and parameters: {'alpha': 3.299270390487039, 'tol': 2.5496004545858766e-09}. Best is trial 32 with value: 8.439886558086874.\n",
      "[I 2025-08-15 12:35:04,072] Trial 44 finished with value: 9.248872112981466 and parameters: {'alpha': 244.18252290997677, 'tol': 1.7311581985012584e-09}. Best is trial 32 with value: 8.439886558086874.\n",
      "[I 2025-08-15 12:35:07,236] Trial 45 finished with value: 9.011830612731385 and parameters: {'alpha': 3.701423334609562e-07, 'tol': 5.764500626919576e-10}. Best is trial 32 with value: 8.439886558086874.\n",
      "[I 2025-08-15 12:35:10,008] Trial 46 finished with value: 8.486001263275872 and parameters: {'alpha': 34.80740913105585, 'tol': 9.830012414626702e-09}. Best is trial 32 with value: 8.439886558086874.\n",
      "[I 2025-08-15 12:35:12,988] Trial 47 finished with value: 8.945345101726208 and parameters: {'alpha': 0.3691214165621808, 'tol': 4.1025663608048796e-08}. Best is trial 32 with value: 8.439886558086874.\n",
      "[I 2025-08-15 12:35:16,098] Trial 48 finished with value: 9.01123823935387 and parameters: {'alpha': 0.0029601066596228335, 'tol': 4.1661876484514004e-10}. Best is trial 32 with value: 8.439886558086874.\n",
      "[I 2025-08-15 12:35:19,028] Trial 49 finished with value: 8.614158230134134 and parameters: {'alpha': 4.474265310121801, 'tol': 1.009888432957986e-05}. Best is trial 32 with value: 8.439886558086874.\n"
     ]
    }
   ],
   "source": [
    "study = optuna.create_study(direction='minimize')\n",
    "study.optimize(objective, n_trials=50)"
   ]
  },
  {
   "cell_type": "code",
   "execution_count": 41,
   "id": "4d95c05b",
   "metadata": {},
   "outputs": [
    {
     "name": "stdout",
     "output_type": "stream",
     "text": [
      "Best trial (number 32):\n",
      "  Value: 8.439886558086874\n",
      "  Params: {'alpha': 16.636679442362144, 'tol': 1.5591019448593393e-08}\n"
     ]
    }
   ],
   "source": [
    "# Print the best trial's hyperparameters and objective value\n",
    "best_trial = study.best_trial\n",
    "print(f\"Best trial (number {best_trial.number}):\")\n",
    "print(f\"  Value: {best_trial.value}\")\n",
    "print(f\"  Params: {best_trial.params}\")"
   ]
  },
  {
   "cell_type": "code",
   "execution_count": 42,
   "id": "ceb53221",
   "metadata": {},
   "outputs": [],
   "source": [
    "def regression_results(y_true, y_pred):\n",
    "\n",
    "    # Regression metrics\n",
    "    explained_variance=metrics.explained_variance_score(y_true, y_pred)\n",
    "    mean_absolute_error=metrics.mean_absolute_error(y_true, y_pred) \n",
    "    mse=metrics.mean_squared_error(y_true, y_pred) \n",
    "    mean_squared_log_error=metrics.mean_squared_log_error(y_true, y_pred)\n",
    "    median_absolute_error=metrics.median_absolute_error(y_true, y_pred)\n",
    "    r2=metrics.r2_score(y_true, y_pred)\n",
    "\n",
    "    print('explained_variance: ', round(explained_variance,4))    \n",
    "    print('mean_squared_log_error: ', round(mean_squared_log_error,4))\n",
    "    print('r2: ', round(r2,4))\n",
    "    print('MAE: ', round(mean_absolute_error,4))\n",
    "    print('MSE: ', round(mse,4))\n",
    "    print('RMSE: ', round(np.sqrt(mse),4))\n",
    "    print('MEDAE: ', round(np.sqrt(median_absolute_error),4))"
   ]
  },
  {
   "cell_type": "code",
   "execution_count": null,
   "id": "c4f2388c",
   "metadata": {},
   "outputs": [
    {
     "name": "stdout",
     "output_type": "stream",
     "text": [
      "Results for sniplen  5 :\n",
      "explained_variance:  0.1091\n",
      "mean_squared_log_error:  0.0601\n",
      "r2:  0.1044\n",
      "MAE:  2.4487\n",
      "MSE:  7.9774\n",
      "RMSE:  2.8244\n",
      "MEDAE:  1.5373\n",
      "\n",
      "\n",
      "Results for sniplen  10 :\n",
      "explained_variance:  0.1506\n",
      "mean_squared_log_error:  0.0575\n",
      "r2:  0.1436\n",
      "MAE:  2.3733\n",
      "MSE:  7.629\n",
      "RMSE:  2.7621\n",
      "MEDAE:  1.5057\n",
      "\n",
      "\n",
      "Results for sniplen  25 :\n",
      "explained_variance:  0.2081\n",
      "mean_squared_log_error:  0.054\n",
      "r2:  0.1992\n",
      "MAE:  2.2908\n",
      "MSE:  7.136\n",
      "RMSE:  2.6713\n",
      "MEDAE:  1.4873\n",
      "\n",
      "\n",
      "Results for sniplen  50 :\n",
      "explained_variance:  0.2542\n",
      "mean_squared_log_error:  0.0508\n",
      "r2:  0.2454\n",
      "MAE:  2.2382\n",
      "MSE:  6.7258\n",
      "RMSE:  2.5934\n",
      "MEDAE:  1.484\n",
      "\n",
      "\n",
      "Results for sniplen  75 :\n",
      "explained_variance:  0.2701\n",
      "mean_squared_log_error:  0.0496\n",
      "r2:  0.262\n",
      "MAE:  2.2326\n",
      "MSE:  6.5818\n",
      "RMSE:  2.5655\n",
      "MEDAE:  1.4876\n",
      "\n",
      "\n",
      "Results for sniplen  100 :\n",
      "explained_variance:  0.2722\n",
      "mean_squared_log_error:  0.0495\n",
      "r2:  0.2656\n",
      "MAE:  2.2472\n",
      "MSE:  6.5618\n",
      "RMSE:  2.5616\n",
      "MEDAE:  1.4992\n",
      "\n",
      "\n"
     ]
    }
   ],
   "source": [
    "from sklearn.metrics import PredictionErrorDisplay\n",
    "true_pred_pairs = []\n",
    "models = []\n",
    "for snip in range(0,6):\n",
    "    print(\"Results for sniplen \",SNIPPET_LENS[snip],\":\")\n",
    "    lr_model = Lasso(\n",
    "        alpha=study.best_params['alpha'],\n",
    "        tol = study.best_params['tol'],\n",
    "        random_state=42\n",
    "    )\n",
    "    vectorized_train_data = vectorizers[snip].transform(train_dss[snip]['raw_text'])\n",
    "    vectorized_test_data = vectorizers[snip].transform(test_dss[snip]['raw_text'])\n",
    "    lr_model.fit(vectorized_train_data, train_dss[snip]['age'])\n",
    "    models.append(lr_model)\n",
    "    y_pred = lr_model.predict(vectorized_test_data)\n",
    "    y_true = test_dss[snip]['age']\n",
    "    true_pred_pairs.append((y_true, y_pred))\n",
    "    regression_results(y_true, y_pred)\n",
    "    print('\\n')\n"
   ]
  },
  {
   "cell_type": "markdown",
   "id": "c27bb9ff",
   "metadata": {},
   "source": [
    "### Plotting predicted vs actual values"
   ]
  },
  {
   "cell_type": "code",
   "execution_count": 59,
   "id": "625c6849",
   "metadata": {},
   "outputs": [
    {
     "data": {
      "image/png": "[encoded data removed]",
      "text/plain": [
       "<Figure size 640x480 with 1 Axes>"
      ]
     },
     "metadata": {},
     "output_type": "display_data"
    }
   ],
   "source": [
    "from matplotlib import pyplot as plt\n",
    "import seaborn as sns\n",
    "\n",
    "s=2\n",
    "\n",
    "#disp = PredictionErrorDisplay.from_predictions(true_pred_pairs[s][0], true_pred_pairs[s][1], kind='actual_vs_predicted')\n",
    "\n",
    "\n",
    "axes = sns.boxplot(x=true_pred_pairs[s][0], y=true_pred_pairs[s][1])\n",
    "#axes.set_xticks(range(5,15))\n",
    "#axes.set_yticks(range(4,18))\n",
    "\n"
   ]
  },
  {
   "cell_type": "markdown",
   "id": "5e2480c3",
   "metadata": {},
   "source": [
    "### Feature importance"
   ]
  },
  {
   "cell_type": "code",
   "execution_count": 45,
   "id": "60e3aa26",
   "metadata": {},
   "outputs": [],
   "source": [
    "from pprint import pprint"
   ]
  },
  {
   "cell_type": "code",
   "execution_count": 46,
   "id": "3d476e77",
   "metadata": {},
   "outputs": [],
   "source": [
    "#Reverse the dictionary\n",
    "index2features = {}\n",
    "for i in range(len(SNIPPET_LENS)):\n",
    "    index2feature = {}\n",
    "    vectorizer = vectorizers[i]\n",
    "    for feature,idx in vectorizer.vocabulary_.items():\n",
    "        assert idx not in index2feature #This really should hold\n",
    "        index2feature[idx]=feature\n",
    "    index2features[i] = index2feature\n",
    "#Now we can query index2feature to get the feature names as we need"
   ]
  },
  {
   "cell_type": "code",
   "execution_count": 47,
   "id": "27a57f96",
   "metadata": {},
   "outputs": [],
   "source": [
    "highest_prios = {}\n",
    "for i in range(6):\n",
    "    model = models[i]\n",
    "    # make a list of (weight, index), sort it\n",
    "    lst=[]\n",
    "    for idx,weight in enumerate(model.coef_):\n",
    "        lst.append((weight,idx))\n",
    "    lst.sort() #sort\n",
    "\n",
    "    #Print first few and last few\n",
    "    #for weight,idx in lst[:20]: #first 30 (ie lowest weight)\n",
    "    #    print(index2feature[idx])\n",
    "    #print(\"----------------------------------------------------\")\n",
    "    #Take the last 30 (lst[-30:]) but these now come from weakest to strongest\n",
    "    #so reverse the list using [::-1]\n",
    "    highest_prio = []\n",
    "    for weight,idx in lst[-20:][::-1]:\n",
    "        highest_prio.append(index2features[i][idx])\n",
    "    highest_prios[i] = highest_prio"
   ]
  },
  {
   "cell_type": "code",
   "execution_count": 48,
   "id": "3f8d0b70",
   "metadata": {},
   "outputs": [
    {
     "name": "stdout",
     "output_type": "stream",
     "text": [
      "{0: ['juuli',\n",
      "     'tiny',\n",
      "     'you',\n",
      "     'sodan',\n",
      "     '\"',\n",
      "     '.',\n",
      "     'mulle',\n",
      "     'veljeni',\n",
      "     'noita',\n",
      "     'istun',\n",
      "     'mua',\n",
      "     'hänen',\n",
      "     'mun',\n",
      "     'itseäni',\n",
      "     'huulet',\n",
      "     'i',\n",
      "     'sormet',\n",
      "     'olin',\n",
      "     'kanssani',\n",
      "     'oltiin'],\n",
      " 1: ['juuli',\n",
      "     'tiny',\n",
      "     'you',\n",
      "     '.',\n",
      "     'hänen',\n",
      "     '\"',\n",
      "     'mulle',\n",
      "     'ollut',\n",
      "     'noita',\n",
      "     'i',\n",
      "     'olin',\n",
      "     'itseäni',\n",
      "     'olen',\n",
      "     'mun',\n",
      "     'veljeni',\n",
      "     'minulle',\n",
      "     'mua',\n",
      "     'kuin',\n",
      "     '}',\n",
      "     'istun'],\n",
      " 2: ['juuli',\n",
      "     'hänen',\n",
      "     'you',\n",
      "     '.',\n",
      "     'tiny',\n",
      "     'ollut',\n",
      "     'olen',\n",
      "     '\"',\n",
      "     'olin',\n",
      "     'kuin',\n",
      "     'en',\n",
      "     'mun',\n",
      "     'olisi',\n",
      "     'minulle',\n",
      "     'katsoo',\n",
      "     'sodan',\n",
      "     'mä',\n",
      "     'minut',\n",
      "     'i',\n",
      "     'mua'],\n",
      " 3: ['juuli',\n",
      "     'hänen',\n",
      "     'ollut',\n",
      "     '.',\n",
      "     'you',\n",
      "     '\"',\n",
      "     'en',\n",
      "     'olen',\n",
      "     'olin',\n",
      "     'mä',\n",
      "     'tiny',\n",
      "     'ei',\n",
      "     'kuin',\n",
      "     'mun',\n",
      "     'olisi',\n",
      "     'katsoo',\n",
      "     'minulle',\n",
      "     'häntä',\n",
      "     'halunnut',\n",
      "     'sodan'],\n",
      " 4: ['juuli',\n",
      "     'hänen',\n",
      "     'ollut',\n",
      "     '.',\n",
      "     'en',\n",
      "     'mä',\n",
      "     '\"',\n",
      "     'you',\n",
      "     'ei',\n",
      "     'olin',\n",
      "     'olen',\n",
      "     'tiny',\n",
      "     'mun',\n",
      "     'kuin',\n",
      "     'olisi',\n",
      "     'katsoo',\n",
      "     'häntä',\n",
      "     'että',\n",
      "     'ole',\n",
      "     'oli'],\n",
      " 5: ['hänen',\n",
      "     'juuli',\n",
      "     'mä',\n",
      "     '.',\n",
      "     '\"',\n",
      "     'en',\n",
      "     'ollut',\n",
      "     'ei',\n",
      "     'olin',\n",
      "     'you',\n",
      "     'olen',\n",
      "     'mun',\n",
      "     'tiny',\n",
      "     'kuin',\n",
      "     'olisi',\n",
      "     'että',\n",
      "     ',',\n",
      "     'oli',\n",
      "     'katsoo',\n",
      "     'häntä']}\n"
     ]
    }
   ],
   "source": [
    "pprint(highest_prios)"
   ]
  },
  {
   "cell_type": "markdown",
   "id": "96e10dbc",
   "metadata": {},
   "source": [
    "### Clean up cache files"
   ]
  },
  {
   "cell_type": "code",
   "execution_count": 49,
   "id": "d4bc5ff1",
   "metadata": {},
   "outputs": [
    {
     "data": {
      "text/plain": [
       "'\\nfor x in cache_file_trains:\\n    os.remove(x)\\nfor x in cache_file_evals:\\n    os.remove(x)\\nfor x in cache_file_tests:\\n    os.remove(x)\\n'"
      ]
     },
     "execution_count": 49,
     "metadata": {},
     "output_type": "execute_result"
    }
   ],
   "source": [
    "\"\"\"\n",
    "for x in cache_file_trains:\n",
    "    os.remove(x)\n",
    "for x in cache_file_evals:\n",
    "    os.remove(x)\n",
    "for x in cache_file_tests:\n",
    "    os.remove(x)\n",
    "\"\"\""
   ]
  }
 ],
 "metadata": {
  "kernelspec": {
   "display_name": "Test",
   "language": "python",
   "name": "python3"
  },
  "language_info": {
   "codemirror_mode": {
    "name": "ipython",
    "version": 3
   },
   "file_extension": ".py",
   "mimetype": "text/x-python",
   "name": "python",
   "nbconvert_exporter": "python",
   "pygments_lexer": "ipython3",
   "version": "3.10.16"
  }
 },
 "nbformat": 4,
 "nbformat_minor": 5
}
