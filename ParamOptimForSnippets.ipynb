{
 "cells": [
  {
   "cell_type": "code",
   "execution_count": 1,
   "id": "53156104",
   "metadata": {},
   "outputs": [
    {
     "name": "stderr",
     "output_type": "stream",
     "text": [
      "/home/tenojo/miniconda3/envs/Test/lib/python3.10/site-packages/tqdm/auto.py:21: TqdmWarning: IProgress not found. Please update jupyter and ipywidgets. See https://ipywidgets.readthedocs.io/en/stable/user_install.html\n",
      "  from .autonotebook import tqdm as notebook_tqdm\n"
     ]
    }
   ],
   "source": [
    "#Imports\n",
    "from scripts import bookdatafunctions as bdf\n",
    "from scripts import corpusMLfunctions as cmf\n",
    "import pandas as pd\n",
    "import numpy as np\n",
    "from datasets import Dataset, DatasetDict, logging\n",
    "from tqdm import tqdm\n",
    "import os\n",
    "from sklearn.feature_extraction.text import TfidfVectorizer\n",
    "from sklearn.svm import LinearSVC\n",
    "from sklearn import metrics\n",
    "from sklearn.metrics import f1_score\n",
    "import optuna\n",
    "import json\n",
    "import multiprocessing as mp"
   ]
  },
  {
   "cell_type": "code",
   "execution_count": 2,
   "id": "59d01a4d",
   "metadata": {},
   "outputs": [],
   "source": [
    "BASE_BEG = \"SnippetDatasets/\"\n",
    "BASE_MID = \"sniplen_\"\n",
    "BASE_END = \".jsonl\"\n",
    "KEYLISTS = \"Keylists.jsonl\"\n",
    "SNIPPET_LENS = ['5','10','25','50','75','100']\n",
    "CHOSEN_PARAMS = [{'c':0.15, 'tol':1e-6}, {'c':0.4, 'tol':1e-4}, {'c':5, 'tol':1e-4}, {'c':15, 'tol':1e-3}, {'c':60, 'tol':1e-3}, {'c':120, 'tol':1e-3}]\n",
    "logging.set_verbosity(40)"
   ]
  },
  {
   "cell_type": "code",
   "execution_count": 3,
   "id": "81bdd126",
   "metadata": {},
   "outputs": [],
   "source": [
    "keylists = []\n",
    "with open(KEYLISTS, 'r') as f:\n",
    "    for line in f:\n",
    "        keylists.append(json.loads(line))"
   ]
  },
  {
   "cell_type": "code",
   "execution_count": 4,
   "id": "bbc8b081",
   "metadata": {},
   "outputs": [],
   "source": [
    "def do_nothing(ex):\n",
    "    return ex.lower()\n",
    "\n",
    "def conllu_tokenizer(ex):\n",
    "    return ex.replace(\"\\n\", \"\\t\").replace(\"|\", \"\\t\").split(\"\\t\")\n",
    "\n",
    "def whitespace_tokenizer(ex):\n",
    "    return ex.split(\" \")"
   ]
  },
  {
   "cell_type": "code",
   "execution_count": 5,
   "id": "888dc510",
   "metadata": {},
   "outputs": [],
   "source": [
    "def manualStudy(params, SNIPPET_LENS, keylists, i, k, overwrite: bool=True):\n",
    "    filename = \"TestResults/ParamOptim_List_\"+str(i)+\"_SnipLen_\"+str(SNIPPET_LENS[k])+\"_Results.jsonl\"\n",
    "    if overwrite or not os.path.exists(filename):\n",
    "        train_keys = keylists[i]['train_keys']\n",
    "        eval_keys = keylists[i]['eval_keys']\n",
    "        train_dss = cmf.combineSnippedBooksToDS(train_keys, SNIPPET_LENS[k], BASE_BEG)\n",
    "        eval_dss = cmf.combineSnippedBooksToDS(eval_keys, SNIPPET_LENS[k], BASE_BEG)\n",
    "        vectorizer = TfidfVectorizer(norm='l2', tokenizer=conllu_tokenizer, preprocessor=do_nothing, max_features=2000).fit(train_dss['conllu'])\n",
    "\n",
    "        vecd_train_data = vectorizer.transform(train_dss['conllu'])\n",
    "        vecd_eval_data = vectorizer.transform(eval_dss['conllu'])\n",
    "        #print(\"Worker for length \",SNIPPET_LENS[k],\" and keylist \",i,\" activated!\")\n",
    "        returnable = []\n",
    "        for pair in params:\n",
    "            #Train a new classifier for each set of params\n",
    "            \n",
    "                clf = LinearSVC(\n",
    "                    random_state=42,\n",
    "                    C=pair['c'],\n",
    "                    tol=pair['tol']\n",
    "                )\n",
    "                clf.fit(vecd_train_data, train_dss['label'])\n",
    "                predicted = clf.predict(vecd_eval_data)\n",
    "                f1 = f1_score(eval_dss['label'], predicted, average=\"macro\")\n",
    "                #Reverse the dictionary\n",
    "                index2feature = {}\n",
    "                for feature,idx in vectorizer.vocabulary_.items():\n",
    "                    assert idx not in index2feature #This really should hold\n",
    "                    index2feature[idx]=feature\n",
    "                #Now we can query index2feature to get the feature names as we need\n",
    "                high_prio = {}\n",
    "                # make a list of (weight, index), sort it\n",
    "                for j in range(3):\n",
    "                    lst=[]\n",
    "                    for idx,weight in enumerate(clf.coef_[j]):\n",
    "                        lst.append((weight,idx))\n",
    "                    lst.sort() #sort\n",
    "\n",
    "                    #Print first few and last few\n",
    "                    #for weight,idx in lst[:20]: #first 30 (ie lowest weight)\n",
    "                    #    print(index2feature[idx])\n",
    "                    #print(\"----------------------------------------------------\")\n",
    "                    #Take the last 30 (lst[-30:]) but these now come from weakest to strongest\n",
    "                    #so reverse the list using [::-1]\n",
    "                    highest_prio = []\n",
    "                    for weight,idx in lst[-100:][::-1]:\n",
    "                        highest_prio.append(index2feature[idx])\n",
    "                    high_prio[j] = highest_prio\n",
    "                returnable.append({'keylist_id':i, 'sniplen':SNIPPET_LENS[k], 'c':pair['c'], 'tol':pair['tol'], 'f1':f1, 'important_feats_7-8':high_prio[0], 'important_feats_9-12':high_prio[1], 'important_feats_13+':high_prio[2]})\n",
    "        with open(filename, 'w') as f:\n",
    "            f.write('\\n'.join(map(json.dumps, returnable)))"
   ]
  },
  {
   "cell_type": "code",
   "execution_count": 6,
   "id": "5de63278",
   "metadata": {},
   "outputs": [],
   "source": [
    "def testParamResults(permutations: int, keylists: list):\n",
    "    pool = mp.Pool(mp.cpu_count())\n",
    "    pbar = tqdm(total=permutations)\n",
    "    def update(*a):\n",
    "     pbar.update()\n",
    "    for i in range(permutations):\n",
    "        #Add to list the test results of our 'manual' study\n",
    "        for k in range(len(SNIPPET_LENS)):\n",
    "            pool.apply_async(manualStudy, [CHOSEN_PARAMS, SNIPPET_LENS, keylists, i, k], callback=update)\n",
    "    #print(\"All running!\")\n",
    "    pool.close()\n",
    "    #print(\"Pool closed!\")\n",
    "    pool.join()\n",
    "    #print(\"Waiting done!\")\n",
    "    "
   ]
  },
  {
   "cell_type": "code",
   "execution_count": 7,
   "id": "9020db06",
   "metadata": {},
   "outputs": [],
   "source": [
    "#testParamResults(1, keylists)"
   ]
  },
  {
   "cell_type": "code",
   "execution_count": 8,
   "id": "680ab278",
   "metadata": {},
   "outputs": [],
   "source": [
    "def testForAllSets():\n",
    "    test_results = []\n",
    "    with tqdm(range(100), desc=\"Iterating through permutations...\") as pbar:\n",
    "        for i in range(2):\n",
    "            train_keys = keylists[i]['train_keys']\n",
    "            eval_keys = keylists[i]['eval_keys']\n",
    "            test_keys = keylists[i]['train_keys']\n",
    "            train_dss = [cmf.combineSnippedBooksToDS(train_keys, x, BASE_BEG) for x in SNIPPET_LENS]\n",
    "            eval_dss = [cmf.combineSnippedBooksToDS(eval_keys, x, BASE_BEG) for x in SNIPPET_LENS]\n",
    "            test_dss = [cmf.combineSnippedBooksToDS(test_keys, x, BASE_BEG) for x in SNIPPET_LENS]\n",
    "            vectorizers = [TfidfVectorizer(norm='l2', tokenizer=conllu_tokenizer, preprocessor=do_nothing, max_features=2000).fit(x['conllu']) for x in train_dss]\n",
    "\n",
    "            vecd_train_datas = [vectorizers[i].transform(train_dss[i]['conllu']) for i in range(len(SNIPPET_LENS))]\n",
    "            vecd_eval_datas = [vectorizers[i].transform(eval_dss[i]['conllu']) for i in range(len(SNIPPET_LENS))]\n",
    "            vecd_test_datas = [vectorizers[i].transform(test_dss[i]['conllu']) for i in range(len(SNIPPET_LENS))]\n",
    "\n",
    "            classifiers = {}\n",
    "            f_scores = []\n",
    "            for j in range(len(SNIPPET_LENS)):\n",
    "                clf = LinearSVC(\n",
    "                loss='squared_hinge', penalty='l2',\n",
    "                                random_state=42,\n",
    "                                C=62.42249746377182,\n",
    "                                tol=0.001)\n",
    "                clf.fit(vecd_train_datas[j], train_dss[j]['label'])\n",
    "                classifiers[SNIPPET_LENS[j]] = clf\n",
    "                test_predict = clf.predict(vecd_test_datas[j])\n",
    "                f_scores.append(f1_score(test_dss[j]['label'], test_predict, average=\"macro\"))\n",
    "\n",
    "            #Reverse the dictionary\n",
    "            index2features = {}\n",
    "            for i in range(len(SNIPPET_LENS)):\n",
    "                index2feature = {}\n",
    "                vectorizer = vectorizers[i]\n",
    "                for feature,idx in vectorizer.vocabulary_.items():\n",
    "                    assert idx not in index2feature #This really should hold\n",
    "                    index2feature[idx]=feature\n",
    "                index2features[SNIPPET_LENS[i]] = index2feature\n",
    "            #Now we can query index2feature to get the feature names as we need\n",
    "            highest_prios = {}\n",
    "            for i in SNIPPET_LENS:\n",
    "                high_prio = {}\n",
    "                classifier = classifiers[i]\n",
    "                index2feature = index2features[i]\n",
    "                # make a list of (weight, index), sort it\n",
    "                for j in range(3):\n",
    "                    lst=[]\n",
    "                    for idx,weight in enumerate(classifier.coef_[j]):\n",
    "                        lst.append((weight,idx))\n",
    "                    lst.sort() #sort\n",
    "\n",
    "                    #Print first few and last few\n",
    "                    #for weight,idx in lst[:20]: #first 30 (ie lowest weight)\n",
    "                    #    print(index2feature[idx])\n",
    "                    #print(\"----------------------------------------------------\")\n",
    "                    #Take the last 30 (lst[-30:]) but these now come from weakest to strongest\n",
    "                    #so reverse the list using [::-1]\n",
    "                    highest_prio = []\n",
    "                    for weight,idx in lst[-100:][::-1]:\n",
    "                        highest_prio.append(index2feature[idx])\n",
    "                    high_prio[j] = high_prio\n",
    "                highest_prios[i] = high_prio\n",
    "            test_results.append({'id':i, 'f1s':f_scores, 'feats':highest_prios})\n",
    "            pbar.update(1)\n",
    "    return test_results\n",
    "\n",
    "        \n"
   ]
  },
  {
   "cell_type": "code",
   "execution_count": 9,
   "id": "c4eba164",
   "metadata": {},
   "outputs": [],
   "source": [
    "#results = testForAllSets()"
   ]
  },
  {
   "cell_type": "code",
   "execution_count": 10,
   "id": "2d04c710",
   "metadata": {},
   "outputs": [],
   "source": [
    "#print(results)"
   ]
  },
  {
   "cell_type": "code",
   "execution_count": 11,
   "id": "a6e5bdf7",
   "metadata": {},
   "outputs": [],
   "source": [
    "from datasets import Dataset\n",
    "from scripts import bookdatafunctions as bdf\n",
    "def combineSnippedBooksToDS(keys: list[str], snip_len: str, cache_dir: str, cache_file:str, inc_raw_text: bool=False, inc_conllu: bool=False, inc_hpfv: bool=False, folder:str=None):\n",
    "    #logging.set_verbosity(40)\n",
    "    #Helper function to parse json-lines\n",
    "    def jsonlReader(key: str):\n",
    "        with open(folder+key+\"/sniplen_\"+snip_len+\".jsonl\") as reader:\n",
    "            with open(cache_file, 'a') as tt:\n",
    "                 #Only include the information we need for our specific purposes to save up on cache space\n",
    "                 for line in reader:\n",
    "                        if not inc_raw_text:\n",
    "                            line = line[:line.find(\",\\\"raw_text\\\":\")] + line[line.find(\",\\\"conllu\\\":\"):]\n",
    "                        if not inc_conllu:\n",
    "                            line = line[:line.find(\",\\\"conllu\\\":\")] + line[line.find(\",\\\"hp_fv\\\":\"):]\n",
    "                        if not inc_hpfv:\n",
    "                            line = line[:line.find(\",\\\"hp_fv\\\":\")] + line[line.find(\"}\\n\"):]\n",
    "                        tt.write(line)\n",
    "    #Generate list of dicts, where each dict is a json-line\n",
    "    for k in range(len(keys)):\n",
    "            jsonlReader(keys[k])\n",
    "    #Return a shuffled dataset\n",
    "    return Dataset.from_json(cache_file, cache_dir=cache_dir).shuffle()"
   ]
  },
  {
   "cell_type": "code",
   "execution_count": 12,
   "id": "7ed062b8",
   "metadata": {},
   "outputs": [],
   "source": [
    "train_keys = keylists[93]['train_keys']\n",
    "eval_keys = keylists[93]['eval_keys']\n",
    "test_keys = keylists[93]['test_keys']"
   ]
  },
  {
   "cell_type": "code",
   "execution_count": 14,
   "id": "21657f9b",
   "metadata": {},
   "outputs": [],
   "source": [
    "import shutil\n",
    "#Also makes it easier to clean cache files and use space more efficiently\n",
    "cache_dir = \"cache_dir/temp\"\n",
    "#shutil.rmtree(cache_dir)\n",
    "os.mkdir(cache_dir)\n",
    "cache_file_train = cache_dir+str(0)+\"_\"+str(SNIPPET_LENS[0])+\"_train.jsonl\"\n",
    "cache_file_eval = cache_dir+str(0)+\"_\"+str(SNIPPET_LENS[0])+\"_eval.jsonl\"\n",
    "cache_file_test = cache_dir+str(0)+\"_\"+str(SNIPPET_LENS[0])+\"_test.jsonl\""
   ]
  },
  {
   "cell_type": "code",
   "execution_count": 15,
   "id": "7454c819",
   "metadata": {},
   "outputs": [
    {
     "name": "stderr",
     "output_type": "stream",
     "text": [
      "Generating train split: 159233 examples [00:00, 1414317.01 examples/s]\n",
      "Generating train split: 79651 examples [00:00, 895240.58 examples/s]\n",
      "Generating train split: 31909 examples [00:00, 399733.72 examples/s]\n",
      "Generating train split: 15995 examples [00:00, 149983.10 examples/s]\n",
      "Generating train split: 10679 examples [00:00, 128348.62 examples/s]\n",
      "Generating train split: 8035 examples [00:00, 98372.48 examples/s]\n",
      "Generating train split: 43391 examples [00:00, 1404445.31 examples/s]\n",
      "Generating train split: 21705 examples [00:00, 703029.26 examples/s]\n",
      "Generating train split: 8690 examples [00:00, 340156.99 examples/s]\n",
      "Generating train split: 4352 examples [00:00, 154706.04 examples/s]\n",
      "Generating train split: 2907 examples [00:00, 100312.98 examples/s]\n",
      "Generating train split: 2187 examples [00:00, 78930.80 examples/s]\n",
      "Generating train split: 28411 examples [00:00, 1100337.69 examples/s]\n",
      "Generating train split: 14210 examples [00:00, 534764.07 examples/s]\n",
      "Generating train split: 5693 examples [00:00, 259030.11 examples/s]\n",
      "Generating train split: 2851 examples [00:00, 132972.61 examples/s]\n",
      "Generating train split: 1906 examples [00:00, 85875.73 examples/s]\n",
      "Generating train split: 1432 examples [00:00, 66461.33 examples/s]\n"
     ]
    }
   ],
   "source": [
    "train_dss = [combineSnippedBooksToDS(train_keys, x, cache_dir, cache_file=cache_dir+str(93)+\"_\"+x+\"_train.jsonl\", folder=BASE_BEG, inc_raw_text=True) for x in SNIPPET_LENS]\n",
    "eval_dss = [combineSnippedBooksToDS(eval_keys, x, cache_dir, cache_file=cache_dir+str(93)+\"_\"+x+\"_eval.jsonl\", folder=BASE_BEG, inc_raw_text=True) for x in SNIPPET_LENS]\n",
    "test_dss = [combineSnippedBooksToDS(test_keys, x, cache_dir, cache_file=cache_dir+str(93)+\"_\"+x+\"_test.jsonl\", folder=BASE_BEG, inc_raw_text=True) for x in SNIPPET_LENS]"
   ]
  },
  {
   "cell_type": "code",
   "execution_count": 16,
   "id": "2f087911",
   "metadata": {},
   "outputs": [],
   "source": [
    "def reMapLabels(ex):\n",
    "    age = int(ex['age'])\n",
    "    if age < 10:\n",
    "        ex['label'] = '7-10'\n",
    "    elif age > 11:\n",
    "        ex['label'] = '12+'\n",
    "    return ex\n"
   ]
  },
  {
   "cell_type": "code",
   "execution_count": 17,
   "id": "aeff42a9",
   "metadata": {},
   "outputs": [
    {
     "name": "stderr",
     "output_type": "stream",
     "text": [
      "Map: 100%|██████████| 159233/159233 [00:06<00:00, 23201.43 examples/s]\n",
      "Map: 100%|██████████| 79651/79651 [00:03<00:00, 22916.36 examples/s]\n",
      "Map: 100%|██████████| 31909/31909 [00:01<00:00, 22747.18 examples/s]\n",
      "Map: 100%|██████████| 15995/15995 [00:00<00:00, 23119.14 examples/s]\n",
      "Map: 100%|██████████| 10679/10679 [00:00<00:00, 22221.14 examples/s]\n",
      "Map: 100%|██████████| 8035/8035 [00:00<00:00, 20577.17 examples/s]\n",
      "Map: 100%|██████████| 43391/43391 [00:01<00:00, 22582.55 examples/s]\n",
      "Map: 100%|██████████| 21705/21705 [00:00<00:00, 23505.22 examples/s]\n",
      "Map: 100%|██████████| 8690/8690 [00:00<00:00, 23122.50 examples/s]\n",
      "Map: 100%|██████████| 4352/4352 [00:00<00:00, 22440.77 examples/s]\n",
      "Map: 100%|██████████| 2907/2907 [00:00<00:00, 20860.33 examples/s]\n",
      "Map: 100%|██████████| 2187/2187 [00:00<00:00, 21691.14 examples/s]\n",
      "Map: 100%|██████████| 28411/28411 [00:01<00:00, 22347.85 examples/s]\n",
      "Map: 100%|██████████| 14210/14210 [00:00<00:00, 23228.97 examples/s]\n",
      "Map: 100%|██████████| 5693/5693 [00:00<00:00, 18422.37 examples/s]\n",
      "Map: 100%|██████████| 2851/2851 [00:00<00:00, 21241.15 examples/s]\n",
      "Map: 100%|██████████| 1906/1906 [00:00<00:00, 22076.99 examples/s]\n",
      "Map: 100%|██████████| 1432/1432 [00:00<00:00, 20990.87 examples/s]\n"
     ]
    }
   ],
   "source": [
    "train_dss = [x.map(reMapLabels) for x in train_dss]\n",
    "eval_dss = [x.map(reMapLabels) for x in eval_dss]\n",
    "test_dss = [x.map(reMapLabels) for x in test_dss]"
   ]
  },
  {
   "cell_type": "code",
   "execution_count": 18,
   "id": "12cbbae5",
   "metadata": {},
   "outputs": [
    {
     "name": "stderr",
     "output_type": "stream",
     "text": [
      "/home/tenojo/miniconda3/envs/Test/lib/python3.10/site-packages/sklearn/feature_extraction/text.py:521: UserWarning: The parameter 'token_pattern' will not be used since 'tokenizer' is not None'\n",
      "  warnings.warn(\n"
     ]
    }
   ],
   "source": [
    "vectorizers = [TfidfVectorizer(norm='l2', tokenizer=whitespace_tokenizer, preprocessor=do_nothing, max_features=2000).fit(x['raw_text']) for x in train_dss]"
   ]
  },
  {
   "cell_type": "code",
   "execution_count": 19,
   "id": "d9a1d74a",
   "metadata": {},
   "outputs": [],
   "source": [
    "vecd_train_datas = [vectorizers[i].transform(train_dss[i]['raw_text']) for i in range(len(SNIPPET_LENS))]\n",
    "vecd_eval_datas = [vectorizers[i].transform(eval_dss[i]['raw_text']) for i in range(len(SNIPPET_LENS))]\n",
    "vecd_test_datas = [vectorizers[i].transform(test_dss[i]['raw_text']) for i in range(len(SNIPPET_LENS))]"
   ]
  },
  {
   "cell_type": "code",
   "execution_count": 20,
   "id": "1613ff88",
   "metadata": {},
   "outputs": [],
   "source": [
    "from scipy.stats import hmean\n",
    "# Your code to train the machine learning model on the training set and evaluate the performance on the validation set here\n",
    "def objective(trial):\n",
    "    #Defining hyperparameters to tune\n",
    "    c = trial.suggest_float('c', 1e-5, 1e+2, log=True)\n",
    "    tol = trial.suggest_categorical('tol', [1e-6, 1e-5, 1e-4, 1e-3])\n",
    "\n",
    "    #Scaling the c-param by num_of_samples * sqrt of train size\n",
    "    \n",
    "    #c_scaler = 1\n",
    "\n",
    "    f1s = []\n",
    "    for i in range(len(SNIPPET_LENS)):\n",
    "        #c_scaler = float(len(train_dss[i]['conllu']) * np.sqrt(0.7)) \n",
    "        clf = LinearSVC(\n",
    "            random_state=42,\n",
    "            C=c,\n",
    "            tol=tol\n",
    "        )\n",
    "        clf.fit(vecd_train_datas[i], train_dss[i]['label'])\n",
    "        predicted = clf.predict(vecd_eval_datas[i])\n",
    "        f1s.append(f1_score(eval_dss[i]['label'], predicted, average=\"macro\"))\n",
    "    return np.min(f1s)"
   ]
  },
  {
   "cell_type": "code",
   "execution_count": 21,
   "id": "0f7e92fc",
   "metadata": {},
   "outputs": [
    {
     "data": {
      "text/plain": [
       "'\\nfrom sklearn.linear_model import LogisticRegression\\n\\n# Your code to train the machine learning model on the training set and evaluate the performance on the validation set here\\ndef objective(trial):\\n    #Defining hyperparameters to tune\\n    c = trial.suggest_float(\\'c\\', 1e-5, 1e+1, log=True)\\n    tol = trial.suggest_categorical(\\'tol\\', [1e-6, 1e-5, 1e-4, 1e-3])\\n\\n    #Scaling the c-param by num_of_samples * sqrt of train size\\n    #c_scaler = float(len(train_ds[\\'conllu\\']) * np.sqrt(0.7)) \\n    c_scaler = 1\\n\\n    f1s = []\\n    for i in range(len(SNIPPET_LENS)):\\n        clf = LogisticRegression(\\n            penalty=\\'l1\\',\\n            solver=\\'liblinear\\',\\n            random_state=42,\\n            C=c,\\n            tol=tol\\n        )\\n        clf.fit(vecd_train_datas[i], train_dss[i][\\'age\\'])\\n        predicted = clf.predict(vecd_eval_datas[i])\\n        f1s.append(f1_score(eval_dss[i][\\'age\\'], predicted, average=\"macro\"))\\n    return hmean(f1s)\\n'"
      ]
     },
     "execution_count": 21,
     "metadata": {},
     "output_type": "execute_result"
    }
   ],
   "source": [
    "\"\"\"\n",
    "from sklearn.linear_model import LogisticRegression\n",
    "\n",
    "# Your code to train the machine learning model on the training set and evaluate the performance on the validation set here\n",
    "def objective(trial):\n",
    "    #Defining hyperparameters to tune\n",
    "    c = trial.suggest_float('c', 1e-5, 1e+1, log=True)\n",
    "    tol = trial.suggest_categorical('tol', [1e-6, 1e-5, 1e-4, 1e-3])\n",
    "\n",
    "    #Scaling the c-param by num_of_samples * sqrt of train size\n",
    "    #c_scaler = float(len(train_ds['conllu']) * np.sqrt(0.7)) \n",
    "    c_scaler = 1\n",
    "\n",
    "    f1s = []\n",
    "    for i in range(len(SNIPPET_LENS)):\n",
    "        clf = LogisticRegression(\n",
    "            penalty='l1',\n",
    "            solver='liblinear',\n",
    "            random_state=42,\n",
    "            C=c,\n",
    "            tol=tol\n",
    "        )\n",
    "        clf.fit(vecd_train_datas[i], train_dss[i]['age'])\n",
    "        predicted = clf.predict(vecd_eval_datas[i])\n",
    "        f1s.append(f1_score(eval_dss[i]['age'], predicted, average=\"macro\"))\n",
    "    return hmean(f1s)\n",
    "\"\"\""
   ]
  },
  {
   "cell_type": "code",
   "execution_count": 22,
   "id": "8b61d6d1",
   "metadata": {},
   "outputs": [
    {
     "name": "stderr",
     "output_type": "stream",
     "text": [
      "[I 2025-08-15 09:15:49,697] A new study created in memory with name: no-name-7f8f2d64-9481-41cb-95d3-088c6ec6db07\n",
      "[I 2025-08-15 09:15:57,612] Trial 0 finished with value: 0.3634296279562379 and parameters: {'c': 0.24899831857545904, 'tol': 0.001}. Best is trial 0 with value: 0.3634296279562379.\n",
      "[I 2025-08-15 09:16:06,911] Trial 1 finished with value: 0.36134332814313436 and parameters: {'c': 0.058215797739280616, 'tol': 1e-05}. Best is trial 0 with value: 0.3634296279562379.\n",
      "[I 2025-08-15 09:16:14,005] Trial 2 finished with value: 0.3601929861833643 and parameters: {'c': 0.032207956747837656, 'tol': 0.0001}. Best is trial 0 with value: 0.3634296279562379.\n",
      "[I 2025-08-15 09:16:15,928] Trial 3 finished with value: 0.18902550252417416 and parameters: {'c': 0.00019539424732516257, 'tol': 0.001}. Best is trial 0 with value: 0.3634296279562379.\n",
      "[I 2025-08-15 09:16:49,976] Trial 4 finished with value: 0.3638537211804224 and parameters: {'c': 72.36090555312852, 'tol': 1e-05}. Best is trial 4 with value: 0.3638537211804224.\n",
      "[I 2025-08-15 09:16:53,166] Trial 5 finished with value: 0.27968706904779167 and parameters: {'c': 0.002327419520879028, 'tol': 0.001}. Best is trial 4 with value: 0.3638537211804224.\n",
      "[I 2025-08-15 09:17:27,688] Trial 6 finished with value: 0.3638463420644957 and parameters: {'c': 25.137780497668306, 'tol': 1e-06}. Best is trial 4 with value: 0.3638537211804224.\n",
      "[I 2025-08-15 09:17:30,483] Trial 7 finished with value: 0.17789697172868477 and parameters: {'c': 0.00047823106951498206, 'tol': 0.0001}. Best is trial 4 with value: 0.3638537211804224.\n",
      "[I 2025-08-15 09:17:51,020] Trial 8 finished with value: 0.3638451332069235 and parameters: {'c': 19.48298033192024, 'tol': 0.0001}. Best is trial 4 with value: 0.3638537211804224.\n",
      "[I 2025-08-15 09:17:59,881] Trial 9 finished with value: 0.36337101829731416 and parameters: {'c': 0.38901148610632463, 'tol': 0.001}. Best is trial 4 with value: 0.3638537211804224.\n"
     ]
    }
   ],
   "source": [
    "# Your code for hyperparameter optimization here\n",
    "study = optuna.create_study(direction='maximize')\n",
    "study.optimize(objective, n_trials=10)"
   ]
  },
  {
   "cell_type": "code",
   "execution_count": 23,
   "id": "6d707776",
   "metadata": {},
   "outputs": [
    {
     "name": "stdout",
     "output_type": "stream",
     "text": [
      "Best trial (number 4):\n",
      "  Value: 0.3638537211804224\n",
      "  Params: {'c': 72.36090555312852, 'tol': 1e-05}\n"
     ]
    }
   ],
   "source": [
    "# Print the best trial's hyperparameters and objective value\n",
    "best_trial = study.best_trial\n",
    "print(f\"Best trial (number {best_trial.number}):\")\n",
    "print(f\"  Value: {best_trial.value}\")\n",
    "print(f\"  Params: {best_trial.params}\")"
   ]
  },
  {
   "cell_type": "code",
   "execution_count": 24,
   "id": "c0c4250a",
   "metadata": {},
   "outputs": [],
   "source": [
    "classifiers = {}\n",
    "p = {}"
   ]
  },
  {
   "cell_type": "code",
   "execution_count": 25,
   "id": "fc71cbb7",
   "metadata": {},
   "outputs": [
    {
     "name": "stdout",
     "output_type": "stream",
     "text": [
      "Results for snippet length:  5\n",
      "              precision    recall  f1-score   support\n",
      "\n",
      "         12+       0.56      0.57      0.56     22350\n",
      "        7-10       0.56      0.48      0.52     20159\n",
      "        9-12       0.01      0.03      0.01       882\n",
      "\n",
      "    accuracy                           0.51     43391\n",
      "   macro avg       0.38      0.36      0.36     43391\n",
      "weighted avg       0.55      0.51      0.53     43391\n",
      "\n",
      "Results for snippet length:  10\n",
      "              precision    recall  f1-score   support\n",
      "\n",
      "         12+       0.53      0.60      0.56     10203\n",
      "        7-10       0.63      0.49      0.55     10866\n",
      "        9-12       0.01      0.04      0.02       636\n",
      "\n",
      "    accuracy                           0.53     21705\n",
      "   macro avg       0.39      0.38      0.38     21705\n",
      "weighted avg       0.57      0.53      0.54     21705\n",
      "\n",
      "Results for snippet length:  25\n",
      "              precision    recall  f1-score   support\n",
      "\n",
      "         12+       0.52      0.63      0.57      3753\n",
      "        7-10       0.67      0.50      0.58      4559\n",
      "        9-12       0.02      0.03      0.02       378\n",
      "\n",
      "    accuracy                           0.54      8690\n",
      "   macro avg       0.40      0.39      0.39      8690\n",
      "weighted avg       0.58      0.54      0.55      8690\n",
      "\n",
      "Results for snippet length:  50\n",
      "              precision    recall  f1-score   support\n",
      "\n",
      "         12+       0.51      0.65      0.57      1804\n",
      "        7-10       0.69      0.50      0.58      2323\n",
      "        9-12       0.03      0.05      0.04       225\n",
      "\n",
      "    accuracy                           0.54      4352\n",
      "   macro avg       0.41      0.40      0.40      4352\n",
      "weighted avg       0.58      0.54      0.55      4352\n",
      "\n",
      "Results for snippet length:  75\n",
      "              precision    recall  f1-score   support\n",
      "\n",
      "         12+       0.54      0.66      0.60      1247\n",
      "        7-10       0.70      0.52      0.60      1536\n",
      "        9-12       0.02      0.04      0.03       124\n",
      "\n",
      "    accuracy                           0.56      2907\n",
      "   macro avg       0.42      0.41      0.41      2907\n",
      "weighted avg       0.61      0.56      0.57      2907\n",
      "\n",
      "Results for snippet length:  100\n",
      "              precision    recall  f1-score   support\n",
      "\n",
      "         12+       0.53      0.67      0.59       908\n",
      "        7-10       0.72      0.52      0.60      1186\n",
      "        9-12       0.02      0.04      0.03        93\n",
      "\n",
      "    accuracy                           0.56      2187\n",
      "   macro avg       0.42      0.41      0.41      2187\n",
      "weighted avg       0.61      0.56      0.57      2187\n",
      "\n"
     ]
    }
   ],
   "source": [
    "for i in range(len(SNIPPET_LENS)):\n",
    "    clf = LinearSVC(\n",
    "    loss='squared_hinge', penalty='l2',\n",
    "                    random_state=42,\n",
    "                    C=best_trial.params['c'],\n",
    "                    tol=best_trial.params['tol'])\n",
    "    clf.fit(vecd_train_datas[i], train_dss[i]['label'])\n",
    "    classifiers[SNIPPET_LENS[i]] = clf\n",
    "    test_predict = clf.predict(vecd_eval_datas[i])\n",
    "    print(\"Results for snippet length: \",SNIPPET_LENS[i])\n",
    "    print(metrics.classification_report(test_predict, eval_dss[i]['label']))\n",
    "    p[i] = metrics.ConfusionMatrixDisplay(confusion_matrix=metrics.confusion_matrix(test_predict, eval_dss[i]['label']), display_labels=clf.classes_)"
   ]
  },
  {
   "cell_type": "code",
   "execution_count": 26,
   "id": "9f6ec697",
   "metadata": {},
   "outputs": [
    {
     "data": {
      "text/plain": [
       "<sklearn.metrics._plot.confusion_matrix.ConfusionMatrixDisplay at 0x751ae1c5be80>"
      ]
     },
     "execution_count": 26,
     "metadata": {},
     "output_type": "execute_result"
    },
    {
     "data": {
      "image/png": "[encoded data removed]",
      "text/plain": [
       "<Figure size 640x480 with 2 Axes>"
      ]
     },
     "metadata": {},
     "output_type": "display_data"
    }
   ],
   "source": [
    "p[5].plot()"
   ]
  },
  {
   "cell_type": "markdown",
   "id": "a3170882",
   "metadata": {},
   "source": [
    "# Most important features comparison"
   ]
  },
  {
   "cell_type": "code",
   "execution_count": 27,
   "id": "e11cabd2",
   "metadata": {},
   "outputs": [],
   "source": [
    "#Reverse the dictionary\n",
    "index2features = {}\n",
    "for i in range(len(SNIPPET_LENS)):\n",
    "    index2feature = {}\n",
    "    vectorizer = vectorizers[i]\n",
    "    for feature,idx in vectorizer.vocabulary_.items():\n",
    "        assert idx not in index2feature #This really should hold\n",
    "        index2feature[idx]=feature\n",
    "    index2features[SNIPPET_LENS[i]] = index2feature\n",
    "#Now we can query index2feature to get the feature names as we need"
   ]
  },
  {
   "cell_type": "code",
   "execution_count": 28,
   "id": "505dc799",
   "metadata": {},
   "outputs": [],
   "source": [
    "highest_prios = {}\n",
    "for i in SNIPPET_LENS:\n",
    "    classifier = classifiers[i]\n",
    "    index2feature = index2features[i]\n",
    "    # make a list of (weight, index), sort it\n",
    "    lst=[]\n",
    "    for idx,weight in enumerate(classifier.coef_[0]):\n",
    "        lst.append((weight,idx))\n",
    "    lst.sort() #sort\n",
    "\n",
    "    #Print first few and last few\n",
    "    #for weight,idx in lst[:20]: #first 30 (ie lowest weight)\n",
    "    #    print(index2feature[idx])\n",
    "    #print(\"----------------------------------------------------\")\n",
    "    #Take the last 30 (lst[-30:]) but these now come from weakest to strongest\n",
    "    #so reverse the list using [::-1]\n",
    "    highest_prio = []\n",
    "    for weight,idx in lst[-20:][::-1]:\n",
    "        highest_prio.append(index2feature[idx])\n",
    "    highest_prios[i] = highest_prio"
   ]
  },
  {
   "cell_type": "code",
   "execution_count": 29,
   "id": "8ef6e518",
   "metadata": {},
   "outputs": [
    {
     "name": "stdout",
     "output_type": "stream",
     "text": [
      "{'10': ['herttua',\n",
      "        'juuli',\n",
      "        'kopiointi',\n",
      "        'valittu',\n",
      "        'prinsessa',\n",
      "        'täydennä',\n",
      "        'mestari',\n",
      "        'you',\n",
      "        'sodan',\n",
      "        'noita',\n",
      "        'tuijotan',\n",
      "        'huulet',\n",
      "        'työ',\n",
      "        'kävelee',\n",
      "        'b',\n",
      "        'sulla',\n",
      "        'avaan',\n",
      "        'käännyn',\n",
      "        'näköjään',\n",
      "        'tajuan'],\n",
      " '100': ['herttua',\n",
      "         'valittu',\n",
      "         'näköjään',\n",
      "         'naurahti',\n",
      "         'noita',\n",
      "         'tuijotan',\n",
      "         'juuli',\n",
      "         'sanoit',\n",
      "         'tajuan',\n",
      "         'kulmiaan',\n",
      "         'prinsessa',\n",
      "         'kopiointi',\n",
      "         'olis',\n",
      "         'vastaa',\n",
      "         'kenties',\n",
      "         'kädessä',\n",
      "         'vie',\n",
      "         'you',\n",
      "         'lähde',\n",
      "         'kertoo'],\n",
      " '25': ['kopiointi',\n",
      "        'herttua',\n",
      "        'juuli',\n",
      "        'valittu',\n",
      "        'prinsessa',\n",
      "        'täydennä',\n",
      "        'you',\n",
      "        'näköjään',\n",
      "        'noita',\n",
      "        'mestari',\n",
      "        'käännyn',\n",
      "        'huulet',\n",
      "        'sulla',\n",
      "        'tajuan',\n",
      "        'olis',\n",
      "        'sodan',\n",
      "        'ovella',\n",
      "        'tuijotan',\n",
      "        'naurahti',\n",
      "        'tuijottaa'],\n",
      " '5': ['juuli',\n",
      "       'herttua',\n",
      "       'kopiointi',\n",
      "       'valittu',\n",
      "       'prinsessa',\n",
      "       'täydennä',\n",
      "       'you',\n",
      "       'mestari',\n",
      "       'sodan',\n",
      "       'noita',\n",
      "       'tuijotan',\n",
      "       'käännyn',\n",
      "       'huulet',\n",
      "       'vilkaisen',\n",
      "       'työ',\n",
      "       'kävelee',\n",
      "       'sulla',\n",
      "       'avaan',\n",
      "       'mulle',\n",
      "       'tajuan'],\n",
      " '50': ['herttua',\n",
      "        'kopiointi',\n",
      "        'juuli',\n",
      "        'valittu',\n",
      "        'näköjään',\n",
      "        'you',\n",
      "        'olis',\n",
      "        'prinsessa',\n",
      "        'tuoksu',\n",
      "        'täydennä',\n",
      "        'noita',\n",
      "        'nauruun',\n",
      "        'lähde',\n",
      "        'tuijotan',\n",
      "        'työ',\n",
      "        'naurahti',\n",
      "        'jostakin',\n",
      "        'talo',\n",
      "        'minussa',\n",
      "        'kulmiaan'],\n",
      " '75': ['herttua',\n",
      "        'kopiointi',\n",
      "        'näköjään',\n",
      "        'juuli',\n",
      "        'valittu',\n",
      "        'päättää',\n",
      "        'prinsessa',\n",
      "        'kulmiaan',\n",
      "        'tuoksu',\n",
      "        'kenties',\n",
      "        'käännyn',\n",
      "        'huulet',\n",
      "        'naurahti',\n",
      "        'kuolla',\n",
      "        'minussa',\n",
      "        'ovella',\n",
      "        'tyttöjen',\n",
      "        'aikoina',\n",
      "        'puoleen',\n",
      "        'tavalla']}\n"
     ]
    }
   ],
   "source": [
    "from pprint import pprint\n",
    "pprint(highest_prios)"
   ]
  }
 ],
 "metadata": {
  "kernelspec": {
   "display_name": "Test",
   "language": "python",
   "name": "python3"
  },
  "language_info": {
   "codemirror_mode": {
    "name": "ipython",
    "version": 3
   },
   "file_extension": ".py",
   "mimetype": "text/x-python",
   "name": "python",
   "nbconvert_exporter": "python",
   "pygments_lexer": "ipython3",
   "version": "3.10.16"
  }
 },
 "nbformat": 4,
 "nbformat_minor": 5
}
