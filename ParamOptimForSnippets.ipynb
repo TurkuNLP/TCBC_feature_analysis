{
 "cells": [
  {
   "cell_type": "code",
   "execution_count": 175,
   "id": "53156104",
   "metadata": {},
   "outputs": [],
   "source": [
    "#Imports\n",
    "from scripts import bookdatafunctions as bdf\n",
    "from scripts import corpusMLfunctions as cmf\n",
    "import pandas as pd\n",
    "import numpy as np\n",
    "from datasets import Dataset, DatasetDict, logging\n",
    "from tqdm import tqdm\n",
    "import os\n",
    "from sklearn.feature_extraction.text import TfidfVectorizer\n",
    "from sklearn.svm import LinearSVC\n",
    "from sklearn import metrics\n",
    "from sklearn.metrics import f1_score\n",
    "import optuna\n",
    "import json\n",
    "import multiprocessing as mp"
   ]
  },
  {
   "cell_type": "code",
   "execution_count": 176,
   "id": "59d01a4d",
   "metadata": {},
   "outputs": [],
   "source": [
    "BASE_BEG = \"SnippetDatasets/\"\n",
    "BASE_MID = \"sniplen_\"\n",
    "BASE_END = \".jsonl\"\n",
    "KEYLISTS = \"Keylists.jsonl\"\n",
    "SNIPPET_LENS = ['5','10','25','50','75','100']\n",
    "CHOSEN_PARAMS = [{'c':0.15, 'tol':1e-6}, {'c':0.4, 'tol':1e-4}, {'c':5, 'tol':1e-4}, {'c':15, 'tol':1e-3}, {'c':60, 'tol':1e-3}, {'c':120, 'tol':1e-3}]\n",
    "logging.set_verbosity(40)"
   ]
  },
  {
   "cell_type": "code",
   "execution_count": 177,
   "id": "81bdd126",
   "metadata": {},
   "outputs": [],
   "source": [
    "keylists = []\n",
    "with open(KEYLISTS, 'r') as f:\n",
    "    for line in f:\n",
    "        keylists.append(json.loads(line))"
   ]
  },
  {
   "cell_type": "code",
   "execution_count": 178,
   "id": "bbc8b081",
   "metadata": {},
   "outputs": [],
   "source": [
    "def do_nothing(ex):\n",
    "    return ex.lower()\n",
    "\n",
    "def conllu_tokenizer(ex):\n",
    "    return ex.replace(\"\\n\", \"\\t\").replace(\"|\", \"\\t\").split(\"\\t\")\n",
    "\n",
    "def whitespace_tokenizer(ex):\n",
    "    return ex.split(\" \")"
   ]
  },
  {
   "cell_type": "code",
   "execution_count": 179,
   "id": "888dc510",
   "metadata": {},
   "outputs": [],
   "source": [
    "def manualStudy(params, SNIPPET_LENS, keylists, i, k, overwrite: bool=True):\n",
    "    filename = \"TestResults/ParamOptim_List_\"+str(i)+\"_SnipLen_\"+str(SNIPPET_LENS[k])+\"_Results.jsonl\"\n",
    "    if overwrite or not os.path.exists(filename):\n",
    "        train_keys = keylists[i]['train_keys']\n",
    "        eval_keys = keylists[i]['eval_keys']\n",
    "        train_dss = cmf.combineSnippedBooksToDS(train_keys, SNIPPET_LENS[k], BASE_BEG)\n",
    "        eval_dss = cmf.combineSnippedBooksToDS(eval_keys, SNIPPET_LENS[k], BASE_BEG)\n",
    "        vectorizer = TfidfVectorizer(norm='l2', tokenizer=conllu_tokenizer, preprocessor=do_nothing, max_features=2000).fit(train_dss['conllu'])\n",
    "\n",
    "        vecd_train_data = vectorizer.transform(train_dss['conllu'])\n",
    "        vecd_eval_data = vectorizer.transform(eval_dss['conllu'])\n",
    "        #print(\"Worker for length \",SNIPPET_LENS[k],\" and keylist \",i,\" activated!\")\n",
    "        returnable = []\n",
    "        for pair in params:\n",
    "            #Train a new classifier for each set of params\n",
    "            \n",
    "                clf = LinearSVC(\n",
    "                    random_state=42,\n",
    "                    C=pair['c'],\n",
    "                    tol=pair['tol']\n",
    "                )\n",
    "                clf.fit(vecd_train_data, train_dss['label'])\n",
    "                predicted = clf.predict(vecd_eval_data)\n",
    "                f1 = f1_score(eval_dss['label'], predicted, average=\"macro\")\n",
    "                #Reverse the dictionary\n",
    "                index2feature = {}\n",
    "                for feature,idx in vectorizer.vocabulary_.items():\n",
    "                    assert idx not in index2feature #This really should hold\n",
    "                    index2feature[idx]=feature\n",
    "                #Now we can query index2feature to get the feature names as we need\n",
    "                high_prio = {}\n",
    "                # make a list of (weight, index), sort it\n",
    "                for j in range(3):\n",
    "                    lst=[]\n",
    "                    for idx,weight in enumerate(clf.coef_[j]):\n",
    "                        lst.append((weight,idx))\n",
    "                    lst.sort() #sort\n",
    "\n",
    "                    #Print first few and last few\n",
    "                    #for weight,idx in lst[:20]: #first 30 (ie lowest weight)\n",
    "                    #    print(index2feature[idx])\n",
    "                    #print(\"----------------------------------------------------\")\n",
    "                    #Take the last 30 (lst[-30:]) but these now come from weakest to strongest\n",
    "                    #so reverse the list using [::-1]\n",
    "                    highest_prio = []\n",
    "                    for weight,idx in lst[-100:][::-1]:\n",
    "                        highest_prio.append(index2feature[idx])\n",
    "                    high_prio[j] = highest_prio\n",
    "                returnable.append({'keylist_id':i, 'sniplen':SNIPPET_LENS[k], 'c':pair['c'], 'tol':pair['tol'], 'f1':f1, 'important_feats_7-8':high_prio[0], 'important_feats_9-12':high_prio[1], 'important_feats_13+':high_prio[2]})\n",
    "        with open(filename, 'w') as f:\n",
    "            f.write('\\n'.join(map(json.dumps, returnable)))"
   ]
  },
  {
   "cell_type": "code",
   "execution_count": 180,
   "id": "5de63278",
   "metadata": {},
   "outputs": [],
   "source": [
    "def testParamResults(permutations: int, keylists: list):\n",
    "    pool = mp.Pool(mp.cpu_count())\n",
    "    pbar = tqdm(total=permutations)\n",
    "    def update(*a):\n",
    "     pbar.update()\n",
    "    for i in range(permutations):\n",
    "        #Add to list the test results of our 'manual' study\n",
    "        for k in range(len(SNIPPET_LENS)):\n",
    "            pool.apply_async(manualStudy, [CHOSEN_PARAMS, SNIPPET_LENS, keylists, i, k], callback=update)\n",
    "    #print(\"All running!\")\n",
    "    pool.close()\n",
    "    #print(\"Pool closed!\")\n",
    "    pool.join()\n",
    "    #print(\"Waiting done!\")\n",
    "    "
   ]
  },
  {
   "cell_type": "code",
   "execution_count": 181,
   "id": "9020db06",
   "metadata": {},
   "outputs": [],
   "source": [
    "#testParamResults(1, keylists)"
   ]
  },
  {
   "cell_type": "code",
   "execution_count": 182,
   "id": "680ab278",
   "metadata": {},
   "outputs": [],
   "source": [
    "def testForAllSets():\n",
    "    test_results = []\n",
    "    with tqdm(range(100), desc=\"Iterating through permutations...\") as pbar:\n",
    "        for i in range(2):\n",
    "            train_keys = keylists[i]['train_keys']\n",
    "            eval_keys = keylists[i]['eval_keys']\n",
    "            test_keys = keylists[i]['train_keys']\n",
    "            train_dss = [cmf.combineSnippedBooksToDS(train_keys, x, BASE_BEG) for x in SNIPPET_LENS]\n",
    "            eval_dss = [cmf.combineSnippedBooksToDS(eval_keys, x, BASE_BEG) for x in SNIPPET_LENS]\n",
    "            test_dss = [cmf.combineSnippedBooksToDS(test_keys, x, BASE_BEG) for x in SNIPPET_LENS]\n",
    "            vectorizers = [TfidfVectorizer(norm='l2', tokenizer=conllu_tokenizer, preprocessor=do_nothing, max_features=2000).fit(x['conllu']) for x in train_dss]\n",
    "\n",
    "            vecd_train_datas = [vectorizers[i].transform(train_dss[i]['conllu']) for i in range(len(SNIPPET_LENS))]\n",
    "            vecd_eval_datas = [vectorizers[i].transform(eval_dss[i]['conllu']) for i in range(len(SNIPPET_LENS))]\n",
    "            vecd_test_datas = [vectorizers[i].transform(test_dss[i]['conllu']) for i in range(len(SNIPPET_LENS))]\n",
    "\n",
    "            classifiers = {}\n",
    "            f_scores = []\n",
    "            for j in range(len(SNIPPET_LENS)):\n",
    "                clf = LinearSVC(\n",
    "                loss='squared_hinge', penalty='l2',\n",
    "                                random_state=42,\n",
    "                                C=62.42249746377182,\n",
    "                                tol=0.001)\n",
    "                clf.fit(vecd_train_datas[j], train_dss[j]['label'])\n",
    "                classifiers[SNIPPET_LENS[j]] = clf\n",
    "                test_predict = clf.predict(vecd_test_datas[j])\n",
    "                f_scores.append(f1_score(test_dss[j]['label'], test_predict, average=\"macro\"))\n",
    "\n",
    "            #Reverse the dictionary\n",
    "            index2features = {}\n",
    "            for i in range(len(SNIPPET_LENS)):\n",
    "                index2feature = {}\n",
    "                vectorizer = vectorizers[i]\n",
    "                for feature,idx in vectorizer.vocabulary_.items():\n",
    "                    assert idx not in index2feature #This really should hold\n",
    "                    index2feature[idx]=feature\n",
    "                index2features[SNIPPET_LENS[i]] = index2feature\n",
    "            #Now we can query index2feature to get the feature names as we need\n",
    "            highest_prios = {}\n",
    "            for i in SNIPPET_LENS:\n",
    "                high_prio = {}\n",
    "                classifier = classifiers[i]\n",
    "                index2feature = index2features[i]\n",
    "                # make a list of (weight, index), sort it\n",
    "                for j in range(3):\n",
    "                    lst=[]\n",
    "                    for idx,weight in enumerate(classifier.coef_[j]):\n",
    "                        lst.append((weight,idx))\n",
    "                    lst.sort() #sort\n",
    "\n",
    "                    #Print first few and last few\n",
    "                    #for weight,idx in lst[:20]: #first 30 (ie lowest weight)\n",
    "                    #    print(index2feature[idx])\n",
    "                    #print(\"----------------------------------------------------\")\n",
    "                    #Take the last 30 (lst[-30:]) but these now come from weakest to strongest\n",
    "                    #so reverse the list using [::-1]\n",
    "                    highest_prio = []\n",
    "                    for weight,idx in lst[-100:][::-1]:\n",
    "                        highest_prio.append(index2feature[idx])\n",
    "                    high_prio[j] = high_prio\n",
    "                highest_prios[i] = high_prio\n",
    "            test_results.append({'id':i, 'f1s':f_scores, 'feats':highest_prios})\n",
    "            pbar.update(1)\n",
    "    return test_results\n",
    "\n",
    "        \n"
   ]
  },
  {
   "cell_type": "code",
   "execution_count": 183,
   "id": "c4eba164",
   "metadata": {},
   "outputs": [],
   "source": [
    "#results = testForAllSets()"
   ]
  },
  {
   "cell_type": "code",
   "execution_count": 184,
   "id": "2d04c710",
   "metadata": {},
   "outputs": [],
   "source": [
    "#print(results)"
   ]
  },
  {
   "cell_type": "code",
   "execution_count": 185,
   "id": "a6e5bdf7",
   "metadata": {},
   "outputs": [],
   "source": [
    "from datasets import Dataset\n",
    "from scripts import bookdatafunctions as bdf\n",
    "def combineSnippedBooksToDS(keys: list[str], snip_len: str, cache_dir: str, cache_file:str, inc_raw_text: bool=False, inc_conllu: bool=False, inc_hpfv: bool=False, folder:str=None):\n",
    "    #logging.set_verbosity(40)\n",
    "    #Helper function to parse json-lines\n",
    "    def jsonlReader(key: str):\n",
    "        with open(folder+key+\"/sniplen_\"+snip_len+\".jsonl\") as reader:\n",
    "            with open(cache_file, 'a') as tt:\n",
    "                 #Only include the information we need for our specific purposes to save up on cache space\n",
    "                 for line in reader:\n",
    "                        if not inc_raw_text:\n",
    "                            line = line[:line.find(\",\\\"raw_text\\\":\")] + line[line.find(\",\\\"conllu\\\":\"):]\n",
    "                        if not inc_conllu:\n",
    "                            line = line[:line.find(\",\\\"conllu\\\":\")] + line[line.find(\",\\\"hp_fv\\\":\"):]\n",
    "                        if not inc_hpfv:\n",
    "                            line = line[:line.find(\",\\\"hp_fv\\\":\")] + line[line.find(\"}\\n\"):]\n",
    "                        tt.write(line)\n",
    "    #Generate list of dicts, where each dict is a json-line\n",
    "    for k in range(len(keys)):\n",
    "            jsonlReader(keys[k])\n",
    "    #Return a shuffled dataset\n",
    "    return Dataset.from_json(cache_file, cache_dir=cache_dir).shuffle()"
   ]
  },
  {
   "cell_type": "code",
   "execution_count": 186,
   "id": "7ed062b8",
   "metadata": {},
   "outputs": [],
   "source": [
    "train_keys = keylists[93]['train_keys']\n",
    "eval_keys = keylists[93]['eval_keys']\n",
    "test_keys = keylists[93]['test_keys']"
   ]
  },
  {
   "cell_type": "code",
   "execution_count": 187,
   "id": "21657f9b",
   "metadata": {},
   "outputs": [],
   "source": [
    "import shutil\n",
    "#Also makes it easier to clean cache files and use space more efficiently\n",
    "cache_dir = \"cache_dir/temp/\"\n",
    "if os.path.exists(cache_dir):\n",
    "    shutil.rmtree(cache_dir)\n",
    "os.mkdir(cache_dir)\n",
    "cache_file_train = cache_dir+str(0)+\"_\"+str(SNIPPET_LENS[0])+\"_train.jsonl\"\n",
    "cache_file_eval = cache_dir+str(0)+\"_\"+str(SNIPPET_LENS[0])+\"_eval.jsonl\"\n",
    "cache_file_test = cache_dir+str(0)+\"_\"+str(SNIPPET_LENS[0])+\"_test.jsonl\""
   ]
  },
  {
   "cell_type": "code",
   "execution_count": 188,
   "id": "7454c819",
   "metadata": {},
   "outputs": [
    {
     "name": "stderr",
     "output_type": "stream",
     "text": [
      "Generating train split: 159233 examples [00:00, 1726748.04 examples/s]\n",
      "Generating train split: 79651 examples [00:00, 939425.87 examples/s]\n",
      "Generating train split: 31909 examples [00:00, 390543.25 examples/s]\n",
      "Generating train split: 15995 examples [00:00, 216865.88 examples/s]\n",
      "Generating train split: 10679 examples [00:00, 141959.22 examples/s]\n",
      "Generating train split: 8035 examples [00:00, 107900.23 examples/s]\n",
      "Generating train split: 43391 examples [00:00, 1524055.14 examples/s]\n",
      "Generating train split: 21705 examples [00:00, 771280.89 examples/s]\n",
      "Generating train split: 8690 examples [00:00, 299125.99 examples/s]\n",
      "Generating train split: 4352 examples [00:00, 195744.98 examples/s]\n",
      "Generating train split: 2907 examples [00:00, 142220.43 examples/s]\n",
      "Generating train split: 2187 examples [00:00, 105816.82 examples/s]\n",
      "Generating train split: 28411 examples [00:00, 1271656.33 examples/s]\n",
      "Generating train split: 14210 examples [00:00, 812856.26 examples/s]\n",
      "Generating train split: 5693 examples [00:00, 361658.98 examples/s]\n",
      "Generating train split: 2851 examples [00:00, 194432.06 examples/s]\n",
      "Generating train split: 1906 examples [00:00, 124499.21 examples/s]\n",
      "Generating train split: 1432 examples [00:00, 78322.55 examples/s]\n"
     ]
    }
   ],
   "source": [
    "train_dss = [combineSnippedBooksToDS(train_keys, x, cache_dir, cache_file=cache_dir+str(93)+\"_\"+x+\"_train.jsonl\", folder=BASE_BEG, inc_raw_text=True) for x in SNIPPET_LENS]\n",
    "eval_dss = [combineSnippedBooksToDS(eval_keys, x, cache_dir, cache_file=cache_dir+str(93)+\"_\"+x+\"_eval.jsonl\", folder=BASE_BEG, inc_raw_text=True) for x in SNIPPET_LENS]\n",
    "test_dss = [combineSnippedBooksToDS(test_keys, x, cache_dir, cache_file=cache_dir+str(93)+\"_\"+x+\"_test.jsonl\", folder=BASE_BEG, inc_raw_text=True) for x in SNIPPET_LENS]"
   ]
  },
  {
   "cell_type": "code",
   "execution_count": 189,
   "id": "2f087911",
   "metadata": {},
   "outputs": [],
   "source": [
    "def reMapLabels(ex):\n",
    "    age = int(ex['age'])\n",
    "    if age < 9:\n",
    "        ex['label'] = '7-8'\n",
    "    elif age > 12:\n",
    "        ex['label'] = '13+'\n",
    "    return ex\n"
   ]
  },
  {
   "cell_type": "code",
   "execution_count": 190,
   "id": "aeff42a9",
   "metadata": {},
   "outputs": [
    {
     "name": "stderr",
     "output_type": "stream",
     "text": [
      "Map: 100%|██████████| 159233/159233 [00:07<00:00, 20580.45 examples/s]\n",
      "Map: 100%|██████████| 79651/79651 [00:03<00:00, 20428.79 examples/s]\n",
      "Map: 100%|██████████| 31909/31909 [00:01<00:00, 17998.50 examples/s]\n",
      "Map: 100%|██████████| 15995/15995 [00:00<00:00, 18655.51 examples/s]\n",
      "Map: 100%|██████████| 10679/10679 [00:00<00:00, 19316.01 examples/s]\n",
      "Map: 100%|██████████| 8035/8035 [00:00<00:00, 17931.45 examples/s]\n",
      "Map: 100%|██████████| 43391/43391 [00:02<00:00, 21637.30 examples/s]\n",
      "Map: 100%|██████████| 21705/21705 [00:01<00:00, 20538.65 examples/s]\n",
      "Map: 100%|██████████| 8690/8690 [00:00<00:00, 20911.82 examples/s]\n",
      "Map: 100%|██████████| 4352/4352 [00:00<00:00, 19981.40 examples/s]\n",
      "Map: 100%|██████████| 2907/2907 [00:00<00:00, 18212.98 examples/s]\n",
      "Map: 100%|██████████| 2187/2187 [00:00<00:00, 17571.98 examples/s]\n",
      "Map: 100%|██████████| 28411/28411 [00:01<00:00, 21981.54 examples/s]\n",
      "Map: 100%|██████████| 14210/14210 [00:00<00:00, 22136.86 examples/s]\n",
      "Map: 100%|██████████| 5693/5693 [00:00<00:00, 19977.57 examples/s]\n",
      "Map: 100%|██████████| 2851/2851 [00:00<00:00, 22858.31 examples/s]\n",
      "Map: 100%|██████████| 1906/1906 [00:00<00:00, 22475.47 examples/s]\n",
      "Map: 100%|██████████| 1432/1432 [00:00<00:00, 21441.99 examples/s]\n"
     ]
    }
   ],
   "source": [
    "train_dss = [x.map(reMapLabels) for x in train_dss]\n",
    "eval_dss = [x.map(reMapLabels) for x in eval_dss]\n",
    "test_dss = [x.map(reMapLabels) for x in test_dss]"
   ]
  },
  {
   "cell_type": "code",
   "execution_count": 191,
   "id": "b455537f",
   "metadata": {},
   "outputs": [],
   "source": [
    "from collections import Counter\n",
    "def helperFilter(df, labels):\n",
    "    return [df[df['label'] == label] for label in labels]\n",
    "\n",
    "def equalizeTrainAmounts(df):\n",
    "    amount = np.min(list(Counter(df['label']).values()))\n",
    "    return pd.concat([df[df['label'] == lab].sample(amount, replace=False) for lab in Counter(df['label']).keys()])"
   ]
  },
  {
   "cell_type": "code",
   "execution_count": 192,
   "id": "afee1797",
   "metadata": {},
   "outputs": [],
   "source": [
    "from pprint import pprint\n",
    "labels = ['7-8', '13+']\n",
    "\n",
    "for i in range(6):\n",
    "    #Transform to dataframe\n",
    "    train_df = train_dss[i].to_pandas()\n",
    "    #Filter out labels we're not using\n",
    "    reduced = pd.concat(helperFilter(train_df, labels))\n",
    "    reduced = reduced[reduced['book_id'].apply(lambda x: x[-1] == '1')]\n",
    "    #Equalize the label amounts for the training dataset\n",
    "    train_dss[i] = Dataset.from_pandas(equalizeTrainAmounts(reduced))\n",
    "    #Rinse and repeat, except as eval/test are smaller than train and it's not as important, we don't equalize the amounts\n",
    "    eval_df = eval_dss[i].to_pandas()\n",
    "    reduced = pd.concat(helperFilter(eval_df, labels))\n",
    "    reduced = reduced[reduced['book_id'].apply(lambda x: x[-1] == '1')]\n",
    "    eval_dss[i] = Dataset.from_pandas(reduced)\n",
    "    test_df = test_dss[i].to_pandas()\n",
    "    reduced = pd.concat(helperFilter(test_df, labels))\n",
    "    reduced = reduced[reduced['book_id'].apply(lambda x: x[-1] == '1')]\n",
    "    test_dss[i] = Dataset.from_pandas(reduced)"
   ]
  },
  {
   "cell_type": "code",
   "execution_count": 193,
   "id": "299ad5ba",
   "metadata": {},
   "outputs": [
    {
     "name": "stderr",
     "output_type": "stream",
     "text": [
      "/home/tenojo/miniconda3/envs/Test/lib/python3.10/site-packages/sklearn/feature_extraction/text.py:521: UserWarning: The parameter 'token_pattern' will not be used since 'tokenizer' is not None'\n",
      "  warnings.warn(\n"
     ]
    }
   ],
   "source": [
    "vectorizers = [TfidfVectorizer(norm='l2', tokenizer=whitespace_tokenizer, preprocessor=do_nothing, max_features=2000).fit(x['raw_text']) for x in train_dss]"
   ]
  },
  {
   "cell_type": "code",
   "execution_count": 194,
   "id": "d9a1d74a",
   "metadata": {},
   "outputs": [],
   "source": [
    "vecd_train_datas = [vectorizers[i].transform(train_dss[i]['raw_text']) for i in range(len(SNIPPET_LENS))]\n",
    "vecd_eval_datas = [vectorizers[i].transform(eval_dss[i]['raw_text']) for i in range(len(SNIPPET_LENS))]\n",
    "vecd_test_datas = [vectorizers[i].transform(test_dss[i]['raw_text']) for i in range(len(SNIPPET_LENS))]"
   ]
  },
  {
   "cell_type": "code",
   "execution_count": 195,
   "id": "1613ff88",
   "metadata": {},
   "outputs": [],
   "source": [
    "from scipy.stats import hmean\n",
    "# Your code to train the machine learning model on the training set and evaluate the performance on the validation set here\n",
    "def objective(trial):\n",
    "    #Defining hyperparameters to tune\n",
    "    c = trial.suggest_float('c', 1e-5, 1e+1, log=True)\n",
    "    tol = trial.suggest_categorical('tol', [1e-6, 1e-5, 1e-4, 1e-3])\n",
    "\n",
    "    #Scaling the c-param by num_of_samples * sqrt of train size\n",
    "    \n",
    "    #c_scaler = 1\n",
    "\n",
    "    f1s = []\n",
    "    for i in range(len(SNIPPET_LENS)):\n",
    "        #c_scaler = float(len(train_dss[i]['conllu']) * np.sqrt(0.7)) \n",
    "        clf = LinearSVC(\n",
    "            random_state=42,\n",
    "            C=c,\n",
    "            tol=tol\n",
    "        )\n",
    "        clf.fit(vecd_train_datas[i], train_dss[i]['label'])\n",
    "        predicted = clf.predict(vecd_eval_datas[i])\n",
    "        f1s.append(f1_score(eval_dss[i]['label'], predicted, average=\"macro\"))\n",
    "    return np.min(f1s)"
   ]
  },
  {
   "cell_type": "code",
   "execution_count": 196,
   "id": "8b61d6d1",
   "metadata": {},
   "outputs": [
    {
     "name": "stderr",
     "output_type": "stream",
     "text": [
      "[I 2025-08-22 11:40:51,852] A new study created in memory with name: no-name-864b53f9-8713-4e65-81ec-fa20cd15ef7d\n",
      "[I 2025-08-22 11:40:52,360] Trial 0 finished with value: 0.5139063516150011 and parameters: {'c': 0.003993995505342308, 'tol': 1e-06}. Best is trial 0 with value: 0.5139063516150011.\n",
      "[I 2025-08-22 11:40:53,287] Trial 1 finished with value: 0.7115115218130807 and parameters: {'c': 0.33652746398515504, 'tol': 1e-05}. Best is trial 1 with value: 0.7115115218130807.\n",
      "[I 2025-08-22 11:40:53,599] Trial 2 finished with value: 0.47221299909815 and parameters: {'c': 0.00017493890842732327, 'tol': 1e-05}. Best is trial 1 with value: 0.7115115218130807.\n",
      "[I 2025-08-22 11:40:53,966] Trial 3 finished with value: 0.5035952742250163 and parameters: {'c': 0.0033546654903755684, 'tol': 0.0001}. Best is trial 1 with value: 0.7115115218130807.\n",
      "[I 2025-08-22 11:40:54,570] Trial 4 finished with value: 0.7133376590122458 and parameters: {'c': 0.21828238512633746, 'tol': 0.001}. Best is trial 4 with value: 0.7133376590122458.\n",
      "[I 2025-08-22 11:40:54,854] Trial 5 finished with value: 0.5074356383446095 and parameters: {'c': 1.291340542429407e-05, 'tol': 1e-06}. Best is trial 4 with value: 0.7133376590122458.\n",
      "[I 2025-08-22 11:40:55,242] Trial 6 finished with value: 0.4896672170331472 and parameters: {'c': 0.0014370547904325082, 'tol': 1e-05}. Best is trial 4 with value: 0.7133376590122458.\n",
      "[I 2025-08-22 11:40:55,570] Trial 7 finished with value: 0.4977032300021678 and parameters: {'c': 0.002850381543673788, 'tol': 0.001}. Best is trial 4 with value: 0.7133376590122458.\n",
      "[I 2025-08-22 11:40:56,443] Trial 8 finished with value: 0.7094900031863467 and parameters: {'c': 0.777198255680192, 'tol': 0.0001}. Best is trial 4 with value: 0.7133376590122458.\n",
      "[I 2025-08-22 11:40:56,753] Trial 9 finished with value: 0.47293397293397293 and parameters: {'c': 0.0001650965371654858, 'tol': 1e-05}. Best is trial 4 with value: 0.7133376590122458.\n",
      "[I 2025-08-22 11:40:57,798] Trial 10 finished with value: 0.7076648322384473 and parameters: {'c': 6.298954330659296, 'tol': 0.001}. Best is trial 4 with value: 0.7133376590122458.\n",
      "[I 2025-08-22 11:40:58,361] Trial 11 finished with value: 0.7148742787181233 and parameters: {'c': 0.13828235570559613, 'tol': 0.001}. Best is trial 11 with value: 0.7148742787181233.\n",
      "[I 2025-08-22 11:40:58,906] Trial 12 finished with value: 0.7168106019798269 and parameters: {'c': 0.08310558713113304, 'tol': 0.001}. Best is trial 12 with value: 0.7168106019798269.\n",
      "[I 2025-08-22 11:40:59,425] Trial 13 finished with value: 0.718223005231636 and parameters: {'c': 0.06367161044156178, 'tol': 0.001}. Best is trial 13 with value: 0.718223005231636.\n",
      "[I 2025-08-22 11:40:59,903] Trial 14 finished with value: 0.721619321992709 and parameters: {'c': 0.03141806900051583, 'tol': 0.001}. Best is trial 14 with value: 0.721619321992709.\n",
      "[I 2025-08-22 11:41:00,356] Trial 15 finished with value: 0.7220860551117135 and parameters: {'c': 0.0271778913236183, 'tol': 0.001}. Best is trial 15 with value: 0.7220860551117135.\n",
      "[I 2025-08-22 11:41:00,775] Trial 16 finished with value: 0.6766662031383763 and parameters: {'c': 0.018224306690640103, 'tol': 0.001}. Best is trial 15 with value: 0.7220860551117135.\n",
      "[I 2025-08-22 11:41:01,600] Trial 17 finished with value: 0.70822759363363 and parameters: {'c': 1.5223295197607922, 'tol': 0.001}. Best is trial 15 with value: 0.7220860551117135.\n",
      "[I 2025-08-22 11:41:02,089] Trial 18 finished with value: 0.7082038147138965 and parameters: {'c': 0.021503243438855124, 'tol': 0.0001}. Best is trial 15 with value: 0.7220860551117135.\n",
      "[I 2025-08-22 11:41:02,454] Trial 19 finished with value: 0.4701157591931515 and parameters: {'c': 0.00023518296887701438, 'tol': 1e-06}. Best is trial 15 with value: 0.7220860551117135.\n",
      "[I 2025-08-22 11:41:02,882] Trial 20 finished with value: 0.7221080859341716 and parameters: {'c': 0.02569635864493183, 'tol': 0.001}. Best is trial 20 with value: 0.7221080859341716.\n",
      "[I 2025-08-22 11:41:03,308] Trial 21 finished with value: 0.7221491063399856 and parameters: {'c': 0.02673558546274271, 'tol': 0.001}. Best is trial 21 with value: 0.7221491063399856.\n",
      "[I 2025-08-22 11:41:03,673] Trial 22 finished with value: 0.5539561253758762 and parameters: {'c': 0.007437602622188155, 'tol': 0.001}. Best is trial 21 with value: 0.7221491063399856.\n",
      "[I 2025-08-22 11:41:03,991] Trial 23 finished with value: 0.4904243375280139 and parameters: {'c': 0.0013382449054194852, 'tol': 0.001}. Best is trial 21 with value: 0.7221491063399856.\n",
      "[I 2025-08-22 11:41:04,387] Trial 24 finished with value: 0.579050998128509 and parameters: {'c': 0.00981328245439446, 'tol': 0.001}. Best is trial 21 with value: 0.7221491063399856.\n"
     ]
    }
   ],
   "source": [
    "# Your code for hyperparameter optimization here\n",
    "study = optuna.create_study(direction='maximize')\n",
    "study.optimize(objective, n_trials=25)"
   ]
  },
  {
   "cell_type": "code",
   "execution_count": 197,
   "id": "6d707776",
   "metadata": {},
   "outputs": [
    {
     "name": "stdout",
     "output_type": "stream",
     "text": [
      "Best trial (number 21):\n",
      "  Value: 0.7221491063399856\n",
      "  Params: {'c': 0.02673558546274271, 'tol': 0.001}\n"
     ]
    }
   ],
   "source": [
    "# Print the best trial's hyperparameters and objective value\n",
    "best_trial = study.best_trial\n",
    "print(f\"Best trial (number {best_trial.number}):\")\n",
    "print(f\"  Value: {best_trial.value}\")\n",
    "print(f\"  Params: {best_trial.params}\")"
   ]
  },
  {
   "cell_type": "code",
   "execution_count": 198,
   "id": "c0c4250a",
   "metadata": {},
   "outputs": [],
   "source": [
    "classifiers = {}\n",
    "p = {}"
   ]
  },
  {
   "cell_type": "code",
   "execution_count": 199,
   "id": "fc71cbb7",
   "metadata": {},
   "outputs": [
    {
     "name": "stdout",
     "output_type": "stream",
     "text": [
      "Results for snippet length:  5\n",
      "              precision    recall  f1-score   support\n",
      "\n",
      "         13+       0.70      0.84      0.76     14097\n",
      "         7-8       0.78      0.60      0.68     12932\n",
      "\n",
      "    accuracy                           0.73     27029\n",
      "   macro avg       0.74      0.72      0.72     27029\n",
      "weighted avg       0.74      0.73      0.72     27029\n",
      "\n",
      "Results for snippet length:  10\n",
      "              precision    recall  f1-score   support\n",
      "\n",
      "         13+       0.74      0.87      0.80      7208\n",
      "         7-8       0.82      0.65      0.72      6310\n",
      "\n",
      "    accuracy                           0.77     13518\n",
      "   macro avg       0.78      0.76      0.76     13518\n",
      "weighted avg       0.78      0.77      0.76     13518\n",
      "\n",
      "Results for snippet length:  25\n",
      "              precision    recall  f1-score   support\n",
      "\n",
      "         13+       0.78      0.90      0.84      2968\n",
      "         7-8       0.85      0.70      0.77      2441\n",
      "\n",
      "    accuracy                           0.81      5409\n",
      "   macro avg       0.82      0.80      0.80      5409\n",
      "weighted avg       0.81      0.81      0.81      5409\n",
      "\n",
      "Results for snippet length:  50\n",
      "              precision    recall  f1-score   support\n",
      "\n",
      "         13+       0.78      0.91      0.84      1464\n",
      "         7-8       0.87      0.70      0.77      1243\n",
      "\n",
      "    accuracy                           0.81      2707\n",
      "   macro avg       0.82      0.80      0.81      2707\n",
      "weighted avg       0.82      0.81      0.81      2707\n",
      "\n",
      "Results for snippet length:  75\n",
      "              precision    recall  f1-score   support\n",
      "\n",
      "         13+       0.77      0.90      0.83       973\n",
      "         7-8       0.86      0.69      0.77       834\n",
      "\n",
      "    accuracy                           0.81      1807\n",
      "   macro avg       0.82      0.80      0.80      1807\n",
      "weighted avg       0.81      0.81      0.80      1807\n",
      "\n",
      "Results for snippet length:  100\n",
      "              precision    recall  f1-score   support\n",
      "\n",
      "         13+       0.69      0.89      0.78       663\n",
      "         7-8       0.85      0.62      0.72       696\n",
      "\n",
      "    accuracy                           0.75      1359\n",
      "   macro avg       0.77      0.75      0.75      1359\n",
      "weighted avg       0.77      0.75      0.75      1359\n",
      "\n"
     ]
    }
   ],
   "source": [
    "for i in range(len(SNIPPET_LENS)):\n",
    "    clf = LinearSVC(\n",
    "    loss='squared_hinge', penalty='l2',\n",
    "                    random_state=42,\n",
    "                    C=best_trial.params['c'],\n",
    "                    tol=best_trial.params['tol'])\n",
    "    clf.fit(vecd_train_datas[i], train_dss[i]['label'])\n",
    "    classifiers[SNIPPET_LENS[i]] = clf\n",
    "    test_predict = clf.predict(vecd_eval_datas[i])\n",
    "    print(\"Results for snippet length: \",SNIPPET_LENS[i])\n",
    "    print(metrics.classification_report(test_predict, eval_dss[i]['label']))\n",
    "    p[i] = metrics.ConfusionMatrixDisplay(confusion_matrix=metrics.confusion_matrix(test_predict, eval_dss[i]['label']), display_labels=clf.classes_)"
   ]
  },
  {
   "cell_type": "code",
   "execution_count": 200,
   "id": "9f6ec697",
   "metadata": {},
   "outputs": [
    {
     "data": {
      "text/plain": [
       "<sklearn.metrics._plot.confusion_matrix.ConfusionMatrixDisplay at 0x71cc79b313f0>"
      ]
     },
     "execution_count": 200,
     "metadata": {},
     "output_type": "execute_result"
    },
    {
     "data": {
      "image/png": "[encoded data removed]",
      "text/plain": [
       "<Figure size 640x480 with 2 Axes>"
      ]
     },
     "metadata": {},
     "output_type": "display_data"
    }
   ],
   "source": [
    "p[5].plot()"
   ]
  },
  {
   "cell_type": "markdown",
   "id": "a3170882",
   "metadata": {},
   "source": [
    "# Most important features comparison"
   ]
  },
  {
   "cell_type": "code",
   "execution_count": 201,
   "id": "e11cabd2",
   "metadata": {},
   "outputs": [],
   "source": [
    "#Reverse the dictionary\n",
    "index2features = {}\n",
    "for i in range(len(SNIPPET_LENS)):\n",
    "    index2feature = {}\n",
    "    vectorizer = vectorizers[i]\n",
    "    for feature,idx in vectorizer.vocabulary_.items():\n",
    "        assert idx not in index2feature #This really should hold\n",
    "        index2feature[idx]=feature\n",
    "    index2features[SNIPPET_LENS[i]] = index2feature\n",
    "#Now we can query index2feature to get the feature names as we need"
   ]
  },
  {
   "cell_type": "code",
   "execution_count": 202,
   "id": "505dc799",
   "metadata": {},
   "outputs": [],
   "source": [
    "highest_prios = {}\n",
    "for i in SNIPPET_LENS:\n",
    "    classifier = classifiers[i]\n",
    "    index2feature = index2features[i]\n",
    "    # make a list of (weight, index), sort it\n",
    "    lst=[]\n",
    "    for idx,weight in enumerate(classifier.coef_[0]):\n",
    "        lst.append((weight,idx))\n",
    "    lst.sort() #sort\n",
    "\n",
    "    #Print first few and last few\n",
    "    #for weight,idx in lst[:20]: #first 30 (ie lowest weight)\n",
    "    #    print(index2feature[idx])\n",
    "    #print(\"----------------------------------------------------\")\n",
    "    #Take the last 30 (lst[-30:]) but these now come from weakest to strongest\n",
    "    #so reverse the list using [::-1]\n",
    "    highest_prio = []\n",
    "    for weight,idx in lst[-20:][::-1]:\n",
    "        highest_prio.append(index2feature[idx])\n",
    "    highest_prios[i] = highest_prio"
   ]
  },
  {
   "cell_type": "code",
   "execution_count": 203,
   "id": "8ef6e518",
   "metadata": {},
   "outputs": [
    {
     "name": "stdout",
     "output_type": "stream",
     "text": [
      "{'10': ['sanoi',\n",
      "        'herra',\n",
      "        '!',\n",
      "        'minä',\n",
      "        'kysyi',\n",
      "        '–',\n",
      "        'korppi',\n",
      "        'kuiskasi',\n",
      "        'lapset',\n",
      "        'rouva',\n",
      "        'kapteeni',\n",
      "        'pihlaja',\n",
      "        'supermuija',\n",
      "        'sinä',\n",
      "        'mietti',\n",
      "        'ruth-täti',\n",
      "        'isoäiti',\n",
      "        'luku',\n",
      "        'pikku',\n",
      "        'huusi'],\n",
      " '100': ['!',\n",
      "         'sanoi',\n",
      "         'herra',\n",
      "         'minä',\n",
      "         '',\n",
      "         '–',\n",
      "         'isä',\n",
      "         'rouva',\n",
      "         'he',\n",
      "         'kysyi',\n",
      "         '?',\n",
      "         'sinä',\n",
      "         'huusi',\n",
      "         ':',\n",
      "         'korppi',\n",
      "         'lapset',\n",
      "         'hän',\n",
      "         '...',\n",
      "         'supermuija',\n",
      "         'ja'],\n",
      " '25': ['sanoi',\n",
      "        '!',\n",
      "        'minä',\n",
      "        'herra',\n",
      "        '–',\n",
      "        'kysyi',\n",
      "        'rouva',\n",
      "        'lapset',\n",
      "        'he',\n",
      "        'kuiskasi',\n",
      "        'korppi',\n",
      "        'huusi',\n",
      "        'sinä',\n",
      "        'oikein',\n",
      "        'siellä',\n",
      "        'kun',\n",
      "        'pihlaja',\n",
      "        'kapteeni',\n",
      "        'supermuija',\n",
      "        'kertoi'],\n",
      " '5': ['sanoi',\n",
      "       'herra',\n",
      "       '!',\n",
      "       'minä',\n",
      "       'korppi',\n",
      "       'kysyi',\n",
      "       'kuiskasi',\n",
      "       'lapset',\n",
      "       'pihlaja',\n",
      "       '–',\n",
      "       'supermuija',\n",
      "       'ruth-täti',\n",
      "       'kapteeni',\n",
      "       'rouva',\n",
      "       'huusi',\n",
      "       'huudahti',\n",
      "       'pikku',\n",
      "       'luku',\n",
      "       'isoäiti',\n",
      "       'mietti'],\n",
      " '50': ['sanoi',\n",
      "        '!',\n",
      "        'minä',\n",
      "        'herra',\n",
      "        '–',\n",
      "        'kysyi',\n",
      "        '',\n",
      "        'rouva',\n",
      "        'isä',\n",
      "        'he',\n",
      "        'lapset',\n",
      "        'huusi',\n",
      "        'korppi',\n",
      "        'sinä',\n",
      "        '?',\n",
      "        ':',\n",
      "        '...',\n",
      "        'kuiskasi',\n",
      "        'siellä',\n",
      "        'kun'],\n",
      " '75': ['!',\n",
      "        'sanoi',\n",
      "        'herra',\n",
      "        'minä',\n",
      "        '',\n",
      "        '–',\n",
      "        'rouva',\n",
      "        'kysyi',\n",
      "        'sinä',\n",
      "        'isä',\n",
      "        'he',\n",
      "        '?',\n",
      "        'huusi',\n",
      "        'korppi',\n",
      "        '...',\n",
      "        ':',\n",
      "        'lapset',\n",
      "        'supermuija',\n",
      "        'kun',\n",
      "        'ruth-täti']}\n"
     ]
    }
   ],
   "source": [
    "from pprint import pprint\n",
    "pprint(highest_prios)"
   ]
  }
 ],
 "metadata": {
  "kernelspec": {
   "display_name": "Test",
   "language": "python",
   "name": "python3"
  },
  "language_info": {
   "codemirror_mode": {
    "name": "ipython",
    "version": 3
   },
   "file_extension": ".py",
   "mimetype": "text/x-python",
   "name": "python",
   "nbconvert_exporter": "python",
   "pygments_lexer": "ipython3",
   "version": "3.10.16"
  }
 },
 "nbformat": 4,
 "nbformat_minor": 5
}
